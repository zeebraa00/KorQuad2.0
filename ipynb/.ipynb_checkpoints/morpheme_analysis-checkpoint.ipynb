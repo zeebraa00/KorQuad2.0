{
 "cells": [
  {
   "cell_type": "markdown",
   "metadata": {},
   "source": [
    "## 형태소 분석"
   ]
  },
  {
   "cell_type": "markdown",
   "metadata": {},
   "source": [
    "### 1. Mecab 사용"
   ]
  },
  {
   "cell_type": "code",
   "execution_count": 7,
   "metadata": {},
   "outputs": [],
   "source": [
    "from konlpy.tag import Mecab"
   ]
  },
  {
   "cell_type": "code",
   "execution_count": 35,
   "metadata": {},
   "outputs": [
    {
     "ename": "TypeError",
     "evalue": "morphs() missing 1 required positional argument: 'phrase'",
     "output_type": "error",
     "traceback": [
      "\u001b[1;31m---------------------------------------------------------------------------\u001b[0m",
      "\u001b[1;31mTypeError\u001b[0m                                 Traceback (most recent call last)",
      "\u001b[1;32m<ipython-input-35-74605ee9fafe>\u001b[0m in \u001b[0;36m<module>\u001b[1;34m\u001b[0m\n\u001b[1;32m----> 1\u001b[1;33m \u001b[0mout\u001b[0m \u001b[1;33m=\u001b[0m \u001b[0mtokenizer\u001b[0m\u001b[1;33m.\u001b[0m\u001b[0mmorphs\u001b[0m\u001b[1;33m(\u001b[0m\u001b[1;34m'아버지가방에들어가신다'\u001b[0m\u001b[1;33m)\u001b[0m\u001b[1;33m\u001b[0m\u001b[1;33m\u001b[0m\u001b[0m\n\u001b[0m",
      "\u001b[1;31mTypeError\u001b[0m: morphs() missing 1 required positional argument: 'phrase'"
     ]
    }
   ],
   "source": [
    "out = tokenizer.morphs('아버지가방에들어가신다')"
   ]
  },
  {
   "cell_type": "markdown",
   "metadata": {},
   "source": [
    "> 윈도우 프로 미만 버전에서는 지원 안 되는 것으로 생각됨"
   ]
  },
  {
   "cell_type": "markdown",
   "metadata": {},
   "source": [
    "### 1_2. MeCab 사용"
   ]
  },
  {
   "cell_type": "code",
   "execution_count": 1,
   "metadata": {},
   "outputs": [],
   "source": [
    "import MeCab"
   ]
  },
  {
   "cell_type": "code",
   "execution_count": 2,
   "metadata": {},
   "outputs": [],
   "source": [
    "tokenizer = MeCab.Tagger()"
   ]
  },
  {
   "cell_type": "code",
   "execution_count": 139,
   "metadata": {},
   "outputs": [],
   "source": [
    "out = tokenizer.parse('아버지가방에들어가신다\\n오늘은 신나는 화요일.') #한 줄씩 넣기"
   ]
  },
  {
   "cell_type": "code",
   "execution_count": 140,
   "metadata": {
    "scrolled": true
   },
   "outputs": [
    {
     "data": {
      "text/plain": [
       "'아버지\\tNNG,*,F,아버지,*,*,*,*\\n가\\tJKS,*,F,가,*,*,*,*\\n방\\tNNG,장소,T,방,*,*,*,*\\n에\\tJKB,*,F,에,*,*,*,*\\n들어가\\tVV,*,F,들어가,*,*,*,*\\n신다\\tEP+EC,*,F,신다,Inflect,EP,EC,시/EP/*+ㄴ다/EC/*\\n오늘\\tNNG,*,T,오늘,*,*,*,*\\n은\\tJX,*,T,은,*,*,*,*\\n신나\\tVV,*,F,신나,*,*,*,*\\n는\\tETM,*,T,는,*,*,*,*\\n화요일\\tNNG,*,T,화요일,Compound,*,*,화/NNG/*+요일/NNG/*\\n.\\tSF,*,*,*,*,*,*,*\\nEOS\\n'"
      ]
     },
     "execution_count": 140,
     "metadata": {},
     "output_type": "execute_result"
    }
   ],
   "source": [
    "out"
   ]
  },
  {
   "cell_type": "code",
   "execution_count": 144,
   "metadata": {},
   "outputs": [
    {
     "data": {
      "text/plain": [
       "'아버지 가 방 에 들어가 신다 오늘 은 신나 는 화요일 . EOS\\n'"
      ]
     },
     "execution_count": 144,
     "metadata": {},
     "output_type": "execute_result"
    }
   ],
   "source": [
    "out = out.replace(',','')\n",
    "con = re.sub('(\\s.+\\n)',' ',out) # 정규표현식으로 변환해서 형태소만 추출\n",
    "con"
   ]
  },
  {
   "cell_type": "markdown",
   "metadata": {},
   "source": [
    "## 전체 데이터 형태소 분석"
   ]
  },
  {
   "cell_type": "code",
   "execution_count": 37,
   "metadata": {},
   "outputs": [],
   "source": [
    "import re\n",
    "from gensim.utils import to_unicode\n",
    "import json\n",
    "import pandas as pd\n",
    "from bs4 import BeautifulSoup"
   ]
  },
  {
   "cell_type": "code",
   "execution_count": 157,
   "metadata": {},
   "outputs": [
    {
     "data": {
      "text/plain": [
       "'<!DOCTYPE html> <html> <head> <meta> <title>예고범 - 위키백과, 우리 모두의 백과사전</title> <link> <meta> <link> <meta> <meta> <meta> <meta> <link> <link> <link> <link> <link> <link> <link> <link> <link> <link> <link> </head> <body> <div></div> <div></div> <div> <a></a> <div></div> <div> </div> <h1>예고범</h1> <div> <div>위키백과, 우리 모두의 백과사전.</div> <div></div> <div></div> <a>둘러보기로 가기</a> <a>검색하러 가기</a> <div><div><p>《<b>예고범</b>》(<span><a>일본어</a>: </span><span>予告犯</span>)은, 츠츠이 테츠야의 <a>만화</a> 작품이다. </p> <div><input><div><h2>목차</h2><span><label></label></span></div> <ul> <li><a><span>1</span> <span>개요</span></a></li> <li><a><span>2</span> <span>등장인물</span></a> <ul> <li><a><span>2.1</span> <span>예고범 그룹</span></a></li> <li><a><span>2.2</span> <span>경찰 관계자</span></a></li> <li><a><span>2.3</span> <span>타깃이 된 인물·기업·단체</span></a></li> <li><a><span>2.4</span> <span>그 외</span></a></li> </ul> </li> <li><a><span>3</span> <span>서지 정보</span></a></li> <li><a><span>4</span> <span>스핀오프 작품</span></a> <ul> <li><a><span>4.1</span> <span>예고범-THE COPYCAT-</span></a></li> <li><a><span>4.2</span> <span>예고범-THE CHASER-</span></a></li> </ul> </li> <li><a><span>5</span> <span>영화</span></a> <ul> <li><a><span>5.1</span> <span>캐스트</span></a></li> <li><a><span>5.2</span> <span>스태프</span></a></li> </ul> </li> <li><a><span>6</span> <span>텔레비전 드라마</span></a> <ul> <li><a><span>6.1</span> <span>캐스트</span></a></li> <li><a><span>6.2</span> <span>스태프</span></a></li> <li><a><span>6.3</span> <span>방송 일자</span></a></li> </ul> </li> <li><a><span>7</span> <span>외부 링크</span></a></li> </ul> </div> <h2><span></span><span>개요</span><span><span>[</span><a>편집</a><span>]</span></span></h2> <p>《점프 카이》 (<a>슈에이샤</a>)에서 <a>2011년</a>부터 <a>2013년</a> 9호까지 연재되었다. 단행본은 전 3권. </p> <h2><span></span><span>등장인물</span><span><span>[</span><a>편집</a><span>]</span></span></h2> <h3><span></span><span>예고범 그룹</span><span><span>[</span><a>편집</a><span>]</span></span></h3> <dl><dt>게이츠/오쿠다 히로아키</dt> <dd>예고범 그룹 〈신분시〉의 주범격.</dd> <dt>칸사이/카사이 토모히코</dt> <dd><a>오사카</a> 출신.</dd> <dt>메타보/테라하라 신이치</dt> <dd><a>후쿠오카</a> 출신.</dd> <dt>노비타/키무라 코이치</dt> <dd><a>미야기</a> 출신.</dd></dl> <h3><span></span><span>경찰 관계자</span><span><span>[</span><a>편집</a><span>]</span></span></h3> <dl><dt>요시노 에리카</dt> <dd><a>경시청</a> 사이버 범죄 대책과 반장.</dd> <dt>오카모토 다이키</dt> <dd>경시청 사이버 범죄 대책과 소속 형사.</dd> <dt>이치카와 마나부</dt> <dd>경시청 사이버 범죄 대책과 소속 형사.</dd> <dt>마츠모토 신이치</dt> <dd>경시청 사이버 범죄 대책과 과장.</dd> <dt>아라가키</dt> <dd>고속대 대원.</dd></dl> <h3><span></span><span>타깃이 된 인물·기업·단체</span><span><span>[</span><a>편집</a><span>]</span></span></h3> <dl><dt>식품 가공 회사</dt> <dd><a>이시카와현</a> K시에 있는 식품 가공 업자.</dd> <dt>부시키 슈야</dt> <dd>모 외식점의 전 아르바이트 점원.</dd> <dt>세키 슈지</dt> <dd>R대학의 전 학생.</dd> <dt>이케하타 마사요시</dt> <dd>모 넷 서비스 기업에 근무하는 회사원.</dd> <dt>시가디안</dt> <dd><a>고래잡이</a> 반대 운동 등을 행하고 있는 해외의 환경 보호 단체.</dd> <dt>시타라기 타다시</dt> <dd>현직 <a>중의원</a> 의원.</dd></dl> <h3><span></span><span>그 외</span><span><span>[</span><a>편집</a><span>]</span></span></h3> <dl><dt>마스야마 쇼타</dt> <dd><a>토치기 현</a> U시에 사는 중학생.</dd> <dt>호리이</dt> <dd>게이츠가 과거에 근무했던 IT 회사의 사장.</dd> <dt>노모토 청소의 사장과 사장 부인</dt> <dd>빌딩 외벽 청소를 사업으로 하는 청소 회사.</dd> <dt>효로/넬슨 카토 리카르테</dt> <dd><a>필리핀</a> 출신의 <a>일본계 외국인</a>.</dd> <dt>이시다 키요시</dt> <dd>게이츠 등 5인이 먹고 자며 육체 노동을 하던 때의 현장 감독.</dd> <dt>카에데</dt> <dd><a>이와테현</a> K시에 있는 <a>라멘</a> 가게에서 일하는 여성 점원.</dd> <dt>아오야마 유이치</dt> <dd><a>인터넷 카페</a> 〈피트 보이〉에서 일하는 점원.</dd></dl> <h2><span></span><span>서지 정보</span><span><span>[</span><a>편집</a><span>]</span></span></h2> <ul><li>츠츠이 테츠야 《예고범》 <a>슈에이샤</a> 〈영 점프 코믹스〉 전 3권 <ol><li>2012년 4월 10일 발매, <a>ISBN</a> <a>978-4-08-879310-8</a></li> <li>2012년 12월 10일 발매, <a>ISBN</a> <a>978-4-08-879495-2</a></li> <li>2013년 9월 10일 발매, <a>ISBN</a> <a>978-4-08-879680-2</a></li></ol></li></ul> <h2><span></span><span>스핀오프 작품</span><span><span>[</span><a>편집</a><span>]</span></span></h2> <h3><span></span><span>예고범-THE COPYCAT-</span><span><span>[</span><a>편집</a><span>]</span></span></h3> <p>《<b>예고범 -THE COPYCAT-</b>》은, 스핀오프 만화 작품이다. </p><p>〈신분시〉의 <a>모방범</a> (카피캣)을 하는 고교생 그룹의 스토리. </p> <h3><span></span><span>예고범-THE CHASER-</span><span><span>[</span><a>편집</a><span>]</span></span></h3> <p>《<b>예고범 -THE CHASER-</b>》는, 스핀오프 <a>소설</a> 작품이다. </p><p>요시노 에리카와 경시청 사이버 범죄 대책과의 그 후 활동을 그린다. </p> <h2><span></span><span>영화</span><span><span>[</span><a>편집</a><span>]</span></span></h2> <p><a>2015년</a> <a>6월 6일</a>, 일본에서 공개되었다. 감독은 나카무라 요시히로. 주연은 <a>이쿠타 토마</a>. </p> <h3><span></span><span>캐스트</span><span><span>[</span><a>편집</a><span>]</span></span></h3> <ul><li>게이츠/오쿠다 히로아키 - <a>이쿠타 토마</a></li> <li>요시노 에리카 - <a>토다 에리카</a></li> <li>칸사이/카사이 토모히코 - <a>스즈키 료헤이</a></li> <li>노비타/키무라 코이치 - 하마다 가쿠</li> <li>메타보/테라하라 신이치 - 아라카와 요시요시</li> <li>오카모토 다이키 - 타쿠마 타카유키</li> <li>이치카와 마나부 - <a>사카구치 켄타로</a></li> <li>아오야마 유이치 - <a>쿠보타 마사타카</a></li> <li>카에데 - <a>코마츠 나나</a></li> <li>효로 - 후쿠야마 코헤이</li> <li>이시다 키요시 - 나카노 시게루</li> <li>키타무라 - <a>타나카 케이</a></li> <li>쿠리하라 - 타키토 켄이치</li> <li>카토 - 혼다 히로타로</li> <li>시타라기 타다시 - <a>코히나타 후미요</a></li></ul> <h3><span></span><span>스태프</span><span><span>[</span><a>편집</a><span>]</span></span></h3> <ul><li>감독 - 나카무라 요시히로</li> <li>원작 - 츠츠이 테츠야</li> <li>각본 - 하야시 타미오</li> <li>음악 - 오오마마 타카시</li> <li>기획·프로듀스 - 히라노 타카시</li> <li>프로듀스 - 타케다 요시타카</li> <li>촬영 - 소마 다이스케</li> <li>미술 - 시미즈 타케시</li> <li>배급 - <a>토호</a></li> <li>제작 프로덕션 - WOWOW FILMS, C&amp;I 엔터테인먼트</li> <li>제작 간사 - <a>TBS</a>, <a>WOWOW</a></li> <li>제작 - 영화 〈예고범〉 제작 위원회</li></ul> <h2><span></span><span>텔레비전 드라마</span><span><span>[</span><a>편집</a><span>]</span></span></h2> <p>《<b>예고범 -THE PAIN-</b>》은, <a>2015년</a> <a>6월 7일</a>부터 <a>7월 5일</a>까지 <a>WOWOW</a> 연속 드라마 W에서 방송된 <a>텔레비전 드라마</a>이다. 전 5화. 주연은 <a>히가시야마 노리유키</a>. 영화판의 스토리로부터 1년 후를 그린 오리지널 스토리이다. 영화판 감독인 나카무라 요시히로가 감독을 맡았고, <a>토다 에리카</a>가 영화판과 같은 역으로 출연했다. </p> <h3><span></span><span>캐스트</span><span><span>[</span><a>편집</a><span>]</span></span></h3> <ul><li>사쿠마 에이지 - <a>히가시야마 노리유키</a></li> <li>요시노 에리카 - <a>토다 에리카</a></li> <li>타부치 유조 - 하시모토 사토시</li> <li>오키나 케이코 - <a>이치카와 미카코</a></li> <li>미즈타니 켄 - <a>키리타니 켄타</a></li> <li>히라사와 아츠시 - 타나카 류조</li> <li>야자키 신타로 - 오오니시 시마</li> <li>카네코 - 코마츠 토시마사</li> <li>사코타 - 마츠바야시 신지</li> <li>신타니 스바루 - 모리오카 류</li> <li>카키네 - 츠무라 노리요시</li> <li>하나야마 토오루 - 무라이 쿠니오</li></ul> <h3><span></span><span>스태프</span><span><span>[</span><a>편집</a><span>]</span></span></h3> <ul><li>원작·스토리 감수 - 츠츠이 테츠야</li> <li>시리즈 구성 - 나카무라 요시히로</li> <li>감독 - 나카무라 요시히로, 히라바야시 카츠토시, 사와다 메구미</li> <li>각본 - 하야시 타미오, 타나카 히로시</li> <li>음악 - 오오마마 타카시</li> <li>프로듀스 - 우에다 하루나</li> <li>제작 프로덕션 - 트윈즈 재팬</li> <li>제작 저작 - <a>WOWOW</a></li></ul> <h3><span></span><span>방송 일자</span><span><span>[</span><a>편집</a><span>]</span></span></h3> <table> <tbody><tr> <th>방송회</th> <th>방송일</th> <th>각본</th> <th>감독 </th></tr> <tr> <td>CASE #1 </td> <td>2015년 6월 7일</td> <td>하야시 타미오</td> <td>나카무라 요시히로 </td></tr> <tr> <td>CASE #2 </td> <td>6월 14일</td> <td rowspan=\"4\">타나카 히로시</td> <td>히라바야시 카츠토시 </td></tr> <tr> <td>CASE #3 </td> <td>6월 21일</td> <td>사와다 메구미 </td></tr> <tr> <td>CASE #4 </td> <td>6월 28일</td> <td rowspan=\"2\">히라바야시 카츠토시 </td></tr> <tr> <td>FINAL CASE </td> <td>7월 5일 </td></tr> </tbody></table> <h2><span></span><span>외부 링크</span><span><span>[</span><a>편집</a><span>]</span></span></h2> <ul><li><b><span>(일본어)</span></b> <a>［예고범］ 츠츠이 테츠야｜전율의 넷 테러 만화를 완전 해설! - 점프 카이</a></li> <li><b><span>(일본어)</span></b> <a>영화 《예고범》 공식 사이트</a></li> <li><b><span>(일본어)</span></b> <a>연속 드라마 W 《예고범 -THE PAIN-》 공식 사이트</a></li></ul> <div><table><tbody><tr><th colspan=\"2\"><div><ul><li><a><abbr>v</abbr></a></li><li><a><abbr>d</abbr></a></li><li><a><abbr>e</abbr></a></li><li><a><abbr>h</abbr></a></li></ul></div><div><a>WOWOW</a> <a>연속 드라마 W</a></div></th></tr><tr><th>주 1회<br/>(2008년 ~ 2014년)</th><td><div> <ul><li>《<a>판도라</a>》</li> <li>《<a>프리즈너</a>》</li> <li>《<a>하늘을 나는 타이어</a>》</li> <li>《<a>엄마는 옛날에 아빠였다</a>》</li> <li>《<a>은폐지령</a>》</li> <li>《<a>판도라 II 기아열도</a>》</li> <li>《<a>마크스의 산</a>》</li> <li>《<a>히가시노 게이고 환야</a>》</li> <li>《<a>CO 이식 코디네이터</a>》</li> <li>《<a>변두리 로켓</a>》</li> <li>《<a>판도라 III 혁명전야</a>》</li> <li>《<a>조화의 꿀</a>》</li> <li>《<a>속죄</a>》</li> <li>《<a>분신</a>》</li> <li>《<a>추정유죄</a>》</li> <li>《<a>죄와 벌 A Falsified Romance</a>》</li> <li>《<a>마그마</a>》</li> <li>《<a>플라티나 타운</a>》</li> <li>《<a>히토리시즈카</a>》</li> <li>《<a>하늘의 방주</a>》</li> <li>《<a>여자와 남자의 열대</a>》</li> <li>《<a>레이디 조커</a>》</li> <li>《<a>소돔의 사과~롯을 죽인 딸들</a>》</li> <li>《<a>배달되고 싶은 우리</a>》</li> <li>《<a>흔들리는 소</a>》</li> <li>《<a>빵과 스프, 고양이와 함께 하기 좋은 날</a>》</li> <li>《<a>열쇠 없는 꿈을 꾸다</a>》</li> <li>《<a>LINK</a>》</li> <li>《<a>저편의 아이</a>》</li> <li>《<a>피의 흔적</a>》</li> <li>《<a>세상의 소금</a>》</li> <li>《<a>나라고 하는 운명에 대하여</a>》</li> <li><a>토쿠소우</a>》</li> <li>《<a>모자이크 재팬</a>》</li> <li>《<a>MOZU Season2 ~환상의 날개~</a>》</li> <li>《<a>히가시노 게이고 〈변신〉</a>》</li> <li>《<a>죄인의 거짓말</a>》</li></ul> </div></td></tr><tr><th>주 2회<br/>(2014년 ~ )</th><td><div></div><table><tbody><tr><th>토요 오리지널</th><td><div> <ul><li>《<a>구구는 고양이다</a>》</li> <li>《<a>헤이세이 원숭이와 게의 전쟁</a>》</li> <li>《<a>속죄의 소나타</a>》</li> <li>《<a>유리의 갈대</a>》</li> <li>《<a>어둠의 반주자</a>》</li> <li>《<a>꿈을 주다</a>》</li> <li>《<a>후타가시라</a>》</li> <li>《<a>연하 -Gold Rush-</a>》</li> <li>《<a>바다에 내리다</a>》</li> <li>《<a>5명의 준코</a>》</li> <li>《<a>황무지의 사랑</a>》</li> <li>《<a>반짝반짝</a>》</li> <li>《<a>구구는 고양이다 2-good good the fortune cat-</a>》</li> <li>《<a>키보가오카의 사람들</a>》</li> <li>《<a>현자의 사랑</a>》</li> <li>《<a>후타가시라 2</a>》</li> <li>《<a>콜드 케이스 ~진실의 문~</a>》</li> <li>《<a>오늘은, 일진도 좋고</a>》</li> <li>《<a>호쿠토 -어느 살인자의 회심-</a>》</li> <li>《<a>미야자와 겐지의 식탁</a>》</li> <li>《<a>플라즈~번역 있음 만의 쉐어하우스~</a>》</li> <li>《<a>짝사랑</a>》</li> <li>《<a>명함 게임</a>》</li> <li>《<a>봄이 왔다</a>》</li> <li>《<a>바이바이, 블랙버드</a>》</li> <li>《<a>어둠의 반주자~편집장의 조건</a>》</li> <li>《<a>더블 판타지</a>》</li> <li>《<a>이아리 보이지 않는 얼굴</a>》</li> <li>《<a>콜드 케이스 2 ~진실의 문~</a>》</li> <li>《<a>도난당한 얼굴 ~눈에 띄지 수사반~</a>》</li> <li>《<a>그것을 사랑과 착각하니까</a>》</li> <li>《<a>다잉 아이</a>》</li> <li>《<a>언덕 중간의 집</a>》</li></ul> </div></td></tr><tr><th>일요 오리지널</th><td><div> <ul><li>《<a>주가폭락</a>》</li> <li>《<a>악화</a>》</li> <li>《<a>저물어 가는 여름</a>》</li> <li>《<a>천사의 나이프</a>》</li> <li>《<a>스케이프고트</a>》</li> <li>《<a>테미스의 구형</a>》</li> <li>《<a>예고범 -THE PAIN-</a>》</li> <li>《<a>죽음의 장기</a>》</li> <li>《<a>돌의 고치 살인분석반</a>》</li> <li>《<a>신가리 야마이치 증권 최후의 성전</a>》</li> <li>《<a>오판</a>》</li> <li>《<a>쏠 수 없는 경관</a>》</li> <li>《<a>메가뱅크 최종결전</a>》</li> <li>《<a>뻐꾸기 알은 누구의 것인가</a>》</li> <li>《<a>지지 않는 태양</a>》</li> <li>《<a>히포크라테스 선서</a>》</li> <li>《<a>수정의 고동 살인분석반</a>》</li> <li>《<a>낙원</a>》</li> <li>《<a>제니가타 경부 칠흑의 범죄 파일</a>》</li> <li>《<a>히토야노토게~감옥의 가시~</a>》</li> <li>《<a>사장실의 겨울 -거대 신문사를 잡는 남자-</a>》</li> <li>《<a>범죄증후군 Season2</a>》</li> <li>《<a>아키라와 아키라</a>》</li> <li>《<a>침묵 법정</a>》</li> <li>《<a>돌팔매질~외무성 비자금을 파헤친 수사2과 남자들~</a>》</li> <li>《<a>감사역 노자키</a>》</li> <li>《<a>이노센트 데이즈</a>》</li> <li>《<a>60 오판 대책실</a>》</li> <li>《<a>불발탄 ~검은 돈을 조종하는 남자~</a>》</li> <li>《<a>구로쇼인의 로쿠베에</a>》</li> <li>《<a>진범인</a>》</li> <li>《<a>판도라 Ⅳ AI전쟁</a>》</li> <li>《<a>고고한 메스</a>》</li> <li>《<a>절규</a>》</li></ul> </div></td></tr></tbody></table><div></div></td></tr></tbody></table></div> <div><div><b><a>예고범-THE COPYCAT-</a></b>에 관한 <a>분류</a>: <a>주간 영 점프의 만화</a></div><div><b><a>예고범-THE PAIN-</a></b>에 관한 <a>분류</a>: <a>만화의 텔레비전 드라마화 작품</a> <span>|</span> <a>2015년 드라마 </a> <span>|</span> <a>연속 드라마 W </a></div></div> </div><noscript><img></noscript></div> <div>원본 주소 \"<a> 예고범&amp;oldid=21882503</a>\"</div> <div><div><a>분류</a>: <ul><li><a>일본의 만화</a></li><li><a>추리 만화</a></li><li><a>범죄를 소재로 한 작품</a></li><li><a>테러를 소재로 한 작품</a></li><li><a>일본의 영화 작품</a></li><li><a>일본의 범죄 영화</a></li><li><a>테러리즘을 소재로 한 영화</a></li><li><a>만화를 바탕으로 한 영화</a></li></ul></div><div>숨은 분류: <ul><li><a>일본어 표기를 포함한 문서</a></li></ul></div></div> <div></div> </div> </div> <div> <h2>둘러보기 메뉴</h2> <div> <div> <h3>개인 도구</h3> <ul> <li>로그인하지 않음</li><li><a>토론</a></li><li><a>기여</a></li><li><a>계정 만들기</a></li><li><a>로그인</a></li> </ul> </div> <div> <div> <h3>이름공간</h3> <ul> <li><span><a>문서</a></span></li><li><span><a>토론</a></span></li> </ul> </div> <div> <input> <h3> <span>변수</span> </h3> <ul> </ul> </div> </div> <div> <div> <h3>보기</h3> <ul> <li><span><a>읽기</a></span></li><li><span><a>편집</a></span></li><li><span><a>역사 보기</a></span></li> </ul> </div> <div> <input> <h3><span>더 보기</span></h3> <ul> </ul> </div> <div> <h3> <label>검색</label> </h3> <form> <div> <input><input><input><input> </div> </form> </div> </div> </div> <div> <div><a></a></div> <div> <h3>둘러보기</h3> <div> <ul> <li><a>대문</a></li><li><a>사용자 모임</a></li><li><a>요즘 화제</a></li><li><a>최근 바뀜</a></li><li><a>모든 문서 보기</a></li><li><a>임의 문서로</a></li><li><a>도움말</a></li><li><a>기부</a></li> </ul> </div> </div> <div> <h3>도구</h3> <div> <ul> <li><a>여기를 가리키는 문서</a></li><li><a>가리키는 글의 최근 바뀜</a></li><li><a>파일 올리기</a></li><li><a>특수 문서 목록</a></li><li><a>고유 링크</a></li><li><a>문서 정보</a></li><li><a>위키데이터 항목</a></li><li><a>이 문서 인용하기</a></li> </ul> </div> </div> <div> <h3>인쇄/내보내기</h3> <div> <ul> <li><a>책 만들기</a></li><li><a>PDF로 다운로드</a></li><li><a>인쇄용 판</a></li> </ul> </div> </div> <div> <h3>다른 언어</h3> <div> <ul> <li><a>English</a></li><li><a>Français</a></li><li><a>日本語</a></li><li><a>Tagalog</a></li><li><a>中文</a></li> </ul> <div><span><a>링크 편집</a></span></div> </div> </div> </div> </div> <div> <ul> <li> 이 문서는 2018년 7월 27일 (금) 06:45에 마지막으로 편집되었습니다.</li> <li>모든 문서는 <a>크리에이티브 커먼즈 저작자표시-동일조건변경허락 3.0</a>에 따라 사용할 수 있으며, 추가적인 조건이 적용될 수 있습니다. 자세한 내용은 <a>이용 약관</a>을 참고하십시오.<br/>Wikipedia®는 미국 및 다른 국가에 등록되어 있는 <a>Wikimedia Foundation, Inc.</a> 소유의 등록 상표입니다.</li> </ul> <ul> <li><a>개인정보 정책</a></li> <li><a>위키백과 소개</a></li> <li><a>면책 조항</a></li> <li><a>개발자</a></li> <li><a>쿠키 정책</a></li> <li><a>모바일 보기</a></li> </ul> <ul> <li> <a><img></a> </li> <li> <a><img></a> </li> </ul> <div></div> </div> </body> </html> '"
      ]
     },
     "execution_count": 157,
     "metadata": {},
     "output_type": "execute_result"
    }
   ],
   "source": [
    "WIKI_REMOVE_CHARS = re.compile(\"'+|(=+.{2,30}=+)|__TOC__|(ファイル:).+|:(en|de|it|fr|es|kr|zh|no|fi):|\\n\", re.UNICODE)\n",
    "WIKI_SPACE_CHARS = re.compile(\"(\\\\s|゙|゚|　)+\", re.UNICODE)\n",
    "EMAIL_PATTERN = re.compile(\"(^[a-zA-Z0-9_.+-]+@[a-zA-Z0-9-]+\\.[a-zA-Z0-9-.]+$)\", re.UNICODE)\n",
    "URL_PATTERN = re.compile(\"(ftp|http|https)?://(?:[a-zA-Z]|[0-9]|[$-_@.&+]|[!*\\(\\),]|(?:%[0-9a-fA-F][0-9a-fA-F]))+\", re.UNICODE)\n",
    "WIKI_REMOVE_TOKEN_CHARS = re.compile(\"(\\\\*$|:$|^파일:.+|^;)\", re.UNICODE)\n",
    "MULTIPLE_SPACES = re.compile(' +', re.UNICODE)\n",
    "\n",
    "content = re.sub(EMAIL_PATTERN, ' ', dataset_json_02['data'][0]['context'])  # remove email pattern\n",
    "content = re.sub(URL_PATTERN, ' ', content) # remove url pattern\n",
    "#content = re.sub(WIKI_REMOVE_CHARS, ' ', content)  # remove unnecessary chars\n",
    "content = re.sub(WIKI_SPACE_CHARS, ' ', content)\n",
    "content = re.sub(MULTIPLE_SPACES, ' ', content)\n",
    "tokens = content.replace(\", )\", \"\")\n",
    "tokens\n",
    "#dataset_json_02['data'][0]['context']"
   ]
  },
  {
   "cell_type": "code",
   "execution_count": 39,
   "metadata": {},
   "outputs": [],
   "source": [
    "tokenizer = MeCab.Tagger()\n",
    "\n",
    "# 위의 과정을 전체 training data 에 적용\n",
    "output_fname = \"../Data/output/processed_korquad_train_fianl.txt\"\n",
    "output_file = open(output_fname, 'w', encoding ='utf-8')\n",
    "\n",
    "for i in range(39):\n",
    "    corpus_fname = \"../Data/input/korquad2.1_train_\" + str(i) + \".json\"\n",
    "    \n",
    "    with open(corpus_fname) as f1:\n",
    "        dataset_json = json.load(f1)\n",
    "        dataset = dataset_json['data']\n",
    "        \n",
    "        for article in dataset:\n",
    "            w_lines = []\n",
    "            paragraph = article['context']\n",
    "            \n",
    "            # 불필요한 단어,문자 제거\n",
    "            paragraph = re.sub('(\\n+)','\\n', paragraph) # \\n이 두번이상 나오는 부분 한번으로 줄임\n",
    "            paragraph = re.sub(EMAIL_PATTERN, ' ', paragraph)  # remove email pattern\n",
    "            paragraph = re.sub(URL_PATTERN, ' ', paragraph) # remove url pattern\n",
    "            #paragraph = re.sub(WIKI_REMOVE_CHARS, ' ', content)  # remove unnecessary chars\n",
    "            paragraph = re.sub(WIKI_SPACE_CHARS, ' ', content) \n",
    "            paragraph = re.sub(MULTIPLE_SPACES, ' ', content)\n",
    "            \n",
    "            # 형태소 분석\n",
    "            paragraph = tokenizer.parse(paragraph)\n",
    "            paragraph = paragraph.replace(',','')\n",
    "            paragraph = re.sub('(\\s.+\\n)',' ', paragraph) # 정규표현식으로 변환해서 형태소만 추출\n",
    "            w_lines.append(paragraph)\n",
    "            \n",
    "            for qa in article['qas']:\n",
    "                q_text = qa['question']\n",
    "                a_text = qa['answer']['text']\n",
    "                qas = q_text + \" \" + a_text\n",
    "                \n",
    "                # 형태소 분석\n",
    "                qas = tokenizer.parse(qas)\n",
    "                qas = qas.replace(',','')\n",
    "                qas = re.sub('(\\s.+\\n)',' ', qas) # 정규표현식으로 변환해서 형태소만 추출\n",
    "                w_lines.append(q_text + \" \" + a_text)\n",
    "            for line in w_lines:\n",
    "                output_file.writelines(line + '\\n')\n",
    "        "
   ]
  },
  {
   "cell_type": "code",
   "execution_count": null,
   "metadata": {},
   "outputs": [],
   "source": [
    "# 위의 과정을 전체 dev data 에 적용\n",
    "output_fname = \"../Data/output/processed_korquad_dev_all.txt\"\n",
    "output_file = open(output_fname, 'w', encoding ='utf-8')\n",
    "\n",
    "for i in range(5):\n",
    "    corpus_fname = \"../Data/input/korquad2.1_dev_\" + str(i) + \".json\"\n",
    "    \n",
    "    with open(corpus_fname) as f1:\n",
    "        dataset_json = json.load(f1)\n",
    "        dataset = dataset_json['data']\n",
    "        \n",
    "        for article in dataset:\n",
    "            w_lines = []\n",
    "            paragraph = article['context']\n",
    "            #paragraph = re.sub('(\\n+)','\\n', paragraph) # \\n이 두번이상 나오는 부분 한번으로 줄임\n",
    "            paragraph = re.sub(EMAIL_PATTERN, ' ', paragraph)  # remove email pattern\n",
    "            paragraph = re.sub(URL_PATTERN, ' ', paragraph) # remove url pattern\n",
    "            #paragraph = re.sub(WIKI_REMOVE_CHARS, ' ', content)  # remove unnecessary chars\n",
    "            paragraph = re.sub(WIKI_SPACE_CHARS, ' ', content) \n",
    "            paragraph = re.sub(MULTIPLE_SPACES, ' ', content)\n",
    "            w_lines.append(paragraph)\n",
    "            \n",
    "            for qa in article['qas']:\n",
    "                q_text = qa['question']\n",
    "                a_text = qa['answer']['text']\n",
    "                w_lines.append(q_text + \" \" + a_text)\n",
    "            for line in w_lines:\n",
    "                output_file.writelines(line + '\\n')\n",
    "        "
   ]
  },
  {
   "cell_type": "code",
   "execution_count": null,
   "metadata": {},
   "outputs": [],
   "source": []
  },
  {
   "cell_type": "code",
   "execution_count": null,
   "metadata": {},
   "outputs": [],
   "source": []
  },
  {
   "cell_type": "code",
   "execution_count": null,
   "metadata": {},
   "outputs": [],
   "source": []
  }
 ],
 "metadata": {
  "kernelspec": {
   "display_name": "Python 3",
   "language": "python",
   "name": "python3"
  },
  "language_info": {
   "codemirror_mode": {
    "name": "ipython",
    "version": 3
   },
   "file_extension": ".py",
   "mimetype": "text/x-python",
   "name": "python",
   "nbconvert_exporter": "python",
   "pygments_lexer": "ipython3",
   "version": "3.7.6"
  }
 },
 "nbformat": 4,
 "nbformat_minor": 4
}
