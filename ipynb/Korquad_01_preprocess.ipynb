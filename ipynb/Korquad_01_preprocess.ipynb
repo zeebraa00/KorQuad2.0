{
 "cells": [
  {
   "cell_type": "code",
   "execution_count": 1,
   "metadata": {},
   "outputs": [],
   "source": [
    "import json\n",
    "import pandas as pd"
   ]
  },
  {
   "cell_type": "markdown",
   "metadata": {},
   "source": [
    "## KorQuad 1.0"
   ]
  },
  {
   "cell_type": "code",
   "execution_count": 6,
   "metadata": {},
   "outputs": [],
   "source": [
    "corpus_fname_01 = \"../Data/input/KorQuAD_v1.0_train.json\"\n",
    "output_fname_01 = \"../Data/output/korquad_v01.txt\""
   ]
  },
  {
   "cell_type": "code",
   "execution_count": 7,
   "metadata": {},
   "outputs": [],
   "source": [
    "with open(corpus_fname_01) as f1, open(output_fname_01, 'w', encoding ='utf-8') as f2:\n",
    "    dataset_json = json.load(f1)\n",
    "    dataset = dataset_json['data']\n",
    "    for article in dataset:\n",
    "        w_lines = []\n",
    "        for paragraph in article['paragraphs']:\n",
    "            w_lines.append(paragraph['context'])\n",
    "            for qa in paragraph['qas']:\n",
    "                q_text = qa['question']\n",
    "                for a in qa['answers']:\n",
    "                    a_text = a['text']\n",
    "                    w_lines.append(q_text + \" \" + a_text)\n",
    "        for line in w_lines:\n",
    "            f2.writelines(line + '\\n')"
   ]
  },
  {
   "cell_type": "code",
   "execution_count": 8,
   "metadata": {
    "scrolled": true
   },
   "outputs": [
    {
     "data": {
      "text/plain": [
       "{'paragraphs': [{'qas': [{'answers': [{'text': '교향곡', 'answer_start': 54}],\n",
       "     'id': '6566495-0-0',\n",
       "     'question': '바그너는 괴테의 파우스트를 읽고 무엇을 쓰고자 했는가?'},\n",
       "    {'answers': [{'text': '1악장', 'answer_start': 421}],\n",
       "     'id': '6566495-0-1',\n",
       "     'question': '바그너는 교향곡 작곡을 어디까지 쓴 뒤에 중단했는가?'},\n",
       "    {'answers': [{'text': '베토벤의 교향곡 9번', 'answer_start': 194}],\n",
       "     'id': '6566495-0-2',\n",
       "     'question': '바그너가 파우스트 서곡을 쓸 때 어떤 곡의 영향을 받았는가?'},\n",
       "    {'answers': [{'text': '파우스트', 'answer_start': 15}],\n",
       "     'id': '6566518-0-0',\n",
       "     'question': '1839년 바그너가 교향곡의 소재로 쓰려고 했던 책은?'},\n",
       "    {'answers': [{'text': '합창교향곡', 'answer_start': 354}],\n",
       "     'id': '6566518-0-1',\n",
       "     'question': '파우스트 서곡의 라단조 조성이 영향을 받은 베토벤의 곡은?'},\n",
       "    {'answers': [{'text': '1839', 'answer_start': 0}],\n",
       "     'id': '5917067-0-0',\n",
       "     'question': '바그너가 파우스트를 처음으로 읽은 년도는?'},\n",
       "    {'answers': [{'text': '파리', 'answer_start': 410}],\n",
       "     'id': '5917067-0-1',\n",
       "     'question': '바그너가 처음 교향곡 작곡을 한 장소는?'},\n",
       "    {'answers': [{'text': '드레스덴', 'answer_start': 534}],\n",
       "     'id': '5917067-0-2',\n",
       "     'question': '바그너의 1악장의 초연은 어디서 연주되었는가?'}],\n",
       "   'context': '1839년 바그너는 괴테의 파우스트을 처음 읽고 그 내용에 마음이 끌려 이를 소재로 해서 하나의 교향곡을 쓰려는 뜻을 갖는다. 이 시기 바그너는 1838년에 빛 독촉으로 산전수전을 다 걲은 상황이라 좌절과 실망에 가득했으며 메피스토펠레스를 만나는 파우스트의 심경에 공감했다고 한다. 또한 파리에서 아브네크의 지휘로 파리 음악원 관현악단이 연주하는 베토벤의 교향곡 9번을 듣고 깊은 감명을 받았는데, 이것이 이듬해 1월에 파우스트의 서곡으로 쓰여진 이 작품에 조금이라도 영향을 끼쳤으리라는 것은 의심할 여지가 없다. 여기의 라단조 조성의 경우에도 그의 전기에 적혀 있는 것처럼 단순한 정신적 피로나 실의가 반영된 것이 아니라 베토벤의 합창교향곡 조성의 영향을 받은 것을 볼 수 있다. 그렇게 교향곡 작곡을 1839년부터 40년에 걸쳐 파리에서 착수했으나 1악장을 쓴 뒤에 중단했다. 또한 작품의 완성과 동시에 그는 이 서곡(1악장)을 파리 음악원의 연주회에서 연주할 파트보까지 준비하였으나, 실제로는 이루어지지는 않았다. 결국 초연은 4년 반이 지난 후에 드레스덴에서 연주되었고 재연도 이루어졌지만, 이후에 그대로 방치되고 말았다. 그 사이에 그는 리엔치와 방황하는 네덜란드인을 완성하고 탄호이저에도 착수하는 등 분주한 시간을 보냈는데, 그런 바쁜 생활이 이 곡을 잊게 한 것이 아닌가 하는 의견도 있다.'},\n",
       "  {'qas': [{'answers': [{'text': '한스 폰 뷜로', 'answer_start': 402}],\n",
       "     'id': '6566495-1-0',\n",
       "     'question': '바그너의 작품을 시인의 피로 쓰여졌다고 극찬한 것은 누구인가?'},\n",
       "    {'answers': [{'text': '리스트', 'answer_start': 23}],\n",
       "     'id': '6566495-1-1',\n",
       "     'question': '잊혀져 있는 파우스트 서곡 1악장을 부활시킨 것은 누구인가?'},\n",
       "    {'answers': [{'text': '20루이의 금', 'answer_start': 345}],\n",
       "     'id': '6566495-1-2',\n",
       "     'question': '바그너는 다시 개정된 총보를 얼마를 받고 팔았는가?'},\n",
       "    {'answers': [{'text': '리스트', 'answer_start': 23}],\n",
       "     'id': '6566518-1-0',\n",
       "     'question': '파우스트 교향곡을 부활시킨 사람은?'},\n",
       "    {'answers': [{'text': '한스 폰 뷜로', 'answer_start': 402}],\n",
       "     'id': '6566518-1-1',\n",
       "     'question': '파우스트 교향곡을 피아노 독주용으로 편곡한 사람은?'},\n",
       "    {'answers': [{'text': '리스트', 'answer_start': 23}],\n",
       "     'id': '5917067-1-0',\n",
       "     'question': '1악장을 부활시켜 연주한 사람은?'},\n",
       "    {'answers': [{'text': '한스 폰 뷜로', 'answer_start': 402}],\n",
       "     'id': '5917067-1-1',\n",
       "     'question': '파우스트 교향곡에 감탄하여 피아노곡으로 편곡한 사람은?'},\n",
       "    {'answers': [{'text': '1840년', 'answer_start': 3}],\n",
       "     'id': '5917067-1-2',\n",
       "     'question': '리스트가 바그너와 알게 된 연도는?'}],\n",
       "   'context': '한편 1840년부터 바그너와 알고 지내던 리스트가 잊혀져 있던 1악장을 부활시켜 1852년에 바이마르에서 연주했다. 이것을 계기로 바그너도 이 작품에 다시 관심을 갖게 되었고, 그 해 9월에는 총보의 반환을 요구하여 이를 서곡으로 간추린 다음 수정을 했고 브라이트코프흐 & 헤르텔 출판사에서 출판할 개정판도 준비했다. 1853년 5월에는 리스트가 이 작품이 수정되었다는 것을 인정했지만, 끝내 바그너의 출판 계획은 무산되고 말았다. 이후 1855년에 리스트가 자신의 작품 파우스트 교향곡을 거의 완성하여 그 사실을 바그너에게 알렸고, 바그너는 다시 개정된 총보를 리스트에게 보내고 브라이트코프흐 & 헤르텔 출판사에는 20루이의 금을 받고 팔았다. 또한 그의 작품을 “하나하나의 음표가 시인의 피로 쓰여졌다”며 극찬했던 한스 폰 뷜로가 그것을 피아노 독주용으로 편곡했는데, 리스트는 그것을 약간 변형되었을 뿐이라고 지적했다. 이 서곡의 총보 첫머리에는 파우스트 1부의 내용 중 한 구절을 인용하고 있다.'},\n",
       "  {'qas': [{'answers': [{'text': '주제, 동기', 'answer_start': 70}],\n",
       "     'id': '6566495-2-0',\n",
       "     'question': '서주에는 무엇이 암시되어 있는가?'},\n",
       "    {'answers': [{'text': '제1바이올린', 'answer_start': 148}],\n",
       "     'id': '6566495-2-1',\n",
       "     'question': '첫부분에는 어떤 악기를 사용해 더욱 명확하게 나타내는가?'},\n",
       "    {'answers': [{'text': '소나타 형식', 'answer_start': 272}],\n",
       "     'id': '6566495-2-2',\n",
       "     'question': '주요부는 어떤 형식으로 되어 있는가?'},\n",
       "    {'answers': [{'text': '저음 주제', 'answer_start': 102}],\n",
       "     'id': '6566518-2-0',\n",
       "     'question': '첫 부분의 주요주제를 암시하는 주제는?'},\n",
       "    {'answers': [{'text': 'D장조', 'answer_start': 409}],\n",
       "     'id': '6566518-2-1',\n",
       "     'question': '제2주제의 축소된 재현부의 조성은?'},\n",
       "    {'answers': [{'text': '4/4박자', 'answer_start': 35}],\n",
       "     'id': '5917067-2-0',\n",
       "     'question': '곡이 시작할때의 박자는?'},\n",
       "    {'answers': [{'text': '고뇌와 갈망 동기, 청춘의 사랑 동기', 'answer_start': 115}],\n",
       "     'id': '5917067-2-1',\n",
       "     'question': '이 곡의 주요 주제는?'},\n",
       "    {'answers': [{'text': 'D장조', 'answer_start': 409}],\n",
       "     'id': '5917067-2-2',\n",
       "     'question': '제 2주제에선 무슨 장조로 재현되는가?'}],\n",
       "   'context': '이 작품은 라단조, Sehr gehalten(아주 신중하게), 4/4박자의 부드러운 서주로 서주로 시작되는데, 여기에는 주요 주제, 동기의 대부분이 암시, 예고되어 있다. 첫 부분의 저음 주제는 주요 주제(고뇌와 갈망 동기, 청춘의 사랑 동기)를 암시하고 있으며, 제1바이올린으로 더욱 명확하게 나타난다. 또한 그것을 이어받는 동기도 중요한 역할을 한다. 여기에 새로운 소재가 더해진 뒤에 새로운 주제도 연주된다. 주요부는 Sehr bewegt(아주 격동적으로), 2/2박자의 자유로운 소나타 형식으로 매우 드라마틱한 구상과 유기적인 구성을 하고 있다. 여기에는 지금까지의 주제나 소재 외에도 오보에에 의한 선율과 제2주제를 떠올리게 하는 부차적인 주제가 더해지는데, 중간부에서는 약보3이 중심이 되고 제2주제는 축소된 재현부에서 D장조로 재현된다. 마지막에는 주요 주제를 회상하면서 조용히 마친다.'}],\n",
       " 'title': '파우스트_서곡'}"
      ]
     },
     "execution_count": 8,
     "metadata": {},
     "output_type": "execute_result"
    }
   ],
   "source": [
    "dataset[0]"
   ]
  },
  {
   "cell_type": "code",
   "execution_count": 9,
   "metadata": {
    "scrolled": true
   },
   "outputs": [
    {
     "data": {
      "text/plain": [
       "['뉴델리 메탈로-베타락타마제 (New Delhi metalo-beta-lactamase, NDM-1) 는 박테리아가 카바페넴 (carbapenem) 항생제에 내성을 갖게 하는 유전자이다. 산물은 베타락탐 가수분해 효소 (beta-lactamase) 중 하나인 카바페넴아제 (carbapenemase)다. 이 유전자를 가지고 있는 박테리아는 2010년 들어 언론 매체에서 슈퍼버그라는 이름으로 보도되고 있다. 아직까지 NDM-1을 막기 위한 항생제는 개발이 되지 않은 상태다. 현재까지 이 유전자는 대장균 (E.coli)과 폐렴막대균 (Klebsiella pneumoniae) 일부 균주에서 발견되었으며, 수평적 유전자 이동 (horizontal gene transfer)을 통해 다른 균주 또는 종으로 넘어갈 수 있다.',\n",
       " '뉴델리 메탈로-베타락타마제를 가지고 있는 박테리아는 어떤 이름으로 알려지고 있는가? 슈퍼버그',\n",
       " '슈퍼버그가 다른 균주 또는 다른 종으로 넘어가는 방법은? 수평적 유전자 이동',\n",
       " '뉴델리 메탈로-베타락타마제는 박테리아가 어느 항생제에 내성을 갖게 하는가? 카바페넴',\n",
       " '2010년 슈퍼버그라고 보도된 박테리아가 가진 유전자는 무엇인가? 카바페넴아제',\n",
       " '박테리아가 다른 종이나 균주로 넘어가는 현상을 무엇이라 하는가? 수평적 유전자 이동',\n",
       " '대장균의 영어 학명은 무엇인가? E.coli',\n",
       " '박테리아가 카바페넴 항생제에 내성을 갖게 하는 유전자는?  뉴델리 메탈로-베타락타마제',\n",
       " '유전자 뉴델리 메탈로-베타락타마제의 산물이자 베타락타 가수분해 효소의 하나는?  카바페넴아제',\n",
       " '2010년부터 언론에서 슈퍼 버그라고 보도되는 박테리아가 보유한 유전자의 이름은?  뉴델리 메탈로-베타락타마제',\n",
       " '유전자의 이름은 인도의 수도 뉴델리의 이름을 따 붙여졌는데, 이는 2009년 용 (Yong) 등이 처음 기록한 이 케이스의 환자가 인도에서 처음 박테리아 감염을 확인하였기 때문이다. 박테리아 감염 치료가 뉴델리 병원에서 실패로 끝난 후 그는 모국 스웨덴으로 송환되었으며, 그곳에서 카바페넴에 내성을 보이는 폐렴막대균의 유전자가 분리되었다. 용 등은 이 내성 메커니즘이 \"분명히 인도에서 생겨났으나, 이것이 얼마나 퍼져있는지를 보여주는 데이터가 인도에 존재한다\"라고 주장하였다. 보고된 바에 따르면 이 유전자는 파키스탄, 인도, 그리고 여러 아시아 국가에서 발견되었으며 이곳 병원에 입원했던 사람들에 의해 유럽으로 옮겨졌다. 그 중 대다수는 저가의 성형 수술을 위해 의료 관광을 떠났다가 수술 중 감염이 된 사람들이었다.',\n",
       " '뉴델리 메탈로 베타락타마제의 이름은 어느 지역에서 유래되어 정해졌는가? 뉴델리',\n",
       " '뉴델리 메탈로 베타락마제가 처음 감염 된 지역은 어디인가? 인도',\n",
       " '2010년 8월, 저널 The Lancet Infectious Diseases에 최근 행해진 다국적 연구 결과가 실린 바 있다. 이 연구는 NDM-1 유전자를 가진 박테리아의 발생과 전파를 분석하였다. 연구에 사용된 케이스는 영국 37건, 첸나이 26건, 인도 하리아나 주 26건, 그 외 인도, 파키스탄의 여러 지역 73건 등이었다. 저자의 말에 따르면, 많은 균주들이 NDM-1 유전자를 플라스미드 상에 가지고 있었으며, 이 때문에 균과 균 사이의 유전자 전달 (gene transfer)이 쉽게 가능할 것으로 보았다. 연구 시 다뤄진 모든 균주는 베타-락탐계열 항생제, 퀴놀론 (quinolone) 계열 항생제, 아미노글리코사이드 등 여러 항생제에 내성을 보였으나, 대부분 폴리믹신 (polymyxin) 계열 항생제 콜리스틴 (colistin)에는 감수성을 보였다.',\n",
       " '균은 유전자를 균에게 전달 할 수있는데 이러한 현상을 나타낸 용어는 무엇인가? 유전자 전달',\n",
       " '박테리아가 NDM-1 유전자를 가지고 있을때 발생하는 전파를 분석하기위해 사용된 영국 케이스는 몇건인가? 37건',\n",
       " 'NDM-1 유전자를 가진 박테리아가 감수성을 보인 폴리믹슨 계열 항생제는?  콜리스틴',\n",
       " '2010년 8월, NDM-1 유전자를 가진 박테리아의 발생과 전파를 분석한 다국적 연구 결과를 실은 저널은?  The Lancet Infectious Diseases']"
      ]
     },
     "execution_count": 9,
     "metadata": {},
     "output_type": "execute_result"
    }
   ],
   "source": [
    "w_lines"
   ]
  },
  {
   "cell_type": "markdown",
   "metadata": {},
   "source": [
    "## KorQuad 2.0"
   ]
  },
  {
   "cell_type": "code",
   "execution_count": 10,
   "metadata": {},
   "outputs": [],
   "source": [
    "corpus_fname_02 = \"../Data/input/korquad2.1_train_00.json\"\n",
    "output_fname_02 = \"../Data/output/processed_korquad_train_00.txt\""
   ]
  },
  {
   "cell_type": "code",
   "execution_count": 11,
   "metadata": {},
   "outputs": [],
   "source": [
    "with open(corpus_fname_02) as f1, open(output_fname_02, 'w', encoding ='utf-8') as f2:\n",
    "    dataset_json_02 = json.load(f1)\n",
    "    dataset_02 = dataset_json_02['data']\n",
    "    for article in dataset_02:\n",
    "        w_lines = []\n",
    "        '''for paragraph in article['paragraphs']:\n",
    "            w_lines.append(paragraph['context'])\n",
    "            for qa in paragraph['qas']:\n",
    "                q_text = qa['question']\n",
    "                for a in qa['answers']:\n",
    "                    a_text = a['text']\n",
    "                    w_lines.append(q_text + \" \" + a_text)'''\n",
    "        for line in w_lines:\n",
    "            f2.writelines(line + '\\n')\n",
    "                    "
   ]
  },
  {
   "cell_type": "code",
   "execution_count": 12,
   "metadata": {},
   "outputs": [],
   "source": [
    "dataset_02 = dataset_json_02['data']"
   ]
  },
  {
   "cell_type": "code",
   "execution_count": 13,
   "metadata": {},
   "outputs": [
    {
     "data": {
      "text/plain": [
       "dict_keys(['version', 'data'])"
      ]
     },
     "execution_count": 13,
     "metadata": {},
     "output_type": "execute_result"
    }
   ],
   "source": [
    "dataset_json_02.keys()"
   ]
  },
  {
   "cell_type": "code",
   "execution_count": 152,
   "metadata": {},
   "outputs": [
    {
     "data": {
      "text/plain": [
       "dict_keys(['title', 'url', 'context', 'raw_html', 'qas'])"
      ]
     },
     "execution_count": 152,
     "metadata": {},
     "output_type": "execute_result"
    }
   ],
   "source": [
    "dataset_json_02['data'][0].keys()\n",
    "# data[n] 에는 title, url, context, raw_html, qas 정보가 포함돼있음"
   ]
  },
  {
   "cell_type": "code",
   "execution_count": 153,
   "metadata": {},
   "outputs": [
    {
     "data": {
      "text/plain": [
       "{'title': '예고범',\n",
       " 'url': 'https://ko.wikipedia.org/wiki/예고범',\n",
       " 'context': '<!DOCTYPE html>\\n<html>\\n<head>\\n<meta>\\n<title>예고범 - 위키백과, 우리 모두의 백과사전</title>\\n\\n\\n<link>\\n\\n<meta>\\n<link>\\n<meta>\\n<meta>\\n<meta>\\n<meta>\\n<link>\\n<link>\\n<link>\\n<link>\\n<link>\\n<link>\\n<link>\\n<link>\\n<link>\\n<link>\\n<link>\\n\\n</head>\\n<body>\\n<div></div>\\n<div></div>\\n<div>\\n<a></a>\\n<div></div>\\n<div>\\n</div>\\n<h1>예고범</h1>\\n<div>\\n<div>위키백과, 우리 모두의 백과사전.</div>\\n<div></div>\\n<div></div>\\n<a>둘러보기로 가기</a>\\n<a>검색하러 가기</a>\\n<div><div><p>《<b>예고범</b>》(<span><a>일본어</a>: </span><span>予告犯</span>)은, 츠츠이 테츠야의 <a>만화</a> 작품이다.\\n</p>\\n<div><input><div><h2>목차</h2><span><label></label></span></div>\\n<ul>\\n<li><a><span>1</span> <span>개요</span></a></li>\\n<li><a><span>2</span> <span>등장인물</span></a>\\n<ul>\\n<li><a><span>2.1</span> <span>예고범 그룹</span></a></li>\\n<li><a><span>2.2</span> <span>경찰 관계자</span></a></li>\\n<li><a><span>2.3</span> <span>타깃이 된 인물·기업·단체</span></a></li>\\n<li><a><span>2.4</span> <span>그 외</span></a></li>\\n</ul>\\n</li>\\n<li><a><span>3</span> <span>서지 정보</span></a></li>\\n<li><a><span>4</span> <span>스핀오프 작품</span></a>\\n<ul>\\n<li><a><span>4.1</span> <span>예고범-THE COPYCAT-</span></a></li>\\n<li><a><span>4.2</span> <span>예고범-THE CHASER-</span></a></li>\\n</ul>\\n</li>\\n<li><a><span>5</span> <span>영화</span></a>\\n<ul>\\n<li><a><span>5.1</span> <span>캐스트</span></a></li>\\n<li><a><span>5.2</span> <span>스태프</span></a></li>\\n</ul>\\n</li>\\n<li><a><span>6</span> <span>텔레비전 드라마</span></a>\\n<ul>\\n<li><a><span>6.1</span> <span>캐스트</span></a></li>\\n<li><a><span>6.2</span> <span>스태프</span></a></li>\\n<li><a><span>6.3</span> <span>방송 일자</span></a></li>\\n</ul>\\n</li>\\n<li><a><span>7</span> <span>외부 링크</span></a></li>\\n</ul>\\n</div>\\n<h2><span></span><span>개요</span><span><span>[</span><a>편집</a><span>]</span></span></h2>\\n<p>《점프 카이》 (<a>슈에이샤</a>)에서 <a>2011년</a>부터 <a>2013년</a> 9호까지 연재되었다. 단행본은 전 3권.\\n</p>\\n<h2><span></span><span>등장인물</span><span><span>[</span><a>편집</a><span>]</span></span></h2>\\n<h3><span></span><span>예고범 그룹</span><span><span>[</span><a>편집</a><span>]</span></span></h3>\\n<dl><dt>게이츠/오쿠다 히로아키</dt>\\n<dd>예고범 그룹 〈신분시〉의 주범격.</dd>\\n<dt>칸사이/카사이 토모히코</dt>\\n<dd><a>오사카</a> 출신.</dd>\\n<dt>메타보/테라하라 신이치</dt>\\n<dd><a>후쿠오카</a> 출신.</dd>\\n<dt>노비타/키무라 코이치</dt>\\n<dd><a>미야기</a> 출신.</dd></dl>\\n<h3><span></span><span>경찰 관계자</span><span><span>[</span><a>편집</a><span>]</span></span></h3>\\n<dl><dt>요시노 에리카</dt>\\n<dd><a>경시청</a> 사이버 범죄 대책과 반장.</dd>\\n<dt>오카모토 다이키</dt>\\n<dd>경시청 사이버 범죄 대책과 소속 형사.</dd>\\n<dt>이치카와 마나부</dt>\\n<dd>경시청 사이버 범죄 대책과 소속 형사.</dd>\\n<dt>마츠모토 신이치</dt>\\n<dd>경시청 사이버 범죄 대책과 과장.</dd>\\n<dt>아라가키</dt>\\n<dd>고속대 대원.</dd></dl>\\n<h3><span></span><span>타깃이 된 인물·기업·단체</span><span><span>[</span><a>편집</a><span>]</span></span></h3>\\n<dl><dt>식품 가공 회사</dt>\\n<dd><a>이시카와현</a> K시에 있는 식품 가공 업자.</dd>\\n<dt>부시키 슈야</dt>\\n<dd>모 외식점의 전 아르바이트 점원.</dd>\\n<dt>세키 슈지</dt>\\n<dd>R대학의 전 학생.</dd>\\n<dt>이케하타 마사요시</dt>\\n<dd>모 넷 서비스 기업에 근무하는 회사원.</dd>\\n<dt>시가디안</dt>\\n<dd><a>고래잡이</a> 반대 운동 등을 행하고 있는 해외의 환경 보호 단체.</dd>\\n<dt>시타라기 타다시</dt>\\n<dd>현직 <a>중의원</a> 의원.</dd></dl>\\n<h3><span></span><span>그 외</span><span><span>[</span><a>편집</a><span>]</span></span></h3>\\n<dl><dt>마스야마 쇼타</dt>\\n<dd><a>토치기 현</a> U시에 사는 중학생.</dd>\\n<dt>호리이</dt>\\n<dd>게이츠가 과거에 근무했던 IT 회사의 사장.</dd>\\n<dt>노모토 청소의 사장과 사장 부인</dt>\\n<dd>빌딩 외벽 청소를 사업으로 하는 청소 회사.</dd>\\n<dt>효로/넬슨 카토 리카르테</dt>\\n<dd><a>필리핀</a> 출신의 <a>일본계 외국인</a>.</dd>\\n<dt>이시다 키요시</dt>\\n<dd>게이츠 등 5인이 먹고 자며 육체 노동을 하던 때의 현장 감독.</dd>\\n<dt>카에데</dt>\\n<dd><a>이와테현</a> K시에 있는 <a>라멘</a> 가게에서 일하는 여성 점원.</dd>\\n<dt>아오야마 유이치</dt>\\n<dd><a>인터넷 카페</a> 〈피트 보이〉에서 일하는 점원.</dd></dl>\\n<h2><span></span><span>서지 정보</span><span><span>[</span><a>편집</a><span>]</span></span></h2>\\n<ul><li>츠츠이 테츠야 《예고범》 <a>슈에이샤</a> 〈영 점프 코믹스〉 전 3권\\n<ol><li>2012년 4월 10일 발매, <a>ISBN</a>\\xa0<a>978-4-08-879310-8</a></li>\\n<li>2012년 12월 10일 발매, <a>ISBN</a>\\xa0<a>978-4-08-879495-2</a></li>\\n<li>2013년 9월 10일 발매, <a>ISBN</a>\\xa0<a>978-4-08-879680-2</a></li></ol></li></ul>\\n<h2><span></span><span>스핀오프 작품</span><span><span>[</span><a>편집</a><span>]</span></span></h2>\\n<h3><span></span><span>예고범-THE COPYCAT-</span><span><span>[</span><a>편집</a><span>]</span></span></h3>\\n<p>《<b>예고범 -THE COPYCAT-</b>》은, 스핀오프 만화 작품이다.\\n</p><p>〈신분시〉의 <a>모방범</a> (카피캣)을 하는 고교생 그룹의 스토리.\\n</p>\\n<h3><span></span><span>예고범-THE CHASER-</span><span><span>[</span><a>편집</a><span>]</span></span></h3>\\n<p>《<b>예고범 -THE CHASER-</b>》는, 스핀오프 <a>소설</a> 작품이다.\\n</p><p>요시노 에리카와 경시청 사이버 범죄 대책과의 그 후 활동을 그린다.\\n</p>\\n<h2><span></span><span>영화</span><span><span>[</span><a>편집</a><span>]</span></span></h2>\\n<p><a>2015년</a> <a>6월 6일</a>, 일본에서 공개되었다. 감독은 나카무라 요시히로. 주연은 <a>이쿠타 토마</a>.\\n</p>\\n<h3><span></span><span>캐스트</span><span><span>[</span><a>편집</a><span>]</span></span></h3>\\n<ul><li>게이츠/오쿠다 히로아키 - <a>이쿠타 토마</a></li>\\n<li>요시노 에리카 - <a>토다 에리카</a></li>\\n<li>칸사이/카사이 토모히코 - <a>스즈키 료헤이</a></li>\\n<li>노비타/키무라 코이치 - 하마다 가쿠</li>\\n<li>메타보/테라하라 신이치 - 아라카와 요시요시</li>\\n<li>오카모토 다이키 - 타쿠마 타카유키</li>\\n<li>이치카와 마나부 - <a>사카구치 켄타로</a></li>\\n<li>아오야마 유이치 - <a>쿠보타 마사타카</a></li>\\n<li>카에데 - <a>코마츠 나나</a></li>\\n<li>효로 - 후쿠야마 코헤이</li>\\n<li>이시다 키요시 - 나카노 시게루</li>\\n<li>키타무라 - <a>타나카 케이</a></li>\\n<li>쿠리하라 - 타키토 켄이치</li>\\n<li>카토 - 혼다 히로타로</li>\\n<li>시타라기 타다시 - <a>코히나타 후미요</a></li></ul>\\n<h3><span></span><span>스태프</span><span><span>[</span><a>편집</a><span>]</span></span></h3>\\n<ul><li>감독 - 나카무라 요시히로</li>\\n<li>원작 - 츠츠이 테츠야</li>\\n<li>각본 - 하야시 타미오</li>\\n<li>음악 - 오오마마 타카시</li>\\n<li>기획·프로듀스 - 히라노 타카시</li>\\n<li>프로듀스 - 타케다 요시타카</li>\\n<li>촬영 - 소마 다이스케</li>\\n<li>미술 - 시미즈 타케시</li>\\n<li>배급 - <a>토호</a></li>\\n<li>제작 프로덕션 - WOWOW FILMS, C&amp;I 엔터테인먼트</li>\\n<li>제작 간사 - <a>TBS</a>, <a>WOWOW</a></li>\\n<li>제작 - 영화 〈예고범〉 제작 위원회</li></ul>\\n<h2><span></span><span>텔레비전 드라마</span><span><span>[</span><a>편집</a><span>]</span></span></h2>\\n<p>《<b>예고범 -THE PAIN-</b>》은, <a>2015년</a> <a>6월 7일</a>부터 <a>7월 5일</a>까지 <a>WOWOW</a> 연속 드라마 W에서 방송된 <a>텔레비전 드라마</a>이다. 전 5화. 주연은 <a>히가시야마 노리유키</a>. 영화판의 스토리로부터 1년 후를 그린 오리지널 스토리이다. 영화판 감독인 나카무라 요시히로가 감독을 맡았고, <a>토다 에리카</a>가 영화판과 같은 역으로 출연했다.\\n</p>\\n<h3><span></span><span>캐스트</span><span><span>[</span><a>편집</a><span>]</span></span></h3>\\n<ul><li>사쿠마 에이지 - <a>히가시야마 노리유키</a></li>\\n<li>요시노 에리카 - <a>토다 에리카</a></li>\\n<li>타부치 유조 - 하시모토 사토시</li>\\n<li>오키나 케이코 - <a>이치카와 미카코</a></li>\\n<li>미즈타니 켄 - <a>키리타니 켄타</a></li>\\n<li>히라사와 아츠시 - 타나카 류조</li>\\n<li>야자키 신타로 - 오오니시 시마</li>\\n<li>카네코 - 코마츠 토시마사</li>\\n<li>사코타 - 마츠바야시 신지</li>\\n<li>신타니 스바루 - 모리오카 류</li>\\n<li>카키네 - 츠무라 노리요시</li>\\n<li>하나야마 토오루 - 무라이 쿠니오</li></ul>\\n<h3><span></span><span>스태프</span><span><span>[</span><a>편집</a><span>]</span></span></h3>\\n<ul><li>원작·스토리 감수 - 츠츠이 테츠야</li>\\n<li>시리즈 구성 - 나카무라 요시히로</li>\\n<li>감독 - 나카무라 요시히로, 히라바야시 카츠토시, 사와다 메구미</li>\\n<li>각본 - 하야시 타미오, 타나카 히로시</li>\\n<li>음악 - 오오마마 타카시</li>\\n<li>프로듀스 - 우에다 하루나</li>\\n<li>제작 프로덕션 - 트윈즈 재팬</li>\\n<li>제작 저작 - <a>WOWOW</a></li></ul>\\n<h3><span></span><span>방송 일자</span><span><span>[</span><a>편집</a><span>]</span></span></h3>\\n<table>\\n<tbody><tr>\\n<th>방송회</th>\\n<th>방송일</th>\\n<th>각본</th>\\n<th>감독\\n</th></tr>\\n<tr>\\n<td>CASE #1\\n</td>\\n<td>2015년 6월 7일</td>\\n<td>하야시 타미오</td>\\n<td>나카무라 요시히로\\n</td></tr>\\n<tr>\\n<td>CASE #2\\n</td>\\n<td>6월 14일</td>\\n<td rowspan=\"4\">타나카 히로시</td>\\n<td>히라바야시 카츠토시\\n</td></tr>\\n<tr>\\n<td>CASE #3\\n</td>\\n<td>6월 21일</td>\\n<td>사와다 메구미\\n</td></tr>\\n<tr>\\n<td>CASE #4\\n</td>\\n<td>6월 28일</td>\\n<td rowspan=\"2\">히라바야시 카츠토시\\n</td></tr>\\n<tr>\\n<td>FINAL CASE\\n</td>\\n<td>7월 5일\\n</td></tr>\\n</tbody></table>\\n<h2><span></span><span>외부 링크</span><span><span>[</span><a>편집</a><span>]</span></span></h2>\\n<ul><li><b><span>(일본어)</span></b> <a>［예고범］ 츠츠이 테츠야｜전율의 넷 테러 만화를 완전 해설! - 점프 카이</a></li>\\n<li><b><span>(일본어)</span></b> <a>영화 《예고범》 공식 사이트</a></li>\\n<li><b><span>(일본어)</span></b> <a>연속 드라마 W 《예고범 -THE PAIN-》 공식 사이트</a></li></ul>\\n<div><table><tbody><tr><th colspan=\"2\"><div><ul><li><a><abbr>v</abbr></a></li><li><a><abbr>d</abbr></a></li><li><a><abbr>e</abbr></a></li><li><a><abbr>h</abbr></a></li></ul></div><div><a>WOWOW</a> <a>연속 드라마 W</a></div></th></tr><tr><th>주 1회<br/>(2008년 ~ 2014년)</th><td><div>\\n<ul><li>《<a>판도라</a>》</li>\\n<li>《<a>프리즈너</a>》</li>\\n<li>《<a>하늘을 나는 타이어</a>》</li>\\n<li>《<a>엄마는 옛날에 아빠였다</a>》</li>\\n<li>《<a>은폐지령</a>》</li>\\n<li>《<a>판도라 II 기아열도</a>》</li>\\n<li>《<a>마크스의 산</a>》</li>\\n<li>《<a>히가시노 게이고 환야</a>》</li>\\n<li>《<a>CO 이식 코디네이터</a>》</li>\\n<li>《<a>변두리 로켓</a>》</li>\\n<li>《<a>판도라 III 혁명전야</a>》</li>\\n<li>《<a>조화의 꿀</a>》</li>\\n<li>《<a>속죄</a>》</li>\\n<li>《<a>분신</a>》</li>\\n<li>《<a>추정유죄</a>》</li>\\n<li>《<a>죄와 벌 A Falsified Romance</a>》</li>\\n<li>《<a>마그마</a>》</li>\\n<li>《<a>플라티나 타운</a>》</li>\\n<li>《<a>히토리시즈카</a>》</li>\\n<li>《<a>하늘의 방주</a>》</li>\\n<li>《<a>여자와 남자의 열대</a>》</li>\\n<li>《<a>레이디 조커</a>》</li>\\n<li>《<a>소돔의 사과~롯을 죽인 딸들</a>》</li>\\n<li>《<a>배달되고 싶은 우리</a>》</li>\\n<li>《<a>흔들리는 소</a>》</li>\\n<li>《<a>빵과 스프, 고양이와 함께 하기 좋은 날</a>》</li>\\n<li>《<a>열쇠 없는 꿈을 꾸다</a>》</li>\\n<li>《<a>LINK</a>》</li>\\n<li>《<a>저편의 아이</a>》</li>\\n<li>《<a>피의 흔적</a>》</li>\\n<li>《<a>세상의 소금</a>》</li>\\n<li>《<a>나라고 하는 운명에 대하여</a>》</li>\\n<li><a>토쿠소우</a>》</li>\\n<li>《<a>모자이크 재팬</a>》</li>\\n<li>《<a>MOZU Season2 ~환상의 날개~</a>》</li>\\n<li>《<a>히가시노 게이고 〈변신〉</a>》</li>\\n<li>《<a>죄인의 거짓말</a>》</li></ul>\\n</div></td></tr><tr><th>주 2회<br/>(2014년 ~ )</th><td><div></div><table><tbody><tr><th>토요 오리지널</th><td><div>\\n<ul><li>《<a>구구는 고양이다</a>》</li>\\n<li>《<a>헤이세이 원숭이와 게의 전쟁</a>》</li>\\n<li>《<a>속죄의 소나타</a>》</li>\\n<li>《<a>유리의 갈대</a>》</li>\\n<li>《<a>어둠의 반주자</a>》</li>\\n<li>《<a>꿈을 주다</a>》</li>\\n<li>《<a>후타가시라</a>》</li>\\n<li>《<a>연하 -Gold Rush-</a>》</li>\\n<li>《<a>바다에 내리다</a>》</li>\\n<li>《<a>5명의 준코</a>》</li>\\n<li>《<a>황무지의 사랑</a>》</li>\\n<li>《<a>반짝반짝</a>》</li>\\n<li>《<a>구구는 고양이다 2-good good the fortune cat-</a>》</li>\\n<li>《<a>키보가오카의 사람들</a>》</li>\\n<li>《<a>현자의 사랑</a>》</li>\\n<li>《<a>후타가시라 2</a>》</li>\\n<li>《<a>콜드 케이스 ~진실의 문~</a>》</li>\\n<li>《<a>오늘은, 일진도 좋고</a>》</li>\\n<li>《<a>호쿠토 -어느 살인자의 회심-</a>》</li>\\n<li>《<a>미야자와 겐지의 식탁</a>》</li>\\n<li>《<a>플라즈~번역 있음 만의 쉐어하우스~</a>》</li>\\n<li>《<a>짝사랑</a>》</li>\\n<li>《<a>명함 게임</a>》</li>\\n<li>《<a>봄이 왔다</a>》</li>\\n<li>《<a>바이바이, 블랙버드</a>》</li>\\n<li>《<a>어둠의 반주자~편집장의 조건</a>》</li>\\n<li>《<a>더블 판타지</a>》</li>\\n<li>《<a>이아리 보이지 않는 얼굴</a>》</li>\\n<li>《<a>콜드 케이스 2 ~진실의 문~</a>》</li>\\n<li>《<a>도난당한 얼굴 ~눈에 띄지 수사반~</a>》</li>\\n<li>《<a>그것을 사랑과 착각하니까</a>》</li>\\n<li>《<a>다잉 아이</a>》</li>\\n<li>《<a>언덕 중간의 집</a>》</li></ul>\\n</div></td></tr><tr><th>일요 오리지널</th><td><div>\\n<ul><li>《<a>주가폭락</a>》</li>\\n<li>《<a>악화</a>》</li>\\n<li>《<a>저물어 가는 여름</a>》</li>\\n<li>《<a>천사의 나이프</a>》</li>\\n<li>《<a>스케이프고트</a>》</li>\\n<li>《<a>테미스의 구형</a>》</li>\\n<li>《<a>예고범 -THE PAIN-</a>》</li>\\n<li>《<a>죽음의 장기</a>》</li>\\n<li>《<a>돌의 고치 살인분석반</a>》</li>\\n<li>《<a>신가리 야마이치 증권 최후의 성전</a>》</li>\\n<li>《<a>오판</a>》</li>\\n<li>《<a>쏠 수 없는 경관</a>》</li>\\n<li>《<a>메가뱅크 최종결전</a>》</li>\\n<li>《<a>뻐꾸기 알은 누구의 것인가</a>》</li>\\n<li>《<a>지지 않는 태양</a>》</li>\\n<li>《<a>히포크라테스 선서</a>》</li>\\n<li>《<a>수정의 고동 살인분석반</a>》</li>\\n<li>《<a>낙원</a>》</li>\\n<li>《<a>제니가타 경부 칠흑의 범죄 파일</a>》</li>\\n<li>《<a>히토야노토게~감옥의 가시~</a>》</li>\\n<li>《<a>사장실의 겨울 -거대 신문사를 잡는 남자-</a>》</li>\\n<li>《<a>범죄증후군 Season2</a>》</li>\\n<li>《<a>아키라와 아키라</a>》</li>\\n<li>《<a>침묵 법정</a>》</li>\\n<li>《<a>돌팔매질~외무성 비자금을 파헤친 수사2과 남자들~</a>》</li>\\n<li>《<a>감사역 노자키</a>》</li>\\n<li>《<a>이노센트 데이즈</a>》</li>\\n<li>《<a>60 오판 대책실</a>》</li>\\n<li>《<a>불발탄 ~검은 돈을 조종하는 남자~</a>》</li>\\n<li>《<a>구로쇼인의 로쿠베에</a>》</li>\\n<li>《<a>진범인</a>》</li>\\n<li>《<a>판도라 Ⅳ AI전쟁</a>》</li>\\n<li>《<a>고고한 메스</a>》</li>\\n<li>《<a>절규</a>》</li></ul>\\n</div></td></tr></tbody></table><div></div></td></tr></tbody></table></div>\\n<div><div><b><a>예고범-THE COPYCAT-</a></b>에 관한\\xa0<a>분류</a>: <a>주간 영 점프의 만화</a></div><div><b><a>예고범-THE PAIN-</a></b>에 관한\\xa0<a>분류</a>: <a>만화의 텔레비전 드라마화 작품</a>\\xa0\\xa0<span>|</span>\\xa0\\xa0<a>2015년 드라마 </a>\\xa0\\xa0<span>|</span>\\xa0\\xa0<a>연속 드라마 W </a></div></div>\\n\\n\\n\\n</div><noscript><img></noscript></div>\\n<div>원본 주소 \"<a>https://ko.wikipedia.org/w/index.php?title=예고범&amp;oldid=21882503</a>\"</div>\\n<div><div><a>분류</a>: <ul><li><a>일본의 만화</a></li><li><a>추리 만화</a></li><li><a>범죄를 소재로 한 작품</a></li><li><a>테러를 소재로 한 작품</a></li><li><a>일본의 영화 작품</a></li><li><a>일본의 범죄 영화</a></li><li><a>테러리즘을 소재로 한 영화</a></li><li><a>만화를 바탕으로 한 영화</a></li></ul></div><div>숨은 분류: <ul><li><a>일본어 표기를 포함한 문서</a></li></ul></div></div>\\n<div></div>\\n</div>\\n</div>\\n<div>\\n<h2>둘러보기 메뉴</h2>\\n<div>\\n<div>\\n<h3>개인 도구</h3>\\n<ul>\\n<li>로그인하지 않음</li><li><a>토론</a></li><li><a>기여</a></li><li><a>계정 만들기</a></li><li><a>로그인</a></li> </ul>\\n</div>\\n<div>\\n<div>\\n<h3>이름공간</h3>\\n<ul>\\n<li><span><a>문서</a></span></li><li><span><a>토론</a></span></li> </ul>\\n</div>\\n<div>\\n<input>\\n<h3>\\n<span>변수</span>\\n</h3>\\n<ul>\\n</ul>\\n</div>\\n</div>\\n<div>\\n<div>\\n<h3>보기</h3>\\n<ul>\\n<li><span><a>읽기</a></span></li><li><span><a>편집</a></span></li><li><span><a>역사 보기</a></span></li> </ul>\\n</div>\\n<div>\\n<input>\\n<h3><span>더 보기</span></h3>\\n<ul>\\n</ul>\\n</div>\\n<div>\\n<h3>\\n<label>검색</label>\\n</h3>\\n<form>\\n<div>\\n<input><input><input><input> </div>\\n</form>\\n</div>\\n</div>\\n</div>\\n<div>\\n<div><a></a></div>\\n<div>\\n<h3>둘러보기</h3>\\n<div>\\n<ul>\\n<li><a>대문</a></li><li><a>사용자 모임</a></li><li><a>요즘 화제</a></li><li><a>최근 바뀜</a></li><li><a>모든 문서 보기</a></li><li><a>임의 문서로</a></li><li><a>도움말</a></li><li><a>기부</a></li> </ul>\\n</div>\\n</div>\\n<div>\\n<h3>도구</h3>\\n<div>\\n<ul>\\n<li><a>여기를 가리키는 문서</a></li><li><a>가리키는 글의 최근 바뀜</a></li><li><a>파일 올리기</a></li><li><a>특수 문서 목록</a></li><li><a>고유 링크</a></li><li><a>문서 정보</a></li><li><a>위키데이터 항목</a></li><li><a>이 문서 인용하기</a></li> </ul>\\n</div>\\n</div>\\n<div>\\n<h3>인쇄/내보내기</h3>\\n<div>\\n<ul>\\n<li><a>책 만들기</a></li><li><a>PDF로 다운로드</a></li><li><a>인쇄용 판</a></li> </ul>\\n</div>\\n</div>\\n<div>\\n<h3>다른 언어</h3>\\n<div>\\n<ul>\\n<li><a>English</a></li><li><a>Français</a></li><li><a>日本語</a></li><li><a>Tagalog</a></li><li><a>中文</a></li> </ul>\\n<div><span><a>링크 편집</a></span></div> </div>\\n</div>\\n</div>\\n</div>\\n<div>\\n<ul>\\n<li> 이 문서는 2018년 7월 27일 (금) 06:45에 마지막으로 편집되었습니다.</li>\\n<li>모든 문서는 <a>크리에이티브 커먼즈 저작자표시-동일조건변경허락 3.0</a>에 따라 사용할 수 있으며, 추가적인 조건이 적용될 수 있습니다. 자세한 내용은 <a>이용 약관</a>을 참고하십시오.<br/>Wikipedia®는 미국 및 다른 국가에 등록되어 있는 <a>Wikimedia Foundation, Inc.</a> 소유의 등록 상표입니다.</li>\\n</ul>\\n<ul>\\n<li><a>개인정보 정책</a></li>\\n<li><a>위키백과 소개</a></li>\\n<li><a>면책 조항</a></li>\\n<li><a>개발자</a></li>\\n<li><a>쿠키 정책</a></li>\\n<li><a>모바일 보기</a></li>\\n</ul>\\n<ul>\\n<li>\\n<a><img></a> </li>\\n<li>\\n<a><img></a> </li>\\n</ul>\\n<div></div>\\n</div>\\n\\n\\n\\n</body>\\n</html>\\n',\n",
       " 'raw_html': '<!DOCTYPE html>\\n<html class=\"client-nojs\" dir=\"ltr\" lang=\"ko\">\\n<head>\\n<meta charset=\"utf-8\"/>\\n<title>예고범 - 위키백과, 우리 모두의 백과사전</title>\\n<script>document.documentElement.className=document.documentElement.className.replace(/(^|\\\\s)client-nojs(\\\\s|$)/,\"$1client-js$2\");RLCONF={\"wgCanonicalNamespace\":\"\",\"wgCanonicalSpecialPageName\":!1,\"wgNamespaceNumber\":0,\"wgPageName\":\"예고범\",\"wgTitle\":\"예고범\",\"wgCurRevisionId\":21882503,\"wgRevisionId\":21882503,\"wgArticleId\":1142341,\"wgIsArticle\":!0,\"wgIsRedirect\":!1,\"wgAction\":\"view\",\"wgUserName\":null,\"wgUserGroups\":[\"*\"],\"wgCategories\":[\"일본어 표기를 포함한 문서\",\"일본의 만화\",\"추리 만화\",\"범죄를 소재로 한 작품\",\"테러를 소재로 한 작품\",\"일본의 영화 작품\",\"일본의 범죄 영화\",\"테러리즘을 소재로 한 영화\",\"만화를 바탕으로 한 영화\"],\"wgBreakFrames\":!1,\"wgPageContentLanguage\":\"ko\",\"wgPageContentModel\":\"wikitext\",\"wgSeparatorTransformTable\":[\"\",\"\"],\"wgDigitTransformTable\":[\"\",\"\"],\"wgDefaultDateFormat\":\"ko\",\"wgMonthNames\":[\"\",\"1월\",\"2월\",\"3월\",\"4월\",\"5월\",\"6월\",\"7월\",\"8월\",\"9월\",\"10월\",\"11월\",\"12월\"],\\n\"wgMonthNamesShort\":[\"\",\"1\",\"2\",\"3\",\"4\",\"5\",\"6\",\"7\",\"8\",\"9\",\"10\",\"11\",\"12\"],\"wgRelevantPageName\":\"예고범\",\"wgRelevantArticleId\":1142341,\"wgRequestId\":\"XRp8LgpAICMAABjkVugAAADP\",\"wgCSPNonce\":!1,\"wgIsProbablyEditable\":!0,\"wgRelevantPageIsProbablyEditable\":!0,\"wgRestrictionEdit\":[],\"wgRestrictionMove\":[],\"wgMediaViewerOnClick\":!0,\"wgMediaViewerEnabledByDefault\":!0,\"wgPopupsReferencePreviews\":!1,\"wgPopupsConflictsWithNavPopupGadget\":!1,\"wgVisualEditor\":{\"pageLanguageCode\":\"ko\",\"pageLanguageDir\":\"ltr\",\"pageVariantFallbacks\":\"ko\"},\"wgMFDisplayWikibaseDescriptions\":{\"search\":!0,\"nearby\":!0,\"watchlist\":!0,\"tagline\":!0},\"wgWMESchemaEditAttemptStepOversample\":!1,\"wgPoweredByHHVM\":!0,\"wgULSCurrentAutonym\":\"한국어\",\"wgNoticeProject\":\"wikipedia\",\"wgWikibaseItemId\":\"Q3407535\",\"wgCentralAuthMobileDomain\":!1,\"wgEditSubmitButtonLabelPublish\":!0};RLSTATE={\"ext.globalCssJs.user.styles\":\"ready\",\"ext.globalCssJs.site.styles\":\"ready\",\"site.styles\":\"ready\",\"noscript\":\\n\"ready\",\"user.styles\":\"ready\",\"ext.globalCssJs.user\":\"ready\",\"ext.globalCssJs.site\":\"ready\",\"user\":\"ready\",\"user.options\":\"loading\",\"user.tokens\":\"loading\",\"mediawiki.legacy.shared\":\"ready\",\"mediawiki.legacy.commonPrint\":\"ready\",\"mediawiki.toc.styles\":\"ready\",\"wikibase.client.init\":\"ready\",\"ext.visualEditor.desktopArticleTarget.noscript\":\"ready\",\"ext.uls.interlanguage\":\"ready\",\"ext.wikimediaBadges\":\"ready\",\"ext.3d.styles\":\"ready\",\"mediawiki.skinning.interface\":\"ready\",\"skins.vector.styles\":\"ready\"};RLPAGEMODULES=[\"site\",\"mediawiki.page.startup\",\"mediawiki.page.ready\",\"mediawiki.toc\",\"mediawiki.searchSuggest\",\"ext.gadget.directcommons\",\"ext.gadget.ReferenceTooltips\",\"ext.gadget.refToolbar\",\"ext.gadget.siteNotice\",\"ext.centralauth.centralautologin\",\"ext.popups\",\"ext.visualEditor.desktopArticleTarget.init\",\"ext.visualEditor.targetLoader\",\"ext.eventLogging\",\"ext.wikimediaEvents\",\"ext.navigationTiming\",\"ext.uls.compactlinks\",\"ext.uls.interface\",\"ext.centralNotice.geoIP\",\\n\"ext.centralNotice.startUp\",\"skins.vector.js\"];</script>\\n<script>(RLQ=window.RLQ||[]).push(function(){mw.loader.implement(\"user.options@0750cxc\",function($,jQuery,require,module){/*@nomin*/mw.user.options.set({\"variant\":\"ko\"});\\n});mw.loader.implement(\"user.tokens@0tffind\",function($,jQuery,require,module){/*@nomin*/mw.user.tokens.set({\"editToken\":\"+\\\\\\\\\",\"patrolToken\":\"+\\\\\\\\\",\"watchToken\":\"+\\\\\\\\\",\"csrfToken\":\"+\\\\\\\\\"});\\n});});</script>\\n<link href=\"/w/load.php?lang=ko&amp;modules=ext.3d.styles%7Cext.uls.interlanguage%7Cext.visualEditor.desktopArticleTarget.noscript%7Cext.wikimediaBadges%7Cmediawiki.legacy.commonPrint%2Cshared%7Cmediawiki.skinning.interface%7Cmediawiki.toc.styles%7Cskins.vector.styles%7Cwikibase.client.init&amp;only=styles&amp;skin=vector\" rel=\"stylesheet\"/>\\n<script async=\"\" src=\"/w/load.php?lang=ko&amp;modules=startup&amp;only=scripts&amp;raw=1&amp;skin=vector\"></script>\\n<meta content=\"\" name=\"ResourceLoaderDynamicStyles\"/>\\n<link href=\"/w/load.php?lang=ko&amp;modules=site.styles&amp;only=styles&amp;skin=vector\" rel=\"stylesheet\"/>\\n<meta content=\"MediaWiki 1.34.0-wmf.11\" name=\"generator\"/>\\n<meta content=\"origin\" name=\"referrer\"/>\\n<meta content=\"origin-when-crossorigin\" name=\"referrer\"/>\\n<meta content=\"origin-when-cross-origin\" name=\"referrer\"/>\\n<link href=\"android-app://org.wikipedia/http/ko.m.wikipedia.org/wiki/%EC%98%88%EA%B3%A0%EB%B2%94\" rel=\"alternate\"/>\\n<link href=\"/w/index.php?title=%EC%98%88%EA%B3%A0%EB%B2%94&amp;action=edit\" rel=\"alternate\" title=\"편집\" type=\"application/x-wiki\"/>\\n<link href=\"/w/index.php?title=%EC%98%88%EA%B3%A0%EB%B2%94&amp;action=edit\" rel=\"edit\" title=\"편집\"/>\\n<link href=\"/static/apple-touch/wikipedia.png\" rel=\"apple-touch-icon\"/>\\n<link href=\"/static/favicon/wikipedia.ico\" rel=\"shortcut icon\"/>\\n<link href=\"/w/opensearch_desc.php\" rel=\"search\" title=\"위키백과 (ko)\" type=\"application/opensearchdescription+xml\"/>\\n<link href=\"//ko.wikipedia.org/w/api.php?action=rsd\" rel=\"EditURI\" type=\"application/rsd+xml\"/>\\n<link href=\"//creativecommons.org/licenses/by-sa/3.0/\" rel=\"license\"/>\\n<link href=\"https://ko.wikipedia.org/wiki/%EC%98%88%EA%B3%A0%EB%B2%94\" rel=\"canonical\"/>\\n<link href=\"//login.wikimedia.org\" rel=\"dns-prefetch\"/>\\n<link href=\"//meta.wikimedia.org\" rel=\"dns-prefetch\"/>\\n<!--[if lt IE 9]><script src=\"/w/load.php?modules=html5shiv&amp;only=scripts&amp;raw=1&amp;sync=1\"></script><![endif]-->\\n</head>\\n<body class=\"mediawiki ltr sitedir-ltr mw-hide-empty-elt ns-0 ns-subject mw-editable page-예고범 rootpage-예고범 skin-vector action-view\">\\n<div class=\"noprint\" id=\"mw-page-base\"></div>\\n<div class=\"noprint\" id=\"mw-head-base\"></div>\\n<div class=\"mw-body\" id=\"content\" role=\"main\">\\n<a id=\"top\"></a>\\n<div class=\"mw-body-content\" id=\"siteNotice\"><!-- CentralNotice --></div>\\n<div class=\"mw-indicators mw-body-content\">\\n</div>\\n<h1 class=\"firstHeading\" id=\"firstHeading\" lang=\"ko\">예고범</h1>\\n<div class=\"mw-body-content\" id=\"bodyContent\">\\n<div class=\"noprint\" id=\"siteSub\">위키백과, 우리 모두의 백과사전.</div>\\n<div id=\"contentSub\"></div>\\n<div id=\"jump-to-nav\"></div>\\n<a class=\"mw-jump-link\" href=\"#mw-head\">둘러보기로 가기</a>\\n<a class=\"mw-jump-link\" href=\"#p-search\">검색하러 가기</a>\\n<div class=\"mw-content-ltr\" dir=\"ltr\" id=\"mw-content-text\" lang=\"ko\"><div class=\"mw-parser-output\"><p>《<b>예고범</b>》(<span style=\"font-size: smaller;\"><a href=\"/wiki/%EC%9D%BC%EB%B3%B8%EC%96%B4\" title=\"일본어\">일본어</a>: </span><span lang=\"ja\">予告犯</span>)은, 츠츠이 테츠야의 <a href=\"/wiki/%EB%A7%8C%ED%99%94\" title=\"만화\">만화</a> 작품이다.\\n</p>\\n<div class=\"toc\" id=\"toc\"><input class=\"toctogglecheckbox\" id=\"toctogglecheckbox\" role=\"button\" style=\"display:none\" type=\"checkbox\"/><div class=\"toctitle\" dir=\"ltr\" lang=\"ko\"><h2>목차</h2><span class=\"toctogglespan\"><label class=\"toctogglelabel\" for=\"toctogglecheckbox\"></label></span></div>\\n<ul>\\n<li class=\"toclevel-1 tocsection-1\"><a href=\"#개요\"><span class=\"tocnumber\">1</span> <span class=\"toctext\">개요</span></a></li>\\n<li class=\"toclevel-1 tocsection-2\"><a href=\"#등장인물\"><span class=\"tocnumber\">2</span> <span class=\"toctext\">등장인물</span></a>\\n<ul>\\n<li class=\"toclevel-2 tocsection-3\"><a href=\"#예고범_그룹\"><span class=\"tocnumber\">2.1</span> <span class=\"toctext\">예고범 그룹</span></a></li>\\n<li class=\"toclevel-2 tocsection-4\"><a href=\"#경찰_관계자\"><span class=\"tocnumber\">2.2</span> <span class=\"toctext\">경찰 관계자</span></a></li>\\n<li class=\"toclevel-2 tocsection-5\"><a href=\"#타깃이_된_인물·기업·단체\"><span class=\"tocnumber\">2.3</span> <span class=\"toctext\">타깃이 된 인물·기업·단체</span></a></li>\\n<li class=\"toclevel-2 tocsection-6\"><a href=\"#그_외\"><span class=\"tocnumber\">2.4</span> <span class=\"toctext\">그 외</span></a></li>\\n</ul>\\n</li>\\n<li class=\"toclevel-1 tocsection-7\"><a href=\"#서지_정보\"><span class=\"tocnumber\">3</span> <span class=\"toctext\">서지 정보</span></a></li>\\n<li class=\"toclevel-1 tocsection-8\"><a href=\"#스핀오프_작품\"><span class=\"tocnumber\">4</span> <span class=\"toctext\">스핀오프 작품</span></a>\\n<ul>\\n<li class=\"toclevel-2 tocsection-9\"><a href=\"#예고범-THE_COPYCAT-\"><span class=\"tocnumber\">4.1</span> <span class=\"toctext\">예고범-THE COPYCAT-</span></a></li>\\n<li class=\"toclevel-2 tocsection-10\"><a href=\"#예고범-THE_CHASER-\"><span class=\"tocnumber\">4.2</span> <span class=\"toctext\">예고범-THE CHASER-</span></a></li>\\n</ul>\\n</li>\\n<li class=\"toclevel-1 tocsection-11\"><a href=\"#영화\"><span class=\"tocnumber\">5</span> <span class=\"toctext\">영화</span></a>\\n<ul>\\n<li class=\"toclevel-2 tocsection-12\"><a href=\"#캐스트\"><span class=\"tocnumber\">5.1</span> <span class=\"toctext\">캐스트</span></a></li>\\n<li class=\"toclevel-2 tocsection-13\"><a href=\"#스태프\"><span class=\"tocnumber\">5.2</span> <span class=\"toctext\">스태프</span></a></li>\\n</ul>\\n</li>\\n<li class=\"toclevel-1 tocsection-14\"><a href=\"#텔레비전_드라마\"><span class=\"tocnumber\">6</span> <span class=\"toctext\">텔레비전 드라마</span></a>\\n<ul>\\n<li class=\"toclevel-2 tocsection-15\"><a href=\"#캐스트_2\"><span class=\"tocnumber\">6.1</span> <span class=\"toctext\">캐스트</span></a></li>\\n<li class=\"toclevel-2 tocsection-16\"><a href=\"#스태프_2\"><span class=\"tocnumber\">6.2</span> <span class=\"toctext\">스태프</span></a></li>\\n<li class=\"toclevel-2 tocsection-17\"><a href=\"#방송_일자\"><span class=\"tocnumber\">6.3</span> <span class=\"toctext\">방송 일자</span></a></li>\\n</ul>\\n</li>\\n<li class=\"toclevel-1 tocsection-18\"><a href=\"#외부_링크\"><span class=\"tocnumber\">7</span> <span class=\"toctext\">외부 링크</span></a></li>\\n</ul>\\n</div>\\n<h2><span id=\".EA.B0.9C.EC.9A.94\"></span><span class=\"mw-headline\" id=\"개요\">개요</span><span class=\"mw-editsection\"><span class=\"mw-editsection-bracket\">[</span><a href=\"/w/index.php?title=%EC%98%88%EA%B3%A0%EB%B2%94&amp;action=edit&amp;section=1\" title=\"부분 편집: 개요\">편집</a><span class=\"mw-editsection-bracket\">]</span></span></h2>\\n<p>《점프 카이》 (<a href=\"/wiki/%EC%8A%88%EC%97%90%EC%9D%B4%EC%83%A4\" title=\"슈에이샤\">슈에이샤</a>)에서 <a href=\"/wiki/2011%EB%85%84\" title=\"2011년\">2011년</a>부터 <a href=\"/wiki/2013%EB%85%84\" title=\"2013년\">2013년</a> 9호까지 연재되었다. 단행본은 전 3권.\\n</p>\\n<h2><span id=\".EB.93.B1.EC.9E.A5.EC.9D.B8.EB.AC.BC\"></span><span class=\"mw-headline\" id=\"등장인물\">등장인물</span><span class=\"mw-editsection\"><span class=\"mw-editsection-bracket\">[</span><a href=\"/w/index.php?title=%EC%98%88%EA%B3%A0%EB%B2%94&amp;action=edit&amp;section=2\" title=\"부분 편집: 등장인물\">편집</a><span class=\"mw-editsection-bracket\">]</span></span></h2>\\n<h3><span id=\".EC.98.88.EA.B3.A0.EB.B2.94_.EA.B7.B8.EB.A3.B9\"></span><span class=\"mw-headline\" id=\"예고범_그룹\">예고범 그룹</span><span class=\"mw-editsection\"><span class=\"mw-editsection-bracket\">[</span><a href=\"/w/index.php?title=%EC%98%88%EA%B3%A0%EB%B2%94&amp;action=edit&amp;section=3\" title=\"부분 편집: 예고범 그룹\">편집</a><span class=\"mw-editsection-bracket\">]</span></span></h3>\\n<dl><dt>게이츠/오쿠다 히로아키</dt>\\n<dd>예고범 그룹 〈신분시〉의 주범격.</dd>\\n<dt>칸사이/카사이 토모히코</dt>\\n<dd><a href=\"/wiki/%EC%98%A4%EC%82%AC%EC%B9%B4%EB%B6%80\" title=\"오사카부\">오사카</a> 출신.</dd>\\n<dt>메타보/테라하라 신이치</dt>\\n<dd><a href=\"/wiki/%ED%9B%84%EC%BF%A0%EC%98%A4%EC%B9%B4%ED%98%84\" title=\"후쿠오카현\">후쿠오카</a> 출신.</dd>\\n<dt>노비타/키무라 코이치</dt>\\n<dd><a href=\"/wiki/%EB%AF%B8%EC%95%BC%EA%B8%B0%ED%98%84\" title=\"미야기현\">미야기</a> 출신.</dd></dl>\\n<h3><span id=\".EA.B2.BD.EC.B0.B0_.EA.B4.80.EA.B3.84.EC.9E.90\"></span><span class=\"mw-headline\" id=\"경찰_관계자\">경찰 관계자</span><span class=\"mw-editsection\"><span class=\"mw-editsection-bracket\">[</span><a href=\"/w/index.php?title=%EC%98%88%EA%B3%A0%EB%B2%94&amp;action=edit&amp;section=4\" title=\"부분 편집: 경찰 관계자\">편집</a><span class=\"mw-editsection-bracket\">]</span></span></h3>\\n<dl><dt>요시노 에리카</dt>\\n<dd><a href=\"/wiki/%EC%9D%BC%EB%B3%B8_%EA%B2%BD%EC%8B%9C%EC%B2%AD\" title=\"일본 경시청\">경시청</a> 사이버 범죄 대책과 반장.</dd>\\n<dt>오카모토 다이키</dt>\\n<dd>경시청 사이버 범죄 대책과 소속 형사.</dd>\\n<dt>이치카와 마나부</dt>\\n<dd>경시청 사이버 범죄 대책과 소속 형사.</dd>\\n<dt>마츠모토 신이치</dt>\\n<dd>경시청 사이버 범죄 대책과 과장.</dd>\\n<dt>아라가키</dt>\\n<dd>고속대 대원.</dd></dl>\\n<h3><span id=\".ED.83.80.EA.B9.83.EC.9D.B4_.EB.90.9C_.EC.9D.B8.EB.AC.BC.C2.B7.EA.B8.B0.EC.97.85.C2.B7.EB.8B.A8.EC.B2.B4\"></span><span class=\"mw-headline\" id=\"타깃이_된_인물·기업·단체\">타깃이 된 인물·기업·단체</span><span class=\"mw-editsection\"><span class=\"mw-editsection-bracket\">[</span><a href=\"/w/index.php?title=%EC%98%88%EA%B3%A0%EB%B2%94&amp;action=edit&amp;section=5\" title=\"부분 편집: 타깃이 된 인물·기업·단체\">편집</a><span class=\"mw-editsection-bracket\">]</span></span></h3>\\n<dl><dt>식품 가공 회사</dt>\\n<dd><a href=\"/wiki/%EC%9D%B4%EC%8B%9C%EC%B9%B4%EC%99%80%ED%98%84\" title=\"이시카와현\">이시카와현</a> K시에 있는 식품 가공 업자.</dd>\\n<dt>부시키 슈야</dt>\\n<dd>모 외식점의 전 아르바이트 점원.</dd>\\n<dt>세키 슈지</dt>\\n<dd>R대학의 전 학생.</dd>\\n<dt>이케하타 마사요시</dt>\\n<dd>모 넷 서비스 기업에 근무하는 회사원.</dd>\\n<dt>시가디안</dt>\\n<dd><a class=\"mw-redirect\" href=\"/wiki/%EA%B3%A0%EB%9E%98%EC%9E%A1%EC%9D%B4\" title=\"고래잡이\">고래잡이</a> 반대 운동 등을 행하고 있는 해외의 환경 보호 단체.</dd>\\n<dt>시타라기 타다시</dt>\\n<dd>현직 <a href=\"/wiki/%EC%A4%91%EC%9D%98%EC%9B%90\" title=\"중의원\">중의원</a> 의원.</dd></dl>\\n<h3><span id=\".EA.B7.B8_.EC.99.B8\"></span><span class=\"mw-headline\" id=\"그_외\">그 외</span><span class=\"mw-editsection\"><span class=\"mw-editsection-bracket\">[</span><a href=\"/w/index.php?title=%EC%98%88%EA%B3%A0%EB%B2%94&amp;action=edit&amp;section=6\" title=\"부분 편집: 그 외\">편집</a><span class=\"mw-editsection-bracket\">]</span></span></h3>\\n<dl><dt>마스야마 쇼타</dt>\\n<dd><a href=\"/wiki/%EB%8F%84%EC%B9%98%EA%B8%B0%ED%98%84\" title=\"도치기현\">토치기 현</a> U시에 사는 중학생.</dd>\\n<dt>호리이</dt>\\n<dd>게이츠가 과거에 근무했던 IT 회사의 사장.</dd>\\n<dt>노모토 청소의 사장과 사장 부인</dt>\\n<dd>빌딩 외벽 청소를 사업으로 하는 청소 회사.</dd>\\n<dt>효로/넬슨 카토 리카르테</dt>\\n<dd><a href=\"/wiki/%ED%95%84%EB%A6%AC%ED%95%80\" title=\"필리핀\">필리핀</a> 출신의 <a href=\"/wiki/%EC%9D%BC%EB%B3%B8%EA%B3%84_%EC%99%B8%EA%B5%AD%EC%9D%B8\" title=\"일본계 외국인\">일본계 외국인</a>.</dd>\\n<dt>이시다 키요시</dt>\\n<dd>게이츠 등 5인이 먹고 자며 육체 노동을 하던 때의 현장 감독.</dd>\\n<dt>카에데</dt>\\n<dd><a href=\"/wiki/%EC%9D%B4%EC%99%80%ED%85%8C%ED%98%84\" title=\"이와테현\">이와테현</a> K시에 있는 <a href=\"/wiki/%EB%9D%BC%EB%A9%98\" title=\"라멘\">라멘</a> 가게에서 일하는 여성 점원.</dd>\\n<dt>아오야마 유이치</dt>\\n<dd><a href=\"/wiki/%EC%9D%B8%ED%84%B0%EB%84%B7_%EC%B9%B4%ED%8E%98\" title=\"인터넷 카페\">인터넷 카페</a> 〈피트 보이〉에서 일하는 점원.</dd></dl>\\n<h2><span id=\".EC.84.9C.EC.A7.80_.EC.A0.95.EB.B3.B4\"></span><span class=\"mw-headline\" id=\"서지_정보\">서지 정보</span><span class=\"mw-editsection\"><span class=\"mw-editsection-bracket\">[</span><a href=\"/w/index.php?title=%EC%98%88%EA%B3%A0%EB%B2%94&amp;action=edit&amp;section=7\" title=\"부분 편집: 서지 정보\">편집</a><span class=\"mw-editsection-bracket\">]</span></span></h2>\\n<ul><li>츠츠이 테츠야 《예고범》 <a href=\"/wiki/%EC%8A%88%EC%97%90%EC%9D%B4%EC%83%A4\" title=\"슈에이샤\">슈에이샤</a> 〈영 점프 코믹스〉 전 3권\\n<ol><li>2012년 4월 10일 발매, <a href=\"/wiki/%EA%B5%AD%EC%A0%9C_%ED%91%9C%EC%A4%80_%EB%8F%84%EC%84%9C_%EB%B2%88%ED%98%B8\" title=\"국제 표준 도서 번호\">ISBN</a>\\xa0<a href=\"/wiki/%ED%8A%B9%EC%88%98:%EC%B1%85%EC%B0%BE%EA%B8%B0/978-4-08-879310-8\" title=\"특수:책찾기/978-4-08-879310-8\">978-4-08-879310-8</a></li>\\n<li>2012년 12월 10일 발매, <a href=\"/wiki/%EA%B5%AD%EC%A0%9C_%ED%91%9C%EC%A4%80_%EB%8F%84%EC%84%9C_%EB%B2%88%ED%98%B8\" title=\"국제 표준 도서 번호\">ISBN</a>\\xa0<a href=\"/wiki/%ED%8A%B9%EC%88%98:%EC%B1%85%EC%B0%BE%EA%B8%B0/978-4-08-879495-2\" title=\"특수:책찾기/978-4-08-879495-2\">978-4-08-879495-2</a></li>\\n<li>2013년 9월 10일 발매, <a href=\"/wiki/%EA%B5%AD%EC%A0%9C_%ED%91%9C%EC%A4%80_%EB%8F%84%EC%84%9C_%EB%B2%88%ED%98%B8\" title=\"국제 표준 도서 번호\">ISBN</a>\\xa0<a href=\"/wiki/%ED%8A%B9%EC%88%98:%EC%B1%85%EC%B0%BE%EA%B8%B0/978-4-08-879680-2\" title=\"특수:책찾기/978-4-08-879680-2\">978-4-08-879680-2</a></li></ol></li></ul>\\n<h2><span id=\".EC.8A.A4.ED.95.80.EC.98.A4.ED.94.84_.EC.9E.91.ED.92.88\"></span><span class=\"mw-headline\" id=\"스핀오프_작품\">스핀오프 작품</span><span class=\"mw-editsection\"><span class=\"mw-editsection-bracket\">[</span><a href=\"/w/index.php?title=%EC%98%88%EA%B3%A0%EB%B2%94&amp;action=edit&amp;section=8\" title=\"부분 편집: 스핀오프 작품\">편집</a><span class=\"mw-editsection-bracket\">]</span></span></h2>\\n<h3><span id=\".EC.98.88.EA.B3.A0.EB.B2.94-THE_COPYCAT-\"></span><span class=\"mw-headline\" id=\"예고범-THE_COPYCAT-\">예고범-THE COPYCAT-</span><span class=\"mw-editsection\"><span class=\"mw-editsection-bracket\">[</span><a href=\"/w/index.php?title=%EC%98%88%EA%B3%A0%EB%B2%94&amp;action=edit&amp;section=9\" title=\"부분 편집: 예고범-THE COPYCAT-\">편집</a><span class=\"mw-editsection-bracket\">]</span></span></h3>\\n<p>《<b>예고범 -THE COPYCAT-</b>》은, 스핀오프 만화 작품이다.\\n</p><p>〈신분시〉의 <a class=\"mw-redirect\" href=\"/wiki/%EB%AA%A8%EB%B0%A9_%EB%B2%94%EC%A3%84\" title=\"모방 범죄\">모방범</a> (카피캣)을 하는 고교생 그룹의 스토리.\\n</p>\\n<h3><span id=\".EC.98.88.EA.B3.A0.EB.B2.94-THE_CHASER-\"></span><span class=\"mw-headline\" id=\"예고범-THE_CHASER-\">예고범-THE CHASER-</span><span class=\"mw-editsection\"><span class=\"mw-editsection-bracket\">[</span><a href=\"/w/index.php?title=%EC%98%88%EA%B3%A0%EB%B2%94&amp;action=edit&amp;section=10\" title=\"부분 편집: 예고범-THE CHASER-\">편집</a><span class=\"mw-editsection-bracket\">]</span></span></h3>\\n<p>《<b>예고범 -THE CHASER-</b>》는, 스핀오프 <a href=\"/wiki/%EC%86%8C%EC%84%A4\" title=\"소설\">소설</a> 작품이다.\\n</p><p>요시노 에리카와 경시청 사이버 범죄 대책과의 그 후 활동을 그린다.\\n</p>\\n<h2><span id=\".EC.98.81.ED.99.94\"></span><span class=\"mw-headline\" id=\"영화\">영화</span><span class=\"mw-editsection\"><span class=\"mw-editsection-bracket\">[</span><a href=\"/w/index.php?title=%EC%98%88%EA%B3%A0%EB%B2%94&amp;action=edit&amp;section=11\" title=\"부분 편집: 영화\">편집</a><span class=\"mw-editsection-bracket\">]</span></span></h2>\\n<p><a href=\"/wiki/2015%EB%85%84\" title=\"2015년\">2015년</a> <a href=\"/wiki/6%EC%9B%94_6%EC%9D%BC\" title=\"6월 6일\">6월 6일</a>, 일본에서 공개되었다. 감독은 나카무라 요시히로. 주연은 <a href=\"/wiki/%EC%9D%B4%EC%BF%A0%ED%83%80_%ED%86%A0%EB%A7%88\" title=\"이쿠타 토마\">이쿠타 토마</a>.\\n</p>\\n<h3><span id=\".EC.BA.90.EC.8A.A4.ED.8A.B8\"></span><span class=\"mw-headline\" id=\"캐스트\">캐스트</span><span class=\"mw-editsection\"><span class=\"mw-editsection-bracket\">[</span><a href=\"/w/index.php?title=%EC%98%88%EA%B3%A0%EB%B2%94&amp;action=edit&amp;section=12\" title=\"부분 편집: 캐스트\">편집</a><span class=\"mw-editsection-bracket\">]</span></span></h3>\\n<ul><li>게이츠/오쿠다 히로아키 - <a href=\"/wiki/%EC%9D%B4%EC%BF%A0%ED%83%80_%ED%86%A0%EB%A7%88\" title=\"이쿠타 토마\">이쿠타 토마</a></li>\\n<li>요시노 에리카 - <a href=\"/wiki/%ED%86%A0%EB%8B%A4_%EC%97%90%EB%A6%AC%EC%B9%B4\" title=\"토다 에리카\">토다 에리카</a></li>\\n<li>칸사이/카사이 토모히코 - <a href=\"/wiki/%EC%8A%A4%EC%A6%88%ED%82%A4_%EB%A3%8C%ED%97%A4%EC%9D%B4\" title=\"스즈키 료헤이\">스즈키 료헤이</a></li>\\n<li>노비타/키무라 코이치 - 하마다 가쿠</li>\\n<li>메타보/테라하라 신이치 - 아라카와 요시요시</li>\\n<li>오카모토 다이키 - 타쿠마 타카유키</li>\\n<li>이치카와 마나부 - <a href=\"/wiki/%EC%82%AC%EC%B9%B4%EA%B5%AC%EC%B9%98_%EC%BC%84%ED%83%80%EB%A1%9C\" title=\"사카구치 켄타로\">사카구치 켄타로</a></li>\\n<li>아오야마 유이치 - <a href=\"/wiki/%EC%BF%A0%EB%B3%B4%ED%83%80_%EB%A7%88%EC%82%AC%ED%83%80%EC%B9%B4\" title=\"쿠보타 마사타카\">쿠보타 마사타카</a></li>\\n<li>카에데 - <a href=\"/wiki/%EC%BD%94%EB%A7%88%EC%B8%A0_%EB%82%98%EB%82%98\" title=\"코마츠 나나\">코마츠 나나</a></li>\\n<li>효로 - 후쿠야마 코헤이</li>\\n<li>이시다 키요시 - 나카노 시게루</li>\\n<li>키타무라 - <a href=\"/wiki/%EB%8B%A4%EB%82%98%EC%B9%B4_%EC%BC%80%EC%9D%B4\" title=\"다나카 케이\">타나카 케이</a></li>\\n<li>쿠리하라 - 타키토 켄이치</li>\\n<li>카토 - 혼다 히로타로</li>\\n<li>시타라기 타다시 - <a href=\"/wiki/%EC%BD%94%ED%9E%88%EB%82%98%ED%83%80_%ED%9B%84%EB%AF%B8%EC%9A%94\" title=\"코히나타 후미요\">코히나타 후미요</a></li></ul>\\n<h3><span id=\".EC.8A.A4.ED.83.9C.ED.94.84\"></span><span class=\"mw-headline\" id=\"스태프\">스태프</span><span class=\"mw-editsection\"><span class=\"mw-editsection-bracket\">[</span><a href=\"/w/index.php?title=%EC%98%88%EA%B3%A0%EB%B2%94&amp;action=edit&amp;section=13\" title=\"부분 편집: 스태프\">편집</a><span class=\"mw-editsection-bracket\">]</span></span></h3>\\n<ul><li>감독 - 나카무라 요시히로</li>\\n<li>원작 - 츠츠이 테츠야</li>\\n<li>각본 - 하야시 타미오</li>\\n<li>음악 - 오오마마 타카시</li>\\n<li>기획·프로듀스 - 히라노 타카시</li>\\n<li>프로듀스 - 타케다 요시타카</li>\\n<li>촬영 - 소마 다이스케</li>\\n<li>미술 - 시미즈 타케시</li>\\n<li>배급 - <a href=\"/wiki/%EB%8F%84%ED%98%B8\" title=\"도호\">토호</a></li>\\n<li>제작 프로덕션 - WOWOW FILMS, C&amp;I 엔터테인먼트</li>\\n<li>제작 간사 - <a href=\"/wiki/%EB%8F%84%EC%BF%84_%EB%B0%A9%EC%86%A1_%ED%99%80%EB%94%A9%EC%8A%A4\" title=\"도쿄 방송 홀딩스\">TBS</a>, <a href=\"/wiki/WOWOW\" title=\"WOWOW\">WOWOW</a></li>\\n<li>제작 - 영화 〈예고범〉 제작 위원회</li></ul>\\n<h2><span id=\".ED.85.94.EB.A0.88.EB.B9.84.EC.A0.84_.EB.93.9C.EB.9D.BC.EB.A7.88\"></span><span class=\"mw-headline\" id=\"텔레비전_드라마\">텔레비전 드라마</span><span class=\"mw-editsection\"><span class=\"mw-editsection-bracket\">[</span><a href=\"/w/index.php?title=%EC%98%88%EA%B3%A0%EB%B2%94&amp;action=edit&amp;section=14\" title=\"부분 편집: 텔레비전 드라마\">편집</a><span class=\"mw-editsection-bracket\">]</span></span></h2>\\n<p>《<b>예고범 -THE PAIN-</b>》은, <a href=\"/wiki/2015%EB%85%84\" title=\"2015년\">2015년</a> <a href=\"/wiki/6%EC%9B%94_7%EC%9D%BC\" title=\"6월 7일\">6월 7일</a>부터 <a href=\"/wiki/7%EC%9B%94_5%EC%9D%BC\" title=\"7월 5일\">7월 5일</a>까지 <a href=\"/wiki/WOWOW\" title=\"WOWOW\">WOWOW</a> 연속 드라마 W에서 방송된 <a class=\"mw-redirect\" href=\"/wiki/%EC%9D%BC%EB%B3%B8_%EB%93%9C%EB%9D%BC%EB%A7%88\" title=\"일본 드라마\">텔레비전 드라마</a>이다. 전 5화. 주연은 <a href=\"/wiki/%ED%9E%88%EA%B0%80%EC%8B%9C%EC%95%BC%EB%A7%88_%EB%85%B8%EB%A6%AC%EC%9C%A0%ED%82%A4\" title=\"히가시야마 노리유키\">히가시야마 노리유키</a>. 영화판의 스토리로부터 1년 후를 그린 오리지널 스토리이다. 영화판 감독인 나카무라 요시히로가 감독을 맡았고, <a href=\"/wiki/%ED%86%A0%EB%8B%A4_%EC%97%90%EB%A6%AC%EC%B9%B4\" title=\"토다 에리카\">토다 에리카</a>가 영화판과 같은 역으로 출연했다.\\n</p>\\n<h3><span id=\".EC.BA.90.EC.8A.A4.ED.8A.B8_2\"></span><span class=\"mw-headline\" id=\"캐스트_2\">캐스트</span><span class=\"mw-editsection\"><span class=\"mw-editsection-bracket\">[</span><a href=\"/w/index.php?title=%EC%98%88%EA%B3%A0%EB%B2%94&amp;action=edit&amp;section=15\" title=\"부분 편집: 캐스트\">편집</a><span class=\"mw-editsection-bracket\">]</span></span></h3>\\n<ul><li>사쿠마 에이지 - <a href=\"/wiki/%ED%9E%88%EA%B0%80%EC%8B%9C%EC%95%BC%EB%A7%88_%EB%85%B8%EB%A6%AC%EC%9C%A0%ED%82%A4\" title=\"히가시야마 노리유키\">히가시야마 노리유키</a></li>\\n<li>요시노 에리카 - <a href=\"/wiki/%ED%86%A0%EB%8B%A4_%EC%97%90%EB%A6%AC%EC%B9%B4\" title=\"토다 에리카\">토다 에리카</a></li>\\n<li>타부치 유조 - 하시모토 사토시</li>\\n<li>오키나 케이코 - <a href=\"/wiki/%EC%9D%B4%EC%B9%98%EC%B9%B4%EC%99%80_%EB%AF%B8%EC%B9%B4%EC%BD%94\" title=\"이치카와 미카코\">이치카와 미카코</a></li>\\n<li>미즈타니 켄 - <a href=\"/wiki/%ED%82%A4%EB%A6%AC%ED%83%80%EB%8B%88_%EC%BC%84%ED%83%80\" title=\"키리타니 켄타\">키리타니 켄타</a></li>\\n<li>히라사와 아츠시 - 타나카 류조</li>\\n<li>야자키 신타로 - 오오니시 시마</li>\\n<li>카네코 - 코마츠 토시마사</li>\\n<li>사코타 - 마츠바야시 신지</li>\\n<li>신타니 스바루 - 모리오카 류</li>\\n<li>카키네 - 츠무라 노리요시</li>\\n<li>하나야마 토오루 - 무라이 쿠니오</li></ul>\\n<h3><span id=\".EC.8A.A4.ED.83.9C.ED.94.84_2\"></span><span class=\"mw-headline\" id=\"스태프_2\">스태프</span><span class=\"mw-editsection\"><span class=\"mw-editsection-bracket\">[</span><a href=\"/w/index.php?title=%EC%98%88%EA%B3%A0%EB%B2%94&amp;action=edit&amp;section=16\" title=\"부분 편집: 스태프\">편집</a><span class=\"mw-editsection-bracket\">]</span></span></h3>\\n<ul><li>원작·스토리 감수 - 츠츠이 테츠야</li>\\n<li>시리즈 구성 - 나카무라 요시히로</li>\\n<li>감독 - 나카무라 요시히로, 히라바야시 카츠토시, 사와다 메구미</li>\\n<li>각본 - 하야시 타미오, 타나카 히로시</li>\\n<li>음악 - 오오마마 타카시</li>\\n<li>프로듀스 - 우에다 하루나</li>\\n<li>제작 프로덕션 - 트윈즈 재팬</li>\\n<li>제작 저작 - <a href=\"/wiki/WOWOW\" title=\"WOWOW\">WOWOW</a></li></ul>\\n<h3><span id=\".EB.B0.A9.EC.86.A1_.EC.9D.BC.EC.9E.90\"></span><span class=\"mw-headline\" id=\"방송_일자\">방송 일자</span><span class=\"mw-editsection\"><span class=\"mw-editsection-bracket\">[</span><a href=\"/w/index.php?title=%EC%98%88%EA%B3%A0%EB%B2%94&amp;action=edit&amp;section=17\" title=\"부분 편집: 방송 일자\">편집</a><span class=\"mw-editsection-bracket\">]</span></span></h3>\\n<table class=\"wikitable\" style=\"text-align:center\">\\n<tbody><tr>\\n<th>방송회</th>\\n<th>방송일</th>\\n<th>각본</th>\\n<th>감독\\n</th></tr>\\n<tr>\\n<td>CASE #1\\n</td>\\n<td style=\"text-align:right;\">2015년 6월 7일</td>\\n<td>하야시 타미오</td>\\n<td>나카무라 요시히로\\n</td></tr>\\n<tr>\\n<td>CASE #2\\n</td>\\n<td style=\"text-align:right;\">6월 14일</td>\\n<td rowspan=\"4\">타나카 히로시</td>\\n<td>히라바야시 카츠토시\\n</td></tr>\\n<tr>\\n<td>CASE #3\\n</td>\\n<td style=\"text-align:right;\">6월 21일</td>\\n<td>사와다 메구미\\n</td></tr>\\n<tr>\\n<td>CASE #4\\n</td>\\n<td style=\"text-align:right;\">6월 28일</td>\\n<td rowspan=\"2\">히라바야시 카츠토시\\n</td></tr>\\n<tr>\\n<td>FINAL CASE\\n</td>\\n<td style=\"text-align:right;\">7월 5일\\n</td></tr>\\n</tbody></table>\\n<h2><span id=\".EC.99.B8.EB.B6.80_.EB.A7.81.ED.81.AC\"></span><span class=\"mw-headline\" id=\"외부_링크\">외부 링크</span><span class=\"mw-editsection\"><span class=\"mw-editsection-bracket\">[</span><a href=\"/w/index.php?title=%EC%98%88%EA%B3%A0%EB%B2%94&amp;action=edit&amp;section=18\" title=\"부분 편집: 외부 링크\">편집</a><span class=\"mw-editsection-bracket\">]</span></span></h2>\\n<ul><li><b><span style=\"color: #555; font-size: smaller;\" title=\"언어: 일본어\">(일본어)</span></b> <a class=\"external text\" href=\"https://web.archive.org/web/20150311050932/http://jumpx.jp/w/yokoku/\" rel=\"nofollow\">［예고범］ 츠츠이 테츠야｜전율의 넷 테러 만화를 완전 해설! - 점프 카이</a></li>\\n<li><b><span style=\"color: #555; font-size: smaller;\" title=\"언어: 일본어\">(일본어)</span></b> <a class=\"external text\" href=\"http://yokoku-han.jp/\" rel=\"nofollow\">영화 《예고범》 공식 사이트</a></li>\\n<li><b><span style=\"color: #555; font-size: smaller;\" title=\"언어: 일본어\">(일본어)</span></b> <a class=\"external text\" href=\"http://www.wowow.co.jp/dramaw/yokoku-han/\" rel=\"nofollow\">연속 드라마 W 《예고범 -THE PAIN-》 공식 사이트</a></li></ul>\\n<div aria-labelledby=\"WOWOW_연속_드라마_W\" class=\"navbox\" role=\"navigation\" style=\"padding:3px\"><table class=\"nowraplinks collapsible autocollapse navbox-inner\" style=\"border-spacing:0;background:transparent;color:inherit\"><tbody><tr><th class=\"navbox-title\" colspan=\"2\" scope=\"col\" style=\"background:#87ceeb\"><div class=\"plainlinks hlist navbar mini\"><ul><li class=\"nv-view\"><a href=\"/wiki/%ED%8B%80:%EC%97%B0%EC%86%8D_%EB%93%9C%EB%9D%BC%EB%A7%88_W\" title=\"틀:연속 드라마 W\"><abbr style=\";background:#87ceeb;background:none transparent;border:none;-moz-box-shadow:none;-webkit-box-shadow:none;box-shadow:none; padding:0;\" title=\"이 틀을 보기\">v</abbr></a></li><li class=\"nv-talk\"><a class=\"new\" href=\"/w/index.php?title=%ED%8B%80%ED%86%A0%EB%A1%A0:%EC%97%B0%EC%86%8D_%EB%93%9C%EB%9D%BC%EB%A7%88_W&amp;action=edit&amp;redlink=1\" title=\"틀토론:연속 드라마 W (없는 문서)\"><abbr style=\";background:#87ceeb;background:none transparent;border:none;-moz-box-shadow:none;-webkit-box-shadow:none;box-shadow:none; padding:0;\" title=\"이 틀에 대한 토론\">d</abbr></a></li><li class=\"nv-edit\"><a class=\"external text\" href=\"//ko.wikipedia.org/w/index.php?title=%ED%8B%80:%EC%97%B0%EC%86%8D_%EB%93%9C%EB%9D%BC%EB%A7%88_W&amp;action=edit\"><abbr style=\";background:#87ceeb;background:none transparent;border:none;-moz-box-shadow:none;-webkit-box-shadow:none;box-shadow:none; padding:0;\" title=\"이 틀을 편집하기\">e</abbr></a></li><li class=\"nv-history\"><a class=\"external text\" href=\"//ko.wikipedia.org/w/index.php?title=%ED%8B%80:%EC%97%B0%EC%86%8D_%EB%93%9C%EB%9D%BC%EB%A7%88_W&amp;action=history\"><abbr style=\";background:#87ceeb;background:none transparent;border:none;-moz-box-shadow:none;-webkit-box-shadow:none;box-shadow:none; padding:0;\" title=\"이 틀의 역사\">h</abbr></a></li></ul></div><div id=\"WOWOW_연속_드라마_W\" style=\"font-size:114%;margin:0 4em\"><a href=\"/wiki/WOWOW\" title=\"WOWOW\">WOWOW</a> <a href=\"/wiki/%EB%93%9C%EB%9D%BC%EB%A7%88_W\" title=\"드라마 W\">연속 드라마 W</a></div></th></tr><tr><th class=\"navbox-group\" scope=\"row\" style=\"width:1%;background:#87ceeb\">주 1회<br/>(2008년 ~ 2014년)</th><td class=\"navbox-list navbox-odd hlist\" style=\"text-align:left;border-left-width:2px;border-left-style:solid;width:100%;padding:0px\"><div style=\"padding:0em 0.25em\">\\n<ul><li>《<a class=\"new\" href=\"/w/index.php?title=%ED%8C%90%EB%8F%84%EB%9D%BC_(%EB%93%9C%EB%9D%BC%EB%A7%88)&amp;action=edit&amp;redlink=1\" title=\"판도라 (드라마) (없는 문서)\">판도라</a>》</li>\\n<li>《<a class=\"new\" href=\"/w/index.php?title=%ED%94%84%EB%A6%AC%EC%A6%88%EB%84%88&amp;action=edit&amp;redlink=1\" title=\"프리즈너 (없는 문서)\">프리즈너</a>》</li>\\n<li>《<a class=\"new\" href=\"/w/index.php?title=%ED%95%98%EB%8A%98%EC%9D%84_%EB%82%98%EB%8A%94_%ED%83%80%EC%9D%B4%EC%96%B4&amp;action=edit&amp;redlink=1\" title=\"하늘을 나는 타이어 (없는 문서)\">하늘을 나는 타이어</a>》</li>\\n<li>《<a class=\"new\" href=\"/w/index.php?title=%EC%97%84%EB%A7%88%EB%8A%94_%EC%98%9B%EB%82%A0%EC%97%90_%EC%95%84%EB%B9%A0%EC%98%80%EB%8B%A4&amp;action=edit&amp;redlink=1\" title=\"엄마는 옛날에 아빠였다 (없는 문서)\">엄마는 옛날에 아빠였다</a>》</li>\\n<li>《<a class=\"new\" href=\"/w/index.php?title=%EC%9D%80%ED%8F%90%EC%A7%80%EB%A0%B9&amp;action=edit&amp;redlink=1\" title=\"은폐지령 (없는 문서)\">은폐지령</a>》</li>\\n<li>《<a class=\"new\" href=\"/w/index.php?title=%ED%8C%90%EB%8F%84%EB%9D%BC_(%EB%93%9C%EB%9D%BC%EB%A7%88)&amp;action=edit&amp;redlink=1\" title=\"판도라 (드라마) (없는 문서)\">판도라 II 기아열도</a>》</li>\\n<li>《<a href=\"/wiki/%EB%A7%88%ED%81%AC%EC%8A%A4%EC%9D%98_%EC%82%B0\" title=\"마크스의 산\">마크스의 산</a>》</li>\\n<li>《<a href=\"/wiki/%ED%99%98%EC%95%BC\" title=\"환야\">히가시노 게이고 환야</a>》</li>\\n<li>《<a class=\"new\" href=\"/w/index.php?title=CO_%EC%9D%B4%EC%8B%9D_%EC%BD%94%EB%94%94%EB%84%A4%EC%9D%B4%ED%84%B0&amp;action=edit&amp;redlink=1\" title=\"CO 이식 코디네이터 (없는 문서)\">CO 이식 코디네이터</a>》</li>\\n<li>《<a href=\"/wiki/%EB%B3%80%EB%91%90%EB%A6%AC_%EB%A1%9C%EC%BC%93\" title=\"변두리 로켓\">변두리 로켓</a>》</li>\\n<li>《<a class=\"new\" href=\"/w/index.php?title=%ED%8C%90%EB%8F%84%EB%9D%BC_(%EB%93%9C%EB%9D%BC%EB%A7%88)&amp;action=edit&amp;redlink=1\" title=\"판도라 (드라마) (없는 문서)\">판도라 III 혁명전야</a>》</li>\\n<li>《<a class=\"new\" href=\"/w/index.php?title=%EC%A1%B0%ED%99%94%EC%9D%98_%EA%BF%80&amp;action=edit&amp;redlink=1\" title=\"조화의 꿀 (없는 문서)\">조화의 꿀</a>》</li>\\n<li>《<a href=\"/wiki/%EC%86%8D%EC%A3%84_(%EB%AF%B8%EB%82%98%ED%86%A0_%EA%B0%80%EB%82%98%EC%97%90%EC%9D%98_%EC%86%8C%EC%84%A4)\" title=\"속죄 (미나토 가나에의 소설)\">속죄</a>》</li>\\n<li>《<a href=\"/wiki/%EB%A0%88%EB%AA%AC_(%EC%86%8C%EC%84%A4)\" title=\"레몬 (소설)\">분신</a>》</li>\\n<li>《<a class=\"new\" href=\"/w/index.php?title=%EC%B6%94%EC%A0%95%EC%9C%A0%EC%A3%84&amp;action=edit&amp;redlink=1\" title=\"추정유죄 (없는 문서)\">추정유죄</a>》</li>\\n<li>《<a class=\"new\" href=\"/w/index.php?title=%EC%A3%84%EC%99%80_%EB%B2%8C_A_Falsified_Romance&amp;action=edit&amp;redlink=1\" title=\"죄와 벌 A Falsified Romance (없는 문서)\">죄와 벌 A Falsified Romance</a>》</li>\\n<li>《<a class=\"new\" href=\"/w/index.php?title=%EB%A7%88%EA%B7%B8%EB%A7%88_(%EC%86%8C%EC%84%A4)&amp;action=edit&amp;redlink=1\" title=\"마그마 (소설) (없는 문서)\">마그마</a>》</li>\\n<li>《<a class=\"new\" href=\"/w/index.php?title=%ED%94%8C%EB%9D%BC%ED%8B%B0%EB%82%98_%ED%83%80%EC%9A%B4&amp;action=edit&amp;redlink=1\" title=\"플라티나 타운 (없는 문서)\">플라티나 타운</a>》</li>\\n<li>《<a href=\"/wiki/%ED%9E%88%ED%86%A0%EB%A6%AC%EC%8B%9C%EC%A6%88%EC%B9%B4\" title=\"히토리시즈카\">히토리시즈카</a>》</li>\\n<li>《<a class=\"new\" href=\"/w/index.php?title=%ED%95%98%EB%8A%98%EC%9D%98_%EB%B0%A9%EC%A3%BC&amp;action=edit&amp;redlink=1\" title=\"하늘의 방주 (없는 문서)\">하늘의 방주</a>》</li>\\n<li>《<a class=\"new\" href=\"/w/index.php?title=%EC%97%AC%EC%9E%90%EC%99%80_%EB%82%A8%EC%9E%90%EC%9D%98_%EC%97%B4%EB%8C%80&amp;action=edit&amp;redlink=1\" title=\"여자와 남자의 열대 (없는 문서)\">여자와 남자의 열대</a>》</li>\\n<li>《<a class=\"new\" href=\"/w/index.php?title=%EB%A0%88%EC%9D%B4%EB%94%94_%EC%A1%B0%EC%BB%A4&amp;action=edit&amp;redlink=1\" title=\"레이디 조커 (없는 문서)\">레이디 조커</a>》</li>\\n<li>《<a class=\"new\" href=\"/w/index.php?title=%EC%86%8C%EB%8F%94%EC%9D%98_%EC%82%AC%EA%B3%BC~%EB%A1%AF%EC%9D%84_%EC%A3%BD%EC%9D%B8_%EB%94%B8%EB%93%A4&amp;action=edit&amp;redlink=1\" title=\"소돔의 사과~롯을 죽인 딸들 (없는 문서)\">소돔의 사과~롯을 죽인 딸들</a>》</li>\\n<li>《<a class=\"new\" href=\"/w/index.php?title=%EB%B0%B0%EB%8B%AC%EB%90%98%EA%B3%A0_%EC%8B%B6%EC%9D%80_%EC%9A%B0%EB%A6%AC&amp;action=edit&amp;redlink=1\" title=\"배달되고 싶은 우리 (없는 문서)\">배달되고 싶은 우리</a>》</li>\\n<li>《<a class=\"new\" href=\"/w/index.php?title=%ED%9D%94%EB%93%A4%EB%A6%AC%EB%8A%94_%EC%86%8C&amp;action=edit&amp;redlink=1\" title=\"흔들리는 소 (없는 문서)\">흔들리는 소</a>》</li>\\n<li>《<a class=\"new\" href=\"/w/index.php?title=%EB%B9%B5%EA%B3%BC_%EC%8A%A4%ED%94%84,_%EA%B3%A0%EC%96%91%EC%9D%B4%EC%99%80_%ED%95%A8%EA%BB%98_%ED%95%98%EA%B8%B0_%EC%A2%8B%EC%9D%80_%EB%82%A0&amp;action=edit&amp;redlink=1\" title=\"빵과 스프, 고양이와 함께 하기 좋은 날 (없는 문서)\">빵과 스프, 고양이와 함께 하기 좋은 날</a>》</li>\\n<li>《<a class=\"new\" href=\"/w/index.php?title=%EC%97%B4%EC%87%A0_%EC%97%86%EB%8A%94_%EA%BF%88%EC%9D%84_%EA%BE%B8%EB%8B%A4&amp;action=edit&amp;redlink=1\" title=\"열쇠 없는 꿈을 꾸다 (없는 문서)\">열쇠 없는 꿈을 꾸다</a>》</li>\\n<li>《<a class=\"new\" href=\"/w/index.php?title=LINK_(%EB%93%9C%EB%9D%BC%EB%A7%88)&amp;action=edit&amp;redlink=1\" title=\"LINK (드라마) (없는 문서)\">LINK</a>》</li>\\n<li>《<a class=\"new\" href=\"/w/index.php?title=%EC%A0%80%ED%8E%B8%EC%9D%98_%EC%95%84%EC%9D%B4&amp;action=edit&amp;redlink=1\" title=\"저편의 아이 (없는 문서)\">저편의 아이</a>》</li>\\n<li>《<a class=\"new\" href=\"/w/index.php?title=%ED%94%BC%EC%9D%98_%ED%9D%94%EC%A0%81&amp;action=edit&amp;redlink=1\" title=\"피의 흔적 (없는 문서)\">피의 흔적</a>》</li>\\n<li>《<a class=\"new\" href=\"/w/index.php?title=%EC%84%B8%EC%83%81%EC%9D%98_%EC%86%8C%EA%B8%88&amp;action=edit&amp;redlink=1\" title=\"세상의 소금 (없는 문서)\">세상의 소금</a>》</li>\\n<li>《<a class=\"new\" href=\"/w/index.php?title=%EB%82%98%EB%9D%BC%EA%B3%A0_%ED%95%98%EB%8A%94_%EC%9A%B4%EB%AA%85%EC%97%90_%EB%8C%80%ED%95%98%EC%97%AC&amp;action=edit&amp;redlink=1\" title=\"나라고 하는 운명에 대하여 (없는 문서)\">나라고 하는 운명에 대하여</a>》</li>\\n<li><a class=\"new\" href=\"/w/index.php?title=%EC%82%AC%EB%B2%95%EA%B8%B0%EC%9E%90&amp;action=edit&amp;redlink=1\" title=\"사법기자 (없는 문서)\">토쿠소우</a>》</li>\\n<li>《<a href=\"/wiki/%EB%AA%A8%EC%9E%90%EC%9D%B4%ED%81%AC_%EC%9E%AC%ED%8C%AC\" title=\"모자이크 재팬\">모자이크 재팬</a>》</li>\\n<li>《<a href=\"/wiki/MOZU\" title=\"MOZU\">MOZU Season2 ~환상의 날개~</a>》</li>\\n<li>《<a href=\"/wiki/%EB%B3%80%EC%8B%A0_(%ED%9E%88%EA%B0%80%EC%8B%9C%EB%85%B8_%EA%B2%8C%EC%9D%B4%EA%B3%A0)\" title=\"변신 (히가시노 게이고)\">히가시노 게이고 〈변신〉</a>》</li>\\n<li>《<a class=\"new\" href=\"/w/index.php?title=%EC%A3%84%EC%9D%B8%EC%9D%98_%EA%B1%B0%EC%A7%93%EB%A7%90&amp;action=edit&amp;redlink=1\" title=\"죄인의 거짓말 (없는 문서)\">죄인의 거짓말</a>》</li></ul>\\n</div></td></tr><tr><th class=\"navbox-group\" scope=\"row\" style=\"width:1%;background:#87ceeb\">주 2회<br/>(2014년 ~ )</th><td class=\"navbox-list navbox-odd hlist\" style=\"text-align:left;border-left-width:2px;border-left-style:solid;width:100%;padding:0px\"><div style=\"padding:0em 0.25em\"></div><table class=\"nowraplinks navbox-subgroup\" style=\"border-spacing:0\"><tbody><tr><th class=\"navbox-group\" scope=\"row\" style=\"width:1%;background:#95C0EC\">토요 오리지널</th><td class=\"navbox-list navbox-even\" style=\"text-align:left;border-left-width:2px;border-left-style:solid;width:100%;padding:0px\"><div style=\"padding:0em 0.25em\">\\n<ul><li>《<a href=\"/wiki/%EA%B5%AC%EA%B5%AC%EB%8A%94_%EA%B3%A0%EC%96%91%EC%9D%B4%EB%8B%A4\" title=\"구구는 고양이다\">구구는 고양이다</a>》</li>\\n<li>《<a class=\"new\" href=\"/w/index.php?title=%ED%97%A4%EC%9D%B4%EC%84%B8%EC%9D%B4_%EC%9B%90%EC%88%AD%EC%9D%B4%EC%99%80_%EA%B2%8C%EC%9D%98_%EC%A0%84%EC%9F%81&amp;action=edit&amp;redlink=1\" title=\"헤이세이 원숭이와 게의 전쟁 (없는 문서)\">헤이세이 원숭이와 게의 전쟁</a>》</li>\\n<li>《<a class=\"new\" href=\"/w/index.php?title=%EC%86%8D%EC%A3%84%EC%9D%98_%EC%86%8C%EB%82%98%ED%83%80&amp;action=edit&amp;redlink=1\" title=\"속죄의 소나타 (없는 문서)\">속죄의 소나타</a>》</li>\\n<li>《<a class=\"new\" href=\"/w/index.php?title=%EC%9C%A0%EB%A6%AC%EC%9D%98_%EA%B0%88%EB%8C%80&amp;action=edit&amp;redlink=1\" title=\"유리의 갈대 (없는 문서)\">유리의 갈대</a>》</li>\\n<li>《<a class=\"new\" href=\"/w/index.php?title=%EC%96%B4%EB%91%A0%EC%9D%98_%EB%B0%98%EC%A3%BC%EC%9E%90&amp;action=edit&amp;redlink=1\" title=\"어둠의 반주자 (없는 문서)\">어둠의 반주자</a>》</li>\\n<li>《<a href=\"/wiki/%EA%BF%88%EC%9D%84_%EC%A3%BC%EB%8B%A4\" title=\"꿈을 주다\">꿈을 주다</a>》</li>\\n<li>《<a class=\"new\" href=\"/w/index.php?title=%ED%9B%84%ED%83%80%EA%B0%80%EC%8B%9C%EB%9D%BC&amp;action=edit&amp;redlink=1\" title=\"후타가시라 (없는 문서)\">후타가시라</a>》</li>\\n<li>《<a class=\"new\" href=\"/w/index.php?title=%EC%97%B0%ED%95%98_(%EC%86%8C%EC%84%A4)&amp;action=edit&amp;redlink=1\" title=\"연하 (소설) (없는 문서)\">연하 -Gold Rush-</a>》</li>\\n<li>《<a class=\"new\" href=\"/w/index.php?title=%EB%B0%94%EB%8B%A4%EC%97%90_%EB%82%B4%EB%A6%AC%EB%8B%A4&amp;action=edit&amp;redlink=1\" title=\"바다에 내리다 (없는 문서)\">바다에 내리다</a>》</li>\\n<li>《<a class=\"new\" href=\"/w/index.php?title=5%EB%AA%85%EC%9D%98_%EC%A4%80%EC%BD%94&amp;action=edit&amp;redlink=1\" title=\"5명의 준코 (없는 문서)\">5명의 준코</a>》</li>\\n<li>《<a class=\"new\" href=\"/w/index.php?title=%ED%99%A9%EB%AC%B4%EC%A7%80%EC%9D%98_%EC%82%AC%EB%9E%91&amp;action=edit&amp;redlink=1\" title=\"황무지의 사랑 (없는 문서)\">황무지의 사랑</a>》</li>\\n<li>《<a class=\"new\" href=\"/w/index.php?title=%EB%B0%98%EC%A7%9D%EB%B0%98%EC%A7%9D&amp;action=edit&amp;redlink=1\" title=\"반짝반짝 (없는 문서)\">반짝반짝</a>》</li>\\n<li>《<a href=\"/wiki/%EA%B5%AC%EA%B5%AC%EB%8A%94_%EA%B3%A0%EC%96%91%EC%9D%B4%EB%8B%A4\" title=\"구구는 고양이다\">구구는 고양이다 2-good good the fortune cat-</a>》</li>\\n<li>《<a class=\"new\" href=\"/w/index.php?title=%EA%B8%B0%EB%B3%B4%EA%B0%80%EC%98%A4%EC%B9%B4%EC%9D%98_%EC%82%AC%EB%9E%8C%EB%93%A4&amp;action=edit&amp;redlink=1\" title=\"기보가오카의 사람들 (없는 문서)\">키보가오카의 사람들</a>》</li>\\n<li>《<a class=\"new\" href=\"/w/index.php?title=%ED%98%84%EC%9E%90%EC%9D%98_%EC%82%AC%EB%9E%91&amp;action=edit&amp;redlink=1\" title=\"현자의 사랑 (없는 문서)\">현자의 사랑</a>》</li>\\n<li>《<a class=\"new\" href=\"/w/index.php?title=%ED%9B%84%ED%83%80%EA%B0%80%EC%8B%9C%EB%9D%BC&amp;action=edit&amp;redlink=1\" title=\"후타가시라 (없는 문서)\">후타가시라 2</a>》</li>\\n<li>《<a href=\"/wiki/%EC%BD%9C%EB%93%9C_%EC%BC%80%EC%9D%B4%EC%8A%A4_~%EC%A7%84%EC%8B%A4%EC%9D%98_%EB%AC%B8~\" title=\"콜드 케이스 ~진실의 문~\">콜드 케이스 ~진실의 문~</a>》</li>\\n<li>《<a class=\"new\" href=\"/w/index.php?title=%EC%98%A4%EB%8A%98%EC%9D%80,_%EC%9D%BC%EC%A7%84%EB%8F%84_%EC%A2%8B%EA%B3%A0&amp;action=edit&amp;redlink=1\" title=\"오늘은, 일진도 좋고 (없는 문서)\">오늘은, 일진도 좋고</a>》</li>\\n<li>《<a class=\"new\" href=\"/w/index.php?title=%ED%98%B8%EC%BF%A0%ED%86%A0_-%EC%96%B4%EB%8A%90_%EC%82%B4%EC%9D%B8%EC%9E%90%EC%9D%98_%ED%9A%8C%EC%8B%AC-&amp;action=edit&amp;redlink=1\" title=\"호쿠토 -어느 살인자의 회심- (없는 문서)\">호쿠토 -어느 살인자의 회심-</a>》</li>\\n<li>《<a class=\"new\" href=\"/w/index.php?title=%EB%AF%B8%EC%95%BC%EC%9E%90%EC%99%80_%EA%B2%90%EC%A7%80%EC%9D%98_%EC%8B%9D%ED%83%81&amp;action=edit&amp;redlink=1\" title=\"미야자와 겐지의 식탁 (없는 문서)\">미야자와 겐지의 식탁</a>》</li>\\n<li>《<a class=\"new\" href=\"/w/index.php?title=%ED%94%8C%EB%9D%BC%EC%A6%88&amp;action=edit&amp;redlink=1\" title=\"플라즈 (없는 문서)\">플라즈~번역 있음 만의 쉐어하우스~</a>》</li>\\n<li>《<a class=\"new\" href=\"/w/index.php?title=%EC%A7%9D%EC%82%AC%EB%9E%91_(%EC%86%8C%EC%84%A4)&amp;action=edit&amp;redlink=1\" title=\"짝사랑 (소설) (없는 문서)\">짝사랑</a>》</li>\\n<li>《<a class=\"new\" href=\"/w/index.php?title=%EB%AA%85%ED%95%A8_%EA%B2%8C%EC%9E%84&amp;action=edit&amp;redlink=1\" title=\"명함 게임 (없는 문서)\">명함 게임</a>》</li>\\n<li>《<a class=\"new\" href=\"/w/index.php?title=%EB%B4%84%EC%9D%B4_%EC%99%94%EB%8B%A4&amp;action=edit&amp;redlink=1\" title=\"봄이 왔다 (없는 문서)\">봄이 왔다</a>》</li>\\n<li>《<a class=\"new\" href=\"/w/index.php?title=%EB%B0%94%EC%9D%B4%EB%B0%94%EC%9D%B4,_%EB%B8%94%EB%9E%99%EB%B2%84%EB%93%9C&amp;action=edit&amp;redlink=1\" title=\"바이바이, 블랙버드 (없는 문서)\">바이바이, 블랙버드</a>》</li>\\n<li>《<a class=\"new\" href=\"/w/index.php?title=%EC%96%B4%EB%91%A0%EC%9D%98_%EB%B0%98%EC%A3%BC%EC%9E%90&amp;action=edit&amp;redlink=1\" title=\"어둠의 반주자 (없는 문서)\">어둠의 반주자~편집장의 조건</a>》</li>\\n<li>《<a class=\"mw-redirect\" href=\"/wiki/%EB%8D%94%EB%B8%94_%ED%8C%90%ED%83%80%EC%A7%80\" title=\"더블 판타지\">더블 판타지</a>》</li>\\n<li>《<a class=\"new\" href=\"/w/index.php?title=%EC%9D%B4%EC%95%84%EB%A6%AC_%EB%B3%B4%EC%9D%B4%EC%A7%80_%EC%95%8A%EB%8A%94_%EC%96%BC%EA%B5%B4&amp;action=edit&amp;redlink=1\" title=\"이아리 보이지 않는 얼굴 (없는 문서)\">이아리 보이지 않는 얼굴</a>》</li>\\n<li>《<a href=\"/wiki/%EC%BD%9C%EB%93%9C_%EC%BC%80%EC%9D%B4%EC%8A%A4_~%EC%A7%84%EC%8B%A4%EC%9D%98_%EB%AC%B8~\" title=\"콜드 케이스 ~진실의 문~\">콜드 케이스 2 ~진실의 문~</a>》</li>\\n<li>《<a class=\"new\" href=\"/w/index.php?title=%EB%8F%84%EB%82%9C%EB%8B%B9%ED%95%9C_%EC%96%BC%EA%B5%B4_~%EB%88%88%EC%97%90_%EB%9D%84%EC%A7%80_%EC%88%98%EC%82%AC%EB%B0%98~&amp;action=edit&amp;redlink=1\" title=\"도난당한 얼굴 ~눈에 띄지 수사반~ (없는 문서)\">도난당한 얼굴 ~눈에 띄지 수사반~</a>》</li>\\n<li>《<a class=\"new\" href=\"/w/index.php?title=%EA%B7%B8%EA%B2%83%EC%9D%84_%EC%82%AC%EB%9E%91%EA%B3%BC_%EC%B0%A9%EA%B0%81%ED%95%98%EB%8B%88%EA%B9%8C&amp;action=edit&amp;redlink=1\" title=\"그것을 사랑과 착각하니까 (없는 문서)\">그것을 사랑과 착각하니까</a>》</li>\\n<li>《<a class=\"new\" href=\"/w/index.php?title=%EB%8B%A4%EC%9E%89_%EC%95%84%EC%9D%B4&amp;action=edit&amp;redlink=1\" title=\"다잉 아이 (없는 문서)\">다잉 아이</a>》</li>\\n<li>《<a class=\"new\" href=\"/w/index.php?title=%EC%96%B8%EB%8D%95_%EC%A4%91%EA%B0%84%EC%9D%98_%EC%A7%91&amp;action=edit&amp;redlink=1\" title=\"언덕 중간의 집 (없는 문서)\">언덕 중간의 집</a>》</li></ul>\\n</div></td></tr><tr><th class=\"navbox-group\" scope=\"row\" style=\"width:1%;background:#95C0EC\">일요 오리지널</th><td class=\"navbox-list navbox-odd\" style=\"text-align:left;border-left-width:2px;border-left-style:solid;width:100%;padding:0px\"><div style=\"padding:0em 0.25em\">\\n<ul><li>《<a class=\"new\" href=\"/w/index.php?title=%EC%A3%BC%EA%B0%80%ED%8F%AD%EB%9D%BD&amp;action=edit&amp;redlink=1\" title=\"주가폭락 (없는 문서)\">주가폭락</a>》</li>\\n<li>《<a class=\"new\" href=\"/w/index.php?title=%EC%95%85%ED%99%94_(%EC%86%8C%EC%84%A4)&amp;action=edit&amp;redlink=1\" title=\"악화 (소설) (없는 문서)\">악화</a>》</li>\\n<li>《<a class=\"new\" href=\"/w/index.php?title=%EC%A0%80%EB%AC%BC%EC%96%B4_%EA%B0%80%EB%8A%94_%EC%97%AC%EB%A6%84&amp;action=edit&amp;redlink=1\" title=\"저물어 가는 여름 (없는 문서)\">저물어 가는 여름</a>》</li>\\n<li>《<a class=\"new\" href=\"/w/index.php?title=%EC%B2%9C%EC%82%AC%EC%9D%98_%EB%82%98%EC%9D%B4%ED%94%84&amp;action=edit&amp;redlink=1\" title=\"천사의 나이프 (없는 문서)\">천사의 나이프</a>》</li>\\n<li>《<a class=\"new\" href=\"/w/index.php?title=%EC%8A%A4%EC%BC%80%EC%9D%B4%ED%94%84%EA%B3%A0%ED%8A%B8_(%EC%86%8C%EC%84%A4)&amp;action=edit&amp;redlink=1\" title=\"스케이프고트 (소설) (없는 문서)\">스케이프고트</a>》</li>\\n<li>《<a class=\"new\" href=\"/w/index.php?title=%ED%85%8C%EB%AF%B8%EC%8A%A4%EC%9D%98_%EA%B5%AC%ED%98%95&amp;action=edit&amp;redlink=1\" title=\"테미스의 구형 (없는 문서)\">테미스의 구형</a>》</li>\\n<li>《<a class=\"mw-selflink selflink\">예고범 -THE PAIN-</a>》</li>\\n<li>《<a class=\"new\" href=\"/w/index.php?title=%EC%A3%BD%EC%9D%8C%EC%9D%98_%EC%9E%A5%EA%B8%B0&amp;action=edit&amp;redlink=1\" title=\"죽음의 장기 (없는 문서)\">죽음의 장기</a>》</li>\\n<li>《<a class=\"new\" href=\"/w/index.php?title=%EB%8F%8C%EC%9D%98_%EA%B3%A0%EC%B9%98&amp;action=edit&amp;redlink=1\" title=\"돌의 고치 (없는 문서)\">돌의 고치 살인분석반</a>》</li>\\n<li>《<a class=\"new\" href=\"/w/index.php?title=%EC%8B%A0%EA%B0%80%EB%A6%AC_%EC%95%BC%EB%A7%88%EC%9D%B4%EC%B9%98_%EC%A6%9D%EA%B6%8C_%EC%B5%9C%ED%9B%84%EC%9D%98_12%EC%9D%B8&amp;action=edit&amp;redlink=1\" title=\"신가리 야마이치 증권 최후의 12인 (없는 문서)\">신가리 야마이치 증권 최후의 성전</a>》</li>\\n<li>《<a class=\"new\" href=\"/w/index.php?title=%EC%98%A4%ED%8C%90&amp;action=edit&amp;redlink=1\" title=\"오판 (없는 문서)\">오판</a>》</li>\\n<li>《<a class=\"new\" href=\"/w/index.php?title=%EC%8F%A0_%EC%88%98_%EC%97%86%EB%8A%94_%EA%B2%BD%EA%B4%80&amp;action=edit&amp;redlink=1\" title=\"쏠 수 없는 경관 (없는 문서)\">쏠 수 없는 경관</a>》</li>\\n<li>《<a class=\"new\" href=\"/w/index.php?title=%EB%A9%94%EA%B0%80%EB%B1%85%ED%81%AC_%EC%B5%9C%EC%A2%85%EA%B2%B0%EC%A0%84&amp;action=edit&amp;redlink=1\" title=\"메가뱅크 최종결전 (없는 문서)\">메가뱅크 최종결전</a>》</li>\\n<li>《<a href=\"/wiki/%EB%BB%90%EA%BE%B8%EA%B8%B0_%EC%95%8C%EC%9D%80_%EB%88%84%EA%B5%AC%EC%9D%98_%EA%B2%83%EC%9D%B8%EA%B0%80\" title=\"뻐꾸기 알은 누구의 것인가\">뻐꾸기 알은 누구의 것인가</a>》</li>\\n<li>《<a href=\"/wiki/%EC%A7%80%EC%A7%80_%EC%95%8A%EB%8A%94_%ED%83%9C%EC%96%91\" title=\"지지 않는 태양\">지지 않는 태양</a>》</li>\\n<li>《<a class=\"new\" href=\"/w/index.php?title=%ED%9E%88%ED%8F%AC%ED%81%AC%EB%9D%BC%ED%85%8C%EC%8A%A4_%EC%84%A0%EC%84%9C_(%EC%86%8C%EC%84%A4)&amp;action=edit&amp;redlink=1\" title=\"히포크라테스 선서 (소설) (없는 문서)\">히포크라테스 선서</a>》</li>\\n<li>《<a class=\"new\" href=\"/w/index.php?title=%EC%88%98%EC%A0%95%EC%9D%98_%EA%B3%A0%EB%8F%99&amp;action=edit&amp;redlink=1\" title=\"수정의 고동 (없는 문서)\">수정의 고동 살인분석반</a>》</li>\\n<li>《<a class=\"new\" href=\"/w/index.php?title=%EB%82%99%EC%9B%90_(%EB%AF%B8%EC%95%BC%EB%B2%A0_%EB%AF%B8%EC%9C%A0%ED%82%A4%EC%9D%98_%EC%86%8C%EC%84%A4)&amp;action=edit&amp;redlink=1\" title=\"낙원 (미야베 미유키의 소설) (없는 문서)\">낙원</a>》</li>\\n<li>《<a class=\"new\" href=\"/w/index.php?title=%EC%A0%9C%EB%8B%88%EA%B0%80%ED%83%80_%EA%B2%BD%EB%B6%80_(%EB%93%9C%EB%9D%BC%EB%A7%88)&amp;action=edit&amp;redlink=1\" title=\"제니가타 경부 (드라마) (없는 문서)\">제니가타 경부 칠흑의 범죄 파일</a>》</li>\\n<li>《<a class=\"new\" href=\"/w/index.php?title=%EA%B0%90%EC%98%A5%EC%9D%98_%EA%B0%80%EC%8B%9C&amp;action=edit&amp;redlink=1\" title=\"감옥의 가시 (없는 문서)\">히토야노토게~감옥의 가시~</a>》</li>\\n<li>《<a class=\"new\" href=\"/w/index.php?title=%EC%82%AC%EC%9E%A5%EC%8B%A4%EC%9D%98_%EA%B2%A8%EC%9A%B8&amp;action=edit&amp;redlink=1\" title=\"사장실의 겨울 (없는 문서)\">사장실의 겨울 -거대 신문사를 잡는 남자-</a>》</li>\\n<li>《<a class=\"new\" href=\"/w/index.php?title=%EB%B2%94%EC%A3%84%EC%A6%9D%ED%9B%84%EA%B5%B0&amp;action=edit&amp;redlink=1\" title=\"범죄증후군 (없는 문서)\">범죄증후군 Season2</a>》</li>\\n<li>《<a class=\"new\" href=\"/w/index.php?title=%EC%95%84%ED%82%A4%EB%9D%BC%EC%99%80_%EC%95%84%ED%82%A4%EB%9D%BC&amp;action=edit&amp;redlink=1\" title=\"아키라와 아키라 (없는 문서)\">아키라와 아키라</a>》</li>\\n<li>《<a class=\"new\" href=\"/w/index.php?title=%EC%B9%A8%EB%AC%B5_%EB%B2%95%EC%A0%95&amp;action=edit&amp;redlink=1\" title=\"침묵 법정 (없는 문서)\">침묵 법정</a>》</li>\\n<li>《<a class=\"new\" href=\"/w/index.php?title=%EB%8F%8C%ED%8C%94%EB%A7%A4%EC%A7%88_%EA%B2%BD%EC%8B%9C%EC%B2%AD_2%EA%B3%BC_%ED%98%95%EC%82%AC%EA%B0%80_%EB%82%A8%EA%B8%B4_%EA%B2%83&amp;action=edit&amp;redlink=1\" title=\"돌팔매질 경시청 2과 형사가 남긴 것 (없는 문서)\">돌팔매질~외무성 비자금을 파헤친 수사2과 남자들~</a>》</li>\\n<li>《<a class=\"new\" href=\"/w/index.php?title=%EA%B0%90%EC%82%AC%EC%97%AD_%EB%85%B8%EC%9E%90%ED%82%A4&amp;action=edit&amp;redlink=1\" title=\"감사역 노자키 (없는 문서)\">감사역 노자키</a>》</li>\\n<li>《<a class=\"new\" href=\"/w/index.php?title=%EC%9D%B4%EB%85%B8%EC%84%BC%ED%8A%B8_%EB%8D%B0%EC%9D%B4%EC%A6%88&amp;action=edit&amp;redlink=1\" title=\"이노센트 데이즈 (없는 문서)\">이노센트 데이즈</a>》</li>\\n<li>《<a class=\"new\" href=\"/w/index.php?title=60_%EC%98%A4%ED%8C%90_%EB%8C%80%EC%B1%85%EC%8B%A4&amp;action=edit&amp;redlink=1\" title=\"60 오판 대책실 (없는 문서)\">60 오판 대책실</a>》</li>\\n<li>《<a class=\"new\" href=\"/w/index.php?title=%EB%B6%88%EB%B0%9C%ED%83%84_(%EC%86%8C%EC%84%A4)&amp;action=edit&amp;redlink=1\" title=\"불발탄 (소설) (없는 문서)\">불발탄 ~검은 돈을 조종하는 남자~</a>》</li>\\n<li>《<a class=\"new\" href=\"/w/index.php?title=%EA%B5%AC%EB%A1%9C%EC%87%BC%EC%9D%B8%EC%9D%98_%EB%A1%9C%EC%BF%A0%EB%B2%A0%EC%97%90&amp;action=edit&amp;redlink=1\" title=\"구로쇼인의 로쿠베에 (없는 문서)\">구로쇼인의 로쿠베에</a>》</li>\\n<li>《<a class=\"new\" href=\"/w/index.php?title=%EC%A7%84%EB%B2%94%EC%9D%B8&amp;action=edit&amp;redlink=1\" title=\"진범인 (없는 문서)\">진범인</a>》</li>\\n<li>《<a class=\"new\" href=\"/w/index.php?title=%ED%8C%90%EB%8F%84%EB%9D%BC_(%EB%93%9C%EB%9D%BC%EB%A7%88)&amp;action=edit&amp;redlink=1\" title=\"판도라 (드라마) (없는 문서)\">판도라 Ⅳ AI전쟁</a>》</li>\\n<li>《<a class=\"new\" href=\"/w/index.php?title=%EB%A9%94%EC%8A%A4_%EC%9D%B4%EC%97%AC_%EB%B9%9B%EB%82%98%EB%9D%BC!!&amp;action=edit&amp;redlink=1\" title=\"메스 이여 빛나라!! (없는 문서)\">고고한 메스</a>》</li>\\n<li>《<a class=\"new\" href=\"/w/index.php?title=%EC%A0%88%EA%B7%9C_(%EC%86%8C%EC%84%A4)&amp;action=edit&amp;redlink=1\" title=\"절규 (소설) (없는 문서)\">절규</a>》</li></ul>\\n</div></td></tr></tbody></table><div></div></td></tr></tbody></table></div>\\n<div class=\"catlinks plainlinks\"><div style=\"line-height: 1.5em\"><b><a class=\"external text\" href=\"//ko.wikipedia.org/w/index.php?title=%EC%98%88%EA%B3%A0%EB%B2%94-THE_COPYCAT-&amp;redirect=no\">예고범-THE COPYCAT-</a></b>에 관한\\xa0<a href=\"/wiki/%ED%8A%B9%EC%88%98:%EB%B6%84%EB%A5%98\" title=\"특수:분류\">분류</a>: <a href=\"/wiki/%EB%B6%84%EB%A5%98:%EC%A3%BC%EA%B0%84_%EC%98%81_%EC%A0%90%ED%94%84%EC%9D%98_%EB%A7%8C%ED%99%94\" title=\"분류:주간 영 점프의 만화\">주간 영 점프의 만화</a></div><div style=\"line-height: 1.8em\"><b><a class=\"external text\" href=\"//ko.wikipedia.org/w/index.php?title=%EC%98%88%EA%B3%A0%EB%B2%94-THE_PAIN-&amp;redirect=no\">예고범-THE PAIN-</a></b>에 관한\\xa0<a href=\"/wiki/%ED%8A%B9%EC%88%98:%EB%B6%84%EB%A5%98\" title=\"특수:분류\">분류</a>: <a href=\"/wiki/%EB%B6%84%EB%A5%98:%EB%A7%8C%ED%99%94%EC%9D%98_%ED%85%94%EB%A0%88%EB%B9%84%EC%A0%84_%EB%93%9C%EB%9D%BC%EB%A7%88%ED%99%94_%EC%9E%91%ED%92%88\" title=\"분류:만화의 텔레비전 드라마화 작품\">만화의 텔레비전 드라마화 작품</a>\\xa0\\xa0<span style=\"color: #bbb; font-size: larger\">|</span>\\xa0\\xa0<a href=\"/wiki/%EB%B6%84%EB%A5%98:2015%EB%85%84_%EB%93%9C%EB%9D%BC%EB%A7%88\" title=\"분류:2015년 드라마\">2015년 드라마 </a>\\xa0\\xa0<span style=\"color: #bbb; font-size: larger\">|</span>\\xa0\\xa0<a href=\"/wiki/%EB%B6%84%EB%A5%98:%EC%97%B0%EC%86%8D_%EB%93%9C%EB%9D%BC%EB%A7%88_W\" title=\"분류:연속 드라마 W\">연속 드라마 W </a></div></div>\\n<!-- \\nNewPP limit report\\nParsed by mw1330\\nCached time: 20190628062641\\nCache expiry: 2592000\\nDynamic content: false\\nComplications: []\\nCPU time usage: 0.172 seconds\\nReal time usage: 0.218 seconds\\nPreprocessor visited node count: 1366/1000000\\nPreprocessor generated node count: 0/1500000\\nPost‐expand include size: 36132/2097152 bytes\\nTemplate argument size: 1726/2097152 bytes\\nHighest expansion depth: 15/40\\nExpensive parser function count: 0/500\\nUnstrip recursion depth: 0/20\\nUnstrip post‐expand size: 0/5000000 bytes\\nNumber of Wikibase entities loaded: 0/400\\nLua time usage: 0.028/10.000 seconds\\nLua memory usage: 1.38 MB/50 MB\\n-->\\n<!--\\nTransclusion expansion time report (%,ms,calls,template)\\n100.00%  142.761      1 -total\\n 34.95%   49.896      3 틀:ISBN\\n 20.39%   29.113      1 틀:Llang\\n 18.88%   26.953      1 틀:연속_드라마_W\\n 18.80%   26.837      2 틀:둘러보기_상자\\n 12.90%   18.423      1 틀:넘겨주기의_분류\\n 12.76%   18.214      3 틀:Catalog_lookup_link\\n 12.14%   17.336      3 틀:언어링크\\n 10.22%   14.588      3 틀:Error-small\\n  8.91%   12.715      6 틀:언어_이름\\n-->\\n<!-- Saved in parser cache with key kowiki:pcache:idhash:1142341-0!canonical and timestamp 20190628062641 and revision id 21882503\\n -->\\n</div><noscript><img alt=\"\" height=\"1\" src=\"//ko.wikipedia.org/wiki/Special:CentralAutoLogin/start?type=1x1\" style=\"border: none; position: absolute;\" title=\"\" width=\"1\"/></noscript></div>\\n<div class=\"printfooter\">원본 주소 \"<a dir=\"ltr\" href=\"https://ko.wikipedia.org/w/index.php?title=예고범&amp;oldid=21882503\">https://ko.wikipedia.org/w/index.php?title=예고범&amp;oldid=21882503</a>\"</div>\\n<div class=\"catlinks\" data-mw=\"interface\" id=\"catlinks\"><div class=\"mw-normal-catlinks\" id=\"mw-normal-catlinks\"><a href=\"/wiki/%ED%8A%B9%EC%88%98:%EB%B6%84%EB%A5%98\" title=\"특수:분류\">분류</a>: <ul><li><a href=\"/wiki/%EB%B6%84%EB%A5%98:%EC%9D%BC%EB%B3%B8%EC%9D%98_%EB%A7%8C%ED%99%94\" title=\"분류:일본의 만화\">일본의 만화</a></li><li><a href=\"/wiki/%EB%B6%84%EB%A5%98:%EC%B6%94%EB%A6%AC_%EB%A7%8C%ED%99%94\" title=\"분류:추리 만화\">추리 만화</a></li><li><a href=\"/wiki/%EB%B6%84%EB%A5%98:%EB%B2%94%EC%A3%84%EB%A5%BC_%EC%86%8C%EC%9E%AC%EB%A1%9C_%ED%95%9C_%EC%9E%91%ED%92%88\" title=\"분류:범죄를 소재로 한 작품\">범죄를 소재로 한 작품</a></li><li><a href=\"/wiki/%EB%B6%84%EB%A5%98:%ED%85%8C%EB%9F%AC%EB%A5%BC_%EC%86%8C%EC%9E%AC%EB%A1%9C_%ED%95%9C_%EC%9E%91%ED%92%88\" title=\"분류:테러를 소재로 한 작품\">테러를 소재로 한 작품</a></li><li><a href=\"/wiki/%EB%B6%84%EB%A5%98:%EC%9D%BC%EB%B3%B8%EC%9D%98_%EC%98%81%ED%99%94_%EC%9E%91%ED%92%88\" title=\"분류:일본의 영화 작품\">일본의 영화 작품</a></li><li><a href=\"/wiki/%EB%B6%84%EB%A5%98:%EC%9D%BC%EB%B3%B8%EC%9D%98_%EB%B2%94%EC%A3%84_%EC%98%81%ED%99%94\" title=\"분류:일본의 범죄 영화\">일본의 범죄 영화</a></li><li><a href=\"/wiki/%EB%B6%84%EB%A5%98:%ED%85%8C%EB%9F%AC%EB%A6%AC%EC%A6%98%EC%9D%84_%EC%86%8C%EC%9E%AC%EB%A1%9C_%ED%95%9C_%EC%98%81%ED%99%94\" title=\"분류:테러리즘을 소재로 한 영화\">테러리즘을 소재로 한 영화</a></li><li><a href=\"/wiki/%EB%B6%84%EB%A5%98:%EB%A7%8C%ED%99%94%EB%A5%BC_%EB%B0%94%ED%83%95%EC%9C%BC%EB%A1%9C_%ED%95%9C_%EC%98%81%ED%99%94\" title=\"분류:만화를 바탕으로 한 영화\">만화를 바탕으로 한 영화</a></li></ul></div><div class=\"mw-hidden-catlinks mw-hidden-cats-hidden\" id=\"mw-hidden-catlinks\">숨은 분류: <ul><li><a href=\"/wiki/%EB%B6%84%EB%A5%98:%EC%9D%BC%EB%B3%B8%EC%96%B4_%ED%91%9C%EA%B8%B0%EB%A5%BC_%ED%8F%AC%ED%95%A8%ED%95%9C_%EB%AC%B8%EC%84%9C\" title=\"분류:일본어 표기를 포함한 문서\">일본어 표기를 포함한 문서</a></li></ul></div></div>\\n<div class=\"visualClear\"></div>\\n</div>\\n</div>\\n<div id=\"mw-navigation\">\\n<h2>둘러보기 메뉴</h2>\\n<div id=\"mw-head\">\\n<div aria-labelledby=\"p-personal-label\" id=\"p-personal\" role=\"navigation\">\\n<h3 id=\"p-personal-label\">개인 도구</h3>\\n<ul>\\n<li id=\"pt-anonuserpage\">로그인하지 않음</li><li id=\"pt-anontalk\"><a accesskey=\"n\" href=\"/wiki/%ED%8A%B9%EC%88%98:%EB%82%B4%EC%82%AC%EC%9A%A9%EC%9E%90%ED%86%A0%EB%A1%A0\" title=\"현재 사용하는 IP 주소에 대한 토론 문서 [n]\">토론</a></li><li id=\"pt-anoncontribs\"><a accesskey=\"y\" href=\"/wiki/%ED%8A%B9%EC%88%98:%EB%82%B4%EA%B8%B0%EC%97%AC\" title=\"이 IP 주소의 편집 목록 [y]\">기여</a></li><li id=\"pt-createaccount\"><a href=\"/w/index.php?title=%ED%8A%B9%EC%88%98:%EA%B3%84%EC%A0%95%EB%A7%8C%EB%93%A4%EA%B8%B0&amp;returnto=%EC%98%88%EA%B3%A0%EB%B2%94\" title=\"계정을 만들고 로그인하는 것이 좋습니다; 하지만, 필수는 아닙니다\">계정 만들기</a></li><li id=\"pt-login\"><a accesskey=\"o\" href=\"/w/index.php?title=%ED%8A%B9%EC%88%98:%EB%A1%9C%EA%B7%B8%EC%9D%B8&amp;returnto=%EC%98%88%EA%B3%A0%EB%B2%94\" title=\"위키백과에 로그인하면 여러가지 편리한 기능을 사용할 수 있습니다. [o]\">로그인</a></li> </ul>\\n</div>\\n<div id=\"left-navigation\">\\n<div aria-labelledby=\"p-namespaces-label\" class=\"vectorTabs\" id=\"p-namespaces\" role=\"navigation\">\\n<h3 id=\"p-namespaces-label\">이름공간</h3>\\n<ul>\\n<li class=\"selected\" id=\"ca-nstab-main\"><span><a accesskey=\"c\" href=\"/wiki/%EC%98%88%EA%B3%A0%EB%B2%94\" title=\"본문 보기 [c]\">문서</a></span></li><li id=\"ca-talk\"><span><a accesskey=\"t\" href=\"/wiki/%ED%86%A0%EB%A1%A0:%EC%98%88%EA%B3%A0%EB%B2%94\" rel=\"discussion\" title=\"문서의 내용에 대한 토론 문서 [t]\">토론</a></span></li> </ul>\\n</div>\\n<div aria-labelledby=\"p-variants-label\" class=\"vectorMenu emptyPortlet\" id=\"p-variants\" role=\"navigation\">\\n<input aria-labelledby=\"p-variants-label\" class=\"vectorMenuCheckbox\" type=\"checkbox\"/>\\n<h3 id=\"p-variants-label\">\\n<span>변수</span>\\n</h3>\\n<ul class=\"menu\">\\n</ul>\\n</div>\\n</div>\\n<div id=\"right-navigation\">\\n<div aria-labelledby=\"p-views-label\" class=\"vectorTabs\" id=\"p-views\" role=\"navigation\">\\n<h3 id=\"p-views-label\">보기</h3>\\n<ul>\\n<li class=\"collapsible selected\" id=\"ca-view\"><span><a href=\"/wiki/%EC%98%88%EA%B3%A0%EB%B2%94\">읽기</a></span></li><li class=\"collapsible\" id=\"ca-edit\"><span><a accesskey=\"e\" href=\"/w/index.php?title=%EC%98%88%EA%B3%A0%EB%B2%94&amp;action=edit\" title=\"이 문서 편집하기 [e]\">편집</a></span></li><li class=\"collapsible\" id=\"ca-history\"><span><a accesskey=\"h\" href=\"/w/index.php?title=%EC%98%88%EA%B3%A0%EB%B2%94&amp;action=history\" title=\"이 문서의 과거 편집 내역입니다. [h]\">역사 보기</a></span></li> </ul>\\n</div>\\n<div aria-labelledby=\"p-cactions-label\" class=\"vectorMenu emptyPortlet\" id=\"p-cactions\" role=\"navigation\">\\n<input aria-labelledby=\"p-cactions-label\" class=\"vectorMenuCheckbox\" type=\"checkbox\"/>\\n<h3 id=\"p-cactions-label\"><span>더 보기</span></h3>\\n<ul class=\"menu\">\\n</ul>\\n</div>\\n<div id=\"p-search\" role=\"search\">\\n<h3>\\n<label for=\"searchInput\">검색</label>\\n</h3>\\n<form action=\"/w/index.php\" id=\"searchform\">\\n<div id=\"simpleSearch\">\\n<input accesskey=\"f\" id=\"searchInput\" name=\"search\" placeholder=\"위키백과 검색\" title=\"위키백과 검색 [f]\" type=\"search\"/><input name=\"title\" type=\"hidden\" value=\"특수:검색\"/><input class=\"searchButton mw-fallbackSearchButton\" id=\"mw-searchButton\" name=\"fulltext\" title=\"이 문자열이 포함된 문서 검색\" type=\"submit\" value=\"검색\"/><input class=\"searchButton\" id=\"searchButton\" name=\"go\" title=\"이 이름의 문서가 존재하면 그 문서로 바로 가기\" type=\"submit\" value=\"보기\"/> </div>\\n</form>\\n</div>\\n</div>\\n</div>\\n<div id=\"mw-panel\">\\n<div id=\"p-logo\" role=\"banner\"><a class=\"mw-wiki-logo\" href=\"/wiki/%EC%9C%84%ED%82%A4%EB%B0%B1%EA%B3%BC:%EB%8C%80%EB%AC%B8\" title=\"대문으로 가기\"></a></div>\\n<div aria-labelledby=\"p-navigation-label\" class=\"portal\" id=\"p-navigation\" role=\"navigation\">\\n<h3 id=\"p-navigation-label\">둘러보기</h3>\\n<div class=\"body\">\\n<ul>\\n<li id=\"n-mainpage-description\"><a accesskey=\"z\" href=\"/wiki/%EC%9C%84%ED%82%A4%EB%B0%B1%EA%B3%BC:%EB%8C%80%EB%AC%B8\" title=\"대문으로 가기 [z]\">대문</a></li><li id=\"n-portal\"><a href=\"/wiki/%EC%9C%84%ED%82%A4%EB%B0%B1%EA%B3%BC:%EC%82%AC%EC%9A%A9%EC%9E%90_%EB%AA%A8%EC%9E%84\" title=\"위키백과 참여자를 위한 토론/대화 공간입니다.\">사용자 모임</a></li><li id=\"n-currentevents\"><a href=\"/wiki/%ED%8F%AC%ED%84%B8:%EC%9A%94%EC%A6%98_%ED%99%94%EC%A0%9C\" title=\"최근의 소식 알아 보기\">요즘 화제</a></li><li id=\"n-recentchanges\"><a accesskey=\"r\" href=\"/wiki/%ED%8A%B9%EC%88%98:%EC%B5%9C%EA%B7%BC%EB%B0%94%EB%80%9C\" title=\"위키의 최근 바뀐 목록 [r]\">최근 바뀜</a></li><li id=\"n-index\"><a href=\"/wiki/%ED%8A%B9%EC%88%98:%EB%AA%A8%EB%93%A0%EB%AC%B8%EC%84%9C\">모든 문서 보기</a></li><li id=\"n-randompage\"><a accesskey=\"x\" href=\"/wiki/%ED%8A%B9%EC%88%98:%EC%9E%84%EC%9D%98%EB%AC%B8%EC%84%9C\" title=\"임의 문서 불러오기 [x]\">임의 문서로</a></li><li id=\"n-help\"><a href=\"/wiki/%EC%9C%84%ED%82%A4%EB%B0%B1%EA%B3%BC:%EB%8F%84%EC%9B%80%EB%A7%90\" title=\"도움말\">도움말</a></li><li id=\"n-sitesupport\"><a href=\"//donate.wikimedia.org/wiki/Special:FundraiserRedirector?utm_source=donate&amp;utm_medium=sidebar&amp;utm_campaign=C13_ko.wikipedia.org&amp;uselang=ko\" title=\"지원을 기다립니다\">기부</a></li> </ul>\\n</div>\\n</div>\\n<div aria-labelledby=\"p-tb-label\" class=\"portal\" id=\"p-tb\" role=\"navigation\">\\n<h3 id=\"p-tb-label\">도구</h3>\\n<div class=\"body\">\\n<ul>\\n<li id=\"t-whatlinkshere\"><a accesskey=\"j\" href=\"/wiki/%ED%8A%B9%EC%88%98:%EA%B0%80%EB%A6%AC%ED%82%A4%EB%8A%94%EB%AC%B8%EC%84%9C/%EC%98%88%EA%B3%A0%EB%B2%94\" title=\"여기를 가리키는 모든 위키 문서의 목록 [j]\">여기를 가리키는 문서</a></li><li id=\"t-recentchangeslinked\"><a accesskey=\"k\" href=\"/wiki/%ED%8A%B9%EC%88%98:%EB%A7%81%ED%81%AC%EC%B5%9C%EA%B7%BC%EB%B0%94%EB%80%9C/%EC%98%88%EA%B3%A0%EB%B2%94\" rel=\"nofollow\" title=\"이 문서에서 링크한 문서의 최근 바뀜 [k]\">가리키는 글의 최근 바뀜</a></li><li id=\"t-upload\"><a accesskey=\"u\" href=\"/wiki/위키백과:파일_올리기\" title=\"파일 올리기 [u]\">파일 올리기</a></li><li id=\"t-specialpages\"><a accesskey=\"q\" href=\"/wiki/%ED%8A%B9%EC%88%98:%ED%8A%B9%EC%88%98%EB%AC%B8%EC%84%9C\" title=\"모든 특수 문서의 목록 [q]\">특수 문서 목록</a></li><li id=\"t-permalink\"><a href=\"/w/index.php?title=%EC%98%88%EA%B3%A0%EB%B2%94&amp;oldid=21882503\" title=\"문서의 이 판에 대한 고유링크\">고유 링크</a></li><li id=\"t-info\"><a href=\"/w/index.php?title=%EC%98%88%EA%B3%A0%EB%B2%94&amp;action=info\" title=\"이 문서에 대한 자세한 정보\">문서 정보</a></li><li id=\"t-wikibase\"><a accesskey=\"g\" href=\"https://www.wikidata.org/wiki/Special:EntityPage/Q3407535\" title=\"데이터 저장소에 연결된 항목을 가리키는 링크 [g]\">위키데이터 항목</a></li><li id=\"t-cite\"><a href=\"/w/index.php?title=%ED%8A%B9%EC%88%98:%EC%9D%B4%EB%AC%B8%EC%84%9C%EC%9D%B8%EC%9A%A9&amp;page=%EC%98%88%EA%B3%A0%EB%B2%94&amp;id=21882503\" title=\"이 문서를 인용하는 방법에 대한 정보\">이 문서 인용하기</a></li> </ul>\\n</div>\\n</div>\\n<div aria-labelledby=\"p-coll-print_export-label\" class=\"portal\" id=\"p-coll-print_export\" role=\"navigation\">\\n<h3 id=\"p-coll-print_export-label\">인쇄/내보내기</h3>\\n<div class=\"body\">\\n<ul>\\n<li id=\"coll-create_a_book\"><a href=\"/w/index.php?title=%ED%8A%B9%EC%88%98:%EC%B1%85&amp;bookcmd=book_creator&amp;referer=%EC%98%88%EA%B3%A0%EB%B2%94\">책 만들기</a></li><li id=\"coll-download-as-rl\"><a href=\"/w/index.php?title=%ED%8A%B9%EC%88%98:ElectronPdf&amp;page=%EC%98%88%EA%B3%A0%EB%B2%94&amp;action=show-download-screen\">PDF로 다운로드</a></li><li id=\"t-print\"><a accesskey=\"p\" href=\"/w/index.php?title=%EC%98%88%EA%B3%A0%EB%B2%94&amp;printable=yes\" title=\"이 문서의 인쇄용 판 [p]\">인쇄용 판</a></li> </ul>\\n</div>\\n</div>\\n<div aria-labelledby=\"p-lang-label\" class=\"portal\" id=\"p-lang\" role=\"navigation\">\\n<h3 id=\"p-lang-label\">다른 언어</h3>\\n<div class=\"body\">\\n<ul>\\n<li class=\"interlanguage-link interwiki-en\"><a class=\"interlanguage-link-target\" href=\"https://en.wikipedia.org/wiki/Prophecy_(manga)\" hreflang=\"en\" lang=\"en\" title=\"Prophecy (manga) – 영어\">English</a></li><li class=\"interlanguage-link interwiki-fr\"><a class=\"interlanguage-link-target\" href=\"https://fr.wikipedia.org/wiki/Prophecy_(manga)\" hreflang=\"fr\" lang=\"fr\" title=\"Prophecy (manga) – 프랑스어\">Français</a></li><li class=\"interlanguage-link interwiki-ja\"><a class=\"interlanguage-link-target\" href=\"https://ja.wikipedia.org/wiki/%E4%BA%88%E5%91%8A%E7%8A%AF\" hreflang=\"ja\" lang=\"ja\" title=\"予告犯 – 일본어\">日本語</a></li><li class=\"interlanguage-link interwiki-tl\"><a class=\"interlanguage-link-target\" href=\"https://tl.wikipedia.org/wiki/Prophecy_(manga)\" hreflang=\"tl\" lang=\"tl\" title=\"Prophecy (manga) – 타갈로그어\">Tagalog</a></li><li class=\"interlanguage-link interwiki-zh\"><a class=\"interlanguage-link-target\" href=\"https://zh.wikipedia.org/wiki/%E9%A0%90%E5%91%8A%E7%8A%AF\" hreflang=\"zh\" lang=\"zh\" title=\"預告犯 – 중국어\">中文</a></li> </ul>\\n<div class=\"after-portlet after-portlet-lang\"><span class=\"wb-langlinks-edit wb-langlinks-link\"><a class=\"wbc-editpage\" href=\"https://www.wikidata.org/wiki/Special:EntityPage/Q3407535#sitelinks-wikipedia\" title=\"언어 인터위키 링크 편집\">링크 편집</a></span></div> </div>\\n</div>\\n</div>\\n</div>\\n<div id=\"footer\" role=\"contentinfo\">\\n<ul id=\"footer-info\">\\n<li id=\"footer-info-lastmod\"> 이 문서는 2018년 7월 27일 (금) 06:45에 마지막으로 편집되었습니다.</li>\\n<li id=\"footer-info-copyright\">모든 문서는 <a href=\"//ko.wikipedia.org/wiki/%EC%9C%84%ED%82%A4%EB%B0%B1%EA%B3%BC:Creative_Commons_Attribution-ShareAlike_3.0_Unported_License\">크리에이티브 커먼즈 저작자표시-동일조건변경허락 3.0</a>에 따라 사용할 수 있으며, 추가적인 조건이 적용될 수 있습니다. 자세한 내용은 <a href=\"//wikimediafoundation.org/wiki/Terms_of_Use/ko\">이용 약관</a>을 참고하십시오.<br/>Wikipedia®는 미국 및 다른 국가에 등록되어 있는 <a class=\"internal\" href=\"http://www.wikimediafoundation.org\">Wikimedia Foundation, Inc.</a> 소유의 등록 상표입니다.</li>\\n</ul>\\n<ul id=\"footer-places\">\\n<li id=\"footer-places-privacy\"><a class=\"extiw\" href=\"https://foundation.wikimedia.org/wiki/Privacy_policy\" title=\"wmf:Privacy policy\">개인정보 정책</a></li>\\n<li id=\"footer-places-about\"><a href=\"/wiki/%EC%9C%84%ED%82%A4%EB%B0%B1%EA%B3%BC:%EC%86%8C%EA%B0%9C\" title=\"위키백과:소개\">위키백과 소개</a></li>\\n<li id=\"footer-places-disclaimer\"><a href=\"/wiki/%EC%9C%84%ED%82%A4%EB%B0%B1%EA%B3%BC:%EB%A9%B4%EC%B1%85_%EC%A1%B0%ED%95%AD\" title=\"위키백과:면책 조항\">면책 조항</a></li>\\n<li id=\"footer-places-developers\"><a href=\"https://www.mediawiki.org/wiki/Special:MyLanguage/How_to_contribute\">개발자</a></li>\\n<li id=\"footer-places-cookiestatement\"><a href=\"https://foundation.wikimedia.org/wiki/Cookie_statement\">쿠키 정책</a></li>\\n<li id=\"footer-places-mobileview\"><a class=\"noprint stopMobileRedirectToggle\" href=\"//ko.m.wikipedia.org/w/index.php?title=%EC%98%88%EA%B3%A0%EB%B2%94&amp;mobileaction=toggle_view_mobile\">모바일 보기</a></li>\\n</ul>\\n<ul class=\"noprint\" id=\"footer-icons\">\\n<li id=\"footer-copyrightico\">\\n<a href=\"https://wikimediafoundation.org/\"><img alt=\"Wikimedia Foundation\" height=\"31\" src=\"/static/images/wikimedia-button.png\" srcset=\"/static/images/wikimedia-button-1.5x.png 1.5x, /static/images/wikimedia-button-2x.png 2x\" width=\"88\"/></a> </li>\\n<li id=\"footer-poweredbyico\">\\n<a href=\"https://www.mediawiki.org/\"><img alt=\"Powered by MediaWiki\" height=\"31\" src=\"/static/images/poweredby_mediawiki_88x31.png\" srcset=\"/static/images/poweredby_mediawiki_132x47.png 1.5x, /static/images/poweredby_mediawiki_176x62.png 2x\" width=\"88\"/></a> </li>\\n</ul>\\n<div style=\"clear: both;\"></div>\\n</div>\\n<script>(RLQ=window.RLQ||[]).push(function(){mw.config.set({\"wgPageParseReport\":{\"limitreport\":{\"cputime\":\"0.172\",\"walltime\":\"0.218\",\"ppvisitednodes\":{\"value\":1366,\"limit\":1000000},\"ppgeneratednodes\":{\"value\":0,\"limit\":1500000},\"postexpandincludesize\":{\"value\":36132,\"limit\":2097152},\"templateargumentsize\":{\"value\":1726,\"limit\":2097152},\"expansiondepth\":{\"value\":15,\"limit\":40},\"expensivefunctioncount\":{\"value\":0,\"limit\":500},\"unstrip-depth\":{\"value\":0,\"limit\":20},\"unstrip-size\":{\"value\":0,\"limit\":5000000},\"entityaccesscount\":{\"value\":0,\"limit\":400},\"timingprofile\":[\"100.00%  142.761      1 -total\",\" 34.95%   49.896      3 틀:ISBN\",\" 20.39%   29.113      1 틀:Llang\",\" 18.88%   26.953      1 틀:연속_드라마_W\",\" 18.80%   26.837      2 틀:둘러보기_상자\",\" 12.90%   18.423      1 틀:넘겨주기의_분류\",\" 12.76%   18.214      3 틀:Catalog_lookup_link\",\" 12.14%   17.336      3 틀:언어링크\",\" 10.22%   14.588      3 틀:Error-small\",\"  8.91%   12.715      6 틀:언어_이름\"]},\"scribunto\":{\"limitreport-timeusage\":{\"value\":\"0.028\",\"limit\":\"10.000\"},\"limitreport-memusage\":{\"value\":1450612,\"limit\":52428800}},\"cachereport\":{\"origin\":\"mw1330\",\"timestamp\":\"20190628062641\",\"ttl\":2592000,\"transientcontent\":false}}});});</script>\\n<script type=\"application/ld+json\">{\"@context\":\"https:\\\\/\\\\/schema.org\",\"@type\":\"Article\",\"name\":\"\\\\uc608\\\\uace0\\\\ubc94\",\"url\":\"https:\\\\/\\\\/ko.wikipedia.org\\\\/wiki\\\\/%EC%98%88%EA%B3%A0%EB%B2%94\",\"sameAs\":\"http:\\\\/\\\\/www.wikidata.org\\\\/entity\\\\/Q3407535\",\"mainEntity\":\"http:\\\\/\\\\/www.wikidata.org\\\\/entity\\\\/Q3407535\",\"author\":{\"@type\":\"Organization\",\"name\":\"\\\\uc704\\\\ud0a4\\\\ubbf8\\\\ub514\\\\uc5b4 \\\\ud504\\\\ub85c\\\\uc81d\\\\ud2b8 \\\\uae30\\\\uc5ec\\\\uc790\"},\"publisher\":{\"@type\":\"Organization\",\"name\":\"Wikimedia Foundation, Inc.\",\"logo\":{\"@type\":\"ImageObject\",\"url\":\"https:\\\\/\\\\/www.wikimedia.org\\\\/static\\\\/images\\\\/wmf-hor-googpub.png\"}},\"datePublished\":\"2014-08-18T02:23:47Z\",\"dateModified\":\"2018-07-26T21:45:50Z\"}</script>\\n<script>(RLQ=window.RLQ||[]).push(function(){mw.config.set({\"wgBackendResponseTime\":153,\"wgHostname\":\"mw1333\"});});</script>\\n</body>\\n</html>\\n',\n",
       " 'qas': [{'answer': {'text': '나카무라 요시히로, 히라바야시 카츠토시, 사와다 메구미',\n",
       "    'html_answer_start': 21842,\n",
       "    'html_answer_text': '나카무라 요시히로, 히라바야시 카츠토시, 사와다 메구미',\n",
       "    'answer_start': 6302},\n",
       "   'question': '드라마 예고범의 감독은 누구일까?',\n",
       "   'id': '8089'}]}"
      ]
     },
     "execution_count": 153,
     "metadata": {},
     "output_type": "execute_result"
    }
   ],
   "source": [
    "dataset_json_02['data'][0]"
   ]
  },
  {
   "cell_type": "code",
   "execution_count": 155,
   "metadata": {
    "scrolled": true
   },
   "outputs": [
    {
     "data": {
      "text/plain": [
       "62320"
      ]
     },
     "execution_count": 155,
     "metadata": {},
     "output_type": "execute_result"
    }
   ],
   "source": [
    "len(dataset_json_02['data'][0]['raw_html'])"
   ]
  },
  {
   "cell_type": "code",
   "execution_count": null,
   "metadata": {},
   "outputs": [],
   "source": [
    "len(dataset_json_02['data'][0]['context'])"
   ]
  },
  {
   "cell_type": "code",
   "execution_count": 15,
   "metadata": {
    "scrolled": true
   },
   "outputs": [
    {
     "data": {
      "text/plain": [
       "{'title': '심규언',\n",
       " 'url': 'https://ko.wikipedia.org/wiki/심규언',\n",
       " 'context': '<!DOCTYPE html>\\n<html>\\n<head>\\n<meta>\\n<title>심규언 - 위키백과, 우리 모두의 백과사전</title>\\n\\n\\n<link>\\n\\n<meta>\\n<link>\\n<meta>\\n<meta>\\n<meta>\\n<meta>\\n<link>\\n<link>\\n<link>\\n<link>\\n<link>\\n<link>\\n<link>\\n<link>\\n<link>\\n<link>\\n<link>\\n\\n</head>\\n<body>\\n<div></div>\\n<div></div>\\n<div>\\n<a></a>\\n<div></div>\\n<div>\\n</div>\\n<h1>심규언</h1>\\n<div>\\n<div>위키백과, 우리 모두의 백과사전.</div>\\n<div></div>\\n<div></div>\\n<a>둘러보기로 가기</a>\\n<a>검색하러 가기</a>\\n<div><div><table>\\n<tbody><tr>\\n<td colspan=\"2\">\\n<div><div></div><span><big><big><b>심규언</b></big></big><br/><big>沈圭彦</big></span></div>\\n</td></tr>\\n<tr>\\n<td colspan=\"2\"><b>대한민국의 제17·18대 강원도 <a>동해시장</a></b>\\n</td></tr>\\n<tr>\\n<th><span>임기 </span>\\n</th>\\n<td><a>2014년</a> <a>7월 1일</a> ~\\n</td></tr>\\n<tr>\\n<th><span>전임 </span>\\n</th>\\n<td><a>김학기</a>\\n</td></tr>\\n<tr>\\n<th><span>후임 </span>\\n</th>\\n<td>(현직)\\n</td></tr>\\n<tr>\\n<td colspan=\"2\"><b>신상정보</b>\\n</td></tr>\\n<tr>\\n<th><span>국적 </span>\\n</th>\\n<td><span><a><img></a></span> <a>대한민국</a>\\n</td></tr>\\n<tr>\\n<th><span>출생일 </span>\\n</th>\\n<td>1955년 10월 1일<span>(<span>1955-10-01</span>)</span> (63세)\\n</td></tr>\\n<tr>\\n<th><span>출생지 </span>\\n</th>\\n<td><a>대한민국</a> <a>강원도</a> <a>동해시</a>\\n</td></tr>\\n<tr>\\n<th><span>본관 </span>\\n</th>\\n<td><a>삼척</a>\\n</td></tr>\\n<tr>\\n<th><span>학력 </span>\\n</th>\\n<td><a>관동대학교</a> 대학원 행정학 석사\\n</td></tr>\\n<tr>\\n<th><span>경력 </span>\\n</th>\\n<td>제22대 강원도 동해시 부시장<br/>새누리당 지방자치행정위원 <br/><a>자유한국당</a> 대표행정자치위원\\n</td></tr>\\n<tr>\\n<th><span>정당 </span>\\n</th>\\n<td><a>무소속</a>\\n</td></tr>\\n</tbody></table>\\n<p><b>심규언</b>(沈圭彦, 1955년 10월 1일 ~ )은 대한민국의 제17·18대 <a>강원도</a> <a>동해시장</a>이다.<sup><a>[1]</a></sup>\\n</p>\\n<div><input><div><h2>목차</h2><span><label></label></span></div>\\n<ul>\\n<li><a><span>1</span> <span>학력</span></a></li>\\n<li><a><span>2</span> <span>경력</span></a></li>\\n<li><a><span>3</span> <span>논란</span></a></li>\\n<li><a><span>4</span> <span>상훈</span></a></li>\\n<li><a><span>5</span> <span>역대 선거 결과</span></a></li>\\n<li><a><span>6</span> <span>같이 보기</span></a></li>\\n<li><a><span>7</span> <span>각주</span></a></li>\\n<li><a><span>8</span> <span>외부 링크</span></a></li>\\n</ul>\\n</div>\\n<h2><span></span><span>학력</span><span><span>[</span><a>편집</a><span>]</span></span></h2>\\n<ul><li><a>북삼초등학교</a> 졸업</li>\\n<li>~ 1971년 <a>북평중학교</a> 졸업</li>\\n<li>~ 1974년 춘천제일고등학교 졸업</li>\\n<li>~ 1992년 <a>한국방송통신대학교</a> 법학과 학사</li>\\n<li>~ 2008년 <a>관동대학교</a> 경영행정대학원 행정학 석사</li></ul>\\n<h2><span></span><span>경력</span><span><span>[</span><a>편집</a><span>]</span></span></h2>\\n<ul><li>1981년 4월\\xa0: 행정7급 공채</li>\\n<li>1995년 8월\\xa0: 사무관 승진</li>\\n<li><a>동해시</a> 문화공보실 실장</li>\\n<li><a>동해시</a> 환경보호과 과장</li>\\n<li><a>동해시</a> 북삼동장</li>\\n<li><a>동해시</a> 금강산관광지원사업소 소장</li>\\n<li><a>동해시</a> 사회복지과 과장</li>\\n<li><a>동해시</a> 세무과 과장</li>\\n<li><a>동해시</a> 회계과 과장</li>\\n<li><a>동해시</a> 기획예산담당관</li>\\n<li><a>동해시</a> 행정지원과 과장</li>\\n<li><a>동해시</a> 기획감사담당관</li>\\n<li><a>동해시</a> 자치행정과 과장</li>\\n<li><a>동해시</a> 행정지원국 국장</li>\\n<li>2008년 7월\\xa0: 서기관 승진, <a>동해시</a> 자치행정국 국장</li>\\n<li>2011년 7월 ~ 2012년 5월\\xa0: 제22대 강원도 동해시 부시장</li>\\n<li>2012년 5월 ~ 2014년 2월\\xa0: <a>동해시</a> 시장권한대행</li>\\n<li><a>새누리당</a> 지방자치행정위원</li>\\n<li>2014년 7월 ~\\xa0: 제17·18대 강원도 <a>동해시장</a></li>\\n<li><a>자유한국당</a> 대표행정자치위원</li>\\n<li>강원발전연구원 이사</li></ul>\\n<h2><span></span><span>논란</span><span><span>[</span><a>편집</a><span>]</span></span></h2>\\n<p>시장 재임 기간 시에서 추진하는 사업이 개인의 업적인 것처럼 하여 홍보 동영상을 수차례 개인 SNS에 게재한 혐의(공직선거법 위반)로 기소되었다. 2019년 2월 14일 춘천지법 강릉지원에서 열린 1심에서 공직선거법 위반 혐의에 대해 벌금 70만 원을 선고받았다. 2019년 5월 29일 서울고법 춘천재판부에서 열린 2심에서 공직선거법 위반 혐의에 대해 무죄를 선고받았다.\\n</p>\\n<h2><span></span><span>상훈</span><span><span>[</span><a>편집</a><span>]</span></span></h2>\\n<ul><li>1999년 보건복지부장관 표창</li>\\n<li>2005년 국무총리 표창</li>\\n<li>2010년 민주평화통일자문회의 대통령 표창</li></ul>\\n<h2><span></span><span>역대 선거 결과</span><span><span>[</span><a>편집</a><span>]</span></span></h2>\\n<table>\\n<tbody><tr>\\n<th>선거\\n</th>\\n<th>대수\\n</th>\\n<th>직책\\n</th>\\n<th>선거구\\n</th>\\n<th>정당\\n</th>\\n<th>득표수\\n</th>\\n<th>득표율\\n</th>\\n<th>순위\\n</th>\\n<th>당락\\n</th>\\n<th>비고\\n</th></tr>\\n<tr>\\n<td><a>지방 선거</a>\\n</td>\\n<td>17대\\n</td>\\n<td><a>시장</a>\\n</td>\\n<td><a>강원 동해시</a>\\n</td>\\n<td><a>새누리당</a>\\n</td>\\n<td>20,890 표\\n</td>\\n<td>\\n<table>\\n<tbody><tr>\\n<td><div></div>\\n</td>\\n<td><small><i>47.52%</i></small>\\n</td></tr></tbody></table>\\n</td>\\n<td>1위\\n</td>\\n<td><a><img></a>\\n</td>\\n<td><a>초선</a>, 민선 6기\\n</td></tr>\\n<tr>\\n<td><a>지방 선거</a>\\n</td>\\n<td>18대\\n</td>\\n<td><a>시장</a>\\n</td>\\n<td><a>강원 동해시</a>\\n</td>\\n<td><a>무소속</a>\\n</td>\\n<td>19,565 표\\n</td>\\n<td>\\n<table>\\n<tbody><tr>\\n<td><div></div>\\n</td>\\n<td><small><i>42.7%</i></small>\\n</td></tr></tbody></table>\\n</td>\\n<td>1위\\n</td>\\n<td><a><img></a>\\n</td>\\n<td><a>재선</a>,민선 7기\\n</td></tr></tbody></table>\\n<h2><span></span><span>같이 보기</span><span><span>[</span><a>편집</a><span>]</span></span></h2>\\n<div>\\n<table><tbody><tr>\\n<td>\\n<ul><li><a>심대평</a></li>\\n<li><a>심완구</a></li>\\n<li><a>심우영</a></li>\\n<li><a>심재홍</a></li>\\n<li><a>심상대</a></li>\\n<li><a>심재민</a></li>\\n<li><a>심재덕</a></li>\\n<li><a>심의조</a></li></ul>\\n<p>\\n</p>\\n</td>\\n<td>\\n<ul><li><a>심춘택</a></li>\\n<li><a>심헌구</a></li>\\n<li><a>심재국</a></li>\\n<li><a>심민</a></li>\\n<li><a>심기섭</a></li>\\n<li><a>심영목</a></li>\\n<li><a>심성택</a></li></ul>\\n<p>\\n</p>\\n</td></tr></tbody></table></div>\\n<h2><span></span><span>각주</span><span><span>[</span><a>편집</a><span>]</span></span></h2>\\n<div>\\n<div><ol>\\n<li><span><a>↑</a></span> <span><cite><a>“동해시장에 새누리당 심규언 당선”</a>. 《강원일보》. 2014년 6월 5일.</cite><span><span>\\xa0</span></span></span>\\n</li>\\n</ol></div></div>\\n<h2><span></span><span>외부 링크</span><span><span>[</span><a>편집</a><span>]</span></span></h2>\\n<ul><li><a>심규언 블로그</a></li></ul>\\n<table>\\n<tbody><tr>\\n<td>전임<br/><b><a>김학기</a></b>\\n</td>\\n<td>제17·18대 <a>강원도 동해시장</a> (민선)<br/><a>2014년</a> <a>7월 1일</a> ~\\n</td>\\n<td>후임<br/><b>(현직)</b>\\n</td></tr></tbody></table>\\n\\n\\n\\n</div><noscript><img></noscript></div>\\n<div>원본 주소 \"<a>https://ko.wikipedia.org/w/index.php?title=심규언&amp;oldid=24317819</a>\"</div>\\n<div><div><a>분류</a>: <ul><li><a>1955년 태어남</a></li><li><a>살아있는 사람</a></li><li><a>삼척 심씨</a></li><li><a>동해시 출신</a></li><li><a>북삼초등학교 (강원) 동문</a></li><li><a>북평중학교 (강원) 동문</a></li><li><a>춘천제일고등학교 동문</a></li><li><a>한국방송통신대학교 동문</a></li><li><a>관동대학교 동문</a></li><li><a>대한민국의 공무원</a></li><li><a>대한민국의 지방자치단체장</a></li><li><a>동해시장</a></li><li><a>자유한국당의 정치인</a></li></ul></div></div>\\n<div></div>\\n</div>\\n</div>\\n<div>\\n<h2>둘러보기 메뉴</h2>\\n<div>\\n<div>\\n<h3>개인 도구</h3>\\n<ul>\\n<li>로그인하지 않음</li><li><a>토론</a></li><li><a>기여</a></li><li><a>계정 만들기</a></li><li><a>로그인</a></li> </ul>\\n</div>\\n<div>\\n<div>\\n<h3>이름공간</h3>\\n<ul>\\n<li><span><a>문서</a></span></li><li><span><a>토론</a></span></li> </ul>\\n</div>\\n<div>\\n<input>\\n<h3>\\n<span>변수</span>\\n</h3>\\n<ul>\\n</ul>\\n</div>\\n</div>\\n<div>\\n<div>\\n<h3>보기</h3>\\n<ul>\\n<li><span><a>읽기</a></span></li><li><span><a>편집</a></span></li><li><span><a>역사 보기</a></span></li> </ul>\\n</div>\\n<div>\\n<input>\\n<h3><span>더 보기</span></h3>\\n<ul>\\n</ul>\\n</div>\\n<div>\\n<h3>\\n<label>검색</label>\\n</h3>\\n<form>\\n<div>\\n<input><input><input><input> </div>\\n</form>\\n</div>\\n</div>\\n</div>\\n<div>\\n<div><a></a></div>\\n<div>\\n<h3>둘러보기</h3>\\n<div>\\n<ul>\\n<li><a>대문</a></li><li><a>사용자 모임</a></li><li><a>요즘 화제</a></li><li><a>최근 바뀜</a></li><li><a>모든 문서 보기</a></li><li><a>임의 문서로</a></li><li><a>도움말</a></li><li><a>기부</a></li> </ul>\\n</div>\\n</div>\\n<div>\\n<h3>도구</h3>\\n<div>\\n<ul>\\n<li><a>여기를 가리키는 문서</a></li><li><a>가리키는 글의 최근 바뀜</a></li><li><a>파일 올리기</a></li><li><a>특수 문서 목록</a></li><li><a>고유 링크</a></li><li><a>문서 정보</a></li><li><a>위키데이터 항목</a></li><li><a>이 문서 인용하기</a></li> </ul>\\n</div>\\n</div>\\n<div>\\n<h3>인쇄/내보내기</h3>\\n<div>\\n<ul>\\n<li><a>책 만들기</a></li><li><a>PDF로 다운로드</a></li><li><a>인쇄용 판</a></li> </ul>\\n</div>\\n</div>\\n<div>\\n<h3>다른 언어</h3>\\n<div>\\n<ul>\\n</ul>\\n<div><span><a>링크 추가</a></span></div> </div>\\n</div>\\n</div>\\n</div>\\n<div>\\n<ul>\\n<li> 이 문서는 2019년 5월 29일 (수) 16:16에 마지막으로 편집되었습니다.</li>\\n<li>모든 문서는 <a>크리에이티브 커먼즈 저작자표시-동일조건변경허락 3.0</a>에 따라 사용할 수 있으며, 추가적인 조건이 적용될 수 있습니다. 자세한 내용은 <a>이용 약관</a>을 참고하십시오.<br/>Wikipedia®는 미국 및 다른 국가에 등록되어 있는 <a>Wikimedia Foundation, Inc.</a> 소유의 등록 상표입니다.</li>\\n</ul>\\n<ul>\\n<li><a>개인정보 정책</a></li>\\n<li><a>위키백과 소개</a></li>\\n<li><a>면책 조항</a></li>\\n<li><a>개발자</a></li>\\n<li><a>쿠키 정책</a></li>\\n<li><a>모바일 보기</a></li>\\n</ul>\\n<ul>\\n<li>\\n<a><img></a> </li>\\n<li>\\n<a><img></a> </li>\\n</ul>\\n<div></div>\\n</div>\\n\\n\\n\\n</body>\\n</html>\\n',\n",
       " 'raw_html': '<!DOCTYPE html>\\n<html class=\"client-nojs\" dir=\"ltr\" lang=\"ko\">\\n<head>\\n<meta charset=\"utf-8\"/>\\n<title>심규언 - 위키백과, 우리 모두의 백과사전</title>\\n<script>document.documentElement.className=document.documentElement.className.replace(/(^|\\\\s)client-nojs(\\\\s|$)/,\"$1client-js$2\");RLCONF={\"wgCanonicalNamespace\":\"\",\"wgCanonicalSpecialPageName\":!1,\"wgNamespaceNumber\":0,\"wgPageName\":\"심규언\",\"wgTitle\":\"심규언\",\"wgCurRevisionId\":24317819,\"wgRevisionId\":24317819,\"wgArticleId\":1619142,\"wgIsArticle\":!0,\"wgIsRedirect\":!1,\"wgAction\":\"view\",\"wgUserName\":null,\"wgUserGroups\":[\"*\"],\"wgCategories\":[\"1955년 태어남\",\"살아있는 사람\",\"삼척 심씨\",\"동해시 출신\",\"북삼초등학교 (강원) 동문\",\"북평중학교 (강원) 동문\",\"춘천제일고등학교 동문\",\"한국방송통신대학교 동문\",\"관동대학교 동문\",\"대한민국의 공무원\",\"대한민국의 지방자치단체장\",\"동해시장\",\"자유한국당의 정치인\"],\"wgBreakFrames\":!1,\"wgPageContentLanguage\":\"ko\",\"wgPageContentModel\":\"wikitext\",\"wgSeparatorTransformTable\":[\"\",\"\"],\"wgDigitTransformTable\":[\"\",\"\"],\"wgDefaultDateFormat\":\"ko\",\"wgMonthNames\":[\"\"\\n,\"1월\",\"2월\",\"3월\",\"4월\",\"5월\",\"6월\",\"7월\",\"8월\",\"9월\",\"10월\",\"11월\",\"12월\"],\"wgMonthNamesShort\":[\"\",\"1\",\"2\",\"3\",\"4\",\"5\",\"6\",\"7\",\"8\",\"9\",\"10\",\"11\",\"12\"],\"wgRelevantPageName\":\"심규언\",\"wgRelevantArticleId\":1619142,\"wgRequestId\":\"XRp@dwpAICkAABvrzSYAAACT\",\"wgCSPNonce\":!1,\"wgIsProbablyEditable\":!0,\"wgRelevantPageIsProbablyEditable\":!0,\"wgRestrictionEdit\":[],\"wgRestrictionMove\":[],\"wgMediaViewerOnClick\":!0,\"wgMediaViewerEnabledByDefault\":!0,\"wgPopupsReferencePreviews\":!1,\"wgPopupsConflictsWithNavPopupGadget\":!1,\"wgVisualEditor\":{\"pageLanguageCode\":\"ko\",\"pageLanguageDir\":\"ltr\",\"pageVariantFallbacks\":\"ko\"},\"wgMFDisplayWikibaseDescriptions\":{\"search\":!0,\"nearby\":!0,\"watchlist\":!0,\"tagline\":!0},\"wgWMESchemaEditAttemptStepOversample\":!1,\"wgPoweredByHHVM\":!0,\"wgULSCurrentAutonym\":\"한국어\",\"wgNoticeProject\":\"wikipedia\",\"wgWikibaseItemId\":\"Q27952812\",\"wgCentralAuthMobileDomain\":!1,\"wgEditSubmitButtonLabelPublish\":!0};RLSTATE={\\n\"ext.globalCssJs.user.styles\":\"ready\",\"ext.globalCssJs.site.styles\":\"ready\",\"site.styles\":\"ready\",\"noscript\":\"ready\",\"user.styles\":\"ready\",\"ext.globalCssJs.user\":\"ready\",\"ext.globalCssJs.site\":\"ready\",\"user\":\"ready\",\"user.options\":\"loading\",\"user.tokens\":\"loading\",\"ext.cite.styles\":\"ready\",\"mediawiki.legacy.shared\":\"ready\",\"mediawiki.legacy.commonPrint\":\"ready\",\"mediawiki.toc.styles\":\"ready\",\"wikibase.client.init\":\"ready\",\"ext.visualEditor.desktopArticleTarget.noscript\":\"ready\",\"ext.uls.interlanguage\":\"ready\",\"ext.wikimediaBadges\":\"ready\",\"ext.3d.styles\":\"ready\",\"mediawiki.skinning.interface\":\"ready\",\"skins.vector.styles\":\"ready\"};RLPAGEMODULES=[\"ext.cite.ux-enhancements\",\"site\",\"mediawiki.page.startup\",\"mediawiki.page.ready\",\"mediawiki.toc\",\"mediawiki.searchSuggest\",\"ext.gadget.directcommons\",\"ext.gadget.ReferenceTooltips\",\"ext.gadget.refToolbar\",\"ext.gadget.siteNotice\",\"ext.centralauth.centralautologin\",\"mmv.head\",\"mmv.bootstrap.autostart\",\"ext.popups\",\\n\"ext.visualEditor.desktopArticleTarget.init\",\"ext.visualEditor.targetLoader\",\"ext.eventLogging\",\"ext.wikimediaEvents\",\"ext.navigationTiming\",\"ext.uls.compactlinks\",\"ext.uls.interface\",\"ext.centralNotice.geoIP\",\"ext.centralNotice.startUp\",\"skins.vector.js\"];</script>\\n<script>(RLQ=window.RLQ||[]).push(function(){mw.loader.implement(\"user.options@0750cxc\",function($,jQuery,require,module){/*@nomin*/mw.user.options.set({\"variant\":\"ko\"});\\n});mw.loader.implement(\"user.tokens@0tffind\",function($,jQuery,require,module){/*@nomin*/mw.user.tokens.set({\"editToken\":\"+\\\\\\\\\",\"patrolToken\":\"+\\\\\\\\\",\"watchToken\":\"+\\\\\\\\\",\"csrfToken\":\"+\\\\\\\\\"});\\n});});</script>\\n<link href=\"/w/load.php?lang=ko&amp;modules=ext.3d.styles%7Cext.cite.styles%7Cext.uls.interlanguage%7Cext.visualEditor.desktopArticleTarget.noscript%7Cext.wikimediaBadges%7Cmediawiki.legacy.commonPrint%2Cshared%7Cmediawiki.skinning.interface%7Cmediawiki.toc.styles%7Cskins.vector.styles%7Cwikibase.client.init&amp;only=styles&amp;skin=vector\" rel=\"stylesheet\"/>\\n<script async=\"\" src=\"/w/load.php?lang=ko&amp;modules=startup&amp;only=scripts&amp;raw=1&amp;skin=vector\"></script>\\n<meta content=\"\" name=\"ResourceLoaderDynamicStyles\"/>\\n<link href=\"/w/load.php?lang=ko&amp;modules=site.styles&amp;only=styles&amp;skin=vector\" rel=\"stylesheet\"/>\\n<meta content=\"MediaWiki 1.34.0-wmf.11\" name=\"generator\"/>\\n<meta content=\"origin\" name=\"referrer\"/>\\n<meta content=\"origin-when-crossorigin\" name=\"referrer\"/>\\n<meta content=\"origin-when-cross-origin\" name=\"referrer\"/>\\n<link href=\"android-app://org.wikipedia/http/ko.m.wikipedia.org/wiki/%EC%8B%AC%EA%B7%9C%EC%96%B8\" rel=\"alternate\"/>\\n<link href=\"/w/index.php?title=%EC%8B%AC%EA%B7%9C%EC%96%B8&amp;action=edit\" rel=\"alternate\" title=\"편집\" type=\"application/x-wiki\"/>\\n<link href=\"/w/index.php?title=%EC%8B%AC%EA%B7%9C%EC%96%B8&amp;action=edit\" rel=\"edit\" title=\"편집\"/>\\n<link href=\"/static/apple-touch/wikipedia.png\" rel=\"apple-touch-icon\"/>\\n<link href=\"/static/favicon/wikipedia.ico\" rel=\"shortcut icon\"/>\\n<link href=\"/w/opensearch_desc.php\" rel=\"search\" title=\"위키백과 (ko)\" type=\"application/opensearchdescription+xml\"/>\\n<link href=\"//ko.wikipedia.org/w/api.php?action=rsd\" rel=\"EditURI\" type=\"application/rsd+xml\"/>\\n<link href=\"//creativecommons.org/licenses/by-sa/3.0/\" rel=\"license\"/>\\n<link href=\"https://ko.wikipedia.org/wiki/%EC%8B%AC%EA%B7%9C%EC%96%B8\" rel=\"canonical\"/>\\n<link href=\"//login.wikimedia.org\" rel=\"dns-prefetch\"/>\\n<link href=\"//meta.wikimedia.org\" rel=\"dns-prefetch\"/>\\n<!--[if lt IE 9]><script src=\"/w/load.php?modules=html5shiv&amp;only=scripts&amp;raw=1&amp;sync=1\"></script><![endif]-->\\n</head>\\n<body class=\"mediawiki ltr sitedir-ltr mw-hide-empty-elt ns-0 ns-subject mw-editable page-심규언 rootpage-심규언 skin-vector action-view\">\\n<div class=\"noprint\" id=\"mw-page-base\"></div>\\n<div class=\"noprint\" id=\"mw-head-base\"></div>\\n<div class=\"mw-body\" id=\"content\" role=\"main\">\\n<a id=\"top\"></a>\\n<div class=\"mw-body-content\" id=\"siteNotice\"><!-- CentralNotice --></div>\\n<div class=\"mw-indicators mw-body-content\">\\n</div>\\n<h1 class=\"firstHeading\" id=\"firstHeading\" lang=\"ko\">심규언</h1>\\n<div class=\"mw-body-content\" id=\"bodyContent\">\\n<div class=\"noprint\" id=\"siteSub\">위키백과, 우리 모두의 백과사전.</div>\\n<div id=\"contentSub\"></div>\\n<div id=\"jump-to-nav\"></div>\\n<a class=\"mw-jump-link\" href=\"#mw-head\">둘러보기로 가기</a>\\n<a class=\"mw-jump-link\" href=\"#p-search\">검색하러 가기</a>\\n<div class=\"mw-content-ltr\" dir=\"ltr\" id=\"mw-content-text\" lang=\"ko\"><div class=\"mw-parser-output\"><table class=\"infobox\" style=\"width:25em;\">\\n<tbody><tr>\\n<td colspan=\"2\">\\n<div style=\"position:relative; width:100%; height:50px; display:table;\"><div style=\"position:absolute; bottom:0px; right:0;\"></div><span style=\"position:relative; width:100%; display:table-cell; vertical-align:middle; text-align:center;\"><big><big><b>심규언</b></big></big><br/><big>沈圭彦</big></span></div>\\n</td></tr>\\n<tr>\\n<td colspan=\"2\" style=\"text-align: center; vertical-align:middle; background: #D2D2FF;\"><b>대한민국의 제17·18대 강원도 <a href=\"/wiki/%EB%8F%99%ED%95%B4%EC%8B%9C\" title=\"동해시\">동해시장</a></b>\\n</td></tr>\\n<tr>\\n<th style=\"text-align: left;\"><span class=\"nowrap\">임기 </span>\\n</th>\\n<td><a href=\"/wiki/2014%EB%85%84\" title=\"2014년\">2014년</a> <a href=\"/wiki/7%EC%9B%94_1%EC%9D%BC\" title=\"7월 1일\">7월 1일</a> ~\\n</td></tr>\\n<tr>\\n<th style=\"text-align: left;\"><span class=\"nowrap\">전임 </span>\\n</th>\\n<td><a class=\"new\" href=\"/w/index.php?title=%EA%B9%80%ED%95%99%EA%B8%B0&amp;action=edit&amp;redlink=1\" title=\"김학기 (없는 문서)\">김학기</a>\\n</td></tr>\\n<tr>\\n<th style=\"text-align: left;\"><span class=\"nowrap\">후임 </span>\\n</th>\\n<td>(현직)\\n</td></tr>\\n<tr>\\n<td colspan=\"2\" style=\"text-align: center; vertical-align:middle; background: #D2D2FF;\"><b>신상정보</b>\\n</td></tr>\\n<tr>\\n<th style=\"text-align: left;\"><span class=\"nowrap\">국적 </span>\\n</th>\\n<td><span class=\"flagicon\"><a class=\"image\" href=\"/wiki/%ED%8C%8C%EC%9D%BC:Flag_of_South_Korea.svg\"><img alt=\"대한민국의 기\" class=\"thumbborder\" data-file-height=\"600\" data-file-width=\"900\" decoding=\"async\" height=\"15\" src=\"//upload.wikimedia.org/wikipedia/commons/thumb/0/09/Flag_of_South_Korea.svg/22px-Flag_of_South_Korea.svg.png\" srcset=\"//upload.wikimedia.org/wikipedia/commons/thumb/0/09/Flag_of_South_Korea.svg/33px-Flag_of_South_Korea.svg.png 1.5x, //upload.wikimedia.org/wikipedia/commons/thumb/0/09/Flag_of_South_Korea.svg/44px-Flag_of_South_Korea.svg.png 2x\" width=\"22\"/></a></span> <a href=\"/wiki/%EB%8C%80%ED%95%9C%EB%AF%BC%EA%B5%AD\" title=\"대한민국\">대한민국</a>\\n</td></tr>\\n<tr>\\n<th style=\"text-align: left;\"><span class=\"nowrap\">출생일 </span>\\n</th>\\n<td>1955년 10월 1일<span style=\"display:none\">(<span class=\"bday\">1955-10-01</span>)</span> (63세)\\n</td></tr>\\n<tr>\\n<th style=\"text-align: left;\"><span class=\"nowrap\">출생지 </span>\\n</th>\\n<td><a href=\"/wiki/%EB%8C%80%ED%95%9C%EB%AF%BC%EA%B5%AD\" title=\"대한민국\">대한민국</a> <a href=\"/wiki/%EA%B0%95%EC%9B%90%EB%8F%84_(%EB%82%A8)\" title=\"강원도 (남)\">강원도</a> <a href=\"/wiki/%EB%8F%99%ED%95%B4%EC%8B%9C\" title=\"동해시\">동해시</a>\\n</td></tr>\\n<tr>\\n<th style=\"text-align: left;\"><span class=\"nowrap\">본관 </span>\\n</th>\\n<td><a href=\"/wiki/%EC%82%BC%EC%B2%99_%EC%8B%AC%EC%94%A8\" title=\"삼척 심씨\">삼척</a>\\n</td></tr>\\n<tr>\\n<th style=\"text-align: left;\"><span class=\"nowrap\">학력 </span>\\n</th>\\n<td><a class=\"mw-redirect\" href=\"/wiki/%EA%B4%80%EB%8F%99%EB%8C%80%ED%95%99%EA%B5%90\" title=\"관동대학교\">관동대학교</a> 대학원 행정학 석사\\n</td></tr>\\n<tr>\\n<th style=\"text-align: left;\"><span class=\"nowrap\">경력 </span>\\n</th>\\n<td>제22대 강원도 동해시 부시장<br/>새누리당 지방자치행정위원 <br/><a href=\"/wiki/%EC%9E%90%EC%9C%A0%ED%95%9C%EA%B5%AD%EB%8B%B9\" title=\"자유한국당\">자유한국당</a> 대표행정자치위원\\n</td></tr>\\n<tr>\\n<th style=\"text-align: left;\"><span class=\"nowrap\">정당 </span>\\n</th>\\n<td><a href=\"/wiki/%EB%AC%B4%EC%86%8C%EC%86%8D\" title=\"무소속\">무소속</a>\\n</td></tr>\\n</tbody></table>\\n<p><b>심규언</b>(沈圭彦, 1955년 10월 1일 ~ )은 대한민국의 제17·18대 <a href=\"/wiki/%EA%B0%95%EC%9B%90%EB%8F%84_(%EB%82%A8)\" title=\"강원도 (남)\">강원도</a> <a href=\"/wiki/%EB%8F%99%ED%95%B4%EC%8B%9C\" title=\"동해시\">동해시장</a>이다.<sup class=\"reference\" id=\"cite_ref-1\"><a href=\"#cite_note-1\">[1]</a></sup>\\n</p>\\n<div class=\"toc\" id=\"toc\"><input class=\"toctogglecheckbox\" id=\"toctogglecheckbox\" role=\"button\" style=\"display:none\" type=\"checkbox\"/><div class=\"toctitle\" dir=\"ltr\" lang=\"ko\"><h2>목차</h2><span class=\"toctogglespan\"><label class=\"toctogglelabel\" for=\"toctogglecheckbox\"></label></span></div>\\n<ul>\\n<li class=\"toclevel-1 tocsection-1\"><a href=\"#학력\"><span class=\"tocnumber\">1</span> <span class=\"toctext\">학력</span></a></li>\\n<li class=\"toclevel-1 tocsection-2\"><a href=\"#경력\"><span class=\"tocnumber\">2</span> <span class=\"toctext\">경력</span></a></li>\\n<li class=\"toclevel-1 tocsection-3\"><a href=\"#논란\"><span class=\"tocnumber\">3</span> <span class=\"toctext\">논란</span></a></li>\\n<li class=\"toclevel-1 tocsection-4\"><a href=\"#상훈\"><span class=\"tocnumber\">4</span> <span class=\"toctext\">상훈</span></a></li>\\n<li class=\"toclevel-1 tocsection-5\"><a href=\"#역대_선거_결과\"><span class=\"tocnumber\">5</span> <span class=\"toctext\">역대 선거 결과</span></a></li>\\n<li class=\"toclevel-1 tocsection-6\"><a href=\"#같이_보기\"><span class=\"tocnumber\">6</span> <span class=\"toctext\">같이 보기</span></a></li>\\n<li class=\"toclevel-1 tocsection-7\"><a href=\"#각주\"><span class=\"tocnumber\">7</span> <span class=\"toctext\">각주</span></a></li>\\n<li class=\"toclevel-1 tocsection-8\"><a href=\"#외부_링크\"><span class=\"tocnumber\">8</span> <span class=\"toctext\">외부 링크</span></a></li>\\n</ul>\\n</div>\\n<h2><span id=\".ED.95.99.EB.A0.A5\"></span><span class=\"mw-headline\" id=\"학력\">학력</span><span class=\"mw-editsection\"><span class=\"mw-editsection-bracket\">[</span><a href=\"/w/index.php?title=%EC%8B%AC%EA%B7%9C%EC%96%B8&amp;action=edit&amp;section=1\" title=\"부분 편집: 학력\">편집</a><span class=\"mw-editsection-bracket\">]</span></span></h2>\\n<ul><li><a class=\"mw-disambig\" href=\"/wiki/%EB%B6%81%EC%82%BC%EC%B4%88%EB%93%B1%ED%95%99%EA%B5%90\" title=\"북삼초등학교\">북삼초등학교</a> 졸업</li>\\n<li>~ 1971년 <a class=\"mw-disambig\" href=\"/wiki/%EB%B6%81%ED%8F%89%EC%A4%91%ED%95%99%EA%B5%90\" title=\"북평중학교\">북평중학교</a> 졸업</li>\\n<li>~ 1974년 춘천제일고등학교 졸업</li>\\n<li>~ 1992년 <a href=\"/wiki/%ED%95%9C%EA%B5%AD%EB%B0%A9%EC%86%A1%ED%86%B5%EC%8B%A0%EB%8C%80%ED%95%99%EA%B5%90\" title=\"한국방송통신대학교\">한국방송통신대학교</a> 법학과 학사</li>\\n<li>~ 2008년 <a class=\"mw-redirect\" href=\"/wiki/%EA%B4%80%EB%8F%99%EB%8C%80%ED%95%99%EA%B5%90\" title=\"관동대학교\">관동대학교</a> 경영행정대학원 행정학 석사</li></ul>\\n<h2><span id=\".EA.B2.BD.EB.A0.A5\"></span><span class=\"mw-headline\" id=\"경력\">경력</span><span class=\"mw-editsection\"><span class=\"mw-editsection-bracket\">[</span><a href=\"/w/index.php?title=%EC%8B%AC%EA%B7%9C%EC%96%B8&amp;action=edit&amp;section=2\" title=\"부분 편집: 경력\">편집</a><span class=\"mw-editsection-bracket\">]</span></span></h2>\\n<ul><li>1981년 4월\\xa0: 행정7급 공채</li>\\n<li>1995년 8월\\xa0: 사무관 승진</li>\\n<li><a href=\"/wiki/%EB%8F%99%ED%95%B4%EC%8B%9C\" title=\"동해시\">동해시</a> 문화공보실 실장</li>\\n<li><a href=\"/wiki/%EB%8F%99%ED%95%B4%EC%8B%9C\" title=\"동해시\">동해시</a> 환경보호과 과장</li>\\n<li><a href=\"/wiki/%EB%8F%99%ED%95%B4%EC%8B%9C\" title=\"동해시\">동해시</a> 북삼동장</li>\\n<li><a href=\"/wiki/%EB%8F%99%ED%95%B4%EC%8B%9C\" title=\"동해시\">동해시</a> 금강산관광지원사업소 소장</li>\\n<li><a href=\"/wiki/%EB%8F%99%ED%95%B4%EC%8B%9C\" title=\"동해시\">동해시</a> 사회복지과 과장</li>\\n<li><a href=\"/wiki/%EB%8F%99%ED%95%B4%EC%8B%9C\" title=\"동해시\">동해시</a> 세무과 과장</li>\\n<li><a href=\"/wiki/%EB%8F%99%ED%95%B4%EC%8B%9C\" title=\"동해시\">동해시</a> 회계과 과장</li>\\n<li><a href=\"/wiki/%EB%8F%99%ED%95%B4%EC%8B%9C\" title=\"동해시\">동해시</a> 기획예산담당관</li>\\n<li><a href=\"/wiki/%EB%8F%99%ED%95%B4%EC%8B%9C\" title=\"동해시\">동해시</a> 행정지원과 과장</li>\\n<li><a href=\"/wiki/%EB%8F%99%ED%95%B4%EC%8B%9C\" title=\"동해시\">동해시</a> 기획감사담당관</li>\\n<li><a href=\"/wiki/%EB%8F%99%ED%95%B4%EC%8B%9C\" title=\"동해시\">동해시</a> 자치행정과 과장</li>\\n<li><a href=\"/wiki/%EB%8F%99%ED%95%B4%EC%8B%9C\" title=\"동해시\">동해시</a> 행정지원국 국장</li>\\n<li>2008년 7월\\xa0: 서기관 승진, <a href=\"/wiki/%EB%8F%99%ED%95%B4%EC%8B%9C\" title=\"동해시\">동해시</a> 자치행정국 국장</li>\\n<li>2011년 7월 ~ 2012년 5월\\xa0: 제22대 강원도 동해시 부시장</li>\\n<li>2012년 5월 ~ 2014년 2월\\xa0: <a href=\"/wiki/%EB%8F%99%ED%95%B4%EC%8B%9C\" title=\"동해시\">동해시</a> 시장권한대행</li>\\n<li><a class=\"mw-redirect\" href=\"/wiki/%EC%83%88%EB%88%84%EB%A6%AC%EB%8B%B9\" title=\"새누리당\">새누리당</a> 지방자치행정위원</li>\\n<li>2014년 7월 ~\\xa0: 제17·18대 강원도 <a href=\"/wiki/%EB%8F%99%ED%95%B4%EC%8B%9C\" title=\"동해시\">동해시장</a></li>\\n<li><a href=\"/wiki/%EC%9E%90%EC%9C%A0%ED%95%9C%EA%B5%AD%EB%8B%B9\" title=\"자유한국당\">자유한국당</a> 대표행정자치위원</li>\\n<li>강원발전연구원 이사</li></ul>\\n<h2><span id=\".EB.85.BC.EB.9E.80\"></span><span class=\"mw-headline\" id=\"논란\">논란</span><span class=\"mw-editsection\"><span class=\"mw-editsection-bracket\">[</span><a href=\"/w/index.php?title=%EC%8B%AC%EA%B7%9C%EC%96%B8&amp;action=edit&amp;section=3\" title=\"부분 편집: 논란\">편집</a><span class=\"mw-editsection-bracket\">]</span></span></h2>\\n<p>시장 재임 기간 시에서 추진하는 사업이 개인의 업적인 것처럼 하여 홍보 동영상을 수차례 개인 SNS에 게재한 혐의(공직선거법 위반)로 기소되었다. 2019년 2월 14일 춘천지법 강릉지원에서 열린 1심에서 공직선거법 위반 혐의에 대해 벌금 70만 원을 선고받았다. 2019년 5월 29일 서울고법 춘천재판부에서 열린 2심에서 공직선거법 위반 혐의에 대해 무죄를 선고받았다.\\n</p>\\n<h2><span id=\".EC.83.81.ED.9B.88\"></span><span class=\"mw-headline\" id=\"상훈\">상훈</span><span class=\"mw-editsection\"><span class=\"mw-editsection-bracket\">[</span><a href=\"/w/index.php?title=%EC%8B%AC%EA%B7%9C%EC%96%B8&amp;action=edit&amp;section=4\" title=\"부분 편집: 상훈\">편집</a><span class=\"mw-editsection-bracket\">]</span></span></h2>\\n<ul><li>1999년 보건복지부장관 표창</li>\\n<li>2005년 국무총리 표창</li>\\n<li>2010년 민주평화통일자문회의 대통령 표창</li></ul>\\n<h2><span id=\".EC.97.AD.EB.8C.80_.EC.84.A0.EA.B1.B0_.EA.B2.B0.EA.B3.BC\"></span><span class=\"mw-headline\" id=\"역대_선거_결과\">역대 선거 결과</span><span class=\"mw-editsection\"><span class=\"mw-editsection-bracket\">[</span><a href=\"/w/index.php?title=%EC%8B%AC%EA%B7%9C%EC%96%B8&amp;action=edit&amp;section=5\" title=\"부분 편집: 역대 선거 결과\">편집</a><span class=\"mw-editsection-bracket\">]</span></span></h2>\\n<table class=\"wikitable\">\\n<tbody><tr>\\n<th>선거\\n</th>\\n<th>대수\\n</th>\\n<th>직책\\n</th>\\n<th>선거구\\n</th>\\n<th>정당\\n</th>\\n<th>득표수\\n</th>\\n<th>득표율\\n</th>\\n<th>순위\\n</th>\\n<th>당락\\n</th>\\n<th>비고\\n</th></tr>\\n<tr>\\n<td align=\"center\" bgcolor=\"CCFFCC\"><a class=\"mw-redirect\" href=\"/wiki/%EB%8C%80%ED%95%9C%EB%AF%BC%EA%B5%AD_%EC%A0%9C6%ED%9A%8C_%EC%A7%80%EB%B0%A9_%EC%84%A0%EA%B1%B0\" title=\"대한민국 제6회 지방 선거\">지방 선거</a>\\n</td>\\n<td align=\"center\" bgcolor=\"CCFFCC\">17대\\n</td>\\n<td align=\"center\" bgcolor=\"CCFFCC\"><a href=\"/wiki/%EC%A7%80%EB%B0%A9_%EA%B4%80%EC%B2%AD\" title=\"지방 관청\">시장</a>\\n</td>\\n<td align=\"center\" bgcolor=\"CCFFCC\"><a href=\"/wiki/%EB%8F%99%ED%95%B4%EC%8B%9C\" title=\"동해시\">강원 동해시</a>\\n</td>\\n<td align=\"center\" bgcolor=\"CCFFCC\"><a class=\"mw-redirect\" href=\"/wiki/%EC%83%88%EB%88%84%EB%A6%AC%EB%8B%B9\" title=\"새누리당\">새누리당</a>\\n</td>\\n<td align=\"right\" bgcolor=\"CCFFCC\">20,890 표\\n</td>\\n<td align=\"left\" bgcolor=\"CCFFCC\">\\n<table style=\"width:150; height:3px;\">\\n<tbody><tr>\\n<td align=\"left\" style=\"width: 28.512%; height:3px;\"><div style=\"background-color:#C8161E;width:47px;height:6px;\"></div>\\n</td>\\n<td style=\"font-weight:bold;\"><small><i>47.52%</i></small>\\n</td></tr></tbody></table>\\n</td>\\n<td align=\"center\" bgcolor=\"CCFFCC\">1위\\n</td>\\n<td align=\"center\" bgcolor=\"CCFFCC\"><a class=\"image\" href=\"/wiki/%ED%8C%8C%EC%9D%BC:%EA%B0%95%EC%9B%90%EB%8B%B9%EC%84%A0.png\"><img alt=\"강원당선.png\" data-file-height=\"200\" data-file-width=\"200\" decoding=\"async\" height=\"20\" src=\"//upload.wikimedia.org/wikipedia/ko/thumb/0/00/%EA%B0%95%EC%9B%90%EB%8B%B9%EC%84%A0.png/20px-%EA%B0%95%EC%9B%90%EB%8B%B9%EC%84%A0.png\" srcset=\"//upload.wikimedia.org/wikipedia/ko/thumb/0/00/%EA%B0%95%EC%9B%90%EB%8B%B9%EC%84%A0.png/30px-%EA%B0%95%EC%9B%90%EB%8B%B9%EC%84%A0.png 1.5x, //upload.wikimedia.org/wikipedia/ko/thumb/0/00/%EA%B0%95%EC%9B%90%EB%8B%B9%EC%84%A0.png/40px-%EA%B0%95%EC%9B%90%EB%8B%B9%EC%84%A0.png 2x\" width=\"20\"/></a>\\n</td>\\n<td align=\"center\" bgcolor=\"CCFFCC\"><a class=\"mw-redirect\" href=\"/wiki/%EB%8C%80%ED%95%9C%EB%AF%BC%EA%B5%AD_%EC%A0%9C6%ED%9A%8C_%EC%A7%80%EB%B0%A9_%EC%84%A0%EA%B1%B0_%EA%B0%95%EC%9B%90%EB%8F%84#기초자치단체장\" title=\"대한민국 제6회 지방 선거 강원도\">초선</a>, 민선 6기\\n</td></tr>\\n<tr>\\n<td align=\"center\" bgcolor=\"CCFFCC\"><a class=\"mw-redirect\" href=\"/wiki/%EB%8C%80%ED%95%9C%EB%AF%BC%EA%B5%AD_%EC%A0%9C7%ED%9A%8C_%EC%A7%80%EB%B0%A9_%EC%84%A0%EA%B1%B0\" title=\"대한민국 제7회 지방 선거\">지방 선거</a>\\n</td>\\n<td align=\"center\" bgcolor=\"CCFFCC\">18대\\n</td>\\n<td align=\"center\" bgcolor=\"CCFFCC\"><a href=\"/wiki/%EC%A7%80%EB%B0%A9_%EA%B4%80%EC%B2%AD\" title=\"지방 관청\">시장</a>\\n</td>\\n<td align=\"center\" bgcolor=\"CCFFCC\"><a href=\"/wiki/%EB%8F%99%ED%95%B4%EC%8B%9C\" title=\"동해시\">강원 동해시</a>\\n</td>\\n<td align=\"center\" bgcolor=\"CCFFCC\"><a href=\"/wiki/%EB%AC%B4%EC%86%8C%EC%86%8D\" title=\"무소속\">무소속</a>\\n</td>\\n<td align=\"right\" bgcolor=\"CCFFCC\">19,565 표\\n</td>\\n<td align=\"left\" bgcolor=\"CCFFCC\">\\n<table style=\"width:150; height:3px;\">\\n<tbody><tr>\\n<td align=\"left\" style=\"width: 25.62%; height:3px;\"><div style=\"background-color:#828282;width:42px;height:6px;\"></div>\\n</td>\\n<td style=\"font-weight:bold;\"><small><i>42.7%</i></small>\\n</td></tr></tbody></table>\\n</td>\\n<td align=\"center\" bgcolor=\"CCFFCC\">1위\\n</td>\\n<td align=\"center\" bgcolor=\"CCFFCC\"><a class=\"image\" href=\"/wiki/%ED%8C%8C%EC%9D%BC:%EA%B0%95%EC%9B%90%EB%8B%B9%EC%84%A0.png\"><img alt=\"강원당선.png\" data-file-height=\"200\" data-file-width=\"200\" decoding=\"async\" height=\"20\" src=\"//upload.wikimedia.org/wikipedia/ko/thumb/0/00/%EA%B0%95%EC%9B%90%EB%8B%B9%EC%84%A0.png/20px-%EA%B0%95%EC%9B%90%EB%8B%B9%EC%84%A0.png\" srcset=\"//upload.wikimedia.org/wikipedia/ko/thumb/0/00/%EA%B0%95%EC%9B%90%EB%8B%B9%EC%84%A0.png/30px-%EA%B0%95%EC%9B%90%EB%8B%B9%EC%84%A0.png 1.5x, //upload.wikimedia.org/wikipedia/ko/thumb/0/00/%EA%B0%95%EC%9B%90%EB%8B%B9%EC%84%A0.png/40px-%EA%B0%95%EC%9B%90%EB%8B%B9%EC%84%A0.png 2x\" width=\"20\"/></a>\\n</td>\\n<td align=\"center\" bgcolor=\"CCFFCC\"><a class=\"mw-redirect\" href=\"/wiki/%EB%8C%80%ED%95%9C%EB%AF%BC%EA%B5%AD_%EC%A0%9C7%ED%9A%8C_%EC%A7%80%EB%B0%A9_%EC%84%A0%EA%B1%B0_%EA%B0%95%EC%9B%90%EB%8F%84#기초자치단체장\" title=\"대한민국 제7회 지방 선거 강원도\">재선</a>,민선 7기\\n</td></tr></tbody></table>\\n<h2><span id=\".EA.B0.99.EC.9D.B4_.EB.B3.B4.EA.B8.B0\"></span><span class=\"mw-headline\" id=\"같이_보기\">같이 보기</span><span class=\"mw-editsection\"><span class=\"mw-editsection-bracket\">[</span><a href=\"/w/index.php?title=%EC%8B%AC%EA%B7%9C%EC%96%B8&amp;action=edit&amp;section=6\" title=\"부분 편집: 같이 보기\">편집</a><span class=\"mw-editsection-bracket\">]</span></span></h2>\\n<div>\\n<table class=\"multicol\" role=\"presentation\" style=\"border-collapse: collapse; padding: 0; border: 0; background:transparent; width:100%;\"><tbody><tr>\\n<td style=\"width:50%; text-align:left; vertical-align:top;\">\\n<ul><li><a href=\"/wiki/%EC%8B%AC%EB%8C%80%ED%8F%89\" title=\"심대평\">심대평</a></li>\\n<li><a href=\"/wiki/%EC%8B%AC%EC%99%84%EA%B5%AC\" title=\"심완구\">심완구</a></li>\\n<li><a href=\"/wiki/%EC%8B%AC%EC%9A%B0%EC%98%81\" title=\"심우영\">심우영</a></li>\\n<li><a href=\"/wiki/%EC%8B%AC%EC%9E%AC%ED%99%8D\" title=\"심재홍\">심재홍</a></li>\\n<li><a href=\"/wiki/%EC%8B%AC%EC%83%81%EB%8C%80_(1908%EB%85%84)\" title=\"심상대 (1908년)\">심상대</a></li>\\n<li><a href=\"/wiki/%EC%8B%AC%EC%9E%AC%EB%AF%BC_(1953%EB%85%84)\" title=\"심재민 (1953년)\">심재민</a></li>\\n<li><a href=\"/wiki/%EC%8B%AC%EC%9E%AC%EB%8D%95\" title=\"심재덕\">심재덕</a></li>\\n<li><a href=\"/wiki/%EC%8B%AC%EC%9D%98%EC%A1%B0\" title=\"심의조\">심의조</a></li></ul>\\n<p>\\n</p>\\n</td>\\n<td style=\"width:50%; text-align:left; vertical-align:top;\">\\n<ul><li><a href=\"/wiki/%EC%8B%AC%EC%B6%98%ED%83%9D\" title=\"심춘택\">심춘택</a></li>\\n<li><a href=\"/wiki/%EC%8B%AC%ED%97%8C%EA%B5%AC\" title=\"심헌구\">심헌구</a></li>\\n<li><a href=\"/wiki/%EC%8B%AC%EC%9E%AC%EA%B5%AD\" title=\"심재국\">심재국</a></li>\\n<li><a href=\"/wiki/%EC%8B%AC%EB%AF%BC_(1947%EB%85%84)\" title=\"심민 (1947년)\">심민</a></li>\\n<li><a href=\"/wiki/%EC%8B%AC%EA%B8%B0%EC%84%AD\" title=\"심기섭\">심기섭</a></li>\\n<li><a href=\"/wiki/%EC%8B%AC%EC%98%81%EB%AA%A9\" title=\"심영목\">심영목</a></li>\\n<li><a href=\"/wiki/%EC%8B%AC%EC%84%B1%ED%83%9D\" title=\"심성택\">심성택</a></li></ul>\\n<p>\\n</p>\\n</td></tr></tbody></table></div>\\n<h2><span id=\".EA.B0.81.EC.A3.BC\"></span><span class=\"mw-headline\" id=\"각주\">각주</span><span class=\"mw-editsection\"><span class=\"mw-editsection-bracket\">[</span><a href=\"/w/index.php?title=%EC%8B%AC%EA%B7%9C%EC%96%B8&amp;action=edit&amp;section=7\" title=\"부분 편집: 각주\">편집</a><span class=\"mw-editsection-bracket\">]</span></span></h2>\\n<div class=\"reflist\" style=\"list-style-type: decimal;\">\\n<div class=\"mw-references-wrap\"><ol class=\"references\">\\n<li id=\"cite_note-1\"><span class=\"mw-cite-backlink\"><a href=\"#cite_ref-1\">↑</a></span> <span class=\"reference-text\"><cite class=\"citation news\"><a class=\"external text\" href=\"http://www.gwnews.org/news/articleView.html?idxno=52377\" rel=\"nofollow\">“동해시장에 새누리당 심규언 당선”</a>. 《강원일보》. 2014년 6월 5일.</cite><span class=\"Z3988\" title=\"ctx_ver=Z39.88-2004&amp;rfr_id=info%3Asid%2Fko.wikipedia.org%3A%EC%AC%EA%B7%9C%EC%96%B8&amp;rft.atitle=%EB%8F%99%ED%95%B4%EC%9C%EC%9E%A5%EC%97%90+%EC%83%88%EB%88%84%EB%A6%AC%EB%B9+%EC%AC%EA%B7%9C%EC%96%B8+%EB%B9%EC%84%A0&amp;rft.date=2014-06-05&amp;rft.genre=article&amp;rft.jtitle=%EA%B0%95%EC%9B%90%EC%9D%BC%EB%B3%B4&amp;rft_id=http%3A%2F%2Fwww.gwnews.org%2Fnews%2FarticleView.html%3Fidxno%3D52377&amp;rft_val_fmt=info%3Aofi%2Ffmt%3Akev%3Amtx%3Ajournal\"><span style=\"display:none;\">\\xa0</span></span></span>\\n</li>\\n</ol></div></div>\\n<h2><span id=\".EC.99.B8.EB.B6.80_.EB.A7.81.ED.81.AC\"></span><span class=\"mw-headline\" id=\"외부_링크\">외부 링크</span><span class=\"mw-editsection\"><span class=\"mw-editsection-bracket\">[</span><a href=\"/w/index.php?title=%EC%8B%AC%EA%B7%9C%EC%96%B8&amp;action=edit&amp;section=8\" title=\"부분 편집: 외부 링크\">편집</a><span class=\"mw-editsection-bracket\">]</span></span></h2>\\n<ul><li><a class=\"external text\" href=\"https://blog.naver.com/donghaesim\" rel=\"nofollow\">심규언 블로그</a></li></ul>\\n<table align=\"center\" style=\"width:80%; border-collapse:collapse; border-top:0.2em solid #aaaaaa; border-bottom:0.2em solid #aaaaaa; clear:both; margin: 0.3em auto; background:#F9F9F9; text-align: center; line-height:1.5em;\">\\n<tbody><tr style=\"font-size: 85%;\">\\n<td style=\"width:25%;\">전임<br/><b><a class=\"new\" href=\"/w/index.php?title=%EA%B9%80%ED%95%99%EA%B8%B0&amp;action=edit&amp;redlink=1\" title=\"김학기 (없는 문서)\">김학기</a></b>\\n</td>\\n<td style=\"width:50%;\">제17·18대 <a href=\"/wiki/%EB%8F%99%ED%95%B4%EC%8B%9C\" title=\"동해시\">강원도 동해시장</a> (민선)<br/><a href=\"/wiki/2014%EB%85%84\" title=\"2014년\">2014년</a> <a href=\"/wiki/7%EC%9B%94_1%EC%9D%BC\" title=\"7월 1일\">7월 1일</a> ~\\n</td>\\n<td style=\"width:25%;\">후임<br/><b>(현직)</b>\\n</td></tr></tbody></table>\\n<!-- \\nNewPP limit report\\nParsed by mw1320\\nCached time: 20190701214319\\nCache expiry: 3600\\nDynamic content: true\\nComplications: []\\nCPU time usage: 0.200 seconds\\nReal time usage: 0.281 seconds\\nPreprocessor visited node count: 2835/1000000\\nPreprocessor generated node count: 0/1500000\\nPost‐expand include size: 13213/2097152 bytes\\nTemplate argument size: 4500/2097152 bytes\\nHighest expansion depth: 12/40\\nExpensive parser function count: 0/500\\nUnstrip recursion depth: 0/20\\nUnstrip post‐expand size: 1064/5000000 bytes\\nNumber of Wikibase entities loaded: 1/400\\nLua time usage: 0.025/10.000 seconds\\nLua memory usage: 1.36 MB/50 MB\\n-->\\n<!--\\nTransclusion expansion time report (%,ms,calls,template)\\n100.00%  246.815      1 -total\\n 42.58%  105.096      1 틀:공직자_정보\\n 27.80%   68.621      1 틀:각주\\n 23.53%   58.079      1 틀:뉴스_인용\\n 17.81%   43.953      2 틀:선거기록/KR/개인\\n 15.18%   37.471     51 틀:정보상자_칸\\n  9.40%   23.199      4 틀:정당색/대한민국\\n  5.18%   12.777      1 틀:KOR\\n  4.63%   11.436      1 틀:출생일과_만나이\\n  4.22%   10.420      1 틀:Wikidata_image\\n-->\\n<!-- Saved in parser cache with key kowiki:pcache:idhash:1619142-0!canonical and timestamp 20190701214319 and revision id 24317819\\n -->\\n</div><noscript><img alt=\"\" height=\"1\" src=\"//ko.wikipedia.org/wiki/Special:CentralAutoLogin/start?type=1x1\" style=\"border: none; position: absolute;\" title=\"\" width=\"1\"/></noscript></div>\\n<div class=\"printfooter\">원본 주소 \"<a dir=\"ltr\" href=\"https://ko.wikipedia.org/w/index.php?title=심규언&amp;oldid=24317819\">https://ko.wikipedia.org/w/index.php?title=심규언&amp;oldid=24317819</a>\"</div>\\n<div class=\"catlinks\" data-mw=\"interface\" id=\"catlinks\"><div class=\"mw-normal-catlinks\" id=\"mw-normal-catlinks\"><a href=\"/wiki/%ED%8A%B9%EC%88%98:%EB%B6%84%EB%A5%98\" title=\"특수:분류\">분류</a>: <ul><li><a href=\"/wiki/%EB%B6%84%EB%A5%98:1955%EB%85%84_%ED%83%9C%EC%96%B4%EB%82%A8\" title=\"분류:1955년 태어남\">1955년 태어남</a></li><li><a href=\"/wiki/%EB%B6%84%EB%A5%98:%EC%82%B4%EC%95%84%EC%9E%88%EB%8A%94_%EC%82%AC%EB%9E%8C\" title=\"분류:살아있는 사람\">살아있는 사람</a></li><li><a href=\"/wiki/%EB%B6%84%EB%A5%98:%EC%82%BC%EC%B2%99_%EC%8B%AC%EC%94%A8\" title=\"분류:삼척 심씨\">삼척 심씨</a></li><li><a href=\"/wiki/%EB%B6%84%EB%A5%98:%EB%8F%99%ED%95%B4%EC%8B%9C_%EC%B6%9C%EC%8B%A0\" title=\"분류:동해시 출신\">동해시 출신</a></li><li><a href=\"/wiki/%EB%B6%84%EB%A5%98:%EB%B6%81%EC%82%BC%EC%B4%88%EB%93%B1%ED%95%99%EA%B5%90_(%EA%B0%95%EC%9B%90)_%EB%8F%99%EB%AC%B8\" title=\"분류:북삼초등학교 (강원) 동문\">북삼초등학교 (강원) 동문</a></li><li><a href=\"/wiki/%EB%B6%84%EB%A5%98:%EB%B6%81%ED%8F%89%EC%A4%91%ED%95%99%EA%B5%90_(%EA%B0%95%EC%9B%90)_%EB%8F%99%EB%AC%B8\" title=\"분류:북평중학교 (강원) 동문\">북평중학교 (강원) 동문</a></li><li><a href=\"/wiki/%EB%B6%84%EB%A5%98:%EC%B6%98%EC%B2%9C%EC%A0%9C%EC%9D%BC%EA%B3%A0%EB%93%B1%ED%95%99%EA%B5%90_%EB%8F%99%EB%AC%B8\" title=\"분류:춘천제일고등학교 동문\">춘천제일고등학교 동문</a></li><li><a href=\"/wiki/%EB%B6%84%EB%A5%98:%ED%95%9C%EA%B5%AD%EB%B0%A9%EC%86%A1%ED%86%B5%EC%8B%A0%EB%8C%80%ED%95%99%EA%B5%90_%EB%8F%99%EB%AC%B8\" title=\"분류:한국방송통신대학교 동문\">한국방송통신대학교 동문</a></li><li><a href=\"/wiki/%EB%B6%84%EB%A5%98:%EA%B4%80%EB%8F%99%EB%8C%80%ED%95%99%EA%B5%90_%EB%8F%99%EB%AC%B8\" title=\"분류:관동대학교 동문\">관동대학교 동문</a></li><li><a href=\"/wiki/%EB%B6%84%EB%A5%98:%EB%8C%80%ED%95%9C%EB%AF%BC%EA%B5%AD%EC%9D%98_%EA%B3%B5%EB%AC%B4%EC%9B%90\" title=\"분류:대한민국의 공무원\">대한민국의 공무원</a></li><li><a href=\"/wiki/%EB%B6%84%EB%A5%98:%EB%8C%80%ED%95%9C%EB%AF%BC%EA%B5%AD%EC%9D%98_%EC%A7%80%EB%B0%A9%EC%9E%90%EC%B9%98%EB%8B%A8%EC%B2%B4%EC%9E%A5\" title=\"분류:대한민국의 지방자치단체장\">대한민국의 지방자치단체장</a></li><li><a href=\"/wiki/%EB%B6%84%EB%A5%98:%EB%8F%99%ED%95%B4%EC%8B%9C%EC%9E%A5\" title=\"분류:동해시장\">동해시장</a></li><li><a href=\"/wiki/%EB%B6%84%EB%A5%98:%EC%9E%90%EC%9C%A0%ED%95%9C%EA%B5%AD%EB%8B%B9%EC%9D%98_%EC%A0%95%EC%B9%98%EC%9D%B8\" title=\"분류:자유한국당의 정치인\">자유한국당의 정치인</a></li></ul></div></div>\\n<div class=\"visualClear\"></div>\\n</div>\\n</div>\\n<div id=\"mw-navigation\">\\n<h2>둘러보기 메뉴</h2>\\n<div id=\"mw-head\">\\n<div aria-labelledby=\"p-personal-label\" id=\"p-personal\" role=\"navigation\">\\n<h3 id=\"p-personal-label\">개인 도구</h3>\\n<ul>\\n<li id=\"pt-anonuserpage\">로그인하지 않음</li><li id=\"pt-anontalk\"><a accesskey=\"n\" href=\"/wiki/%ED%8A%B9%EC%88%98:%EB%82%B4%EC%82%AC%EC%9A%A9%EC%9E%90%ED%86%A0%EB%A1%A0\" title=\"현재 사용하는 IP 주소에 대한 토론 문서 [n]\">토론</a></li><li id=\"pt-anoncontribs\"><a accesskey=\"y\" href=\"/wiki/%ED%8A%B9%EC%88%98:%EB%82%B4%EA%B8%B0%EC%97%AC\" title=\"이 IP 주소의 편집 목록 [y]\">기여</a></li><li id=\"pt-createaccount\"><a href=\"/w/index.php?title=%ED%8A%B9%EC%88%98:%EA%B3%84%EC%A0%95%EB%A7%8C%EB%93%A4%EA%B8%B0&amp;returnto=%EC%8B%AC%EA%B7%9C%EC%96%B8\" title=\"계정을 만들고 로그인하는 것이 좋습니다; 하지만, 필수는 아닙니다\">계정 만들기</a></li><li id=\"pt-login\"><a accesskey=\"o\" href=\"/w/index.php?title=%ED%8A%B9%EC%88%98:%EB%A1%9C%EA%B7%B8%EC%9D%B8&amp;returnto=%EC%8B%AC%EA%B7%9C%EC%96%B8\" title=\"위키백과에 로그인하면 여러가지 편리한 기능을 사용할 수 있습니다. [o]\">로그인</a></li> </ul>\\n</div>\\n<div id=\"left-navigation\">\\n<div aria-labelledby=\"p-namespaces-label\" class=\"vectorTabs\" id=\"p-namespaces\" role=\"navigation\">\\n<h3 id=\"p-namespaces-label\">이름공간</h3>\\n<ul>\\n<li class=\"selected\" id=\"ca-nstab-main\"><span><a accesskey=\"c\" href=\"/wiki/%EC%8B%AC%EA%B7%9C%EC%96%B8\" title=\"본문 보기 [c]\">문서</a></span></li><li class=\"new\" id=\"ca-talk\"><span><a accesskey=\"t\" href=\"/w/index.php?title=%ED%86%A0%EB%A1%A0:%EC%8B%AC%EA%B7%9C%EC%96%B8&amp;action=edit&amp;redlink=1\" rel=\"discussion\" title=\"문서의 내용에 대한 토론 문서 (없는 문서) [t]\">토론</a></span></li> </ul>\\n</div>\\n<div aria-labelledby=\"p-variants-label\" class=\"vectorMenu emptyPortlet\" id=\"p-variants\" role=\"navigation\">\\n<input aria-labelledby=\"p-variants-label\" class=\"vectorMenuCheckbox\" type=\"checkbox\"/>\\n<h3 id=\"p-variants-label\">\\n<span>변수</span>\\n</h3>\\n<ul class=\"menu\">\\n</ul>\\n</div>\\n</div>\\n<div id=\"right-navigation\">\\n<div aria-labelledby=\"p-views-label\" class=\"vectorTabs\" id=\"p-views\" role=\"navigation\">\\n<h3 id=\"p-views-label\">보기</h3>\\n<ul>\\n<li class=\"collapsible selected\" id=\"ca-view\"><span><a href=\"/wiki/%EC%8B%AC%EA%B7%9C%EC%96%B8\">읽기</a></span></li><li class=\"collapsible\" id=\"ca-edit\"><span><a accesskey=\"e\" href=\"/w/index.php?title=%EC%8B%AC%EA%B7%9C%EC%96%B8&amp;action=edit\" title=\"이 문서 편집하기 [e]\">편집</a></span></li><li class=\"collapsible\" id=\"ca-history\"><span><a accesskey=\"h\" href=\"/w/index.php?title=%EC%8B%AC%EA%B7%9C%EC%96%B8&amp;action=history\" title=\"이 문서의 과거 편집 내역입니다. [h]\">역사 보기</a></span></li> </ul>\\n</div>\\n<div aria-labelledby=\"p-cactions-label\" class=\"vectorMenu emptyPortlet\" id=\"p-cactions\" role=\"navigation\">\\n<input aria-labelledby=\"p-cactions-label\" class=\"vectorMenuCheckbox\" type=\"checkbox\"/>\\n<h3 id=\"p-cactions-label\"><span>더 보기</span></h3>\\n<ul class=\"menu\">\\n</ul>\\n</div>\\n<div id=\"p-search\" role=\"search\">\\n<h3>\\n<label for=\"searchInput\">검색</label>\\n</h3>\\n<form action=\"/w/index.php\" id=\"searchform\">\\n<div id=\"simpleSearch\">\\n<input accesskey=\"f\" id=\"searchInput\" name=\"search\" placeholder=\"위키백과 검색\" title=\"위키백과 검색 [f]\" type=\"search\"/><input name=\"title\" type=\"hidden\" value=\"특수:검색\"/><input class=\"searchButton mw-fallbackSearchButton\" id=\"mw-searchButton\" name=\"fulltext\" title=\"이 문자열이 포함된 문서 검색\" type=\"submit\" value=\"검색\"/><input class=\"searchButton\" id=\"searchButton\" name=\"go\" title=\"이 이름의 문서가 존재하면 그 문서로 바로 가기\" type=\"submit\" value=\"보기\"/> </div>\\n</form>\\n</div>\\n</div>\\n</div>\\n<div id=\"mw-panel\">\\n<div id=\"p-logo\" role=\"banner\"><a class=\"mw-wiki-logo\" href=\"/wiki/%EC%9C%84%ED%82%A4%EB%B0%B1%EA%B3%BC:%EB%8C%80%EB%AC%B8\" title=\"대문으로 가기\"></a></div>\\n<div aria-labelledby=\"p-navigation-label\" class=\"portal\" id=\"p-navigation\" role=\"navigation\">\\n<h3 id=\"p-navigation-label\">둘러보기</h3>\\n<div class=\"body\">\\n<ul>\\n<li id=\"n-mainpage-description\"><a accesskey=\"z\" href=\"/wiki/%EC%9C%84%ED%82%A4%EB%B0%B1%EA%B3%BC:%EB%8C%80%EB%AC%B8\" title=\"대문으로 가기 [z]\">대문</a></li><li id=\"n-portal\"><a href=\"/wiki/%EC%9C%84%ED%82%A4%EB%B0%B1%EA%B3%BC:%EC%82%AC%EC%9A%A9%EC%9E%90_%EB%AA%A8%EC%9E%84\" title=\"위키백과 참여자를 위한 토론/대화 공간입니다.\">사용자 모임</a></li><li id=\"n-currentevents\"><a href=\"/wiki/%ED%8F%AC%ED%84%B8:%EC%9A%94%EC%A6%98_%ED%99%94%EC%A0%9C\" title=\"최근의 소식 알아 보기\">요즘 화제</a></li><li id=\"n-recentchanges\"><a accesskey=\"r\" href=\"/wiki/%ED%8A%B9%EC%88%98:%EC%B5%9C%EA%B7%BC%EB%B0%94%EB%80%9C\" title=\"위키의 최근 바뀐 목록 [r]\">최근 바뀜</a></li><li id=\"n-index\"><a href=\"/wiki/%ED%8A%B9%EC%88%98:%EB%AA%A8%EB%93%A0%EB%AC%B8%EC%84%9C\">모든 문서 보기</a></li><li id=\"n-randompage\"><a accesskey=\"x\" href=\"/wiki/%ED%8A%B9%EC%88%98:%EC%9E%84%EC%9D%98%EB%AC%B8%EC%84%9C\" title=\"임의 문서 불러오기 [x]\">임의 문서로</a></li><li id=\"n-help\"><a href=\"/wiki/%EC%9C%84%ED%82%A4%EB%B0%B1%EA%B3%BC:%EB%8F%84%EC%9B%80%EB%A7%90\" title=\"도움말\">도움말</a></li><li id=\"n-sitesupport\"><a href=\"//donate.wikimedia.org/wiki/Special:FundraiserRedirector?utm_source=donate&amp;utm_medium=sidebar&amp;utm_campaign=C13_ko.wikipedia.org&amp;uselang=ko\" title=\"지원을 기다립니다\">기부</a></li> </ul>\\n</div>\\n</div>\\n<div aria-labelledby=\"p-tb-label\" class=\"portal\" id=\"p-tb\" role=\"navigation\">\\n<h3 id=\"p-tb-label\">도구</h3>\\n<div class=\"body\">\\n<ul>\\n<li id=\"t-whatlinkshere\"><a accesskey=\"j\" href=\"/wiki/%ED%8A%B9%EC%88%98:%EA%B0%80%EB%A6%AC%ED%82%A4%EB%8A%94%EB%AC%B8%EC%84%9C/%EC%8B%AC%EA%B7%9C%EC%96%B8\" title=\"여기를 가리키는 모든 위키 문서의 목록 [j]\">여기를 가리키는 문서</a></li><li id=\"t-recentchangeslinked\"><a accesskey=\"k\" href=\"/wiki/%ED%8A%B9%EC%88%98:%EB%A7%81%ED%81%AC%EC%B5%9C%EA%B7%BC%EB%B0%94%EB%80%9C/%EC%8B%AC%EA%B7%9C%EC%96%B8\" rel=\"nofollow\" title=\"이 문서에서 링크한 문서의 최근 바뀜 [k]\">가리키는 글의 최근 바뀜</a></li><li id=\"t-upload\"><a accesskey=\"u\" href=\"/wiki/위키백과:파일_올리기\" title=\"파일 올리기 [u]\">파일 올리기</a></li><li id=\"t-specialpages\"><a accesskey=\"q\" href=\"/wiki/%ED%8A%B9%EC%88%98:%ED%8A%B9%EC%88%98%EB%AC%B8%EC%84%9C\" title=\"모든 특수 문서의 목록 [q]\">특수 문서 목록</a></li><li id=\"t-permalink\"><a href=\"/w/index.php?title=%EC%8B%AC%EA%B7%9C%EC%96%B8&amp;oldid=24317819\" title=\"문서의 이 판에 대한 고유링크\">고유 링크</a></li><li id=\"t-info\"><a href=\"/w/index.php?title=%EC%8B%AC%EA%B7%9C%EC%96%B8&amp;action=info\" title=\"이 문서에 대한 자세한 정보\">문서 정보</a></li><li id=\"t-wikibase\"><a accesskey=\"g\" href=\"https://www.wikidata.org/wiki/Special:EntityPage/Q27952812\" title=\"데이터 저장소에 연결된 항목을 가리키는 링크 [g]\">위키데이터 항목</a></li><li id=\"t-cite\"><a href=\"/w/index.php?title=%ED%8A%B9%EC%88%98:%EC%9D%B4%EB%AC%B8%EC%84%9C%EC%9D%B8%EC%9A%A9&amp;page=%EC%8B%AC%EA%B7%9C%EC%96%B8&amp;id=24317819\" title=\"이 문서를 인용하는 방법에 대한 정보\">이 문서 인용하기</a></li> </ul>\\n</div>\\n</div>\\n<div aria-labelledby=\"p-coll-print_export-label\" class=\"portal\" id=\"p-coll-print_export\" role=\"navigation\">\\n<h3 id=\"p-coll-print_export-label\">인쇄/내보내기</h3>\\n<div class=\"body\">\\n<ul>\\n<li id=\"coll-create_a_book\"><a href=\"/w/index.php?title=%ED%8A%B9%EC%88%98:%EC%B1%85&amp;bookcmd=book_creator&amp;referer=%EC%8B%AC%EA%B7%9C%EC%96%B8\">책 만들기</a></li><li id=\"coll-download-as-rl\"><a href=\"/w/index.php?title=%ED%8A%B9%EC%88%98:ElectronPdf&amp;page=%EC%8B%AC%EA%B7%9C%EC%96%B8&amp;action=show-download-screen\">PDF로 다운로드</a></li><li id=\"t-print\"><a accesskey=\"p\" href=\"/w/index.php?title=%EC%8B%AC%EA%B7%9C%EC%96%B8&amp;printable=yes\" title=\"이 문서의 인쇄용 판 [p]\">인쇄용 판</a></li> </ul>\\n</div>\\n</div>\\n<div aria-labelledby=\"p-lang-label\" class=\"portal\" id=\"p-lang\" role=\"navigation\">\\n<h3 id=\"p-lang-label\">다른 언어</h3>\\n<div class=\"body\">\\n<ul>\\n</ul>\\n<div class=\"after-portlet after-portlet-lang\"><span class=\"wb-langlinks-add wb-langlinks-link\"><a class=\"wbc-editpage\" href=\"https://www.wikidata.org/wiki/Special:EntityPage/Q27952812#sitelinks-wikipedia\" title=\"언어 간 링크 추가\">링크 추가</a></span></div> </div>\\n</div>\\n</div>\\n</div>\\n<div id=\"footer\" role=\"contentinfo\">\\n<ul id=\"footer-info\">\\n<li id=\"footer-info-lastmod\"> 이 문서는 2019년 5월 29일 (수) 16:16에 마지막으로 편집되었습니다.</li>\\n<li id=\"footer-info-copyright\">모든 문서는 <a href=\"//ko.wikipedia.org/wiki/%EC%9C%84%ED%82%A4%EB%B0%B1%EA%B3%BC:Creative_Commons_Attribution-ShareAlike_3.0_Unported_License\">크리에이티브 커먼즈 저작자표시-동일조건변경허락 3.0</a>에 따라 사용할 수 있으며, 추가적인 조건이 적용될 수 있습니다. 자세한 내용은 <a href=\"//wikimediafoundation.org/wiki/Terms_of_Use/ko\">이용 약관</a>을 참고하십시오.<br/>Wikipedia®는 미국 및 다른 국가에 등록되어 있는 <a class=\"internal\" href=\"http://www.wikimediafoundation.org\">Wikimedia Foundation, Inc.</a> 소유의 등록 상표입니다.</li>\\n</ul>\\n<ul id=\"footer-places\">\\n<li id=\"footer-places-privacy\"><a class=\"extiw\" href=\"https://foundation.wikimedia.org/wiki/Privacy_policy\" title=\"wmf:Privacy policy\">개인정보 정책</a></li>\\n<li id=\"footer-places-about\"><a href=\"/wiki/%EC%9C%84%ED%82%A4%EB%B0%B1%EA%B3%BC:%EC%86%8C%EA%B0%9C\" title=\"위키백과:소개\">위키백과 소개</a></li>\\n<li id=\"footer-places-disclaimer\"><a href=\"/wiki/%EC%9C%84%ED%82%A4%EB%B0%B1%EA%B3%BC:%EB%A9%B4%EC%B1%85_%EC%A1%B0%ED%95%AD\" title=\"위키백과:면책 조항\">면책 조항</a></li>\\n<li id=\"footer-places-developers\"><a href=\"https://www.mediawiki.org/wiki/Special:MyLanguage/How_to_contribute\">개발자</a></li>\\n<li id=\"footer-places-cookiestatement\"><a href=\"https://foundation.wikimedia.org/wiki/Cookie_statement\">쿠키 정책</a></li>\\n<li id=\"footer-places-mobileview\"><a class=\"noprint stopMobileRedirectToggle\" href=\"//ko.m.wikipedia.org/w/index.php?title=%EC%8B%AC%EA%B7%9C%EC%96%B8&amp;mobileaction=toggle_view_mobile\">모바일 보기</a></li>\\n</ul>\\n<ul class=\"noprint\" id=\"footer-icons\">\\n<li id=\"footer-copyrightico\">\\n<a href=\"https://wikimediafoundation.org/\"><img alt=\"Wikimedia Foundation\" height=\"31\" src=\"/static/images/wikimedia-button.png\" srcset=\"/static/images/wikimedia-button-1.5x.png 1.5x, /static/images/wikimedia-button-2x.png 2x\" width=\"88\"/></a> </li>\\n<li id=\"footer-poweredbyico\">\\n<a href=\"https://www.mediawiki.org/\"><img alt=\"Powered by MediaWiki\" height=\"31\" src=\"/static/images/poweredby_mediawiki_88x31.png\" srcset=\"/static/images/poweredby_mediawiki_132x47.png 1.5x, /static/images/poweredby_mediawiki_176x62.png 2x\" width=\"88\"/></a> </li>\\n</ul>\\n<div style=\"clear: both;\"></div>\\n</div>\\n<script>(RLQ=window.RLQ||[]).push(function(){mw.config.set({\"wgPageParseReport\":{\"limitreport\":{\"cputime\":\"0.200\",\"walltime\":\"0.281\",\"ppvisitednodes\":{\"value\":2835,\"limit\":1000000},\"ppgeneratednodes\":{\"value\":0,\"limit\":1500000},\"postexpandincludesize\":{\"value\":13213,\"limit\":2097152},\"templateargumentsize\":{\"value\":4500,\"limit\":2097152},\"expansiondepth\":{\"value\":12,\"limit\":40},\"expensivefunctioncount\":{\"value\":0,\"limit\":500},\"unstrip-depth\":{\"value\":0,\"limit\":20},\"unstrip-size\":{\"value\":1064,\"limit\":5000000},\"entityaccesscount\":{\"value\":1,\"limit\":400},\"timingprofile\":[\"100.00%  246.815      1 -total\",\" 42.58%  105.096      1 틀:공직자_정보\",\" 27.80%   68.621      1 틀:각주\",\" 23.53%   58.079      1 틀:뉴스_인용\",\" 17.81%   43.953      2 틀:선거기록/KR/개인\",\" 15.18%   37.471     51 틀:정보상자_칸\",\"  9.40%   23.199      4 틀:정당색/대한민국\",\"  5.18%   12.777      1 틀:KOR\",\"  4.63%   11.436      1 틀:출생일과_만나이\",\"  4.22%   10.420      1 틀:Wikidata_image\"]},\"scribunto\":{\"limitreport-timeusage\":{\"value\":\"0.025\",\"limit\":\"10.000\"},\"limitreport-memusage\":{\"value\":1423397,\"limit\":52428800}},\"cachereport\":{\"origin\":\"mw1320\",\"timestamp\":\"20190701214319\",\"ttl\":3600,\"transientcontent\":true}}});});</script>\\n<script type=\"application/ld+json\">{\"@context\":\"https:\\\\/\\\\/schema.org\",\"@type\":\"Article\",\"name\":\"\\\\uc2ec\\\\uaddc\\\\uc5b8\",\"url\":\"https:\\\\/\\\\/ko.wikipedia.org\\\\/wiki\\\\/%EC%8B%AC%EA%B7%9C%EC%96%B8\",\"sameAs\":\"http:\\\\/\\\\/www.wikidata.org\\\\/entity\\\\/Q27952812\",\"mainEntity\":\"http:\\\\/\\\\/www.wikidata.org\\\\/entity\\\\/Q27952812\",\"author\":{\"@type\":\"Organization\",\"name\":\"\\\\uc704\\\\ud0a4\\\\ubbf8\\\\ub514\\\\uc5b4 \\\\ud504\\\\ub85c\\\\uc81d\\\\ud2b8 \\\\uae30\\\\uc5ec\\\\uc790\"},\"publisher\":{\"@type\":\"Organization\",\"name\":\"Wikimedia Foundation, Inc.\",\"logo\":{\"@type\":\"ImageObject\",\"url\":\"https:\\\\/\\\\/www.wikimedia.org\\\\/static\\\\/images\\\\/wmf-hor-googpub.png\"}},\"datePublished\":\"2016-09-03T11:02:52Z\",\"dateModified\":\"2019-05-29T07:16:01Z\"}</script>\\n<script>(RLQ=window.RLQ||[]).push(function(){mw.config.set({\"wgBackendResponseTime\":413,\"wgHostname\":\"mw1320\"});});</script>\\n</body>\\n</html>\\n',\n",
       " 'qas': [{'answer': {'text': '20,890 표',\n",
       "    'html_answer_start': 16093,\n",
       "    'html_answer_text': '20,890 표',\n",
       "    'answer_start': 3873},\n",
       "   'question': '심규언은 17대 지방 선거에서 몇 표를 득표하였는가?',\n",
       "   'id': '36615'}]}"
      ]
     },
     "execution_count": 15,
     "metadata": {},
     "output_type": "execute_result"
    }
   ],
   "source": [
    "dataset_json_02['data'][1]"
   ]
  },
  {
   "cell_type": "code",
   "execution_count": 20,
   "metadata": {
    "scrolled": true
   },
   "outputs": [
    {
     "data": {
      "text/plain": [
       "1000"
      ]
     },
     "execution_count": 20,
     "metadata": {},
     "output_type": "execute_result"
    }
   ],
   "source": [
    "len(dataset_json_02['data'])"
   ]
  },
  {
   "cell_type": "markdown",
   "metadata": {},
   "source": [
    "### 위키 Tokenizer"
   ]
  },
  {
   "cell_type": "code",
   "execution_count": 38,
   "metadata": {},
   "outputs": [],
   "source": [
    "import re\n",
    "from gensim.utils import to_unicode"
   ]
  },
  {
   "cell_type": "code",
   "execution_count": 42,
   "metadata": {},
   "outputs": [],
   "source": [
    "import gensim"
   ]
  },
  {
   "cell_type": "markdown",
   "metadata": {},
   "source": [
    "### 1) 말뭉치 뽑아내기 (html 태그 제거)"
   ]
  },
  {
   "cell_type": "code",
   "execution_count": 48,
   "metadata": {},
   "outputs": [],
   "source": [
    "def make_corpus(in_f, out_f):\n",
    "    \"\"\"Convert Wikipedia xml dump file to text corpus\"\"\"\n",
    "    output = open(out_f, 'w')\n",
    "    wiki = gensim.corpora.WikiCorpus(in_f, tokenizer_func=tokenize, dictionary=gensim.corpora.Dictionary())\n",
    "    i = 0\n",
    "    for text in wiki.get_texts():\n",
    "        output.write(bytes(' '.join(text), 'utf-8').decode('utf-8') + '\\n')\n",
    "        i = i + 1\n",
    "        if (i % 10000 == 0):\n",
    "            print('Processed ' + str(i) + ' articles')\n",
    "    output.close()\n",
    "    print('Processing complete!')"
   ]
  },
  {
   "cell_type": "markdown",
   "metadata": {},
   "source": [
    "### 2) 불필요 문자 제거"
   ]
  },
  {
   "cell_type": "code",
   "execution_count": 47,
   "metadata": {},
   "outputs": [],
   "source": [
    "WIKI_REMOVE_CHARS = re.compile(\"'+|(=+.{2,30}=+)|__TOC__|(ファイル:).+|:(en|de|it|fr|es|kr|zh|no|fi):|\\n\", re.UNICODE)\n",
    "WIKI_SPACE_CHARS = re.compile(\"(\\\\s|゙|゚|　)+\", re.UNICODE)\n",
    "EMAIL_PATTERN = re.compile(\"(^[a-zA-Z0-9_.+-]+@[a-zA-Z0-9-]+\\.[a-zA-Z0-9-.]+$)\", re.UNICODE)\n",
    "URL_PATTERN = re.compile(\"(ftp|http|https)?://(?:[a-zA-Z]|[0-9]|[$-_@.&+]|[!*\\(\\),]|(?:%[0-9a-fA-F][0-9a-fA-F]))+\", re.UNICODE)\n",
    "WIKI_REMOVE_TOKEN_CHARS = re.compile(\"(\\\\*$|:$|^파일:.+|^;)\", re.UNICODE)\n",
    "MULTIPLE_SPACES = re.compile(' +', re.UNICODE)\n",
    "\n",
    "\n",
    "def tokenize(content, token_min_len=2, token_max_len=100, lower=True):\n",
    "    content = re.sub(EMAIL_PATTERN, ' ', content)  # remove email pattern\n",
    "    content = re.sub(URL_PATTERN, ' ', content) # remove url pattern\n",
    "    content = re.sub(WIKI_REMOVE_CHARS, ' ', content)  # remove unnecessary chars\n",
    "    content = re.sub(WIKI_SPACE_CHARS, ' ', content)\n",
    "    content = re.sub(MULTIPLE_SPACES, ' ', content)\n",
    "    tokens = content.replace(\", )\", \"\").split(\" \")\n",
    "    result = []\n",
    "    for token in tokens:\n",
    "        if not token.startswith('_'):\n",
    "            token_candidate = to_unicode(re.sub(WIKI_REMOVE_TOKEN_CHARS, '', token))\n",
    "        else:\n",
    "            token_candidate = \"\"\n",
    "        if len(token_candidate) > 0:\n",
    "            result.append(token_candidate)\n",
    "    return result"
   ]
  },
  {
   "cell_type": "markdown",
   "metadata": {},
   "source": [
    "### BeautifulSoup 사용"
   ]
  },
  {
   "cell_type": "code",
   "execution_count": 68,
   "metadata": {},
   "outputs": [],
   "source": [
    "from bs4 import BeautifulSoup"
   ]
  },
  {
   "cell_type": "code",
   "execution_count": 75,
   "metadata": {},
   "outputs": [],
   "source": [
    "# html 태그만 제거됨\n",
    "text = BeautifulSoup(dataset_json_02['data'][0]['context'], \"html5lib\").get_text()"
   ]
  },
  {
   "cell_type": "code",
   "execution_count": 76,
   "metadata": {
    "scrolled": true
   },
   "outputs": [
    {
     "data": {
      "text/plain": [
       "'\\n\\n예고범 - 위키백과, 우리 모두의 백과사전\\n\\n\\n\\n\\n\\n\\n\\n\\n\\n\\n\\n\\n\\n\\n\\n\\n\\n\\n\\n\\n\\n\\n\\n\\n\\n\\n\\n\\n\\n\\n\\n예고범\\n\\n위키백과, 우리 모두의 백과사전.\\n\\n\\n둘러보기로 가기\\n검색하러 가기\\n《예고범》(일본어: 予告犯)은, 츠츠이 테츠야의 만화 작품이다.\\n\\n목차\\n\\n1 개요\\n2 등장인물\\n\\n2.1 예고범 그룹\\n2.2 경찰 관계자\\n2.3 타깃이 된 인물·기업·단체\\n2.4 그 외\\n\\n\\n3 서지 정보\\n4 스핀오프 작품\\n\\n4.1 예고범-THE COPYCAT-\\n4.2 예고범-THE CHASER-\\n\\n\\n5 영화\\n\\n5.1 캐스트\\n5.2 스태프\\n\\n\\n6 텔레비전 드라마\\n\\n6.1 캐스트\\n6.2 스태프\\n6.3 방송 일자\\n\\n\\n7 외부 링크\\n\\n\\n개요[편집]\\n《점프 카이》 (슈에이샤)에서 2011년부터 2013년 9호까지 연재되었다. 단행본은 전 3권.\\n\\n등장인물[편집]\\n예고범 그룹[편집]\\n게이츠/오쿠다 히로아키\\n예고범 그룹 〈신분시〉의 주범격.\\n칸사이/카사이 토모히코\\n오사카 출신.\\n메타보/테라하라 신이치\\n후쿠오카 출신.\\n노비타/키무라 코이치\\n미야기 출신.\\n경찰 관계자[편집]\\n요시노 에리카\\n경시청 사이버 범죄 대책과 반장.\\n오카모토 다이키\\n경시청 사이버 범죄 대책과 소속 형사.\\n이치카와 마나부\\n경시청 사이버 범죄 대책과 소속 형사.\\n마츠모토 신이치\\n경시청 사이버 범죄 대책과 과장.\\n아라가키\\n고속대 대원.\\n타깃이 된 인물·기업·단체[편집]\\n식품 가공 회사\\n이시카와현 K시에 있는 식품 가공 업자.\\n부시키 슈야\\n모 외식점의 전 아르바이트 점원.\\n세키 슈지\\nR대학의 전 학생.\\n이케하타 마사요시\\n모 넷 서비스 기업에 근무하는 회사원.\\n시가디안\\n고래잡이 반대 운동 등을 행하고 있는 해외의 환경 보호 단체.\\n시타라기 타다시\\n현직 중의원 의원.\\n그 외[편집]\\n마스야마 쇼타\\n토치기 현 U시에 사는 중학생.\\n호리이\\n게이츠가 과거에 근무했던 IT 회사의 사장.\\n노모토 청소의 사장과 사장 부인\\n빌딩 외벽 청소를 사업으로 하는 청소 회사.\\n효로/넬슨 카토 리카르테\\n필리핀 출신의 일본계 외국인.\\n이시다 키요시\\n게이츠 등 5인이 먹고 자며 육체 노동을 하던 때의 현장 감독.\\n카에데\\n이와테현 K시에 있는 라멘 가게에서 일하는 여성 점원.\\n아오야마 유이치\\n인터넷 카페 〈피트 보이〉에서 일하는 점원.\\n서지 정보[편집]\\n츠츠이 테츠야 《예고범》 슈에이샤 〈영 점프 코믹스〉 전 3권\\n2012년 4월 10일 발매, ISBN\\xa0978-4-08-879310-8\\n2012년 12월 10일 발매, ISBN\\xa0978-4-08-879495-2\\n2013년 9월 10일 발매, ISBN\\xa0978-4-08-879680-2\\n스핀오프 작품[편집]\\n예고범-THE COPYCAT-[편집]\\n《예고범 -THE COPYCAT-》은, 스핀오프 만화 작품이다.\\n〈신분시〉의 모방범 (카피캣)을 하는 고교생 그룹의 스토리.\\n\\n예고범-THE CHASER-[편집]\\n《예고범 -THE CHASER-》는, 스핀오프 소설 작품이다.\\n요시노 에리카와 경시청 사이버 범죄 대책과의 그 후 활동을 그린다.\\n\\n영화[편집]\\n2015년 6월 6일, 일본에서 공개되었다. 감독은 나카무라 요시히로. 주연은 이쿠타 토마.\\n\\n캐스트[편집]\\n게이츠/오쿠다 히로아키 - 이쿠타 토마\\n요시노 에리카 - 토다 에리카\\n칸사이/카사이 토모히코 - 스즈키 료헤이\\n노비타/키무라 코이치 - 하마다 가쿠\\n메타보/테라하라 신이치 - 아라카와 요시요시\\n오카모토 다이키 - 타쿠마 타카유키\\n이치카와 마나부 - 사카구치 켄타로\\n아오야마 유이치 - 쿠보타 마사타카\\n카에데 - 코마츠 나나\\n효로 - 후쿠야마 코헤이\\n이시다 키요시 - 나카노 시게루\\n키타무라 - 타나카 케이\\n쿠리하라 - 타키토 켄이치\\n카토 - 혼다 히로타로\\n시타라기 타다시 - 코히나타 후미요\\n스태프[편집]\\n감독 - 나카무라 요시히로\\n원작 - 츠츠이 테츠야\\n각본 - 하야시 타미오\\n음악 - 오오마마 타카시\\n기획·프로듀스 - 히라노 타카시\\n프로듀스 - 타케다 요시타카\\n촬영 - 소마 다이스케\\n미술 - 시미즈 타케시\\n배급 - 토호\\n제작 프로덕션 - WOWOW FILMS, C&I 엔터테인먼트\\n제작 간사 - TBS, WOWOW\\n제작 - 영화 〈예고범〉 제작 위원회\\n텔레비전 드라마[편집]\\n《예고범 -THE PAIN-》은, 2015년 6월 7일부터 7월 5일까지 WOWOW 연속 드라마 W에서 방송된 텔레비전 드라마이다. 전 5화. 주연은 히가시야마 노리유키. 영화판의 스토리로부터 1년 후를 그린 오리지널 스토리이다. 영화판 감독인 나카무라 요시히로가 감독을 맡았고, 토다 에리카가 영화판과 같은 역으로 출연했다.\\n\\n캐스트[편집]\\n사쿠마 에이지 - 히가시야마 노리유키\\n요시노 에리카 - 토다 에리카\\n타부치 유조 - 하시모토 사토시\\n오키나 케이코 - 이치카와 미카코\\n미즈타니 켄 - 키리타니 켄타\\n히라사와 아츠시 - 타나카 류조\\n야자키 신타로 - 오오니시 시마\\n카네코 - 코마츠 토시마사\\n사코타 - 마츠바야시 신지\\n신타니 스바루 - 모리오카 류\\n카키네 - 츠무라 노리요시\\n하나야마 토오루 - 무라이 쿠니오\\n스태프[편집]\\n원작·스토리 감수 - 츠츠이 테츠야\\n시리즈 구성 - 나카무라 요시히로\\n감독 - 나카무라 요시히로, 히라바야시 카츠토시, 사와다 메구미\\n각본 - 하야시 타미오, 타나카 히로시\\n음악 - 오오마마 타카시\\n프로듀스 - 우에다 하루나\\n제작 프로덕션 - 트윈즈 재팬\\n제작 저작 - WOWOW\\n방송 일자[편집]\\n\\n\\n방송회\\n방송일\\n각본\\n감독\\n\\n\\nCASE #1\\n\\n2015년 6월 7일\\n하야시 타미오\\n나카무라 요시히로\\n\\n\\nCASE #2\\n\\n6월 14일\\n타나카 히로시\\n히라바야시 카츠토시\\n\\n\\nCASE #3\\n\\n6월 21일\\n사와다 메구미\\n\\n\\nCASE #4\\n\\n6월 28일\\n히라바야시 카츠토시\\n\\n\\nFINAL CASE\\n\\n7월 5일\\n\\n\\n외부 링크[편집]\\n(일본어) ［예고범］ 츠츠이 테츠야｜전율의 넷 테러 만화를 완전 해설! - 점프 카이\\n(일본어) 영화 《예고범》 공식 사이트\\n(일본어) 연속 드라마 W 《예고범 -THE PAIN-》 공식 사이트\\nvdehWOWOW 연속 드라마 W주 1회(2008년 ~ 2014년)\\n《판도라》\\n《프리즈너》\\n《하늘을 나는 타이어》\\n《엄마는 옛날에 아빠였다》\\n《은폐지령》\\n《판도라 II 기아열도》\\n《마크스의 산》\\n《히가시노 게이고 환야》\\n《CO 이식 코디네이터》\\n《변두리 로켓》\\n《판도라 III 혁명전야》\\n《조화의 꿀》\\n《속죄》\\n《분신》\\n《추정유죄》\\n《죄와 벌 A Falsified Romance》\\n《마그마》\\n《플라티나 타운》\\n《히토리시즈카》\\n《하늘의 방주》\\n《여자와 남자의 열대》\\n《레이디 조커》\\n《소돔의 사과~롯을 죽인 딸들》\\n《배달되고 싶은 우리》\\n《흔들리는 소》\\n《빵과 스프, 고양이와 함께 하기 좋은 날》\\n《열쇠 없는 꿈을 꾸다》\\n《LINK》\\n《저편의 아이》\\n《피의 흔적》\\n《세상의 소금》\\n《나라고 하는 운명에 대하여》\\n토쿠소우》\\n《모자이크 재팬》\\n《MOZU Season2 ~환상의 날개~》\\n《히가시노 게이고 〈변신〉》\\n《죄인의 거짓말》\\n주 2회(2014년 ~ )토요 오리지널\\n《구구는 고양이다》\\n《헤이세이 원숭이와 게의 전쟁》\\n《속죄의 소나타》\\n《유리의 갈대》\\n《어둠의 반주자》\\n《꿈을 주다》\\n《후타가시라》\\n《연하 -Gold Rush-》\\n《바다에 내리다》\\n《5명의 준코》\\n《황무지의 사랑》\\n《반짝반짝》\\n《구구는 고양이다 2-good good the fortune cat-》\\n《키보가오카의 사람들》\\n《현자의 사랑》\\n《후타가시라 2》\\n《콜드 케이스 ~진실의 문~》\\n《오늘은, 일진도 좋고》\\n《호쿠토 -어느 살인자의 회심-》\\n《미야자와 겐지의 식탁》\\n《플라즈~번역 있음 만의 쉐어하우스~》\\n《짝사랑》\\n《명함 게임》\\n《봄이 왔다》\\n《바이바이, 블랙버드》\\n《어둠의 반주자~편집장의 조건》\\n《더블 판타지》\\n《이아리 보이지 않는 얼굴》\\n《콜드 케이스 2 ~진실의 문~》\\n《도난당한 얼굴 ~눈에 띄지 수사반~》\\n《그것을 사랑과 착각하니까》\\n《다잉 아이》\\n《언덕 중간의 집》\\n일요 오리지널\\n《주가폭락》\\n《악화》\\n《저물어 가는 여름》\\n《천사의 나이프》\\n《스케이프고트》\\n《테미스의 구형》\\n《예고범 -THE PAIN-》\\n《죽음의 장기》\\n《돌의 고치 살인분석반》\\n《신가리 야마이치 증권 최후의 성전》\\n《오판》\\n《쏠 수 없는 경관》\\n《메가뱅크 최종결전》\\n《뻐꾸기 알은 누구의 것인가》\\n《지지 않는 태양》\\n《히포크라테스 선서》\\n《수정의 고동 살인분석반》\\n《낙원》\\n《제니가타 경부 칠흑의 범죄 파일》\\n《히토야노토게~감옥의 가시~》\\n《사장실의 겨울 -거대 신문사를 잡는 남자-》\\n《범죄증후군 Season2》\\n《아키라와 아키라》\\n《침묵 법정》\\n《돌팔매질~외무성 비자금을 파헤친 수사2과 남자들~》\\n《감사역 노자키》\\n《이노센트 데이즈》\\n《60 오판 대책실》\\n《불발탄 ~검은 돈을 조종하는 남자~》\\n《구로쇼인의 로쿠베에》\\n《진범인》\\n《판도라 Ⅳ AI전쟁》\\n《고고한 메스》\\n《절규》\\n\\n예고범-THE COPYCAT-에 관한\\xa0분류: 주간 영 점프의 만화예고범-THE PAIN-에 관한\\xa0분류: 만화의 텔레비전 드라마화 작품\\xa0\\xa0|\\xa0\\xa02015년 드라마 \\xa0\\xa0|\\xa0\\xa0연속 드라마 W \\n\\n\\n\\n\\n원본 주소 \"https://ko.wikipedia.org/w/index.php?title=예고범&oldid=21882503\"\\n분류: 일본의 만화추리 만화범죄를 소재로 한 작품테러를 소재로 한 작품일본의 영화 작품일본의 범죄 영화테러리즘을 소재로 한 영화만화를 바탕으로 한 영화숨은 분류: 일본어 표기를 포함한 문서\\n\\n\\n\\n\\n둘러보기 메뉴\\n\\n\\n개인 도구\\n\\n로그인하지 않음토론기여계정 만들기로그인 \\n\\n\\n\\n이름공간\\n\\n문서토론 \\n\\n\\n\\n\\n변수\\n\\n\\n\\n\\n\\n\\n\\n보기\\n\\n읽기편집역사 보기 \\n\\n\\n\\n더 보기\\n\\n\\n\\n\\n\\n검색\\n\\n\\n\\n \\n\\n\\n\\n\\n\\n\\n\\n둘러보기\\n\\n\\n대문사용자 모임요즘 화제최근 바뀜모든 문서 보기임의 문서로도움말기부 \\n\\n\\n\\n도구\\n\\n\\n여기를 가리키는 문서가리키는 글의 최근 바뀜파일 올리기특수 문서 목록고유 링크문서 정보위키데이터 항목이 문서 인용하기 \\n\\n\\n\\n인쇄/내보내기\\n\\n\\n책 만들기PDF로 다운로드인쇄용 판 \\n\\n\\n\\n다른 언어\\n\\n\\nEnglishFrançais日本語Tagalog中文 \\n링크 편집 \\n\\n\\n\\n\\n\\n 이 문서는 2018년 7월 27일 (금) 06:45에 마지막으로 편집되었습니다.\\n모든 문서는 크리에이티브 커먼즈 저작자표시-동일조건변경허락 3.0에 따라 사용할 수 있으며, 추가적인 조건이 적용될 수 있습니다. 자세한 내용은 이용 약관을 참고하십시오.Wikipedia®는 미국 및 다른 국가에 등록되어 있는 Wikimedia Foundation, Inc. 소유의 등록 상표입니다.\\n\\n\\n개인정보 정책\\n위키백과 소개\\n면책 조항\\n개발자\\n쿠키 정책\\n모바일 보기\\n\\n\\n\\n \\n\\n \\n\\n\\n\\n\\n\\n\\n\\n\\n'"
      ]
     },
     "execution_count": 76,
     "metadata": {},
     "output_type": "execute_result"
    }
   ],
   "source": [
    "text"
   ]
  },
  {
   "cell_type": "code",
   "execution_count": 118,
   "metadata": {},
   "outputs": [],
   "source": [
    "# table 만 추출 해보기\n",
    "text2 = BeautifulSoup(dataset_json_02['data'][0]['context'], \"html.parser\").find(\"table\")"
   ]
  },
  {
   "cell_type": "code",
   "execution_count": 119,
   "metadata": {
    "scrolled": true
   },
   "outputs": [
    {
     "data": {
      "text/plain": [
       "<table>\n",
       "<tbody><tr>\n",
       "<th>방송회</th>\n",
       "<th>방송일</th>\n",
       "<th>각본</th>\n",
       "<th>감독\n",
       "</th></tr>\n",
       "<tr>\n",
       "<td>CASE #1\n",
       "</td>\n",
       "<td>2015년 6월 7일</td>\n",
       "<td>하야시 타미오</td>\n",
       "<td>나카무라 요시히로\n",
       "</td></tr>\n",
       "<tr>\n",
       "<td>CASE #2\n",
       "</td>\n",
       "<td>6월 14일</td>\n",
       "<td rowspan=\"4\">타나카 히로시</td>\n",
       "<td>히라바야시 카츠토시\n",
       "</td></tr>\n",
       "<tr>\n",
       "<td>CASE #3\n",
       "</td>\n",
       "<td>6월 21일</td>\n",
       "<td>사와다 메구미\n",
       "</td></tr>\n",
       "<tr>\n",
       "<td>CASE #4\n",
       "</td>\n",
       "<td>6월 28일</td>\n",
       "<td rowspan=\"2\">히라바야시 카츠토시\n",
       "</td></tr>\n",
       "<tr>\n",
       "<td>FINAL CASE\n",
       "</td>\n",
       "<td>7월 5일\n",
       "</td></tr>\n",
       "</tbody></table>"
      ]
     },
     "execution_count": 119,
     "metadata": {},
     "output_type": "execute_result"
    }
   ],
   "source": [
    "text2"
   ]
  },
  {
   "cell_type": "code",
   "execution_count": null,
   "metadata": {},
   "outputs": [],
   "source": []
  },
  {
   "cell_type": "markdown",
   "metadata": {},
   "source": [
    "### (1) body 중 본문 부분(id = mw-content-text) / 분류 부분(id = mw-normal-catlinks) 추출"
   ]
  },
  {
   "cell_type": "code",
   "execution_count": 175,
   "metadata": {},
   "outputs": [],
   "source": [
    "soup = BeautifulSoup(dataset_json_02['data'][0]['raw_html'], 'html.parser')\n",
    "body = soup.find(id=\"mw-content-text\")\n",
    "category = soup.find(id = \"mw-normal-catlinks\")"
   ]
  },
  {
   "cell_type": "code",
   "execution_count": 176,
   "metadata": {
    "scrolled": true
   },
   "outputs": [
    {
     "data": {
      "text/plain": [
       "<div class=\"mw-content-ltr\" dir=\"ltr\" id=\"mw-content-text\" lang=\"ko\"><div class=\"mw-parser-output\"><p>《<b>예고범</b>》(<span style=\"font-size: smaller;\"><a href=\"/wiki/%EC%9D%BC%EB%B3%B8%EC%96%B4\" title=\"일본어\">일본어</a>: </span><span lang=\"ja\">予告犯</span>)은, 츠츠이 테츠야의 <a href=\"/wiki/%EB%A7%8C%ED%99%94\" title=\"만화\">만화</a> 작품이다.\n",
       "</p>\n",
       "<div class=\"toc\" id=\"toc\"><input class=\"toctogglecheckbox\" id=\"toctogglecheckbox\" role=\"button\" style=\"display:none\" type=\"checkbox\"/><div class=\"toctitle\" dir=\"ltr\" lang=\"ko\"><h2>목차</h2><span class=\"toctogglespan\"><label class=\"toctogglelabel\" for=\"toctogglecheckbox\"></label></span></div>\n",
       "<ul>\n",
       "<li class=\"toclevel-1 tocsection-1\"><a href=\"#개요\"><span class=\"tocnumber\">1</span> <span class=\"toctext\">개요</span></a></li>\n",
       "<li class=\"toclevel-1 tocsection-2\"><a href=\"#등장인물\"><span class=\"tocnumber\">2</span> <span class=\"toctext\">등장인물</span></a>\n",
       "<ul>\n",
       "<li class=\"toclevel-2 tocsection-3\"><a href=\"#예고범_그룹\"><span class=\"tocnumber\">2.1</span> <span class=\"toctext\">예고범 그룹</span></a></li>\n",
       "<li class=\"toclevel-2 tocsection-4\"><a href=\"#경찰_관계자\"><span class=\"tocnumber\">2.2</span> <span class=\"toctext\">경찰 관계자</span></a></li>\n",
       "<li class=\"toclevel-2 tocsection-5\"><a href=\"#타깃이_된_인물·기업·단체\"><span class=\"tocnumber\">2.3</span> <span class=\"toctext\">타깃이 된 인물·기업·단체</span></a></li>\n",
       "<li class=\"toclevel-2 tocsection-6\"><a href=\"#그_외\"><span class=\"tocnumber\">2.4</span> <span class=\"toctext\">그 외</span></a></li>\n",
       "</ul>\n",
       "</li>\n",
       "<li class=\"toclevel-1 tocsection-7\"><a href=\"#서지_정보\"><span class=\"tocnumber\">3</span> <span class=\"toctext\">서지 정보</span></a></li>\n",
       "<li class=\"toclevel-1 tocsection-8\"><a href=\"#스핀오프_작품\"><span class=\"tocnumber\">4</span> <span class=\"toctext\">스핀오프 작품</span></a>\n",
       "<ul>\n",
       "<li class=\"toclevel-2 tocsection-9\"><a href=\"#예고범-THE_COPYCAT-\"><span class=\"tocnumber\">4.1</span> <span class=\"toctext\">예고범-THE COPYCAT-</span></a></li>\n",
       "<li class=\"toclevel-2 tocsection-10\"><a href=\"#예고범-THE_CHASER-\"><span class=\"tocnumber\">4.2</span> <span class=\"toctext\">예고범-THE CHASER-</span></a></li>\n",
       "</ul>\n",
       "</li>\n",
       "<li class=\"toclevel-1 tocsection-11\"><a href=\"#영화\"><span class=\"tocnumber\">5</span> <span class=\"toctext\">영화</span></a>\n",
       "<ul>\n",
       "<li class=\"toclevel-2 tocsection-12\"><a href=\"#캐스트\"><span class=\"tocnumber\">5.1</span> <span class=\"toctext\">캐스트</span></a></li>\n",
       "<li class=\"toclevel-2 tocsection-13\"><a href=\"#스태프\"><span class=\"tocnumber\">5.2</span> <span class=\"toctext\">스태프</span></a></li>\n",
       "</ul>\n",
       "</li>\n",
       "<li class=\"toclevel-1 tocsection-14\"><a href=\"#텔레비전_드라마\"><span class=\"tocnumber\">6</span> <span class=\"toctext\">텔레비전 드라마</span></a>\n",
       "<ul>\n",
       "<li class=\"toclevel-2 tocsection-15\"><a href=\"#캐스트_2\"><span class=\"tocnumber\">6.1</span> <span class=\"toctext\">캐스트</span></a></li>\n",
       "<li class=\"toclevel-2 tocsection-16\"><a href=\"#스태프_2\"><span class=\"tocnumber\">6.2</span> <span class=\"toctext\">스태프</span></a></li>\n",
       "<li class=\"toclevel-2 tocsection-17\"><a href=\"#방송_일자\"><span class=\"tocnumber\">6.3</span> <span class=\"toctext\">방송 일자</span></a></li>\n",
       "</ul>\n",
       "</li>\n",
       "<li class=\"toclevel-1 tocsection-18\"><a href=\"#외부_링크\"><span class=\"tocnumber\">7</span> <span class=\"toctext\">외부 링크</span></a></li>\n",
       "</ul>\n",
       "</div>\n",
       "<h2><span id=\".EA.B0.9C.EC.9A.94\"></span><span class=\"mw-headline\" id=\"개요\">개요</span><span class=\"mw-editsection\"><span class=\"mw-editsection-bracket\">[</span><a href=\"/w/index.php?title=%EC%98%88%EA%B3%A0%EB%B2%94&amp;action=edit&amp;section=1\" title=\"부분 편집: 개요\">편집</a><span class=\"mw-editsection-bracket\">]</span></span></h2>\n",
       "<p>《점프 카이》 (<a href=\"/wiki/%EC%8A%88%EC%97%90%EC%9D%B4%EC%83%A4\" title=\"슈에이샤\">슈에이샤</a>)에서 <a href=\"/wiki/2011%EB%85%84\" title=\"2011년\">2011년</a>부터 <a href=\"/wiki/2013%EB%85%84\" title=\"2013년\">2013년</a> 9호까지 연재되었다. 단행본은 전 3권.\n",
       "</p>\n",
       "<h2><span id=\".EB.93.B1.EC.9E.A5.EC.9D.B8.EB.AC.BC\"></span><span class=\"mw-headline\" id=\"등장인물\">등장인물</span><span class=\"mw-editsection\"><span class=\"mw-editsection-bracket\">[</span><a href=\"/w/index.php?title=%EC%98%88%EA%B3%A0%EB%B2%94&amp;action=edit&amp;section=2\" title=\"부분 편집: 등장인물\">편집</a><span class=\"mw-editsection-bracket\">]</span></span></h2>\n",
       "<h3><span id=\".EC.98.88.EA.B3.A0.EB.B2.94_.EA.B7.B8.EB.A3.B9\"></span><span class=\"mw-headline\" id=\"예고범_그룹\">예고범 그룹</span><span class=\"mw-editsection\"><span class=\"mw-editsection-bracket\">[</span><a href=\"/w/index.php?title=%EC%98%88%EA%B3%A0%EB%B2%94&amp;action=edit&amp;section=3\" title=\"부분 편집: 예고범 그룹\">편집</a><span class=\"mw-editsection-bracket\">]</span></span></h3>\n",
       "<dl><dt>게이츠/오쿠다 히로아키</dt>\n",
       "<dd>예고범 그룹 〈신분시〉의 주범격.</dd>\n",
       "<dt>칸사이/카사이 토모히코</dt>\n",
       "<dd><a href=\"/wiki/%EC%98%A4%EC%82%AC%EC%B9%B4%EB%B6%80\" title=\"오사카부\">오사카</a> 출신.</dd>\n",
       "<dt>메타보/테라하라 신이치</dt>\n",
       "<dd><a href=\"/wiki/%ED%9B%84%EC%BF%A0%EC%98%A4%EC%B9%B4%ED%98%84\" title=\"후쿠오카현\">후쿠오카</a> 출신.</dd>\n",
       "<dt>노비타/키무라 코이치</dt>\n",
       "<dd><a href=\"/wiki/%EB%AF%B8%EC%95%BC%EA%B8%B0%ED%98%84\" title=\"미야기현\">미야기</a> 출신.</dd></dl>\n",
       "<h3><span id=\".EA.B2.BD.EC.B0.B0_.EA.B4.80.EA.B3.84.EC.9E.90\"></span><span class=\"mw-headline\" id=\"경찰_관계자\">경찰 관계자</span><span class=\"mw-editsection\"><span class=\"mw-editsection-bracket\">[</span><a href=\"/w/index.php?title=%EC%98%88%EA%B3%A0%EB%B2%94&amp;action=edit&amp;section=4\" title=\"부분 편집: 경찰 관계자\">편집</a><span class=\"mw-editsection-bracket\">]</span></span></h3>\n",
       "<dl><dt>요시노 에리카</dt>\n",
       "<dd><a href=\"/wiki/%EC%9D%BC%EB%B3%B8_%EA%B2%BD%EC%8B%9C%EC%B2%AD\" title=\"일본 경시청\">경시청</a> 사이버 범죄 대책과 반장.</dd>\n",
       "<dt>오카모토 다이키</dt>\n",
       "<dd>경시청 사이버 범죄 대책과 소속 형사.</dd>\n",
       "<dt>이치카와 마나부</dt>\n",
       "<dd>경시청 사이버 범죄 대책과 소속 형사.</dd>\n",
       "<dt>마츠모토 신이치</dt>\n",
       "<dd>경시청 사이버 범죄 대책과 과장.</dd>\n",
       "<dt>아라가키</dt>\n",
       "<dd>고속대 대원.</dd></dl>\n",
       "<h3><span id=\".ED.83.80.EA.B9.83.EC.9D.B4_.EB.90.9C_.EC.9D.B8.EB.AC.BC.C2.B7.EA.B8.B0.EC.97.85.C2.B7.EB.8B.A8.EC.B2.B4\"></span><span class=\"mw-headline\" id=\"타깃이_된_인물·기업·단체\">타깃이 된 인물·기업·단체</span><span class=\"mw-editsection\"><span class=\"mw-editsection-bracket\">[</span><a href=\"/w/index.php?title=%EC%98%88%EA%B3%A0%EB%B2%94&amp;action=edit&amp;section=5\" title=\"부분 편집: 타깃이 된 인물·기업·단체\">편집</a><span class=\"mw-editsection-bracket\">]</span></span></h3>\n",
       "<dl><dt>식품 가공 회사</dt>\n",
       "<dd><a href=\"/wiki/%EC%9D%B4%EC%8B%9C%EC%B9%B4%EC%99%80%ED%98%84\" title=\"이시카와현\">이시카와현</a> K시에 있는 식품 가공 업자.</dd>\n",
       "<dt>부시키 슈야</dt>\n",
       "<dd>모 외식점의 전 아르바이트 점원.</dd>\n",
       "<dt>세키 슈지</dt>\n",
       "<dd>R대학의 전 학생.</dd>\n",
       "<dt>이케하타 마사요시</dt>\n",
       "<dd>모 넷 서비스 기업에 근무하는 회사원.</dd>\n",
       "<dt>시가디안</dt>\n",
       "<dd><a class=\"mw-redirect\" href=\"/wiki/%EA%B3%A0%EB%9E%98%EC%9E%A1%EC%9D%B4\" title=\"고래잡이\">고래잡이</a> 반대 운동 등을 행하고 있는 해외의 환경 보호 단체.</dd>\n",
       "<dt>시타라기 타다시</dt>\n",
       "<dd>현직 <a href=\"/wiki/%EC%A4%91%EC%9D%98%EC%9B%90\" title=\"중의원\">중의원</a> 의원.</dd></dl>\n",
       "<h3><span id=\".EA.B7.B8_.EC.99.B8\"></span><span class=\"mw-headline\" id=\"그_외\">그 외</span><span class=\"mw-editsection\"><span class=\"mw-editsection-bracket\">[</span><a href=\"/w/index.php?title=%EC%98%88%EA%B3%A0%EB%B2%94&amp;action=edit&amp;section=6\" title=\"부분 편집: 그 외\">편집</a><span class=\"mw-editsection-bracket\">]</span></span></h3>\n",
       "<dl><dt>마스야마 쇼타</dt>\n",
       "<dd><a href=\"/wiki/%EB%8F%84%EC%B9%98%EA%B8%B0%ED%98%84\" title=\"도치기현\">토치기 현</a> U시에 사는 중학생.</dd>\n",
       "<dt>호리이</dt>\n",
       "<dd>게이츠가 과거에 근무했던 IT 회사의 사장.</dd>\n",
       "<dt>노모토 청소의 사장과 사장 부인</dt>\n",
       "<dd>빌딩 외벽 청소를 사업으로 하는 청소 회사.</dd>\n",
       "<dt>효로/넬슨 카토 리카르테</dt>\n",
       "<dd><a href=\"/wiki/%ED%95%84%EB%A6%AC%ED%95%80\" title=\"필리핀\">필리핀</a> 출신의 <a href=\"/wiki/%EC%9D%BC%EB%B3%B8%EA%B3%84_%EC%99%B8%EA%B5%AD%EC%9D%B8\" title=\"일본계 외국인\">일본계 외국인</a>.</dd>\n",
       "<dt>이시다 키요시</dt>\n",
       "<dd>게이츠 등 5인이 먹고 자며 육체 노동을 하던 때의 현장 감독.</dd>\n",
       "<dt>카에데</dt>\n",
       "<dd><a href=\"/wiki/%EC%9D%B4%EC%99%80%ED%85%8C%ED%98%84\" title=\"이와테현\">이와테현</a> K시에 있는 <a href=\"/wiki/%EB%9D%BC%EB%A9%98\" title=\"라멘\">라멘</a> 가게에서 일하는 여성 점원.</dd>\n",
       "<dt>아오야마 유이치</dt>\n",
       "<dd><a href=\"/wiki/%EC%9D%B8%ED%84%B0%EB%84%B7_%EC%B9%B4%ED%8E%98\" title=\"인터넷 카페\">인터넷 카페</a> 〈피트 보이〉에서 일하는 점원.</dd></dl>\n",
       "<h2><span id=\".EC.84.9C.EC.A7.80_.EC.A0.95.EB.B3.B4\"></span><span class=\"mw-headline\" id=\"서지_정보\">서지 정보</span><span class=\"mw-editsection\"><span class=\"mw-editsection-bracket\">[</span><a href=\"/w/index.php?title=%EC%98%88%EA%B3%A0%EB%B2%94&amp;action=edit&amp;section=7\" title=\"부분 편집: 서지 정보\">편집</a><span class=\"mw-editsection-bracket\">]</span></span></h2>\n",
       "<ul><li>츠츠이 테츠야 《예고범》 <a href=\"/wiki/%EC%8A%88%EC%97%90%EC%9D%B4%EC%83%A4\" title=\"슈에이샤\">슈에이샤</a> 〈영 점프 코믹스〉 전 3권\n",
       "<ol><li>2012년 4월 10일 발매, <a href=\"/wiki/%EA%B5%AD%EC%A0%9C_%ED%91%9C%EC%A4%80_%EB%8F%84%EC%84%9C_%EB%B2%88%ED%98%B8\" title=\"국제 표준 도서 번호\">ISBN</a> <a href=\"/wiki/%ED%8A%B9%EC%88%98:%EC%B1%85%EC%B0%BE%EA%B8%B0/978-4-08-879310-8\" title=\"특수:책찾기/978-4-08-879310-8\">978-4-08-879310-8</a></li>\n",
       "<li>2012년 12월 10일 발매, <a href=\"/wiki/%EA%B5%AD%EC%A0%9C_%ED%91%9C%EC%A4%80_%EB%8F%84%EC%84%9C_%EB%B2%88%ED%98%B8\" title=\"국제 표준 도서 번호\">ISBN</a> <a href=\"/wiki/%ED%8A%B9%EC%88%98:%EC%B1%85%EC%B0%BE%EA%B8%B0/978-4-08-879495-2\" title=\"특수:책찾기/978-4-08-879495-2\">978-4-08-879495-2</a></li>\n",
       "<li>2013년 9월 10일 발매, <a href=\"/wiki/%EA%B5%AD%EC%A0%9C_%ED%91%9C%EC%A4%80_%EB%8F%84%EC%84%9C_%EB%B2%88%ED%98%B8\" title=\"국제 표준 도서 번호\">ISBN</a> <a href=\"/wiki/%ED%8A%B9%EC%88%98:%EC%B1%85%EC%B0%BE%EA%B8%B0/978-4-08-879680-2\" title=\"특수:책찾기/978-4-08-879680-2\">978-4-08-879680-2</a></li></ol></li></ul>\n",
       "<h2><span id=\".EC.8A.A4.ED.95.80.EC.98.A4.ED.94.84_.EC.9E.91.ED.92.88\"></span><span class=\"mw-headline\" id=\"스핀오프_작품\">스핀오프 작품</span><span class=\"mw-editsection\"><span class=\"mw-editsection-bracket\">[</span><a href=\"/w/index.php?title=%EC%98%88%EA%B3%A0%EB%B2%94&amp;action=edit&amp;section=8\" title=\"부분 편집: 스핀오프 작품\">편집</a><span class=\"mw-editsection-bracket\">]</span></span></h2>\n",
       "<h3><span id=\".EC.98.88.EA.B3.A0.EB.B2.94-THE_COPYCAT-\"></span><span class=\"mw-headline\" id=\"예고범-THE_COPYCAT-\">예고범-THE COPYCAT-</span><span class=\"mw-editsection\"><span class=\"mw-editsection-bracket\">[</span><a href=\"/w/index.php?title=%EC%98%88%EA%B3%A0%EB%B2%94&amp;action=edit&amp;section=9\" title=\"부분 편집: 예고범-THE COPYCAT-\">편집</a><span class=\"mw-editsection-bracket\">]</span></span></h3>\n",
       "<p>《<b>예고범 -THE COPYCAT-</b>》은, 스핀오프 만화 작품이다.\n",
       "</p><p>〈신분시〉의 <a class=\"mw-redirect\" href=\"/wiki/%EB%AA%A8%EB%B0%A9_%EB%B2%94%EC%A3%84\" title=\"모방 범죄\">모방범</a> (카피캣)을 하는 고교생 그룹의 스토리.\n",
       "</p>\n",
       "<h3><span id=\".EC.98.88.EA.B3.A0.EB.B2.94-THE_CHASER-\"></span><span class=\"mw-headline\" id=\"예고범-THE_CHASER-\">예고범-THE CHASER-</span><span class=\"mw-editsection\"><span class=\"mw-editsection-bracket\">[</span><a href=\"/w/index.php?title=%EC%98%88%EA%B3%A0%EB%B2%94&amp;action=edit&amp;section=10\" title=\"부분 편집: 예고범-THE CHASER-\">편집</a><span class=\"mw-editsection-bracket\">]</span></span></h3>\n",
       "<p>《<b>예고범 -THE CHASER-</b>》는, 스핀오프 <a href=\"/wiki/%EC%86%8C%EC%84%A4\" title=\"소설\">소설</a> 작품이다.\n",
       "</p><p>요시노 에리카와 경시청 사이버 범죄 대책과의 그 후 활동을 그린다.\n",
       "</p>\n",
       "<h2><span id=\".EC.98.81.ED.99.94\"></span><span class=\"mw-headline\" id=\"영화\">영화</span><span class=\"mw-editsection\"><span class=\"mw-editsection-bracket\">[</span><a href=\"/w/index.php?title=%EC%98%88%EA%B3%A0%EB%B2%94&amp;action=edit&amp;section=11\" title=\"부분 편집: 영화\">편집</a><span class=\"mw-editsection-bracket\">]</span></span></h2>\n",
       "<p><a href=\"/wiki/2015%EB%85%84\" title=\"2015년\">2015년</a> <a href=\"/wiki/6%EC%9B%94_6%EC%9D%BC\" title=\"6월 6일\">6월 6일</a>, 일본에서 공개되었다. 감독은 나카무라 요시히로. 주연은 <a href=\"/wiki/%EC%9D%B4%EC%BF%A0%ED%83%80_%ED%86%A0%EB%A7%88\" title=\"이쿠타 토마\">이쿠타 토마</a>.\n",
       "</p>\n",
       "<h3><span id=\".EC.BA.90.EC.8A.A4.ED.8A.B8\"></span><span class=\"mw-headline\" id=\"캐스트\">캐스트</span><span class=\"mw-editsection\"><span class=\"mw-editsection-bracket\">[</span><a href=\"/w/index.php?title=%EC%98%88%EA%B3%A0%EB%B2%94&amp;action=edit&amp;section=12\" title=\"부분 편집: 캐스트\">편집</a><span class=\"mw-editsection-bracket\">]</span></span></h3>\n",
       "<ul><li>게이츠/오쿠다 히로아키 - <a href=\"/wiki/%EC%9D%B4%EC%BF%A0%ED%83%80_%ED%86%A0%EB%A7%88\" title=\"이쿠타 토마\">이쿠타 토마</a></li>\n",
       "<li>요시노 에리카 - <a href=\"/wiki/%ED%86%A0%EB%8B%A4_%EC%97%90%EB%A6%AC%EC%B9%B4\" title=\"토다 에리카\">토다 에리카</a></li>\n",
       "<li>칸사이/카사이 토모히코 - <a href=\"/wiki/%EC%8A%A4%EC%A6%88%ED%82%A4_%EB%A3%8C%ED%97%A4%EC%9D%B4\" title=\"스즈키 료헤이\">스즈키 료헤이</a></li>\n",
       "<li>노비타/키무라 코이치 - 하마다 가쿠</li>\n",
       "<li>메타보/테라하라 신이치 - 아라카와 요시요시</li>\n",
       "<li>오카모토 다이키 - 타쿠마 타카유키</li>\n",
       "<li>이치카와 마나부 - <a href=\"/wiki/%EC%82%AC%EC%B9%B4%EA%B5%AC%EC%B9%98_%EC%BC%84%ED%83%80%EB%A1%9C\" title=\"사카구치 켄타로\">사카구치 켄타로</a></li>\n",
       "<li>아오야마 유이치 - <a href=\"/wiki/%EC%BF%A0%EB%B3%B4%ED%83%80_%EB%A7%88%EC%82%AC%ED%83%80%EC%B9%B4\" title=\"쿠보타 마사타카\">쿠보타 마사타카</a></li>\n",
       "<li>카에데 - <a href=\"/wiki/%EC%BD%94%EB%A7%88%EC%B8%A0_%EB%82%98%EB%82%98\" title=\"코마츠 나나\">코마츠 나나</a></li>\n",
       "<li>효로 - 후쿠야마 코헤이</li>\n",
       "<li>이시다 키요시 - 나카노 시게루</li>\n",
       "<li>키타무라 - <a href=\"/wiki/%EB%8B%A4%EB%82%98%EC%B9%B4_%EC%BC%80%EC%9D%B4\" title=\"다나카 케이\">타나카 케이</a></li>\n",
       "<li>쿠리하라 - 타키토 켄이치</li>\n",
       "<li>카토 - 혼다 히로타로</li>\n",
       "<li>시타라기 타다시 - <a href=\"/wiki/%EC%BD%94%ED%9E%88%EB%82%98%ED%83%80_%ED%9B%84%EB%AF%B8%EC%9A%94\" title=\"코히나타 후미요\">코히나타 후미요</a></li></ul>\n",
       "<h3><span id=\".EC.8A.A4.ED.83.9C.ED.94.84\"></span><span class=\"mw-headline\" id=\"스태프\">스태프</span><span class=\"mw-editsection\"><span class=\"mw-editsection-bracket\">[</span><a href=\"/w/index.php?title=%EC%98%88%EA%B3%A0%EB%B2%94&amp;action=edit&amp;section=13\" title=\"부분 편집: 스태프\">편집</a><span class=\"mw-editsection-bracket\">]</span></span></h3>\n",
       "<ul><li>감독 - 나카무라 요시히로</li>\n",
       "<li>원작 - 츠츠이 테츠야</li>\n",
       "<li>각본 - 하야시 타미오</li>\n",
       "<li>음악 - 오오마마 타카시</li>\n",
       "<li>기획·프로듀스 - 히라노 타카시</li>\n",
       "<li>프로듀스 - 타케다 요시타카</li>\n",
       "<li>촬영 - 소마 다이스케</li>\n",
       "<li>미술 - 시미즈 타케시</li>\n",
       "<li>배급 - <a href=\"/wiki/%EB%8F%84%ED%98%B8\" title=\"도호\">토호</a></li>\n",
       "<li>제작 프로덕션 - WOWOW FILMS, C&amp;I 엔터테인먼트</li>\n",
       "<li>제작 간사 - <a href=\"/wiki/%EB%8F%84%EC%BF%84_%EB%B0%A9%EC%86%A1_%ED%99%80%EB%94%A9%EC%8A%A4\" title=\"도쿄 방송 홀딩스\">TBS</a>, <a href=\"/wiki/WOWOW\" title=\"WOWOW\">WOWOW</a></li>\n",
       "<li>제작 - 영화 〈예고범〉 제작 위원회</li></ul>\n",
       "<h2><span id=\".ED.85.94.EB.A0.88.EB.B9.84.EC.A0.84_.EB.93.9C.EB.9D.BC.EB.A7.88\"></span><span class=\"mw-headline\" id=\"텔레비전_드라마\">텔레비전 드라마</span><span class=\"mw-editsection\"><span class=\"mw-editsection-bracket\">[</span><a href=\"/w/index.php?title=%EC%98%88%EA%B3%A0%EB%B2%94&amp;action=edit&amp;section=14\" title=\"부분 편집: 텔레비전 드라마\">편집</a><span class=\"mw-editsection-bracket\">]</span></span></h2>\n",
       "<p>《<b>예고범 -THE PAIN-</b>》은, <a href=\"/wiki/2015%EB%85%84\" title=\"2015년\">2015년</a> <a href=\"/wiki/6%EC%9B%94_7%EC%9D%BC\" title=\"6월 7일\">6월 7일</a>부터 <a href=\"/wiki/7%EC%9B%94_5%EC%9D%BC\" title=\"7월 5일\">7월 5일</a>까지 <a href=\"/wiki/WOWOW\" title=\"WOWOW\">WOWOW</a> 연속 드라마 W에서 방송된 <a class=\"mw-redirect\" href=\"/wiki/%EC%9D%BC%EB%B3%B8_%EB%93%9C%EB%9D%BC%EB%A7%88\" title=\"일본 드라마\">텔레비전 드라마</a>이다. 전 5화. 주연은 <a href=\"/wiki/%ED%9E%88%EA%B0%80%EC%8B%9C%EC%95%BC%EB%A7%88_%EB%85%B8%EB%A6%AC%EC%9C%A0%ED%82%A4\" title=\"히가시야마 노리유키\">히가시야마 노리유키</a>. 영화판의 스토리로부터 1년 후를 그린 오리지널 스토리이다. 영화판 감독인 나카무라 요시히로가 감독을 맡았고, <a href=\"/wiki/%ED%86%A0%EB%8B%A4_%EC%97%90%EB%A6%AC%EC%B9%B4\" title=\"토다 에리카\">토다 에리카</a>가 영화판과 같은 역으로 출연했다.\n",
       "</p>\n",
       "<h3><span id=\".EC.BA.90.EC.8A.A4.ED.8A.B8_2\"></span><span class=\"mw-headline\" id=\"캐스트_2\">캐스트</span><span class=\"mw-editsection\"><span class=\"mw-editsection-bracket\">[</span><a href=\"/w/index.php?title=%EC%98%88%EA%B3%A0%EB%B2%94&amp;action=edit&amp;section=15\" title=\"부분 편집: 캐스트\">편집</a><span class=\"mw-editsection-bracket\">]</span></span></h3>\n",
       "<ul><li>사쿠마 에이지 - <a href=\"/wiki/%ED%9E%88%EA%B0%80%EC%8B%9C%EC%95%BC%EB%A7%88_%EB%85%B8%EB%A6%AC%EC%9C%A0%ED%82%A4\" title=\"히가시야마 노리유키\">히가시야마 노리유키</a></li>\n",
       "<li>요시노 에리카 - <a href=\"/wiki/%ED%86%A0%EB%8B%A4_%EC%97%90%EB%A6%AC%EC%B9%B4\" title=\"토다 에리카\">토다 에리카</a></li>\n",
       "<li>타부치 유조 - 하시모토 사토시</li>\n",
       "<li>오키나 케이코 - <a href=\"/wiki/%EC%9D%B4%EC%B9%98%EC%B9%B4%EC%99%80_%EB%AF%B8%EC%B9%B4%EC%BD%94\" title=\"이치카와 미카코\">이치카와 미카코</a></li>\n",
       "<li>미즈타니 켄 - <a href=\"/wiki/%ED%82%A4%EB%A6%AC%ED%83%80%EB%8B%88_%EC%BC%84%ED%83%80\" title=\"키리타니 켄타\">키리타니 켄타</a></li>\n",
       "<li>히라사와 아츠시 - 타나카 류조</li>\n",
       "<li>야자키 신타로 - 오오니시 시마</li>\n",
       "<li>카네코 - 코마츠 토시마사</li>\n",
       "<li>사코타 - 마츠바야시 신지</li>\n",
       "<li>신타니 스바루 - 모리오카 류</li>\n",
       "<li>카키네 - 츠무라 노리요시</li>\n",
       "<li>하나야마 토오루 - 무라이 쿠니오</li></ul>\n",
       "<h3><span id=\".EC.8A.A4.ED.83.9C.ED.94.84_2\"></span><span class=\"mw-headline\" id=\"스태프_2\">스태프</span><span class=\"mw-editsection\"><span class=\"mw-editsection-bracket\">[</span><a href=\"/w/index.php?title=%EC%98%88%EA%B3%A0%EB%B2%94&amp;action=edit&amp;section=16\" title=\"부분 편집: 스태프\">편집</a><span class=\"mw-editsection-bracket\">]</span></span></h3>\n",
       "<ul><li>원작·스토리 감수 - 츠츠이 테츠야</li>\n",
       "<li>시리즈 구성 - 나카무라 요시히로</li>\n",
       "<li>감독 - 나카무라 요시히로, 히라바야시 카츠토시, 사와다 메구미</li>\n",
       "<li>각본 - 하야시 타미오, 타나카 히로시</li>\n",
       "<li>음악 - 오오마마 타카시</li>\n",
       "<li>프로듀스 - 우에다 하루나</li>\n",
       "<li>제작 프로덕션 - 트윈즈 재팬</li>\n",
       "<li>제작 저작 - <a href=\"/wiki/WOWOW\" title=\"WOWOW\">WOWOW</a></li></ul>\n",
       "<h3><span id=\".EB.B0.A9.EC.86.A1_.EC.9D.BC.EC.9E.90\"></span><span class=\"mw-headline\" id=\"방송_일자\">방송 일자</span><span class=\"mw-editsection\"><span class=\"mw-editsection-bracket\">[</span><a href=\"/w/index.php?title=%EC%98%88%EA%B3%A0%EB%B2%94&amp;action=edit&amp;section=17\" title=\"부분 편집: 방송 일자\">편집</a><span class=\"mw-editsection-bracket\">]</span></span></h3>\n",
       "<table class=\"wikitable\" style=\"text-align:center\">\n",
       "<tbody><tr>\n",
       "<th>방송회</th>\n",
       "<th>방송일</th>\n",
       "<th>각본</th>\n",
       "<th>감독\n",
       "</th></tr>\n",
       "<tr>\n",
       "<td>CASE #1\n",
       "</td>\n",
       "<td style=\"text-align:right;\">2015년 6월 7일</td>\n",
       "<td>하야시 타미오</td>\n",
       "<td>나카무라 요시히로\n",
       "</td></tr>\n",
       "<tr>\n",
       "<td>CASE #2\n",
       "</td>\n",
       "<td style=\"text-align:right;\">6월 14일</td>\n",
       "<td rowspan=\"4\">타나카 히로시</td>\n",
       "<td>히라바야시 카츠토시\n",
       "</td></tr>\n",
       "<tr>\n",
       "<td>CASE #3\n",
       "</td>\n",
       "<td style=\"text-align:right;\">6월 21일</td>\n",
       "<td>사와다 메구미\n",
       "</td></tr>\n",
       "<tr>\n",
       "<td>CASE #4\n",
       "</td>\n",
       "<td style=\"text-align:right;\">6월 28일</td>\n",
       "<td rowspan=\"2\">히라바야시 카츠토시\n",
       "</td></tr>\n",
       "<tr>\n",
       "<td>FINAL CASE\n",
       "</td>\n",
       "<td style=\"text-align:right;\">7월 5일\n",
       "</td></tr>\n",
       "</tbody></table>\n",
       "<h2><span id=\".EC.99.B8.EB.B6.80_.EB.A7.81.ED.81.AC\"></span><span class=\"mw-headline\" id=\"외부_링크\">외부 링크</span><span class=\"mw-editsection\"><span class=\"mw-editsection-bracket\">[</span><a href=\"/w/index.php?title=%EC%98%88%EA%B3%A0%EB%B2%94&amp;action=edit&amp;section=18\" title=\"부분 편집: 외부 링크\">편집</a><span class=\"mw-editsection-bracket\">]</span></span></h2>\n",
       "<ul><li><b><span style=\"color: #555; font-size: smaller;\" title=\"언어: 일본어\">(일본어)</span></b> <a class=\"external text\" href=\"https://web.archive.org/web/20150311050932/http://jumpx.jp/w/yokoku/\" rel=\"nofollow\">［예고범］ 츠츠이 테츠야｜전율의 넷 테러 만화를 완전 해설! - 점프 카이</a></li>\n",
       "<li><b><span style=\"color: #555; font-size: smaller;\" title=\"언어: 일본어\">(일본어)</span></b> <a class=\"external text\" href=\"http://yokoku-han.jp/\" rel=\"nofollow\">영화 《예고범》 공식 사이트</a></li>\n",
       "<li><b><span style=\"color: #555; font-size: smaller;\" title=\"언어: 일본어\">(일본어)</span></b> <a class=\"external text\" href=\"http://www.wowow.co.jp/dramaw/yokoku-han/\" rel=\"nofollow\">연속 드라마 W 《예고범 -THE PAIN-》 공식 사이트</a></li></ul>\n",
       "<div aria-labelledby=\"WOWOW_연속_드라마_W\" class=\"navbox\" role=\"navigation\" style=\"padding:3px\"><table class=\"nowraplinks collapsible autocollapse navbox-inner\" style=\"border-spacing:0;background:transparent;color:inherit\"><tbody><tr><th class=\"navbox-title\" colspan=\"2\" scope=\"col\" style=\"background:#87ceeb\"><div class=\"plainlinks hlist navbar mini\"><ul><li class=\"nv-view\"><a href=\"/wiki/%ED%8B%80:%EC%97%B0%EC%86%8D_%EB%93%9C%EB%9D%BC%EB%A7%88_W\" title=\"틀:연속 드라마 W\"><abbr style=\";background:#87ceeb;background:none transparent;border:none;-moz-box-shadow:none;-webkit-box-shadow:none;box-shadow:none; padding:0;\" title=\"이 틀을 보기\">v</abbr></a></li><li class=\"nv-talk\"><a class=\"new\" href=\"/w/index.php?title=%ED%8B%80%ED%86%A0%EB%A1%A0:%EC%97%B0%EC%86%8D_%EB%93%9C%EB%9D%BC%EB%A7%88_W&amp;action=edit&amp;redlink=1\" title=\"틀토론:연속 드라마 W (없는 문서)\"><abbr style=\";background:#87ceeb;background:none transparent;border:none;-moz-box-shadow:none;-webkit-box-shadow:none;box-shadow:none; padding:0;\" title=\"이 틀에 대한 토론\">d</abbr></a></li><li class=\"nv-edit\"><a class=\"external text\" href=\"//ko.wikipedia.org/w/index.php?title=%ED%8B%80:%EC%97%B0%EC%86%8D_%EB%93%9C%EB%9D%BC%EB%A7%88_W&amp;action=edit\"><abbr style=\";background:#87ceeb;background:none transparent;border:none;-moz-box-shadow:none;-webkit-box-shadow:none;box-shadow:none; padding:0;\" title=\"이 틀을 편집하기\">e</abbr></a></li><li class=\"nv-history\"><a class=\"external text\" href=\"//ko.wikipedia.org/w/index.php?title=%ED%8B%80:%EC%97%B0%EC%86%8D_%EB%93%9C%EB%9D%BC%EB%A7%88_W&amp;action=history\"><abbr style=\";background:#87ceeb;background:none transparent;border:none;-moz-box-shadow:none;-webkit-box-shadow:none;box-shadow:none; padding:0;\" title=\"이 틀의 역사\">h</abbr></a></li></ul></div><div id=\"WOWOW_연속_드라마_W\" style=\"font-size:114%;margin:0 4em\"><a href=\"/wiki/WOWOW\" title=\"WOWOW\">WOWOW</a> <a href=\"/wiki/%EB%93%9C%EB%9D%BC%EB%A7%88_W\" title=\"드라마 W\">연속 드라마 W</a></div></th></tr><tr><th class=\"navbox-group\" scope=\"row\" style=\"width:1%;background:#87ceeb\">주 1회<br/>(2008년 ~ 2014년)</th><td class=\"navbox-list navbox-odd hlist\" style=\"text-align:left;border-left-width:2px;border-left-style:solid;width:100%;padding:0px\"><div style=\"padding:0em 0.25em\">\n",
       "<ul><li>《<a class=\"new\" href=\"/w/index.php?title=%ED%8C%90%EB%8F%84%EB%9D%BC_(%EB%93%9C%EB%9D%BC%EB%A7%88)&amp;action=edit&amp;redlink=1\" title=\"판도라 (드라마) (없는 문서)\">판도라</a>》</li>\n",
       "<li>《<a class=\"new\" href=\"/w/index.php?title=%ED%94%84%EB%A6%AC%EC%A6%88%EB%84%88&amp;action=edit&amp;redlink=1\" title=\"프리즈너 (없는 문서)\">프리즈너</a>》</li>\n",
       "<li>《<a class=\"new\" href=\"/w/index.php?title=%ED%95%98%EB%8A%98%EC%9D%84_%EB%82%98%EB%8A%94_%ED%83%80%EC%9D%B4%EC%96%B4&amp;action=edit&amp;redlink=1\" title=\"하늘을 나는 타이어 (없는 문서)\">하늘을 나는 타이어</a>》</li>\n",
       "<li>《<a class=\"new\" href=\"/w/index.php?title=%EC%97%84%EB%A7%88%EB%8A%94_%EC%98%9B%EB%82%A0%EC%97%90_%EC%95%84%EB%B9%A0%EC%98%80%EB%8B%A4&amp;action=edit&amp;redlink=1\" title=\"엄마는 옛날에 아빠였다 (없는 문서)\">엄마는 옛날에 아빠였다</a>》</li>\n",
       "<li>《<a class=\"new\" href=\"/w/index.php?title=%EC%9D%80%ED%8F%90%EC%A7%80%EB%A0%B9&amp;action=edit&amp;redlink=1\" title=\"은폐지령 (없는 문서)\">은폐지령</a>》</li>\n",
       "<li>《<a class=\"new\" href=\"/w/index.php?title=%ED%8C%90%EB%8F%84%EB%9D%BC_(%EB%93%9C%EB%9D%BC%EB%A7%88)&amp;action=edit&amp;redlink=1\" title=\"판도라 (드라마) (없는 문서)\">판도라 II 기아열도</a>》</li>\n",
       "<li>《<a href=\"/wiki/%EB%A7%88%ED%81%AC%EC%8A%A4%EC%9D%98_%EC%82%B0\" title=\"마크스의 산\">마크스의 산</a>》</li>\n",
       "<li>《<a href=\"/wiki/%ED%99%98%EC%95%BC\" title=\"환야\">히가시노 게이고 환야</a>》</li>\n",
       "<li>《<a class=\"new\" href=\"/w/index.php?title=CO_%EC%9D%B4%EC%8B%9D_%EC%BD%94%EB%94%94%EB%84%A4%EC%9D%B4%ED%84%B0&amp;action=edit&amp;redlink=1\" title=\"CO 이식 코디네이터 (없는 문서)\">CO 이식 코디네이터</a>》</li>\n",
       "<li>《<a href=\"/wiki/%EB%B3%80%EB%91%90%EB%A6%AC_%EB%A1%9C%EC%BC%93\" title=\"변두리 로켓\">변두리 로켓</a>》</li>\n",
       "<li>《<a class=\"new\" href=\"/w/index.php?title=%ED%8C%90%EB%8F%84%EB%9D%BC_(%EB%93%9C%EB%9D%BC%EB%A7%88)&amp;action=edit&amp;redlink=1\" title=\"판도라 (드라마) (없는 문서)\">판도라 III 혁명전야</a>》</li>\n",
       "<li>《<a class=\"new\" href=\"/w/index.php?title=%EC%A1%B0%ED%99%94%EC%9D%98_%EA%BF%80&amp;action=edit&amp;redlink=1\" title=\"조화의 꿀 (없는 문서)\">조화의 꿀</a>》</li>\n",
       "<li>《<a href=\"/wiki/%EC%86%8D%EC%A3%84_(%EB%AF%B8%EB%82%98%ED%86%A0_%EA%B0%80%EB%82%98%EC%97%90%EC%9D%98_%EC%86%8C%EC%84%A4)\" title=\"속죄 (미나토 가나에의 소설)\">속죄</a>》</li>\n",
       "<li>《<a href=\"/wiki/%EB%A0%88%EB%AA%AC_(%EC%86%8C%EC%84%A4)\" title=\"레몬 (소설)\">분신</a>》</li>\n",
       "<li>《<a class=\"new\" href=\"/w/index.php?title=%EC%B6%94%EC%A0%95%EC%9C%A0%EC%A3%84&amp;action=edit&amp;redlink=1\" title=\"추정유죄 (없는 문서)\">추정유죄</a>》</li>\n",
       "<li>《<a class=\"new\" href=\"/w/index.php?title=%EC%A3%84%EC%99%80_%EB%B2%8C_A_Falsified_Romance&amp;action=edit&amp;redlink=1\" title=\"죄와 벌 A Falsified Romance (없는 문서)\">죄와 벌 A Falsified Romance</a>》</li>\n",
       "<li>《<a class=\"new\" href=\"/w/index.php?title=%EB%A7%88%EA%B7%B8%EB%A7%88_(%EC%86%8C%EC%84%A4)&amp;action=edit&amp;redlink=1\" title=\"마그마 (소설) (없는 문서)\">마그마</a>》</li>\n",
       "<li>《<a class=\"new\" href=\"/w/index.php?title=%ED%94%8C%EB%9D%BC%ED%8B%B0%EB%82%98_%ED%83%80%EC%9A%B4&amp;action=edit&amp;redlink=1\" title=\"플라티나 타운 (없는 문서)\">플라티나 타운</a>》</li>\n",
       "<li>《<a href=\"/wiki/%ED%9E%88%ED%86%A0%EB%A6%AC%EC%8B%9C%EC%A6%88%EC%B9%B4\" title=\"히토리시즈카\">히토리시즈카</a>》</li>\n",
       "<li>《<a class=\"new\" href=\"/w/index.php?title=%ED%95%98%EB%8A%98%EC%9D%98_%EB%B0%A9%EC%A3%BC&amp;action=edit&amp;redlink=1\" title=\"하늘의 방주 (없는 문서)\">하늘의 방주</a>》</li>\n",
       "<li>《<a class=\"new\" href=\"/w/index.php?title=%EC%97%AC%EC%9E%90%EC%99%80_%EB%82%A8%EC%9E%90%EC%9D%98_%EC%97%B4%EB%8C%80&amp;action=edit&amp;redlink=1\" title=\"여자와 남자의 열대 (없는 문서)\">여자와 남자의 열대</a>》</li>\n",
       "<li>《<a class=\"new\" href=\"/w/index.php?title=%EB%A0%88%EC%9D%B4%EB%94%94_%EC%A1%B0%EC%BB%A4&amp;action=edit&amp;redlink=1\" title=\"레이디 조커 (없는 문서)\">레이디 조커</a>》</li>\n",
       "<li>《<a class=\"new\" href=\"/w/index.php?title=%EC%86%8C%EB%8F%94%EC%9D%98_%EC%82%AC%EA%B3%BC~%EB%A1%AF%EC%9D%84_%EC%A3%BD%EC%9D%B8_%EB%94%B8%EB%93%A4&amp;action=edit&amp;redlink=1\" title=\"소돔의 사과~롯을 죽인 딸들 (없는 문서)\">소돔의 사과~롯을 죽인 딸들</a>》</li>\n",
       "<li>《<a class=\"new\" href=\"/w/index.php?title=%EB%B0%B0%EB%8B%AC%EB%90%98%EA%B3%A0_%EC%8B%B6%EC%9D%80_%EC%9A%B0%EB%A6%AC&amp;action=edit&amp;redlink=1\" title=\"배달되고 싶은 우리 (없는 문서)\">배달되고 싶은 우리</a>》</li>\n",
       "<li>《<a class=\"new\" href=\"/w/index.php?title=%ED%9D%94%EB%93%A4%EB%A6%AC%EB%8A%94_%EC%86%8C&amp;action=edit&amp;redlink=1\" title=\"흔들리는 소 (없는 문서)\">흔들리는 소</a>》</li>\n",
       "<li>《<a class=\"new\" href=\"/w/index.php?title=%EB%B9%B5%EA%B3%BC_%EC%8A%A4%ED%94%84,_%EA%B3%A0%EC%96%91%EC%9D%B4%EC%99%80_%ED%95%A8%EA%BB%98_%ED%95%98%EA%B8%B0_%EC%A2%8B%EC%9D%80_%EB%82%A0&amp;action=edit&amp;redlink=1\" title=\"빵과 스프, 고양이와 함께 하기 좋은 날 (없는 문서)\">빵과 스프, 고양이와 함께 하기 좋은 날</a>》</li>\n",
       "<li>《<a class=\"new\" href=\"/w/index.php?title=%EC%97%B4%EC%87%A0_%EC%97%86%EB%8A%94_%EA%BF%88%EC%9D%84_%EA%BE%B8%EB%8B%A4&amp;action=edit&amp;redlink=1\" title=\"열쇠 없는 꿈을 꾸다 (없는 문서)\">열쇠 없는 꿈을 꾸다</a>》</li>\n",
       "<li>《<a class=\"new\" href=\"/w/index.php?title=LINK_(%EB%93%9C%EB%9D%BC%EB%A7%88)&amp;action=edit&amp;redlink=1\" title=\"LINK (드라마) (없는 문서)\">LINK</a>》</li>\n",
       "<li>《<a class=\"new\" href=\"/w/index.php?title=%EC%A0%80%ED%8E%B8%EC%9D%98_%EC%95%84%EC%9D%B4&amp;action=edit&amp;redlink=1\" title=\"저편의 아이 (없는 문서)\">저편의 아이</a>》</li>\n",
       "<li>《<a class=\"new\" href=\"/w/index.php?title=%ED%94%BC%EC%9D%98_%ED%9D%94%EC%A0%81&amp;action=edit&amp;redlink=1\" title=\"피의 흔적 (없는 문서)\">피의 흔적</a>》</li>\n",
       "<li>《<a class=\"new\" href=\"/w/index.php?title=%EC%84%B8%EC%83%81%EC%9D%98_%EC%86%8C%EA%B8%88&amp;action=edit&amp;redlink=1\" title=\"세상의 소금 (없는 문서)\">세상의 소금</a>》</li>\n",
       "<li>《<a class=\"new\" href=\"/w/index.php?title=%EB%82%98%EB%9D%BC%EA%B3%A0_%ED%95%98%EB%8A%94_%EC%9A%B4%EB%AA%85%EC%97%90_%EB%8C%80%ED%95%98%EC%97%AC&amp;action=edit&amp;redlink=1\" title=\"나라고 하는 운명에 대하여 (없는 문서)\">나라고 하는 운명에 대하여</a>》</li>\n",
       "<li><a class=\"new\" href=\"/w/index.php?title=%EC%82%AC%EB%B2%95%EA%B8%B0%EC%9E%90&amp;action=edit&amp;redlink=1\" title=\"사법기자 (없는 문서)\">토쿠소우</a>》</li>\n",
       "<li>《<a href=\"/wiki/%EB%AA%A8%EC%9E%90%EC%9D%B4%ED%81%AC_%EC%9E%AC%ED%8C%AC\" title=\"모자이크 재팬\">모자이크 재팬</a>》</li>\n",
       "<li>《<a href=\"/wiki/MOZU\" title=\"MOZU\">MOZU Season2 ~환상의 날개~</a>》</li>\n",
       "<li>《<a href=\"/wiki/%EB%B3%80%EC%8B%A0_(%ED%9E%88%EA%B0%80%EC%8B%9C%EB%85%B8_%EA%B2%8C%EC%9D%B4%EA%B3%A0)\" title=\"변신 (히가시노 게이고)\">히가시노 게이고 〈변신〉</a>》</li>\n",
       "<li>《<a class=\"new\" href=\"/w/index.php?title=%EC%A3%84%EC%9D%B8%EC%9D%98_%EA%B1%B0%EC%A7%93%EB%A7%90&amp;action=edit&amp;redlink=1\" title=\"죄인의 거짓말 (없는 문서)\">죄인의 거짓말</a>》</li></ul>\n",
       "</div></td></tr><tr><th class=\"navbox-group\" scope=\"row\" style=\"width:1%;background:#87ceeb\">주 2회<br/>(2014년 ~ )</th><td class=\"navbox-list navbox-odd hlist\" style=\"text-align:left;border-left-width:2px;border-left-style:solid;width:100%;padding:0px\"><div style=\"padding:0em 0.25em\"></div><table class=\"nowraplinks navbox-subgroup\" style=\"border-spacing:0\"><tbody><tr><th class=\"navbox-group\" scope=\"row\" style=\"width:1%;background:#95C0EC\">토요 오리지널</th><td class=\"navbox-list navbox-even\" style=\"text-align:left;border-left-width:2px;border-left-style:solid;width:100%;padding:0px\"><div style=\"padding:0em 0.25em\">\n",
       "<ul><li>《<a href=\"/wiki/%EA%B5%AC%EA%B5%AC%EB%8A%94_%EA%B3%A0%EC%96%91%EC%9D%B4%EB%8B%A4\" title=\"구구는 고양이다\">구구는 고양이다</a>》</li>\n",
       "<li>《<a class=\"new\" href=\"/w/index.php?title=%ED%97%A4%EC%9D%B4%EC%84%B8%EC%9D%B4_%EC%9B%90%EC%88%AD%EC%9D%B4%EC%99%80_%EA%B2%8C%EC%9D%98_%EC%A0%84%EC%9F%81&amp;action=edit&amp;redlink=1\" title=\"헤이세이 원숭이와 게의 전쟁 (없는 문서)\">헤이세이 원숭이와 게의 전쟁</a>》</li>\n",
       "<li>《<a class=\"new\" href=\"/w/index.php?title=%EC%86%8D%EC%A3%84%EC%9D%98_%EC%86%8C%EB%82%98%ED%83%80&amp;action=edit&amp;redlink=1\" title=\"속죄의 소나타 (없는 문서)\">속죄의 소나타</a>》</li>\n",
       "<li>《<a class=\"new\" href=\"/w/index.php?title=%EC%9C%A0%EB%A6%AC%EC%9D%98_%EA%B0%88%EB%8C%80&amp;action=edit&amp;redlink=1\" title=\"유리의 갈대 (없는 문서)\">유리의 갈대</a>》</li>\n",
       "<li>《<a class=\"new\" href=\"/w/index.php?title=%EC%96%B4%EB%91%A0%EC%9D%98_%EB%B0%98%EC%A3%BC%EC%9E%90&amp;action=edit&amp;redlink=1\" title=\"어둠의 반주자 (없는 문서)\">어둠의 반주자</a>》</li>\n",
       "<li>《<a href=\"/wiki/%EA%BF%88%EC%9D%84_%EC%A3%BC%EB%8B%A4\" title=\"꿈을 주다\">꿈을 주다</a>》</li>\n",
       "<li>《<a class=\"new\" href=\"/w/index.php?title=%ED%9B%84%ED%83%80%EA%B0%80%EC%8B%9C%EB%9D%BC&amp;action=edit&amp;redlink=1\" title=\"후타가시라 (없는 문서)\">후타가시라</a>》</li>\n",
       "<li>《<a class=\"new\" href=\"/w/index.php?title=%EC%97%B0%ED%95%98_(%EC%86%8C%EC%84%A4)&amp;action=edit&amp;redlink=1\" title=\"연하 (소설) (없는 문서)\">연하 -Gold Rush-</a>》</li>\n",
       "<li>《<a class=\"new\" href=\"/w/index.php?title=%EB%B0%94%EB%8B%A4%EC%97%90_%EB%82%B4%EB%A6%AC%EB%8B%A4&amp;action=edit&amp;redlink=1\" title=\"바다에 내리다 (없는 문서)\">바다에 내리다</a>》</li>\n",
       "<li>《<a class=\"new\" href=\"/w/index.php?title=5%EB%AA%85%EC%9D%98_%EC%A4%80%EC%BD%94&amp;action=edit&amp;redlink=1\" title=\"5명의 준코 (없는 문서)\">5명의 준코</a>》</li>\n",
       "<li>《<a class=\"new\" href=\"/w/index.php?title=%ED%99%A9%EB%AC%B4%EC%A7%80%EC%9D%98_%EC%82%AC%EB%9E%91&amp;action=edit&amp;redlink=1\" title=\"황무지의 사랑 (없는 문서)\">황무지의 사랑</a>》</li>\n",
       "<li>《<a class=\"new\" href=\"/w/index.php?title=%EB%B0%98%EC%A7%9D%EB%B0%98%EC%A7%9D&amp;action=edit&amp;redlink=1\" title=\"반짝반짝 (없는 문서)\">반짝반짝</a>》</li>\n",
       "<li>《<a href=\"/wiki/%EA%B5%AC%EA%B5%AC%EB%8A%94_%EA%B3%A0%EC%96%91%EC%9D%B4%EB%8B%A4\" title=\"구구는 고양이다\">구구는 고양이다 2-good good the fortune cat-</a>》</li>\n",
       "<li>《<a class=\"new\" href=\"/w/index.php?title=%EA%B8%B0%EB%B3%B4%EA%B0%80%EC%98%A4%EC%B9%B4%EC%9D%98_%EC%82%AC%EB%9E%8C%EB%93%A4&amp;action=edit&amp;redlink=1\" title=\"기보가오카의 사람들 (없는 문서)\">키보가오카의 사람들</a>》</li>\n",
       "<li>《<a class=\"new\" href=\"/w/index.php?title=%ED%98%84%EC%9E%90%EC%9D%98_%EC%82%AC%EB%9E%91&amp;action=edit&amp;redlink=1\" title=\"현자의 사랑 (없는 문서)\">현자의 사랑</a>》</li>\n",
       "<li>《<a class=\"new\" href=\"/w/index.php?title=%ED%9B%84%ED%83%80%EA%B0%80%EC%8B%9C%EB%9D%BC&amp;action=edit&amp;redlink=1\" title=\"후타가시라 (없는 문서)\">후타가시라 2</a>》</li>\n",
       "<li>《<a href=\"/wiki/%EC%BD%9C%EB%93%9C_%EC%BC%80%EC%9D%B4%EC%8A%A4_~%EC%A7%84%EC%8B%A4%EC%9D%98_%EB%AC%B8~\" title=\"콜드 케이스 ~진실의 문~\">콜드 케이스 ~진실의 문~</a>》</li>\n",
       "<li>《<a class=\"new\" href=\"/w/index.php?title=%EC%98%A4%EB%8A%98%EC%9D%80,_%EC%9D%BC%EC%A7%84%EB%8F%84_%EC%A2%8B%EA%B3%A0&amp;action=edit&amp;redlink=1\" title=\"오늘은, 일진도 좋고 (없는 문서)\">오늘은, 일진도 좋고</a>》</li>\n",
       "<li>《<a class=\"new\" href=\"/w/index.php?title=%ED%98%B8%EC%BF%A0%ED%86%A0_-%EC%96%B4%EB%8A%90_%EC%82%B4%EC%9D%B8%EC%9E%90%EC%9D%98_%ED%9A%8C%EC%8B%AC-&amp;action=edit&amp;redlink=1\" title=\"호쿠토 -어느 살인자의 회심- (없는 문서)\">호쿠토 -어느 살인자의 회심-</a>》</li>\n",
       "<li>《<a class=\"new\" href=\"/w/index.php?title=%EB%AF%B8%EC%95%BC%EC%9E%90%EC%99%80_%EA%B2%90%EC%A7%80%EC%9D%98_%EC%8B%9D%ED%83%81&amp;action=edit&amp;redlink=1\" title=\"미야자와 겐지의 식탁 (없는 문서)\">미야자와 겐지의 식탁</a>》</li>\n",
       "<li>《<a class=\"new\" href=\"/w/index.php?title=%ED%94%8C%EB%9D%BC%EC%A6%88&amp;action=edit&amp;redlink=1\" title=\"플라즈 (없는 문서)\">플라즈~번역 있음 만의 쉐어하우스~</a>》</li>\n",
       "<li>《<a class=\"new\" href=\"/w/index.php?title=%EC%A7%9D%EC%82%AC%EB%9E%91_(%EC%86%8C%EC%84%A4)&amp;action=edit&amp;redlink=1\" title=\"짝사랑 (소설) (없는 문서)\">짝사랑</a>》</li>\n",
       "<li>《<a class=\"new\" href=\"/w/index.php?title=%EB%AA%85%ED%95%A8_%EA%B2%8C%EC%9E%84&amp;action=edit&amp;redlink=1\" title=\"명함 게임 (없는 문서)\">명함 게임</a>》</li>\n",
       "<li>《<a class=\"new\" href=\"/w/index.php?title=%EB%B4%84%EC%9D%B4_%EC%99%94%EB%8B%A4&amp;action=edit&amp;redlink=1\" title=\"봄이 왔다 (없는 문서)\">봄이 왔다</a>》</li>\n",
       "<li>《<a class=\"new\" href=\"/w/index.php?title=%EB%B0%94%EC%9D%B4%EB%B0%94%EC%9D%B4,_%EB%B8%94%EB%9E%99%EB%B2%84%EB%93%9C&amp;action=edit&amp;redlink=1\" title=\"바이바이, 블랙버드 (없는 문서)\">바이바이, 블랙버드</a>》</li>\n",
       "<li>《<a class=\"new\" href=\"/w/index.php?title=%EC%96%B4%EB%91%A0%EC%9D%98_%EB%B0%98%EC%A3%BC%EC%9E%90&amp;action=edit&amp;redlink=1\" title=\"어둠의 반주자 (없는 문서)\">어둠의 반주자~편집장의 조건</a>》</li>\n",
       "<li>《<a class=\"mw-redirect\" href=\"/wiki/%EB%8D%94%EB%B8%94_%ED%8C%90%ED%83%80%EC%A7%80\" title=\"더블 판타지\">더블 판타지</a>》</li>\n",
       "<li>《<a class=\"new\" href=\"/w/index.php?title=%EC%9D%B4%EC%95%84%EB%A6%AC_%EB%B3%B4%EC%9D%B4%EC%A7%80_%EC%95%8A%EB%8A%94_%EC%96%BC%EA%B5%B4&amp;action=edit&amp;redlink=1\" title=\"이아리 보이지 않는 얼굴 (없는 문서)\">이아리 보이지 않는 얼굴</a>》</li>\n",
       "<li>《<a href=\"/wiki/%EC%BD%9C%EB%93%9C_%EC%BC%80%EC%9D%B4%EC%8A%A4_~%EC%A7%84%EC%8B%A4%EC%9D%98_%EB%AC%B8~\" title=\"콜드 케이스 ~진실의 문~\">콜드 케이스 2 ~진실의 문~</a>》</li>\n",
       "<li>《<a class=\"new\" href=\"/w/index.php?title=%EB%8F%84%EB%82%9C%EB%8B%B9%ED%95%9C_%EC%96%BC%EA%B5%B4_~%EB%88%88%EC%97%90_%EB%9D%84%EC%A7%80_%EC%88%98%EC%82%AC%EB%B0%98~&amp;action=edit&amp;redlink=1\" title=\"도난당한 얼굴 ~눈에 띄지 수사반~ (없는 문서)\">도난당한 얼굴 ~눈에 띄지 수사반~</a>》</li>\n",
       "<li>《<a class=\"new\" href=\"/w/index.php?title=%EA%B7%B8%EA%B2%83%EC%9D%84_%EC%82%AC%EB%9E%91%EA%B3%BC_%EC%B0%A9%EA%B0%81%ED%95%98%EB%8B%88%EA%B9%8C&amp;action=edit&amp;redlink=1\" title=\"그것을 사랑과 착각하니까 (없는 문서)\">그것을 사랑과 착각하니까</a>》</li>\n",
       "<li>《<a class=\"new\" href=\"/w/index.php?title=%EB%8B%A4%EC%9E%89_%EC%95%84%EC%9D%B4&amp;action=edit&amp;redlink=1\" title=\"다잉 아이 (없는 문서)\">다잉 아이</a>》</li>\n",
       "<li>《<a class=\"new\" href=\"/w/index.php?title=%EC%96%B8%EB%8D%95_%EC%A4%91%EA%B0%84%EC%9D%98_%EC%A7%91&amp;action=edit&amp;redlink=1\" title=\"언덕 중간의 집 (없는 문서)\">언덕 중간의 집</a>》</li></ul>\n",
       "</div></td></tr><tr><th class=\"navbox-group\" scope=\"row\" style=\"width:1%;background:#95C0EC\">일요 오리지널</th><td class=\"navbox-list navbox-odd\" style=\"text-align:left;border-left-width:2px;border-left-style:solid;width:100%;padding:0px\"><div style=\"padding:0em 0.25em\">\n",
       "<ul><li>《<a class=\"new\" href=\"/w/index.php?title=%EC%A3%BC%EA%B0%80%ED%8F%AD%EB%9D%BD&amp;action=edit&amp;redlink=1\" title=\"주가폭락 (없는 문서)\">주가폭락</a>》</li>\n",
       "<li>《<a class=\"new\" href=\"/w/index.php?title=%EC%95%85%ED%99%94_(%EC%86%8C%EC%84%A4)&amp;action=edit&amp;redlink=1\" title=\"악화 (소설) (없는 문서)\">악화</a>》</li>\n",
       "<li>《<a class=\"new\" href=\"/w/index.php?title=%EC%A0%80%EB%AC%BC%EC%96%B4_%EA%B0%80%EB%8A%94_%EC%97%AC%EB%A6%84&amp;action=edit&amp;redlink=1\" title=\"저물어 가는 여름 (없는 문서)\">저물어 가는 여름</a>》</li>\n",
       "<li>《<a class=\"new\" href=\"/w/index.php?title=%EC%B2%9C%EC%82%AC%EC%9D%98_%EB%82%98%EC%9D%B4%ED%94%84&amp;action=edit&amp;redlink=1\" title=\"천사의 나이프 (없는 문서)\">천사의 나이프</a>》</li>\n",
       "<li>《<a class=\"new\" href=\"/w/index.php?title=%EC%8A%A4%EC%BC%80%EC%9D%B4%ED%94%84%EA%B3%A0%ED%8A%B8_(%EC%86%8C%EC%84%A4)&amp;action=edit&amp;redlink=1\" title=\"스케이프고트 (소설) (없는 문서)\">스케이프고트</a>》</li>\n",
       "<li>《<a class=\"new\" href=\"/w/index.php?title=%ED%85%8C%EB%AF%B8%EC%8A%A4%EC%9D%98_%EA%B5%AC%ED%98%95&amp;action=edit&amp;redlink=1\" title=\"테미스의 구형 (없는 문서)\">테미스의 구형</a>》</li>\n",
       "<li>《<a class=\"mw-selflink selflink\">예고범 -THE PAIN-</a>》</li>\n",
       "<li>《<a class=\"new\" href=\"/w/index.php?title=%EC%A3%BD%EC%9D%8C%EC%9D%98_%EC%9E%A5%EA%B8%B0&amp;action=edit&amp;redlink=1\" title=\"죽음의 장기 (없는 문서)\">죽음의 장기</a>》</li>\n",
       "<li>《<a class=\"new\" href=\"/w/index.php?title=%EB%8F%8C%EC%9D%98_%EA%B3%A0%EC%B9%98&amp;action=edit&amp;redlink=1\" title=\"돌의 고치 (없는 문서)\">돌의 고치 살인분석반</a>》</li>\n",
       "<li>《<a class=\"new\" href=\"/w/index.php?title=%EC%8B%A0%EA%B0%80%EB%A6%AC_%EC%95%BC%EB%A7%88%EC%9D%B4%EC%B9%98_%EC%A6%9D%EA%B6%8C_%EC%B5%9C%ED%9B%84%EC%9D%98_12%EC%9D%B8&amp;action=edit&amp;redlink=1\" title=\"신가리 야마이치 증권 최후의 12인 (없는 문서)\">신가리 야마이치 증권 최후의 성전</a>》</li>\n",
       "<li>《<a class=\"new\" href=\"/w/index.php?title=%EC%98%A4%ED%8C%90&amp;action=edit&amp;redlink=1\" title=\"오판 (없는 문서)\">오판</a>》</li>\n",
       "<li>《<a class=\"new\" href=\"/w/index.php?title=%EC%8F%A0_%EC%88%98_%EC%97%86%EB%8A%94_%EA%B2%BD%EA%B4%80&amp;action=edit&amp;redlink=1\" title=\"쏠 수 없는 경관 (없는 문서)\">쏠 수 없는 경관</a>》</li>\n",
       "<li>《<a class=\"new\" href=\"/w/index.php?title=%EB%A9%94%EA%B0%80%EB%B1%85%ED%81%AC_%EC%B5%9C%EC%A2%85%EA%B2%B0%EC%A0%84&amp;action=edit&amp;redlink=1\" title=\"메가뱅크 최종결전 (없는 문서)\">메가뱅크 최종결전</a>》</li>\n",
       "<li>《<a href=\"/wiki/%EB%BB%90%EA%BE%B8%EA%B8%B0_%EC%95%8C%EC%9D%80_%EB%88%84%EA%B5%AC%EC%9D%98_%EA%B2%83%EC%9D%B8%EA%B0%80\" title=\"뻐꾸기 알은 누구의 것인가\">뻐꾸기 알은 누구의 것인가</a>》</li>\n",
       "<li>《<a href=\"/wiki/%EC%A7%80%EC%A7%80_%EC%95%8A%EB%8A%94_%ED%83%9C%EC%96%91\" title=\"지지 않는 태양\">지지 않는 태양</a>》</li>\n",
       "<li>《<a class=\"new\" href=\"/w/index.php?title=%ED%9E%88%ED%8F%AC%ED%81%AC%EB%9D%BC%ED%85%8C%EC%8A%A4_%EC%84%A0%EC%84%9C_(%EC%86%8C%EC%84%A4)&amp;action=edit&amp;redlink=1\" title=\"히포크라테스 선서 (소설) (없는 문서)\">히포크라테스 선서</a>》</li>\n",
       "<li>《<a class=\"new\" href=\"/w/index.php?title=%EC%88%98%EC%A0%95%EC%9D%98_%EA%B3%A0%EB%8F%99&amp;action=edit&amp;redlink=1\" title=\"수정의 고동 (없는 문서)\">수정의 고동 살인분석반</a>》</li>\n",
       "<li>《<a class=\"new\" href=\"/w/index.php?title=%EB%82%99%EC%9B%90_(%EB%AF%B8%EC%95%BC%EB%B2%A0_%EB%AF%B8%EC%9C%A0%ED%82%A4%EC%9D%98_%EC%86%8C%EC%84%A4)&amp;action=edit&amp;redlink=1\" title=\"낙원 (미야베 미유키의 소설) (없는 문서)\">낙원</a>》</li>\n",
       "<li>《<a class=\"new\" href=\"/w/index.php?title=%EC%A0%9C%EB%8B%88%EA%B0%80%ED%83%80_%EA%B2%BD%EB%B6%80_(%EB%93%9C%EB%9D%BC%EB%A7%88)&amp;action=edit&amp;redlink=1\" title=\"제니가타 경부 (드라마) (없는 문서)\">제니가타 경부 칠흑의 범죄 파일</a>》</li>\n",
       "<li>《<a class=\"new\" href=\"/w/index.php?title=%EA%B0%90%EC%98%A5%EC%9D%98_%EA%B0%80%EC%8B%9C&amp;action=edit&amp;redlink=1\" title=\"감옥의 가시 (없는 문서)\">히토야노토게~감옥의 가시~</a>》</li>\n",
       "<li>《<a class=\"new\" href=\"/w/index.php?title=%EC%82%AC%EC%9E%A5%EC%8B%A4%EC%9D%98_%EA%B2%A8%EC%9A%B8&amp;action=edit&amp;redlink=1\" title=\"사장실의 겨울 (없는 문서)\">사장실의 겨울 -거대 신문사를 잡는 남자-</a>》</li>\n",
       "<li>《<a class=\"new\" href=\"/w/index.php?title=%EB%B2%94%EC%A3%84%EC%A6%9D%ED%9B%84%EA%B5%B0&amp;action=edit&amp;redlink=1\" title=\"범죄증후군 (없는 문서)\">범죄증후군 Season2</a>》</li>\n",
       "<li>《<a class=\"new\" href=\"/w/index.php?title=%EC%95%84%ED%82%A4%EB%9D%BC%EC%99%80_%EC%95%84%ED%82%A4%EB%9D%BC&amp;action=edit&amp;redlink=1\" title=\"아키라와 아키라 (없는 문서)\">아키라와 아키라</a>》</li>\n",
       "<li>《<a class=\"new\" href=\"/w/index.php?title=%EC%B9%A8%EB%AC%B5_%EB%B2%95%EC%A0%95&amp;action=edit&amp;redlink=1\" title=\"침묵 법정 (없는 문서)\">침묵 법정</a>》</li>\n",
       "<li>《<a class=\"new\" href=\"/w/index.php?title=%EB%8F%8C%ED%8C%94%EB%A7%A4%EC%A7%88_%EA%B2%BD%EC%8B%9C%EC%B2%AD_2%EA%B3%BC_%ED%98%95%EC%82%AC%EA%B0%80_%EB%82%A8%EA%B8%B4_%EA%B2%83&amp;action=edit&amp;redlink=1\" title=\"돌팔매질 경시청 2과 형사가 남긴 것 (없는 문서)\">돌팔매질~외무성 비자금을 파헤친 수사2과 남자들~</a>》</li>\n",
       "<li>《<a class=\"new\" href=\"/w/index.php?title=%EA%B0%90%EC%82%AC%EC%97%AD_%EB%85%B8%EC%9E%90%ED%82%A4&amp;action=edit&amp;redlink=1\" title=\"감사역 노자키 (없는 문서)\">감사역 노자키</a>》</li>\n",
       "<li>《<a class=\"new\" href=\"/w/index.php?title=%EC%9D%B4%EB%85%B8%EC%84%BC%ED%8A%B8_%EB%8D%B0%EC%9D%B4%EC%A6%88&amp;action=edit&amp;redlink=1\" title=\"이노센트 데이즈 (없는 문서)\">이노센트 데이즈</a>》</li>\n",
       "<li>《<a class=\"new\" href=\"/w/index.php?title=60_%EC%98%A4%ED%8C%90_%EB%8C%80%EC%B1%85%EC%8B%A4&amp;action=edit&amp;redlink=1\" title=\"60 오판 대책실 (없는 문서)\">60 오판 대책실</a>》</li>\n",
       "<li>《<a class=\"new\" href=\"/w/index.php?title=%EB%B6%88%EB%B0%9C%ED%83%84_(%EC%86%8C%EC%84%A4)&amp;action=edit&amp;redlink=1\" title=\"불발탄 (소설) (없는 문서)\">불발탄 ~검은 돈을 조종하는 남자~</a>》</li>\n",
       "<li>《<a class=\"new\" href=\"/w/index.php?title=%EA%B5%AC%EB%A1%9C%EC%87%BC%EC%9D%B8%EC%9D%98_%EB%A1%9C%EC%BF%A0%EB%B2%A0%EC%97%90&amp;action=edit&amp;redlink=1\" title=\"구로쇼인의 로쿠베에 (없는 문서)\">구로쇼인의 로쿠베에</a>》</li>\n",
       "<li>《<a class=\"new\" href=\"/w/index.php?title=%EC%A7%84%EB%B2%94%EC%9D%B8&amp;action=edit&amp;redlink=1\" title=\"진범인 (없는 문서)\">진범인</a>》</li>\n",
       "<li>《<a class=\"new\" href=\"/w/index.php?title=%ED%8C%90%EB%8F%84%EB%9D%BC_(%EB%93%9C%EB%9D%BC%EB%A7%88)&amp;action=edit&amp;redlink=1\" title=\"판도라 (드라마) (없는 문서)\">판도라 Ⅳ AI전쟁</a>》</li>\n",
       "<li>《<a class=\"new\" href=\"/w/index.php?title=%EB%A9%94%EC%8A%A4_%EC%9D%B4%EC%97%AC_%EB%B9%9B%EB%82%98%EB%9D%BC!!&amp;action=edit&amp;redlink=1\" title=\"메스 이여 빛나라!! (없는 문서)\">고고한 메스</a>》</li>\n",
       "<li>《<a class=\"new\" href=\"/w/index.php?title=%EC%A0%88%EA%B7%9C_(%EC%86%8C%EC%84%A4)&amp;action=edit&amp;redlink=1\" title=\"절규 (소설) (없는 문서)\">절규</a>》</li></ul>\n",
       "</div></td></tr></tbody></table><div></div></td></tr></tbody></table></div>\n",
       "<div class=\"catlinks plainlinks\"><div style=\"line-height: 1.5em\"><b><a class=\"external text\" href=\"//ko.wikipedia.org/w/index.php?title=%EC%98%88%EA%B3%A0%EB%B2%94-THE_COPYCAT-&amp;redirect=no\">예고범-THE COPYCAT-</a></b>에 관한 <a href=\"/wiki/%ED%8A%B9%EC%88%98:%EB%B6%84%EB%A5%98\" title=\"특수:분류\">분류</a>: <a href=\"/wiki/%EB%B6%84%EB%A5%98:%EC%A3%BC%EA%B0%84_%EC%98%81_%EC%A0%90%ED%94%84%EC%9D%98_%EB%A7%8C%ED%99%94\" title=\"분류:주간 영 점프의 만화\">주간 영 점프의 만화</a></div><div style=\"line-height: 1.8em\"><b><a class=\"external text\" href=\"//ko.wikipedia.org/w/index.php?title=%EC%98%88%EA%B3%A0%EB%B2%94-THE_PAIN-&amp;redirect=no\">예고범-THE PAIN-</a></b>에 관한 <a href=\"/wiki/%ED%8A%B9%EC%88%98:%EB%B6%84%EB%A5%98\" title=\"특수:분류\">분류</a>: <a href=\"/wiki/%EB%B6%84%EB%A5%98:%EB%A7%8C%ED%99%94%EC%9D%98_%ED%85%94%EB%A0%88%EB%B9%84%EC%A0%84_%EB%93%9C%EB%9D%BC%EB%A7%88%ED%99%94_%EC%9E%91%ED%92%88\" title=\"분류:만화의 텔레비전 드라마화 작품\">만화의 텔레비전 드라마화 작품</a>  <span style=\"color: #bbb; font-size: larger\">|</span>  <a href=\"/wiki/%EB%B6%84%EB%A5%98:2015%EB%85%84_%EB%93%9C%EB%9D%BC%EB%A7%88\" title=\"분류:2015년 드라마\">2015년 드라마 </a>  <span style=\"color: #bbb; font-size: larger\">|</span>  <a href=\"/wiki/%EB%B6%84%EB%A5%98:%EC%97%B0%EC%86%8D_%EB%93%9C%EB%9D%BC%EB%A7%88_W\" title=\"분류:연속 드라마 W\">연속 드라마 W </a></div></div>\n",
       "<!-- \n",
       "NewPP limit report\n",
       "Parsed by mw1330\n",
       "Cached time: 20190628062641\n",
       "Cache expiry: 2592000\n",
       "Dynamic content: false\n",
       "Complications: []\n",
       "CPU time usage: 0.172 seconds\n",
       "Real time usage: 0.218 seconds\n",
       "Preprocessor visited node count: 1366/1000000\n",
       "Preprocessor generated node count: 0/1500000\n",
       "Post‐expand include size: 36132/2097152 bytes\n",
       "Template argument size: 1726/2097152 bytes\n",
       "Highest expansion depth: 15/40\n",
       "Expensive parser function count: 0/500\n",
       "Unstrip recursion depth: 0/20\n",
       "Unstrip post‐expand size: 0/5000000 bytes\n",
       "Number of Wikibase entities loaded: 0/400\n",
       "Lua time usage: 0.028/10.000 seconds\n",
       "Lua memory usage: 1.38 MB/50 MB\n",
       "-->\n",
       "<!--\n",
       "Transclusion expansion time report (%,ms,calls,template)\n",
       "100.00%  142.761      1 -total\n",
       " 34.95%   49.896      3 틀:ISBN\n",
       " 20.39%   29.113      1 틀:Llang\n",
       " 18.88%   26.953      1 틀:연속_드라마_W\n",
       " 18.80%   26.837      2 틀:둘러보기_상자\n",
       " 12.90%   18.423      1 틀:넘겨주기의_분류\n",
       " 12.76%   18.214      3 틀:Catalog_lookup_link\n",
       " 12.14%   17.336      3 틀:언어링크\n",
       " 10.22%   14.588      3 틀:Error-small\n",
       "  8.91%   12.715      6 틀:언어_이름\n",
       "-->\n",
       "<!-- Saved in parser cache with key kowiki:pcache:idhash:1142341-0!canonical and timestamp 20190628062641 and revision id 21882503\n",
       " -->\n",
       "</div><noscript><img alt=\"\" height=\"1\" src=\"//ko.wikipedia.org/wiki/Special:CentralAutoLogin/start?type=1x1\" style=\"border: none; position: absolute;\" title=\"\" width=\"1\"/></noscript></div>"
      ]
     },
     "execution_count": 176,
     "metadata": {},
     "output_type": "execute_result"
    }
   ],
   "source": [
    "body"
   ]
  },
  {
   "cell_type": "code",
   "execution_count": 177,
   "metadata": {},
   "outputs": [
    {
     "data": {
      "text/plain": [
       "<div class=\"mw-normal-catlinks\" id=\"mw-normal-catlinks\"><a href=\"/wiki/%ED%8A%B9%EC%88%98:%EB%B6%84%EB%A5%98\" title=\"특수:분류\">분류</a>: <ul><li><a href=\"/wiki/%EB%B6%84%EB%A5%98:%EC%9D%BC%EB%B3%B8%EC%9D%98_%EB%A7%8C%ED%99%94\" title=\"분류:일본의 만화\">일본의 만화</a></li><li><a href=\"/wiki/%EB%B6%84%EB%A5%98:%EC%B6%94%EB%A6%AC_%EB%A7%8C%ED%99%94\" title=\"분류:추리 만화\">추리 만화</a></li><li><a href=\"/wiki/%EB%B6%84%EB%A5%98:%EB%B2%94%EC%A3%84%EB%A5%BC_%EC%86%8C%EC%9E%AC%EB%A1%9C_%ED%95%9C_%EC%9E%91%ED%92%88\" title=\"분류:범죄를 소재로 한 작품\">범죄를 소재로 한 작품</a></li><li><a href=\"/wiki/%EB%B6%84%EB%A5%98:%ED%85%8C%EB%9F%AC%EB%A5%BC_%EC%86%8C%EC%9E%AC%EB%A1%9C_%ED%95%9C_%EC%9E%91%ED%92%88\" title=\"분류:테러를 소재로 한 작품\">테러를 소재로 한 작품</a></li><li><a href=\"/wiki/%EB%B6%84%EB%A5%98:%EC%9D%BC%EB%B3%B8%EC%9D%98_%EC%98%81%ED%99%94_%EC%9E%91%ED%92%88\" title=\"분류:일본의 영화 작품\">일본의 영화 작품</a></li><li><a href=\"/wiki/%EB%B6%84%EB%A5%98:%EC%9D%BC%EB%B3%B8%EC%9D%98_%EB%B2%94%EC%A3%84_%EC%98%81%ED%99%94\" title=\"분류:일본의 범죄 영화\">일본의 범죄 영화</a></li><li><a href=\"/wiki/%EB%B6%84%EB%A5%98:%ED%85%8C%EB%9F%AC%EB%A6%AC%EC%A6%98%EC%9D%84_%EC%86%8C%EC%9E%AC%EB%A1%9C_%ED%95%9C_%EC%98%81%ED%99%94\" title=\"분류:테러리즘을 소재로 한 영화\">테러리즘을 소재로 한 영화</a></li><li><a href=\"/wiki/%EB%B6%84%EB%A5%98:%EB%A7%8C%ED%99%94%EB%A5%BC_%EB%B0%94%ED%83%95%EC%9C%BC%EB%A1%9C_%ED%95%9C_%EC%98%81%ED%99%94\" title=\"분류:만화를 바탕으로 한 영화\">만화를 바탕으로 한 영화</a></li></ul></div>"
      ]
     },
     "execution_count": 177,
     "metadata": {},
     "output_type": "execute_result"
    }
   ],
   "source": [
    "category"
   ]
  },
  {
   "cell_type": "code",
   "execution_count": 184,
   "metadata": {
    "scrolled": true
   },
   "outputs": [
    {
     "data": {
      "text/plain": [
       "'분류,: ,일본의 만화,추리 만화,범죄를 소재로 한 작품,테러를 소재로 한 작품,일본의 영화 작품,일본의 범죄 영화,테러리즘을 소재로 한 영화,만화를 바탕으로 한 영화'"
      ]
     },
     "execution_count": 184,
     "metadata": {},
     "output_type": "execute_result"
    }
   ],
   "source": [
    "#각각의 텍스트만 추출\n",
    "body.get_text()\n",
    "category.get_text(',') # ,로 구분할지 말지는 결정해야 함"
   ]
  },
  {
   "cell_type": "code",
   "execution_count": 188,
   "metadata": {
    "scrolled": true
   },
   "outputs": [
    {
     "data": {
      "text/plain": [
       "'《예고범》(일본어: 予告犯)은, 츠츠이 테츠야의 만화 작품이다.\\n\\n목차\\n\\n1 개요\\n2 등장인물\\n\\n2.1 예고범 그룹\\n2.2 경찰 관계자\\n2.3 타깃이 된 인물·기업·단체\\n2.4 그 외\\n\\n\\n3 서지 정보\\n4 스핀오프 작품\\n\\n4.1 예고범-THE COPYCAT-\\n4.2 예고범-THE CHASER-\\n\\n\\n5 영화\\n\\n5.1 캐스트\\n5.2 스태프\\n\\n\\n6 텔레비전 드라마\\n\\n6.1 캐스트\\n6.2 스태프\\n6.3 방송 일자\\n\\n\\n7 외부 링크\\n\\n\\n개요[편집]\\n《점프 카이》 (슈에이샤)에서 2011년부터 2013년 9호까지 연재되었다. 단행본은 전 3권.\\n\\n등장인물[편집]\\n예고범 그룹[편집]\\n게이츠/오쿠다 히로아키\\n예고범 그룹 〈신분시〉의 주범격.\\n칸사이/카사이 토모히코\\n오사카 출신.\\n메타보/테라하라 신이치\\n후쿠오카 출신.\\n노비타/키무라 코이치\\n미야기 출신.\\n경찰 관계자[편집]\\n요시노 에리카\\n경시청 사이버 범죄 대책과 반장.\\n오카모토 다이키\\n경시청 사이버 범죄 대책과 소속 형사.\\n이치카와 마나부\\n경시청 사이버 범죄 대책과 소속 형사.\\n마츠모토 신이치\\n경시청 사이버 범죄 대책과 과장.\\n아라가키\\n고속대 대원.\\n타깃이 된 인물·기업·단체[편집]\\n식품 가공 회사\\n이시카와현 K시에 있는 식품 가공 업자.\\n부시키 슈야\\n모 외식점의 전 아르바이트 점원.\\n세키 슈지\\nR대학의 전 학생.\\n이케하타 마사요시\\n모 넷 서비스 기업에 근무하는 회사원.\\n시가디안\\n고래잡이 반대 운동 등을 행하고 있는 해외의 환경 보호 단체.\\n시타라기 타다시\\n현직 중의원 의원.\\n그 외[편집]\\n마스야마 쇼타\\n토치기 현 U시에 사는 중학생.\\n호리이\\n게이츠가 과거에 근무했던 IT 회사의 사장.\\n노모토 청소의 사장과 사장 부인\\n빌딩 외벽 청소를 사업으로 하는 청소 회사.\\n효로/넬슨 카토 리카르테\\n필리핀 출신의 일본계 외국인.\\n이시다 키요시\\n게이츠 등 5인이 먹고 자며 육체 노동을 하던 때의 현장 감독.\\n카에데\\n이와테현 K시에 있는 라멘 가게에서 일하는 여성 점원.\\n아오야마 유이치\\n인터넷 카페 〈피트 보이〉에서 일하는 점원.\\n서지 정보[편집]\\n츠츠이 테츠야 《예고범》 슈에이샤 〈영 점프 코믹스〉 전 3권\\n2012년 4월 10일 발매, ISBN\\xa0978-4-08-879310-8\\n2012년 12월 10일 발매, ISBN\\xa0978-4-08-879495-2\\n2013년 9월 10일 발매, ISBN\\xa0978-4-08-879680-2\\n스핀오프 작품[편집]\\n예고범-THE COPYCAT-[편집]\\n《예고범 -THE COPYCAT-》은, 스핀오프 만화 작품이다.\\n〈신분시〉의 모방범 (카피캣)을 하는 고교생 그룹의 스토리.\\n\\n예고범-THE CHASER-[편집]\\n《예고범 -THE CHASER-》는, 스핀오프 소설 작품이다.\\n요시노 에리카와 경시청 사이버 범죄 대책과의 그 후 활동을 그린다.\\n\\n영화[편집]\\n2015년 6월 6일, 일본에서 공개되었다. 감독은 나카무라 요시히로. 주연은 이쿠타 토마.\\n\\n캐스트[편집]\\n게이츠/오쿠다 히로아키 - 이쿠타 토마\\n요시노 에리카 - 토다 에리카\\n칸사이/카사이 토모히코 - 스즈키 료헤이\\n노비타/키무라 코이치 - 하마다 가쿠\\n메타보/테라하라 신이치 - 아라카와 요시요시\\n오카모토 다이키 - 타쿠마 타카유키\\n이치카와 마나부 - 사카구치 켄타로\\n아오야마 유이치 - 쿠보타 마사타카\\n카에데 - 코마츠 나나\\n효로 - 후쿠야마 코헤이\\n이시다 키요시 - 나카노 시게루\\n키타무라 - 타나카 케이\\n쿠리하라 - 타키토 켄이치\\n카토 - 혼다 히로타로\\n시타라기 타다시 - 코히나타 후미요\\n스태프[편집]\\n감독 - 나카무라 요시히로\\n원작 - 츠츠이 테츠야\\n각본 - 하야시 타미오\\n음악 - 오오마마 타카시\\n기획·프로듀스 - 히라노 타카시\\n프로듀스 - 타케다 요시타카\\n촬영 - 소마 다이스케\\n미술 - 시미즈 타케시\\n배급 - 토호\\n제작 프로덕션 - WOWOW FILMS, C&I 엔터테인먼트\\n제작 간사 - TBS, WOWOW\\n제작 - 영화 〈예고범〉 제작 위원회\\n텔레비전 드라마[편집]\\n《예고범 -THE PAIN-》은, 2015년 6월 7일부터 7월 5일까지 WOWOW 연속 드라마 W에서 방송된 텔레비전 드라마이다. 전 5화. 주연은 히가시야마 노리유키. 영화판의 스토리로부터 1년 후를 그린 오리지널 스토리이다. 영화판 감독인 나카무라 요시히로가 감독을 맡았고, 토다 에리카가 영화판과 같은 역으로 출연했다.\\n\\n캐스트[편집]\\n사쿠마 에이지 - 히가시야마 노리유키\\n요시노 에리카 - 토다 에리카\\n타부치 유조 - 하시모토 사토시\\n오키나 케이코 - 이치카와 미카코\\n미즈타니 켄 - 키리타니 켄타\\n히라사와 아츠시 - 타나카 류조\\n야자키 신타로 - 오오니시 시마\\n카네코 - 코마츠 토시마사\\n사코타 - 마츠바야시 신지\\n신타니 스바루 - 모리오카 류\\n카키네 - 츠무라 노리요시\\n하나야마 토오루 - 무라이 쿠니오\\n스태프[편집]\\n원작·스토리 감수 - 츠츠이 테츠야\\n시리즈 구성 - 나카무라 요시히로\\n감독 - 나카무라 요시히로, 히라바야시 카츠토시, 사와다 메구미\\n각본 - 하야시 타미오, 타나카 히로시\\n음악 - 오오마마 타카시\\n프로듀스 - 우에다 하루나\\n제작 프로덕션 - 트윈즈 재팬\\n제작 저작 - WOWOW\\n방송 일자[편집]\\n\\n\\n방송회\\n방송일\\n각본\\n감독\\n\\n\\nCASE #1\\n\\n2015년 6월 7일\\n하야시 타미오\\n나카무라 요시히로\\n\\n\\nCASE #2\\n\\n6월 14일\\n타나카 히로시\\n히라바야시 카츠토시\\n\\n\\nCASE #3\\n\\n6월 21일\\n사와다 메구미\\n\\n\\nCASE #4\\n\\n6월 28일\\n히라바야시 카츠토시\\n\\n\\nFINAL CASE\\n\\n7월 5일\\n\\n\\n외부 링크[편집]\\n(일본어) ［예고범］ 츠츠이 테츠야｜전율의 넷 테러 만화를 완전 해설! - 점프 카이\\n(일본어) 영화 《예고범》 공식 사이트\\n(일본어) 연속 드라마 W 《예고범 -THE PAIN-》 공식 사이트\\nvdehWOWOW 연속 드라마 W주 1회(2008년 ~ 2014년)\\n《판도라》\\n《프리즈너》\\n《하늘을 나는 타이어》\\n《엄마는 옛날에 아빠였다》\\n《은폐지령》\\n《판도라 II 기아열도》\\n《마크스의 산》\\n《히가시노 게이고 환야》\\n《CO 이식 코디네이터》\\n《변두리 로켓》\\n《판도라 III 혁명전야》\\n《조화의 꿀》\\n《속죄》\\n《분신》\\n《추정유죄》\\n《죄와 벌 A Falsified Romance》\\n《마그마》\\n《플라티나 타운》\\n《히토리시즈카》\\n《하늘의 방주》\\n《여자와 남자의 열대》\\n《레이디 조커》\\n《소돔의 사과~롯을 죽인 딸들》\\n《배달되고 싶은 우리》\\n《흔들리는 소》\\n《빵과 스프, 고양이와 함께 하기 좋은 날》\\n《열쇠 없는 꿈을 꾸다》\\n《LINK》\\n《저편의 아이》\\n《피의 흔적》\\n《세상의 소금》\\n《나라고 하는 운명에 대하여》\\n토쿠소우》\\n《모자이크 재팬》\\n《MOZU Season2 ~환상의 날개~》\\n《히가시노 게이고 〈변신〉》\\n《죄인의 거짓말》\\n주 2회(2014년 ~ )토요 오리지널\\n《구구는 고양이다》\\n《헤이세이 원숭이와 게의 전쟁》\\n《속죄의 소나타》\\n《유리의 갈대》\\n《어둠의 반주자》\\n《꿈을 주다》\\n《후타가시라》\\n《연하 -Gold Rush-》\\n《바다에 내리다》\\n《5명의 준코》\\n《황무지의 사랑》\\n《반짝반짝》\\n《구구는 고양이다 2-good good the fortune cat-》\\n《키보가오카의 사람들》\\n《현자의 사랑》\\n《후타가시라 2》\\n《콜드 케이스 ~진실의 문~》\\n《오늘은, 일진도 좋고》\\n《호쿠토 -어느 살인자의 회심-》\\n《미야자와 겐지의 식탁》\\n《플라즈~번역 있음 만의 쉐어하우스~》\\n《짝사랑》\\n《명함 게임》\\n《봄이 왔다》\\n《바이바이, 블랙버드》\\n《어둠의 반주자~편집장의 조건》\\n《더블 판타지》\\n《이아리 보이지 않는 얼굴》\\n《콜드 케이스 2 ~진실의 문~》\\n《도난당한 얼굴 ~눈에 띄지 수사반~》\\n《그것을 사랑과 착각하니까》\\n《다잉 아이》\\n《언덕 중간의 집》\\n일요 오리지널\\n《주가폭락》\\n《악화》\\n《저물어 가는 여름》\\n《천사의 나이프》\\n《스케이프고트》\\n《테미스의 구형》\\n《예고범 -THE PAIN-》\\n《죽음의 장기》\\n《돌의 고치 살인분석반》\\n《신가리 야마이치 증권 최후의 성전》\\n《오판》\\n《쏠 수 없는 경관》\\n《메가뱅크 최종결전》\\n《뻐꾸기 알은 누구의 것인가》\\n《지지 않는 태양》\\n《히포크라테스 선서》\\n《수정의 고동 살인분석반》\\n《낙원》\\n《제니가타 경부 칠흑의 범죄 파일》\\n《히토야노토게~감옥의 가시~》\\n《사장실의 겨울 -거대 신문사를 잡는 남자-》\\n《범죄증후군 Season2》\\n《아키라와 아키라》\\n《침묵 법정》\\n《돌팔매질~외무성 비자금을 파헤친 수사2과 남자들~》\\n《감사역 노자키》\\n《이노센트 데이즈》\\n《60 오판 대책실》\\n《불발탄 ~검은 돈을 조종하는 남자~》\\n《구로쇼인의 로쿠베에》\\n《진범인》\\n《판도라 Ⅳ AI전쟁》\\n《고고한 메스》\\n《절규》\\n\\n예고범-THE COPYCAT-에 관한\\xa0분류: 주간 영 점프의 만화예고범-THE PAIN-에 관한\\xa0분류: 만화의 텔레비전 드라마화 작품\\xa0\\xa0|\\xa0\\xa02015년 드라마 \\xa0\\xa0|\\xa0\\xa0연속 드라마 W \\n\\n\\n\\n'"
      ]
     },
     "execution_count": 188,
     "metadata": {},
     "output_type": "execute_result"
    }
   ],
   "source": [
    "body.get_text()"
   ]
  },
  {
   "cell_type": "code",
   "execution_count": null,
   "metadata": {},
   "outputs": [],
   "source": []
  },
  {
   "cell_type": "code",
   "execution_count": null,
   "metadata": {},
   "outputs": [],
   "source": []
  }
 ],
 "metadata": {
  "kernelspec": {
   "display_name": "Python 3",
   "language": "python",
   "name": "python3"
  },
  "language_info": {
   "codemirror_mode": {
    "name": "ipython",
    "version": 3
   },
   "file_extension": ".py",
   "mimetype": "text/x-python",
   "name": "python",
   "nbconvert_exporter": "python",
   "pygments_lexer": "ipython3",
   "version": "3.7.6"
  }
 },
 "nbformat": 4,
 "nbformat_minor": 4
}
