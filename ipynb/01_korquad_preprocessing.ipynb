{
 "cells": [
  {
   "cell_type": "markdown",
   "metadata": {},
   "source": [
    "### [ 데이터 다운로드 -> 전처리 -> 형태소분석 ] Process\n",
    "\n",
    "> 임베딩 학습용 말뭉치는 라인 하나가 문서면 좋음 (이렇게 전처리 할 것!!)\n",
    "\n",
    "> 지도학습 기반 형태소 분석 중, 은전한닢이 다른 분석기 대비 속도 빠름 (Mecab)\n"
   ]
  },
  {
   "cell_type": "code",
   "execution_count": 1,
   "metadata": {},
   "outputs": [],
   "source": [
    "import json\n",
    "import pandas as pd\n",
    "from bs4 import BeautifulSoup"
   ]
  },
  {
   "cell_type": "markdown",
   "metadata": {},
   "source": [
    "## 1.Training Data 취합\n",
    "현재는 'C:\\Users\\my\\KorQuad2.0\\Data\\output' 경로에 'processed_korquad_train_final' 이름으로 저장돼있음(희진 기준)"
   ]
  },
  {
   "cell_type": "code",
   "execution_count": null,
   "metadata": {},
   "outputs": [],
   "source": [
    "# 위의 과정을 전체 training data 에 적용\n",
    "output_fname = \"../Data/output/processed_korquad_train_all.txt\"\n",
    "output_file = open(output_fname, 'w', encoding ='utf-8')\n",
    "\n",
    "for i in range(39):\n",
    "    corpus_fname = \"../Data/input/korquad2.1_train_\" + str(i) + \".json\"\n",
    "    \n",
    "    with open(corpus_fname) as f1:\n",
    "        dataset_json = json.load(f1)\n",
    "        dataset = dataset_json['data']\n",
    "        \n",
    "        for article in dataset:\n",
    "            w_lines = []\n",
    "            paragraph = article['context']\n",
    "            w_lines.append(paragraph)\n",
    "            \n",
    "            for qa in article['qas']:\n",
    "                q_text = qa['question']\n",
    "                a_text = qa['answer']['text']\n",
    "                w_lines.append(q_text + \" \" + a_text)\n",
    "            for line in w_lines:\n",
    "                output_file.writelines(line + '\\n')\n",
    "        "
   ]
  },
  {
   "cell_type": "code",
   "execution_count": null,
   "metadata": {},
   "outputs": [],
   "source": [
    "output_file=open(output_fname, 'r', encoding ='utf-8')"
   ]
  },
  {
   "cell_type": "code",
   "execution_count": null,
   "metadata": {},
   "outputs": [],
   "source": [
    "for lines in range(500):\n",
    "    line = output_file.readline()\n",
    "    print(line)"
   ]
  },
  {
   "cell_type": "code",
   "execution_count": null,
   "metadata": {},
   "outputs": [],
   "source": [
    "output_file.close()"
   ]
  },
  {
   "cell_type": "markdown",
   "metadata": {},
   "source": [
    "## 2.Dev Data 취합\n",
    "현재는 'C:\\Users\\my\\KorQuad2.0\\Data\\output' 경로에 'processed_korquad_dev_all' 이름으로 저장돼있음(희진 기준)"
   ]
  },
  {
   "cell_type": "code",
   "execution_count": 5,
   "metadata": {},
   "outputs": [],
   "source": [
    "# 위의 과정을 전체 training data 에 적용\n",
    "output_fname = \"../Data/output/processed_korquad_dev_all.txt\"\n",
    "output_file = open(output_fname, 'w', encoding ='utf-8')\n",
    "\n",
    "for i in range(5):\n",
    "    corpus_fname = \"../Data/input/korquad2.1_dev_\" + str(i) + \".json\"\n",
    "    \n",
    "    with open(corpus_fname) as f1:\n",
    "        dataset_json = json.load(f1)\n",
    "        dataset = dataset_json['data']\n",
    "        \n",
    "        for article in dataset:\n",
    "            w_lines = []\n",
    "            paragraph = article['context']\n",
    "            w_lines.append(paragraph)\n",
    "            \n",
    "            for qa in article['qas']:\n",
    "                q_text = qa['question']\n",
    "                a_text = qa['answer']['text']\n",
    "                w_lines.append(q_text + \" \" + a_text)\n",
    "            for line in w_lines:\n",
    "                output_file.writelines(line + '\\n')\n",
    "        "
   ]
  },
  {
   "cell_type": "code",
   "execution_count": null,
   "metadata": {},
   "outputs": [],
   "source": []
  },
  {
   "cell_type": "code",
   "execution_count": null,
   "metadata": {},
   "outputs": [],
   "source": []
  }
 ],
 "metadata": {
  "kernelspec": {
   "display_name": "Python 3",
   "language": "python",
   "name": "python3"
  },
  "language_info": {
   "codemirror_mode": {
    "name": "ipython",
    "version": 3
   },
   "file_extension": ".py",
   "mimetype": "text/x-python",
   "name": "python",
   "nbconvert_exporter": "python",
   "pygments_lexer": "ipython3",
   "version": "3.7.6"
  }
 },
 "nbformat": 4,
 "nbformat_minor": 4
}
