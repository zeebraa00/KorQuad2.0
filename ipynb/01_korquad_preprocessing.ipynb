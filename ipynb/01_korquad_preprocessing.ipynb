{
 "cells": [
  {
   "cell_type": "markdown",
   "metadata": {},
   "source": [
    "### [ 데이터 다운로드 -> 전처리 -> 형태소분석 ] Process\n",
    "\n",
    "> 임베딩 학습용 말뭉치는 라인 하나가 문서면 좋음 (이렇게 전처리 할 것!!)\n",
    "\n",
    "> 지도학습 기반 형태소 분석 중, 은전한닢이 다른 분석기 대비 속도 빠름 (Mecab)\n"
   ]
  },
  {
   "cell_type": "code",
   "execution_count": 6,
   "metadata": {},
   "outputs": [],
   "source": [
    "import json\n",
    "import pandas as pd\n",
    "from bs4 import BeautifulSoup"
   ]
  },
  {
   "cell_type": "markdown",
   "metadata": {},
   "source": [
    "## 1.Training Data 취합\n",
    "현재는 'C:\\Users\\my\\KorQuad2.0\\Data\\output' 경로에 'processed_korquad_train_final' 이름으로 저장돼있음(희진 기준)"
   ]
  },
  {
   "cell_type": "code",
   "execution_count": null,
   "metadata": {},
   "outputs": [],
   "source": [
    "# 위의 과정을 전체 training data 에 적용\n",
    "output_fname = \"../Data/output/processed_korquad_train_all.txt\"\n",
    "output_file = open(output_fname, 'w', encoding ='utf-8')\n",
    "\n",
    "for i in range(39):\n",
    "    corpus_fname = \"../Data/input/korquad2.1_train_\" + str(i) + \".json\"\n",
    "    \n",
    "    with open(corpus_fname) as f1:\n",
    "        dataset_json = json.load(f1)\n",
    "        dataset = dataset_json['data']\n",
    "        \n",
    "        for article in dataset:\n",
    "            w_lines = []\n",
    "            paragraph = article['context']\n",
    "            w_lines.append(paragraph)\n",
    "            \n",
    "            for qa in article['qas']:\n",
    "                q_text = qa['question']\n",
    "                a_text = qa['answer']['text']\n",
    "                w_lines.append(q_text + \" \" + a_text)\n",
    "            for line in w_lines:\n",
    "                output_file.writelines(line + '\\n')\n",
    "        "
   ]
  },
  {
   "cell_type": "code",
   "execution_count": null,
   "metadata": {},
   "outputs": [],
   "source": [
    "output_file=open(output_fname, 'r', encoding ='utf-8')"
   ]
  },
  {
   "cell_type": "code",
   "execution_count": null,
   "metadata": {},
   "outputs": [],
   "source": [
    "for lines in range(500):\n",
    "    line = output_file.readline()\n",
    "    print(line)"
   ]
  },
  {
   "cell_type": "code",
   "execution_count": null,
   "metadata": {},
   "outputs": [],
   "source": [
    "output_file.close()"
   ]
  },
  {
   "cell_type": "markdown",
   "metadata": {},
   "source": [
    "## 2.Dev Data 취합\n",
    "현재는 'C:\\Users\\my\\KorQuad2.0\\Data\\output' 경로에 'processed_korquad_dev_all' 이름으로 저장돼있음(희진 기준)"
   ]
  },
  {
   "cell_type": "code",
   "execution_count": 5,
   "metadata": {},
   "outputs": [],
   "source": [
    "# 위의 과정을 전체 training data 에 적용\n",
    "output_fname = \"../Data/output/processed_korquad_dev_all.txt\"\n",
    "output_file = open(output_fname, 'w', encoding ='utf-8')\n",
    "\n",
    "for i in range(5):\n",
    "    corpus_fname = \"../Data/input/korquad2.1_dev_\" + str(i) + \".json\"\n",
    "    \n",
    "    with open(corpus_fname) as f1:\n",
    "        dataset_json = json.load(f1)\n",
    "        dataset = dataset_json['data']\n",
    "        \n",
    "        for article in dataset:\n",
    "            w_lines = []\n",
    "            paragraph = article['context']\n",
    "            w_lines.append(paragraph)\n",
    "            \n",
    "            for qa in article['qas']:\n",
    "                q_text = qa['question']\n",
    "                a_text = qa['answer']['text']\n",
    "                w_lines.append(q_text + \" \" + a_text)\n",
    "            for line in w_lines:\n",
    "                output_file.writelines(line + '\\n')\n",
    "        "
   ]
  },
  {
   "cell_type": "markdown",
   "metadata": {},
   "source": [
    "## 3. 답변 구성 살펴보기"
   ]
  },
  {
   "cell_type": "code",
   "execution_count": 26,
   "metadata": {},
   "outputs": [],
   "source": [
    "for i in range(39):\n",
    "    corpus_fname = \"../Data/input/korquad2.1_train_\" + str(i) + \".json\"\n",
    "    \n",
    "    with open(corpus_fname) as f1:\n",
    "        dataset_json = json.load(f1)\n",
    "        dataset = dataset_json['data']\n",
    "        \n",
    "        w_lines = []\n",
    "        j = 1  # j는 documnet 번호를 나타냄\n",
    "        \n",
    "        for article in dataset:\n",
    "            for qa in article['qas']:\n",
    "                q_text = qa['question']\n",
    "                a_text = qa['answer']['text']\n",
    "                w_lines.append([j,q_text, a_text])\n",
    "            j += 1\n",
    "            "
   ]
  },
  {
   "cell_type": "code",
   "execution_count": 27,
   "metadata": {},
   "outputs": [],
   "source": [
    "df = pd.DataFrame(w_lines,columns=[\"doc_num\",\"question\",\"answer\"])"
   ]
  },
  {
   "cell_type": "code",
   "execution_count": 28,
   "metadata": {},
   "outputs": [
    {
     "data": {
      "text/html": [
       "<div>\n",
       "<style scoped>\n",
       "    .dataframe tbody tr th:only-of-type {\n",
       "        vertical-align: middle;\n",
       "    }\n",
       "\n",
       "    .dataframe tbody tr th {\n",
       "        vertical-align: top;\n",
       "    }\n",
       "\n",
       "    .dataframe thead th {\n",
       "        text-align: right;\n",
       "    }\n",
       "</style>\n",
       "<table border=\"1\" class=\"dataframe\">\n",
       "  <thead>\n",
       "    <tr style=\"text-align: right;\">\n",
       "      <th></th>\n",
       "      <th>doc_num</th>\n",
       "      <th>question</th>\n",
       "      <th>answer</th>\n",
       "    </tr>\n",
       "  </thead>\n",
       "  <tbody>\n",
       "    <tr>\n",
       "      <th>0</th>\n",
       "      <td>1</td>\n",
       "      <td>황산대첩을 이끈 사람은?</td>\n",
       "      <td>이성계</td>\n",
       "    </tr>\n",
       "    <tr>\n",
       "      <th>1</th>\n",
       "      <td>1</td>\n",
       "      <td>일본에게 무엇을 요구하였으나 진전이 없었는가?</td>\n",
       "      <td>왜구 통제</td>\n",
       "    </tr>\n",
       "    <tr>\n",
       "      <th>2</th>\n",
       "      <td>1</td>\n",
       "      <td>최영장군이 지휘한 전쟁은?</td>\n",
       "      <td>홍산대첩</td>\n",
       "    </tr>\n",
       "    <tr>\n",
       "      <th>3</th>\n",
       "      <td>1</td>\n",
       "      <td>친원파를 숙청하는 등 반원 정책을 추진한 고려의 왕은?</td>\n",
       "      <td>공민왕</td>\n",
       "    </tr>\n",
       "    <tr>\n",
       "      <th>4</th>\n",
       "      <td>1</td>\n",
       "      <td>공민왕이 파격적으로 등용한 사람은?</td>\n",
       "      <td>신돈</td>\n",
       "    </tr>\n",
       "    <tr>\n",
       "      <th>5</th>\n",
       "      <td>1</td>\n",
       "      <td>신돈 정권을 축출하였으며 친원파가 대부분을 이루던 이들은?</td>\n",
       "      <td>권문세족</td>\n",
       "    </tr>\n",
       "    <tr>\n",
       "      <th>6</th>\n",
       "      <td>1</td>\n",
       "      <td>몽골식 복장과 머리를 폐지하고 친원파를 숙청하는 정책의 이름은?</td>\n",
       "      <td>반원 정책</td>\n",
       "    </tr>\n",
       "    <tr>\n",
       "      <th>7</th>\n",
       "      <td>1</td>\n",
       "      <td>정종이 한성에서 수도를  옮긴 곳은?</td>\n",
       "      <td>개경</td>\n",
       "    </tr>\n",
       "    <tr>\n",
       "      <th>8</th>\n",
       "      <td>1</td>\n",
       "      <td>정종이 왕세자로 책봉한 사람은?</td>\n",
       "      <td>정안공</td>\n",
       "    </tr>\n",
       "    <tr>\n",
       "      <th>9</th>\n",
       "      <td>1</td>\n",
       "      <td>정종이 사망한 나이는?</td>\n",
       "      <td>63세</td>\n",
       "    </tr>\n",
       "    <tr>\n",
       "      <th>10</th>\n",
       "      <td>1</td>\n",
       "      <td>정종은 무엇을 이유로 수도를 개경으로 옮겼나?</td>\n",
       "      <td>왕자의 난</td>\n",
       "    </tr>\n",
       "    <tr>\n",
       "      <th>11</th>\n",
       "      <td>1</td>\n",
       "      <td>정종은 재위중에 어디에 많은 관심을 기울였는가?</td>\n",
       "      <td>형제간의 친목</td>\n",
       "    </tr>\n",
       "    <tr>\n",
       "      <th>12</th>\n",
       "      <td>1</td>\n",
       "      <td>정종이 수도를 한성에서 개경으로 옮긴 이유는?</td>\n",
       "      <td>왕자의 난</td>\n",
       "    </tr>\n",
       "    <tr>\n",
       "      <th>13</th>\n",
       "      <td>1</td>\n",
       "      <td>정종이 승하한 당시 나이는?</td>\n",
       "      <td>63세</td>\n",
       "    </tr>\n",
       "    <tr>\n",
       "      <th>14</th>\n",
       "      <td>1</td>\n",
       "      <td>정종이 승하한 날은 음력으로 몇월 며칠인가?</td>\n",
       "      <td>9월 26일</td>\n",
       "    </tr>\n",
       "    <tr>\n",
       "      <th>15</th>\n",
       "      <td>2</td>\n",
       "      <td>사랑은 뭐길래의 방송채널은?</td>\n",
       "      <td>CCTV 채널1</td>\n",
       "    </tr>\n",
       "    <tr>\n",
       "      <th>16</th>\n",
       "      <td>2</td>\n",
       "      <td>H.O.T.와 클론 등과 함께 한류 열풍의 일으켰던 1997년 방영된 드라마는?</td>\n",
       "      <td>사랑은 뭐길래</td>\n",
       "    </tr>\n",
       "    <tr>\n",
       "      <th>17</th>\n",
       "      <td>2</td>\n",
       "      <td>중국 청소년 사이에 일어난 풍조로 \"H.O.T.패션 무조건 따라하기\"등을 일컫는 신...</td>\n",
       "      <td>한류</td>\n",
       "    </tr>\n",
       "    <tr>\n",
       "      <th>18</th>\n",
       "      <td>2</td>\n",
       "      <td>청소년 문제를 정면으로 다룬 H.O.T.의 영향은 큰 공감과 충격을 누구에게 주었는가?</td>\n",
       "      <td>중국 청소년</td>\n",
       "    </tr>\n",
       "    <tr>\n",
       "      <th>19</th>\n",
       "      <td>2</td>\n",
       "      <td>H.O.T.의 베이징 공연 이후 중국 언론에 의해 처음 등장하게 된 단어는?</td>\n",
       "      <td>한류</td>\n",
       "    </tr>\n",
       "  </tbody>\n",
       "</table>\n",
       "</div>"
      ],
      "text/plain": [
       "    doc_num                                           question    answer\n",
       "0         1                                      황산대첩을 이끈 사람은?       이성계\n",
       "1         1                          일본에게 무엇을 요구하였으나 진전이 없었는가?     왜구 통제\n",
       "2         1                                     최영장군이 지휘한 전쟁은?      홍산대첩\n",
       "3         1                     친원파를 숙청하는 등 반원 정책을 추진한 고려의 왕은?       공민왕\n",
       "4         1                                공민왕이 파격적으로 등용한 사람은?        신돈\n",
       "5         1                   신돈 정권을 축출하였으며 친원파가 대부분을 이루던 이들은?      권문세족\n",
       "6         1                몽골식 복장과 머리를 폐지하고 친원파를 숙청하는 정책의 이름은?     반원 정책\n",
       "7         1                               정종이 한성에서 수도를  옮긴 곳은?        개경\n",
       "8         1                                  정종이 왕세자로 책봉한 사람은?       정안공\n",
       "9         1                                       정종이 사망한 나이는?       63세\n",
       "10        1                          정종은 무엇을 이유로 수도를 개경으로 옮겼나?     왕자의 난\n",
       "11        1                         정종은 재위중에 어디에 많은 관심을 기울였는가?   형제간의 친목\n",
       "12        1                          정종이 수도를 한성에서 개경으로 옮긴 이유는?     왕자의 난\n",
       "13        1                                    정종이 승하한 당시 나이는?       63세\n",
       "14        1                           정종이 승하한 날은 음력으로 몇월 며칠인가?    9월 26일\n",
       "15        2                                    사랑은 뭐길래의 방송채널은?  CCTV 채널1\n",
       "16        2       H.O.T.와 클론 등과 함께 한류 열풍의 일으켰던 1997년 방영된 드라마는?   사랑은 뭐길래\n",
       "17        2  중국 청소년 사이에 일어난 풍조로 \"H.O.T.패션 무조건 따라하기\"등을 일컫는 신...        한류\n",
       "18        2   청소년 문제를 정면으로 다룬 H.O.T.의 영향은 큰 공감과 충격을 누구에게 주었는가?    중국 청소년\n",
       "19        2         H.O.T.의 베이징 공연 이후 중국 언론에 의해 처음 등장하게 된 단어는?        한류"
      ]
     },
     "execution_count": 28,
     "metadata": {},
     "output_type": "execute_result"
    }
   ],
   "source": [
    "df.head(20)"
   ]
  },
  {
   "cell_type": "code",
   "execution_count": 29,
   "metadata": {},
   "outputs": [],
   "source": [
    "import pandas_profiling"
   ]
  },
  {
   "cell_type": "code",
   "execution_count": 30,
   "metadata": {},
   "outputs": [],
   "source": [
    "pr = df.profile_report()"
   ]
  },
  {
   "cell_type": "code",
   "execution_count": null,
   "metadata": {},
   "outputs": [],
   "source": []
  }
 ],
 "metadata": {
  "kernelspec": {
   "display_name": "Python 3",
   "language": "python",
   "name": "python3"
  },
  "language_info": {
   "codemirror_mode": {
    "name": "ipython",
    "version": 3
   },
   "file_extension": ".py",
   "mimetype": "text/x-python",
   "name": "python",
   "nbconvert_exporter": "python",
   "pygments_lexer": "ipython3",
   "version": "3.7.6"
  }
 },
 "nbformat": 4,
 "nbformat_minor": 4
}
