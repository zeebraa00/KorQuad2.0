{
 "cells": [
  {
   "cell_type": "markdown",
   "metadata": {},
   "source": [
    "## 형태소 분석"
   ]
  },
  {
   "cell_type": "markdown",
   "metadata": {},
   "source": [
    "### 1. Mecab 사용"
   ]
  },
  {
   "cell_type": "code",
   "execution_count": null,
   "metadata": {},
   "outputs": [],
   "source": [
    "from konlpy.tag import Mecab"
   ]
  },
  {
   "cell_type": "code",
   "execution_count": 35,
   "metadata": {},
   "outputs": [
    {
     "ename": "TypeError",
     "evalue": "morphs() missing 1 required positional argument: 'phrase'",
     "output_type": "error",
     "traceback": [
      "\u001b[1;31m---------------------------------------------------------------------------\u001b[0m",
      "\u001b[1;31mTypeError\u001b[0m                                 Traceback (most recent call last)",
      "\u001b[1;32m<ipython-input-35-74605ee9fafe>\u001b[0m in \u001b[0;36m<module>\u001b[1;34m\u001b[0m\n\u001b[1;32m----> 1\u001b[1;33m \u001b[0mout\u001b[0m \u001b[1;33m=\u001b[0m \u001b[0mtokenizer\u001b[0m\u001b[1;33m.\u001b[0m\u001b[0mmorphs\u001b[0m\u001b[1;33m(\u001b[0m\u001b[1;34m'아버지가방에들어가신다'\u001b[0m\u001b[1;33m)\u001b[0m\u001b[1;33m\u001b[0m\u001b[1;33m\u001b[0m\u001b[0m\n\u001b[0m",
      "\u001b[1;31mTypeError\u001b[0m: morphs() missing 1 required positional argument: 'phrase'"
     ]
    }
   ],
   "source": [
    "out = tokenizer.morphs('아버지가방에들어가신다')"
   ]
  },
  {
   "cell_type": "markdown",
   "metadata": {},
   "source": [
    "> 윈도우 프로 미만 버전에서는 지원 안 되는 것으로 생각됨"
   ]
  },
  {
   "cell_type": "markdown",
   "metadata": {},
   "source": [
    "### 1_2. MeCab 사용"
   ]
  },
  {
   "cell_type": "code",
   "execution_count": 1,
   "metadata": {},
   "outputs": [],
   "source": [
    "import MeCab"
   ]
  },
  {
   "cell_type": "code",
   "execution_count": 2,
   "metadata": {},
   "outputs": [],
   "source": [
    "tokenizer = MeCab.Tagger()"
   ]
  },
  {
   "cell_type": "code",
   "execution_count": 3,
   "metadata": {},
   "outputs": [],
   "source": [
    "out = tokenizer.parse('아버지가방에들어가신다\\n오늘은 신나는 화요일.') #한 줄씩 넣기"
   ]
  },
  {
   "cell_type": "code",
   "execution_count": 140,
   "metadata": {
    "scrolled": true
   },
   "outputs": [
    {
     "data": {
      "text/plain": [
       "'아버지\\tNNG,*,F,아버지,*,*,*,*\\n가\\tJKS,*,F,가,*,*,*,*\\n방\\tNNG,장소,T,방,*,*,*,*\\n에\\tJKB,*,F,에,*,*,*,*\\n들어가\\tVV,*,F,들어가,*,*,*,*\\n신다\\tEP+EC,*,F,신다,Inflect,EP,EC,시/EP/*+ㄴ다/EC/*\\n오늘\\tNNG,*,T,오늘,*,*,*,*\\n은\\tJX,*,T,은,*,*,*,*\\n신나\\tVV,*,F,신나,*,*,*,*\\n는\\tETM,*,T,는,*,*,*,*\\n화요일\\tNNG,*,T,화요일,Compound,*,*,화/NNG/*+요일/NNG/*\\n.\\tSF,*,*,*,*,*,*,*\\nEOS\\n'"
      ]
     },
     "execution_count": 140,
     "metadata": {},
     "output_type": "execute_result"
    }
   ],
   "source": [
    "out"
   ]
  },
  {
   "cell_type": "code",
   "execution_count": 144,
   "metadata": {},
   "outputs": [
    {
     "data": {
      "text/plain": [
       "'아버지 가 방 에 들어가 신다 오늘 은 신나 는 화요일 . EOS\\n'"
      ]
     },
     "execution_count": 144,
     "metadata": {},
     "output_type": "execute_result"
    }
   ],
   "source": [
    "out = out.replace(',','')\n",
    "con = re.sub('(\\s.+\\n)',' ',out) # 정규표현식으로 변환해서 형태소만 추출\n",
    "con"
   ]
  },
  {
   "cell_type": "markdown",
   "metadata": {},
   "source": [
    "## 전체 데이터 형태소 분석"
   ]
  },
  {
   "cell_type": "code",
   "execution_count": 4,
   "metadata": {},
   "outputs": [],
   "source": [
    "import re\n",
    "from gensim.utils import to_unicode\n",
    "import json\n",
    "import pandas as pd\n",
    "from bs4 import BeautifulSoup"
   ]
  },
  {
   "cell_type": "code",
   "execution_count": 5,
   "metadata": {},
   "outputs": [],
   "source": [
    "# 불특정 문자 제거 함수 정의\n",
    "WIKI_REMOVE_CHARS = re.compile(\"'+|(=+.{2,30}=+)|__TOC__|(ファイル:).+|:(en|de|it|fr|es|kr|zh|no|fi):|\\n\", re.UNICODE)\n",
    "WIKI_SPACE_CHARS = re.compile(\"(\\\\s|゙|゚|　)+\", re.UNICODE)\n",
    "EMAIL_PATTERN = re.compile(\"(^[a-zA-Z0-9_.+-]+@[a-zA-Z0-9-]+\\.[a-zA-Z0-9-.]+$)\", re.UNICODE)\n",
    "URL_PATTERN = re.compile(\"(ftp|http|https)?://(?:[a-zA-Z]|[0-9]|[$-_@.&+]|[!*\\(\\),]|(?:%[0-9a-fA-F][0-9a-fA-F]))+\", re.UNICODE)\n",
    "WIKI_REMOVE_TOKEN_CHARS = re.compile(\"(\\\\*$|:$|^파일:.+|^;)\", re.UNICODE)\n",
    "MULTIPLE_SPACES = re.compile(' +', re.UNICODE)"
   ]
  },
  {
   "cell_type": "code",
   "execution_count": 6,
   "metadata": {},
   "outputs": [],
   "source": [
    "# 전체 training data 취합\n",
    "\n",
    "tokenizer = MeCab.Tagger()\n",
    "\n",
    "output_fname = \"../Data/output/processed_korquad_train_final.txt\"\n",
    "output_file = open(output_fname, 'w', encoding ='utf-8')\n",
    "\n",
    "for i in range(39):\n",
    "    corpus_fname = \"../Data/input/korquad2.1_train_\" + str(i) + \".json\"\n",
    "    \n",
    "    with open(corpus_fname) as f1:\n",
    "        dataset_json = json.load(f1)\n",
    "        dataset = dataset_json['data']\n",
    "        \n",
    "        for article in dataset:\n",
    "            w_lines = []\n",
    "            paragraph = article['context']\n",
    "            \n",
    "            # 불필요한 단어,문자 제거\n",
    "            paragraph = re.sub('(\\n+)','\\n', paragraph) # \\n이 두번이상 나오는 부분 한번으로 줄임\n",
    "            paragraph = re.sub(EMAIL_PATTERN, ' ', paragraph)  # remove email pattern\n",
    "            paragraph = re.sub(URL_PATTERN, ' ', paragraph) # remove url pattern\n",
    "            #paragraph = re.sub(WIKI_REMOVE_CHARS, ' ', paragraph)  # remove unnecessary chars\n",
    "            paragraph = re.sub(WIKI_SPACE_CHARS, ' ', paragraph) \n",
    "            paragraph = re.sub(MULTIPLE_SPACES, ' ', paragraph)\n",
    "            \n",
    "            # 형태소 분석 (이 과정에서 중간의 \\n 들은 다 제거됨)\n",
    "            paragraph = tokenizer.parse(paragraph)\n",
    "            paragraph = paragraph.replace(',','')\n",
    "            paragraph = re.sub('(\\s.+\\n)',' ', paragraph) # 정규표현식으로 변환해서 형태소만 추출\n",
    "            w_lines.append(paragraph)\n",
    "            \n",
    "            for qa in article['qas']:\n",
    "                q_text = qa['question']\n",
    "                a_text = qa['answer']['text']\n",
    "                qas = q_text + \" \" + a_text\n",
    "                \n",
    "                # 형태소 분석\n",
    "                qas = tokenizer.parse(qas)\n",
    "                qas = qas.replace(',','')\n",
    "                qas = re.sub('(\\s.+\\n)',' ', qas) # 정규표현식으로 변환해서 형태소만 추출\n",
    "                w_lines.append(qas)\n",
    "                \n",
    "            for line in w_lines:\n",
    "                output_file.writelines(line)\n",
    "        "
   ]
  },
  {
   "cell_type": "code",
   "execution_count": 6,
   "metadata": {},
   "outputs": [],
   "source": [
    "# 전체 dev data 취합\n",
    "output_fname = \"../Data/output/processed_korquad_dev_all.txt\"\n",
    "output_file = open(output_fname, 'w', encoding ='utf-8')\n",
    "\n",
    "for i in range(5):\n",
    "    corpus_fname = \"../Data/input/korquad2.1_dev_\" + str(i) + \".json\"\n",
    "    \n",
    "    with open(corpus_fname) as f1:\n",
    "        dataset_json = json.load(f1)\n",
    "        dataset = dataset_json['data']\n",
    "        \n",
    "        for article in dataset:\n",
    "            w_lines = []\n",
    "            paragraph = article['context']\n",
    "            \n",
    "            # 불필요한 단어,문자 제거\n",
    "            paragraph = re.sub('(\\n+)','\\n', paragraph) # \\n이 두번이상 나오는 부분 한번으로 줄임\n",
    "            paragraph = re.sub(EMAIL_PATTERN, ' ', paragraph)  # remove email pattern\n",
    "            paragraph = re.sub(URL_PATTERN, ' ', paragraph) # remove url pattern\n",
    "            #paragraph = re.sub(WIKI_REMOVE_CHARS, ' ', paragraph)  # remove unnecessary chars\n",
    "            paragraph = re.sub(WIKI_SPACE_CHARS, ' ', paragraph) \n",
    "            paragraph = re.sub(MULTIPLE_SPACES, ' ', paragraph)\n",
    "            \n",
    "            # 형태소 분석 (이 과정에서 중간의 \\n 들은 다 제거됨)\n",
    "            paragraph = tokenizer.parse(paragraph)\n",
    "            paragraph = paragraph.replace(',','')\n",
    "            paragraph = re.sub('(\\s.+\\n)',' ', paragraph) # 정규표현식으로 변환해서 형태소만 추출\n",
    "            w_lines.append(paragraph)\n",
    "            \n",
    "            for qa in article['qas']:\n",
    "                q_text = qa['question']\n",
    "                a_text = qa['answer']['text']\n",
    "                qas = q_text + \" \" + a_text\n",
    "                \n",
    "                # 형태소 분석\n",
    "                qas = tokenizer.parse(qas)\n",
    "                qas = qas.replace(',','')\n",
    "                qas = re.sub('(\\s.+\\n)',' ', qas) # 정규표현식으로 변환해서 형태소만 추출\n",
    "                w_lines.append(qas)\n",
    "                \n",
    "            for line in w_lines:\n",
    "                output_file.writelines(line)\n",
    "        "
   ]
  },
  {
   "cell_type": "code",
   "execution_count": 16,
   "metadata": {},
   "outputs": [
    {
     "data": {
      "text/plain": [
       "'<! DOCTYPE html > < html > < head > < meta > < title > 예 고범 - 위키백과  우리 모두 의 백과사전 </ title > < link > < meta > < link > < meta > < meta > < meta > < meta > < link > < link > < link > < link > < link > < link > < link > < link > < link > < link > < link > </ head > < body > < div ></ div > < div ></ div > < div > < a ></ a > < div ></ div > < div > </ div > < h 1 > 예 고범 </ h 1 > < div > < div > 위키백과  우리 모두 의 백과사전 . </ div > < div ></ div > < div ></ div > < a > 둘러보 기 로 가 기 </ a > < a > 검색 하 러 가 기 </ a > < div >< div >< p >《< b > 예 고범 </ b >》(< span >< a > 일본어 </ a >: </ span >< span > 予 告 犯 </ span >) 은  츠츠이 테츠야 의 < a > 만화 </ a > 작품 이 다 . </ p > < div >< input >< div >< h 2 > 목차 </ h 2 >< span >< label ></ label ></ span ></ div > < ul > < li >< a >< span > 1 </ span > < span > 개요 </ span ></ a ></ li > < li >< a >< span > 2 </ span > < span > 등장인물 </ span ></ a > < ul > < li >< a >< span > 2 . 1 </ span > < span > 예 고범 그룹 </ span ></ a ></ li > < li >< a >< span > 2 . 2 </ span > < span > 경찰 관계자 </ span ></ a ></ li > < li >< a >< span > 2 . 3 </ span > < span > 타깃 이 된 인물 · 기업 · 단체 </ span ></ a ></ li > < li >< a >< span > 2 . 4 </ span > < span > 그 외 </ span ></ a ></ li > </ ul > </ li > < li >< a >< span > 3 </ span > < span > 서지 정보 </ span ></ a ></ li > < li >< a >< span > 4 </ span > < span > 스핀 오프 작품 </ span ></ a > < ul > < li >< a >< span > 4 . 1 </ span > < span > 예 고범 - THE COPYCAT -</ span ></ a ></ li > < li >< a >< span > 4 . 2 </ span > < span > 예 고범 - THE CHASER -</ span ></ a ></ li > </ ul > </ li > < li >< a >< span > 5 </ span > < span > 영화 </ span ></ a > < ul > < li >< a >< span > 5 . 1 </ span > < span > 캐스트 </ span ></ a ></ li > < li >< a >< span > 5 . 2 </ span > < span > 스태프 </ span ></ a ></ li > </ ul > </ li > < li >< a >< span > 6 </ span > < span > 텔레비전 드라마 </ span ></ a > < ul > < li >< a >< span > 6 . 1 </ span > < span > 캐스트 </ span ></ a ></ li > < li >< a >< span > 6 . 2 </ span > < span > 스태프 </ span ></ a ></ li > < li >< a >< span > 6 . 3 </ span > < span > 방송 일자 </ span ></ a ></ li > </ ul > </ li > < li >< a >< span > 7 </ span > < span > 외부 링크 </ span ></ a ></ li > </ ul > </ div > < h 2 >< span ></ span >< span > 개요 </ span >< span >< span >[</ span >< a > 편집 </ a >< span >]</ span ></ span ></ h 2 > < p >《 점프 카이 》 ( < a > 슈에이샤 </ a >) 에서 < a > 2011 년 </ a > 부터 < a > 2013 년 </ a > 9 호 까지 연재 되 었 다 . 단행본 은 전 3 권 . </ p > < h 2 >< span ></ span >< span > 등장인물 </ span >< span >< span >[</ span >< a > 편집 </ a >< span >]</ span ></ span ></ h 2 > < h 3 >< span ></ span >< span > 예 고범 그룹 </ span >< span >< span >[</ span >< a > 편집 </ a >< span >]</ span ></ span ></ h 3 > < dl >< dt > 게이츠 / 오쿠다 히로아키 </ dt > < dd > 예 고범 그룹 〈 신 분시 〉 의 주범 격 . </ dd > < dt > 칸사이 / 카사이 토모히코 </ dt > < dd >< a > 오사카 </ a > 출신 . </ dd > < dt > 메 타보 / 테라하라 신이치 </ dt > < dd >< a > 후쿠오카 </ a > 출신 . </ dd > < dt > 노비타 / 키무라 코이치 </ dt > < dd >< a > 미야기 </ a > 출신 . </ dd ></ dl > < h 3 >< span ></ span >< span > 경찰 관계자 </ span >< span >< span >[</ span >< a > 편집 </ a >< span >]</ span ></ span ></ h 3 > < dl >< dt > 요시노 에리카 </ dt > < dd >< a > 경시청 </ a > 사이버 범죄 대책 과 반장 . </ dd > < dt > 오카모토 다이키 </ dt > < dd > 경시청 사이버 범죄 대책 과 소속 형사 . </ dd > < dt > 이치카 와 마나부 </ dt > < dd > 경시청 사이버 범죄 대책 과 소속 형사 . </ dd > < dt > 마츠모토 신이치 </ dt > < dd > 경시청 사이버 범죄 대책 과 과장 . </ dd > < dt > 아라가키 </ dt > < dd > 고 속대 대원 . </ dd ></ dl > < h 3 >< span ></ span >< span > 타깃 이 된 인물 · 기업 · 단체 </ span >< span >< span >[</ span >< a > 편집 </ a >< span >]</ span ></ span ></ h 3 > < dl >< dt > 식품 가공 회사 </ dt > < dd >< a > 이시카와현 </ a > K 시 에 있 는 식품 가공 업자 . </ dd > < dt > 부시 키 슈야 </ dt > < dd > 모 외식점 의 전 아르바이트 점원 . </ dd > < dt > 세키 슈지 </ dt > < dd > R 대학 의 전 학생 . </ dd > < dt > 이케하타 마사요시 </ dt > < dd > 모 넷 서비스 기업 에 근무 하 는 회사원 . </ dd > < dt > 시 가 디안 </ dt > < dd >< a > 고래잡이 </ a > 반대 운동 등 을 행하 고 있 는 해외 의 환경 보호 단체 . </ dd > < dt > 시타라 기 타다시 </ dt > < dd > 현직 < a > 중의원 </ a > 의원 . </ dd ></ dl > < h 3 >< span ></ span >< span > 그 외 </ span >< span >< span >[</ span >< a > 편집 </ a >< span >]</ span ></ span ></ h 3 > < dl >< dt > 마스야마 쇼타 </ dt > < dd >< a > 토치 기 현 </ a > U 시 에 사 는 중학생 . </ dd > < dt > 호리이 </ dt > < dd > 게이츠 가 과거 에 근무 했 던 IT 회사 의 사장 . </ dd > < dt > 노모토 청소 의 사장 과 사장 부인 </ dt > < dd > 빌딩 외벽 청소 를 사업 으로 하 는 청소 회사 . </ dd > < dt > 효로 / 넬슨 카토 리카르 테 </ dt > < dd >< a > 필리핀 </ a > 출신 의 < a > 일본 계 외국인 </ a >.</ dd > < dt > 이시다 키요시 </ dt > < dd > 게이츠 등 5 인 이 먹 고 자 며 육체 노동 을 하 던 때 의 현장 감독 . </ dd > < dt > 카에데 </ dt > < dd >< a > 이와테현 </ a > K 시 에 있 는 < a > 라멘 </ a > 가게 에서 일 하 는 여성 점원 . </ dd > < dt > 아오야마 유이치 </ dt > < dd >< a > 인터넷 카페 </ a > 〈 피트 보이 〉 에서 일 하 는 점원 . </ dd ></ dl > < h 2 >< span ></ span >< span > 서지 정보 </ span >< span >< span >[</ span >< a > 편집 </ a >< span >]</ span ></ span ></ h 2 > < ul >< li > 츠츠이 테츠야 《 예 고범 》 < a > 슈에이샤 </ a > 〈 영 점프 코믹스 〉 전 3 권 < ol >< li > 2012 년 4 월 10 일 발매  < a > ISBN </ a > < a > 978 - 4 - 08 - 879310 - 8 </ a ></ li > < li > 2012 년 12 월 10 일 발매  < a > ISBN </ a > < a > 978 - 4 - 08 - 879495 - 2 </ a ></ li > < li > 2013 년 9 월 10 일 발매  < a > ISBN </ a > < a > 978 - 4 - 08 - 879680 - 2 </ a ></ li ></ ol ></ li ></ ul > < h 2 >< span ></ span >< span > 스핀 오프 작품 </ span >< span >< span >[</ span >< a > 편집 </ a >< span >]</ span ></ span ></ h 2 > < h 3 >< span ></ span >< span > 예 고범 - THE COPYCAT -</ span >< span >< span >[</ span >< a > 편집 </ a >< span >]</ span ></ span ></ h 3 > < p >《< b > 예 고범 - THE COPYCAT -</ b >》 은  스핀 오프 만화 작품 이 다 . </ p >< p >〈 신 분시 〉 의 < a > 모방 범 </ a > ( 카피캣 ) 을 하 는 고교 생 그룹 의 스토리 . </ p > < h 3 >< span ></ span >< span > 예 고범 - THE CHASER -</ span >< span >< span >[</ span >< a > 편집 </ a >< span >]</ span ></ span ></ h 3 > < p >《< b > 예 고범 - THE CHASER -</ b >》 는  스핀 오프 < a > 소설 </ a > 작품 이 다 . </ p >< p > 요시노 에리카 와 경시청 사이버 범죄 대책 과 의 그 후 활동 을 그린다 . </ p > < h 2 >< span ></ span >< span > 영화 </ span >< span >< span >[</ span >< a > 편집 </ a >< span >]</ span ></ span ></ h 2 > < p >< a > 2015 년 </ a > < a > 6 월 6 일 </ a > 일본 에서 공개 되 었 다 . 감독 은 나카무라 요시히로 . 주연 은 < a > 이쿠타 토마 </ a >. </ p > < h 3 >< span ></ span >< span > 캐스트 </ span >< span >< span >[</ span >< a > 편집 </ a >< span >]</ span ></ span ></ h 3 > < ul >< li > 게이츠 / 오쿠다 히로아키 - < a > 이쿠타 토마 </ a ></ li > < li > 요시노 에리카 - < a > 토다 에리카 </ a ></ li > < li > 칸사이 / 카사이 토모히코 - < a > 스즈키 료헤이 </ a ></ li > < li > 노비타 / 키무라 코이치 - 하마다 가쿠 </ li > < li > 메 타보 / 테라하라 신이치 - 아라카와 요시요시 </ li > < li > 오카모토 다이키 - 타쿠마 타카유키 </ li > < li > 이치카 와 마나부 - < a > 사카구치 켄타로 </ a ></ li > < li > 아오야마 유이치 - < a > 쿠보타 마사타카 </ a ></ li > < li > 카에데 - < a > 코마츠 나나 </ a ></ li > < li > 효로 - 후쿠야마 코헤이 </ li > < li > 이시다 키요시 - 나카노 시게루 </ li > < li > 키타무라 - < a > 타나카 케이 </ a ></ li > < li > 쿠리하라 - 타키토 켄이치 </ li > < li > 카토 - 혼다 히로타로 </ li > < li > 시타라 기 타다시 - < a > 코히나타 후미요 </ a ></ li ></ ul > < h 3 >< span ></ span >< span > 스태프 </ span >< span >< span >[</ span >< a > 편집 </ a >< span >]</ span ></ span ></ h 3 > < ul >< li > 감독 - 나카무라 요시히로 </ li > < li > 원작 - 츠츠이 테츠야 </ li > < li > 각본 - 하야시 타미오 </ li > < li > 음악 - 오오 마마 타카시 </ li > < li > 기획 · 프로 듀스 - 히라노 타카시 </ li > < li > 프로 듀스 - 타케다 요시타카 </ li > < li > 촬영 - 소마 다이스케 </ li > < li > 미술 - 시미즈 타케시 </ li > < li > 배급 - < a > 토호 </ a ></ li > < li > 제작 프로덕션 - WOWOW FILMS  C & amp ; I 엔터 테 인 먼 트 </ li > < li > 제작 간사 - < a > TBS </ a > < a > WOWOW </ a ></ li > < li > 제작 - 영화 〈 예 고범 〉 제작 위원회 </ li ></ ul > < h 2 >< span ></ span >< span > 텔레비전 드라마 </ span >< span >< span >[</ span >< a > 편집 </ a >< span >]</ span ></ span ></ h 2 > < p >《< b > 예 고범 - THE PAIN -</ b >》 은  < a > 2015 년 </ a > < a > 6 월 7 일 </ a > 부터 < a > 7 월 5 일 </ a > 까지 < a > WOWOW </ a > 연속 드라마 W 에서 방송 된 < a > 텔레비전 드라마 </ a > 이 다 . 전 5 화 . 주연 은 < a > 히가시야마 노리유키 </ a >. 영화판 의 스토리 로부터 1 년 후 를 그린 오리지널 스토리 이 다 . 영화판 감독 인 나카무라 요시히로 가 감독 을 맡 았 고  < a > 토다 에리카 </ a > 가 영화판 과 같 은 역 으로 출연 했 다 . </ p > < h 3 >< span ></ span >< span > 캐스트 </ span >< span >< span >[</ span >< a > 편집 </ a >< span >]</ span ></ span ></ h 3 > < ul >< li > 사쿠마 에이지 - < a > 히가시야마 노리유키 </ a ></ li > < li > 요시노 에리카 - < a > 토다 에리카 </ a ></ li > < li > 타부치 유조 - 하시모토 사토시 </ li > < li > 오키나 케이코 - < a > 이치카 와 미카코 </ a ></ li > < li > 미즈타니 켄 - < a > 키리타니 켄타 </ a ></ li > < li > 히라사와 아츠시 - 타나카 류조 </ li > < li > 야자키 신타로 - 오오니시 시마 </ li > < li > 카네코 - 코마츠 토시마사 </ li > < li > 사코 타 - 마츠바야시 신지 </ li > < li > 신타니 스바루 - 모리오카 류 </ li > < li > 카키 네 - 츠무라 노리요시 </ li > < li > 하나 야마 토오루 - 무라이 쿠니오 </ li ></ ul > < h 3 >< span ></ span >< span > 스태프 </ span >< span >< span >[</ span >< a > 편집 </ a >< span >]</ span ></ span ></ h 3 > < ul >< li > 원작 · 스토리 감수 - 츠츠이 테츠야 </ li > < li > 시리즈 구성 - 나카무라 요시히로 </ li > < li > 감독 - 나카무라 요시히로  히라바야시 카츠토시  사와다 메구미 </ li > < li > 각본 - 하야시 타미오  타나카 히로시 </ li > < li > 음악 - 오오 마마 타카시 </ li > < li > 프로 듀스 - 우에다 하루나 </ li > < li > 제작 프로덕션 - 트윈 즈 재팬 </ li > < li > 제작 저작 - < a > WOWOW </ a ></ li ></ ul > < h 3 >< span ></ span >< span > 방송 일자 </ span >< span >< span >[</ span >< a > 편집 </ a >< span >]</ span ></ span ></ h 3 > < table > < tbody >< tr > < th > 방송 회 </ th > < th > 방송 일 </ th > < th > 각본 </ th > < th > 감독 </ th ></ tr > < tr > < td > CASE # 1 </ td > < td > 2015 년 6 월 7 일 </ td > < td > 하야시 타미오 </ td > < td > 나카무라 요시히로 </ td ></ tr > < tr > < td > CASE # 2 </ td > < td > 6 월 14 일 </ td > < td rowspan =\" 4 \"> 타나카 히로시 </ td > < td > 히라바야시 카츠토시 </ td ></ tr > < tr > < td > CASE # 3 </ td > < td > 6 월 21 일 </ td > < td > 사와다 메구미 </ td ></ tr > < tr > < td > CASE # 4 </ td > < td > 6 월 28 일 </ td > < td rowspan =\" 2 \"> 히라바야시 카츠토시 </ td ></ tr > < tr > < td > FINAL CASE </ td > < td > 7 월 5 일 </ td ></ tr > </ tbody ></ table > < h 2 >< span ></ span >< span > 외부 링크 </ span >< span >< span >[</ span >< a > 편집 </ a >< span >]</ span ></ span ></ h 2 > < ul >< li >< b >< span >( 일본어 ) </ span ></ b > < a >［ 예 고범 ］ 츠츠이 테츠야 ｜ 전 율 의 넷 테러 만화 를 완전 해설 ! - 점프 카이 </ a ></ li > < li >< b >< span >( 일본어 ) </ span ></ b > < a > 영화 《 예 고범 》 공식 사이트 </ a ></ li > < li >< b >< span >( 일본어 ) </ span ></ b > < a > 연속 드라마 W 《 예 고범 - THE PAIN -》 공식 사이트 </ a ></ li ></ ul > < div >< table >< tbody >< tr >< th colspan =\" 2 \">< div >< ul >< li >< a >< abbr > v </ abbr ></ a ></ li >< li >< a >< abbr > d </ abbr ></ a ></ li >< li >< a >< abbr > e </ abbr ></ a ></ li >< li >< a >< abbr > h </ abbr ></ a ></ li ></ ul ></ div >< div >< a > WOWOW </ a > < a > 연속 드라마 W </ a ></ div ></ th ></ tr >< tr >< th > 주 1 회 < br / >( 2008 년 ~ 2014 년 ) </ th >< td >< div > < ul >< li >《< a > 판도라 </ a >》</ li > < li >《< a > 프리즈 너 </ a >》</ li > < li >《< a > 하늘 을 나 는 타이어 </ a >》</ li > < li >《< a > 엄마 는 옛날 에 아빠 였 다 </ a >》</ li > < li >《< a > 은 폐지령 </ a >》</ li > < li >《< a > 판도라 II 기아 열도 </ a >》</ li > < li >《< a > 마크스 의 산 </ a >》</ li > < li >《< a > 히가시노 게이고 환야 </ a >》</ li > < li >《< a > CO 이식 코디네이터 </ a >》</ li > < li >《< a > 변두리 로켓 </ a >》</ li > < li >《< a > 판도라 III 혁명 전야 </ a >》</ li > < li >《< a > 조화 의 꿀 </ a >》</ li > < li >《< a > 속죄 </ a >》</ li > < li >《< a > 분신 </ a >》</ li > < li >《< a > 추정 유죄 </ a >》</ li > < li >《< a > 죄 와 벌 A Falsified Romance </ a >》</ li > < li >《< a > 마그마 </ a >》</ li > < li >《< a > 플라티나 타운 </ a >》</ li > < li >《< a > 히토리 시즈카 </ a >》</ li > < li >《< a > 하늘 의 방주 </ a >》</ li > < li >《< a > 여자 와 남자 의 열 대 </ a >》</ li > < li >《< a > 레이디 조커 </ a >》</ li > < li >《< a > 소돔 의 사과 ~ 롯 을 죽인 딸 들 </ a >》</ li > < li >《< a > 배달 되 고 싶 은 우리 </ a >》</ li > < li >《< a > 흔들리 는 소 </ a >》</ li > < li >《< a > 빵 과 스프  고양이 와 함께 하 기 좋 은 날 </ a >》</ li > < li >《< a > 열쇠 없 는 꿈 을 꾸 다 </ a >》</ li > < li >《< a > LINK </ a >》</ li > < li >《< a > 저편 의 아이 </ a >》</ li > < li >《< a > 피 의 흔적 </ a >》</ li > < li >《< a > 세상 의 소금 </ a >》</ li > < li >《< a > 나 라고 하 는 운명 에 대하 여 </ a >》</ li > < li >< a > 토 쿠 소우 </ a >》</ li > < li >《< a > 모자이크 재팬 </ a >》</ li > < li >《< a > MOZU Season 2 ~ 환상 의 날개 ~</ a >》</ li > < li >《< a > 히가시노 게이고 〈 변신 〉</ a >》</ li > < li >《< a > 죄인 의 거짓말 </ a >》</ li ></ ul > </ div ></ td ></ tr >< tr >< th > 주 2 회 < br / >( 2014 년 ~ )</ th >< td >< div ></ div >< table >< tbody >< tr >< th > 토요 오리지널 </ th >< td >< div > < ul >< li >《< a > 구구 는 고양이 다 </ a >》</ li > < li >《< a > 헤이세이 원숭이 와 게 의 전쟁 </ a >》</ li > < li >《< a > 속죄 의 소나타 </ a >》</ li > < li >《< a > 유리 의 갈대 </ a >》</ li > < li >《< a > 어둠 의 반주자 </ a >》</ li > < li >《< a > 꿈 을 주다 </ a >》</ li > < li >《< a > 후 타가 시라 </ a >》</ li > < li >《< a > 연하 - Gold Rush -</ a >》</ li > < li >《< a > 바다 에 내리 다 </ a >》</ li > < li >《< a > 5 명 의 준코 </ a >》</ li > < li >《< a > 황무지 의 사랑 </ a >》</ li > < li >《< a > 반짝반짝 </ a >》</ li > < li >《< a > 구구 는 고양이 다 2 - good good the fortune cat -</ a >》</ li > < li >《< a > 키보 가 오카 의 사람 들 </ a >》</ li > < li >《< a > 현자 의 사랑 </ a >》</ li > < li >《< a > 후 타가 시라 2 </ a >》</ li > < li >《< a > 콜드 케이스 ~ 진실 의 문 ~</ a >》</ li > < li >《< a > 오늘 은  일진 도 좋 고 </ a >》</ li > < li >《< a > 호쿠토 - 어느 살인자 의 회심 -</ a >》</ li > < li >《< a > 미야자와 겐지 의 식탁 </ a >》</ li > < li >《< a > 플라 즈 ~ 번역 있 음 만 의 쉐어 하우스 ~</ a >》</ li > < li >《< a > 짝사랑 </ a >》</ li > < li >《< a > 명함 게임 </ a >》</ li > < li >《< a > 봄 이 왔 다 </ a >》</ li > < li >《< a > 바이바이  블랙 버드 </ a >》</ li > < li >《< a > 어둠 의 반주자 ~ 편집장 의 조건 </ a >》</ li > < li >《< a > 더블 판타지 </ a >》</ li > < li >《< a > 이아리 보이 지 않 는 얼굴 </ a >》</ li > < li >《< a > 콜드 케이스 2 ~ 진실 의 문 ~</ a >》</ li > < li >《< a > 도난 당한 얼굴 ~ 눈 에 띄 지 수사 반 ~</ a >》</ li > < li >《< a > 그것 을 사랑 과 착각 하 니까 </ a >》</ li > < li >《< a > 다 잉 아이 </ a >》</ li > < li >《< a > 언덕 중간 의 집 </ a >》</ li ></ ul > </ div ></ td ></ tr >< tr >< th > 일요 오리지널 </ th >< td >< div > < ul >< li >《< a > 주가 폭락 </ a >》</ li > < li >《< a > 악화 </ a >》</ li > < li >《< a > 저물 어 가 는 여름 </ a >》</ li > < li >《< a > 천사 의 나이프 </ a >》</ li > < li >《< a > 스케이프 고트 </ a >》</ li > < li >《< a > 테미스 의 구형 </ a >》</ li > < li >《< a > 예 고범 - THE PAIN -</ a >》</ li > < li >《< a > 죽음 의 장기 </ a >》</ li > < li >《< a > 돌 의 고치 살인 분석 반 </ a >》</ li > < li >《< a > 신가리 야마 이치 증권 최후 의 성전 </ a >》</ li > < li >《< a > 오판 </ a >》</ li > < li >《< a > 쏠 수 없 는 경관 </ a >》</ li > < li >《< a > 메가 뱅크 최종 결전 </ a >》</ li > < li >《< a > 뻐꾸기 알 은 누구 의 것 인가 </ a >》</ li > < li >《< a > 지 지 않 는 태양 </ a >》</ li > < li >《< a > 히포크라테스 선서 </ a >》</ li > < li >《< a > 수정 의 고동 살인 분석 반 </ a >》</ li > < li >《< a > 낙원 </ a >》</ li > < li >《< a > 제니 가 타 경부 칠흑 의 범죄 파일 </ a >》</ li > < li >《< a > 히토 야 노토 게 ~ 감옥 의 가시 ~</ a >》</ li > < li >《< a > 사장 실 의 겨울 - 거대 신문사 를 잡 는 남자 -</ a >》</ li > < li >《< a > 범죄 증후군 Season 2 </ a >》</ li > < li >《< a > 아키라 와 아키라 </ a >》</ li > < li >《< a > 침묵 법정 </ a >》</ li > < li >《< a > 돌팔매질 ~ 외무성 비자금 을 파헤친 수사 2 과 남자 들 ~</ a >》</ li > < li >《< a > 감사역 노자키 </ a >》</ li > < li >《< a > 이노센트 데이즈 </ a >》</ li > < li >《< a > 60 오 판 대 책실 </ a >》</ li > < li >《< a > 불발탄 ~ 검 은 돈 을 조종 하 는 남자 ~</ a >》</ li > < li >《< a > 구로 쇼인 의 로 쿠 베 에 </ a >》</ li > < li >《< a > 진범인 </ a >》</ li > < li >《< a > 판도라 Ⅳ AI 전쟁 </ a >》</ li > < li >《< a > 고 고한 메스 </ a >》</ li > < li >《< a > 절규 </ a >》</ li ></ ul > </ div ></ td ></ tr ></ tbody ></ table >< div ></ div ></ td ></ tr ></ tbody ></ table ></ div > < div >< div >< b >< a > 예 고범 - THE COPYCAT -</ a ></ b > 에 관한 < a > 분류 </ a >: < a > 주간 영 점프 의 만화 </ a ></ div >< div >< b >< a > 예 고범 - THE PAIN -</ a ></ b > 에 관한 < a > 분류 </ a >: < a > 만화 의 텔레비전 드라마 화 작품 </ a > < span >|</ span > < a > 2015 년 드라마 </ a > < span >|</ span > < a > 연속 드라마 W </ a ></ div ></ div > </ div >< noscript >< img ></ noscript ></ div > < div > 원본 주소 \"< a > 예 고범 & amp ; oldid = 21882503 </ a >\"</ div > < div >< div >< a > 분류 </ a >: < ul >< li >< a > 일본 의 만화 </ a ></ li >< li >< a > 추리 만화 </ a ></ li >< li >< a > 범죄 를 소재 로 한 작품 </ a ></ li >< li >< a > 테러 를 소재 로 한 작품 </ a ></ li >< li >< a > 일본 의 영화 작품 </ a ></ li >< li >< a > 일본 의 범죄 영화 </ a ></ li >< li >< a > 테러리즘 을 소재 로 한 영화 </ a ></ li >< li >< a > 만화 를 바탕 으로 한 영화 </ a ></ li ></ ul ></ div >< div > 숨 은 분류 : < ul >< li >< a > 일본어 표기 를 포함 한 문서 </ a ></ li ></ ul ></ div ></ div > < div ></ div > </ div > </ div > < div > < h 2 > 둘러보 기 메뉴 </ h 2 > < div > < div > < h 3 > 개인 도구 </ h 3 > < ul > < li > 로그인 하 지 않 음 </ li >< li >< a > 토론 </ a ></ li >< li >< a > 기여 </ a ></ li >< li >< a > 계정 만들 기 </ a ></ li >< li >< a > 로그인 </ a ></ li > </ ul > </ div > < div > < div > < h 3 > 이름 공간 </ h 3 > < ul > < li >< span >< a > 문서 </ a ></ span ></ li >< li >< span >< a > 토론 </ a ></ span ></ li > </ ul > </ div > < div > < input > < h 3 > < span > 변수 </ span > </ h 3 > < ul > </ ul > </ div > </ div > < div > < div > < h 3 > 보 기 </ h 3 > < ul > < li >< span >< a > 읽 기 </ a ></ span ></ li >< li >< span >< a > 편집 </ a ></ span ></ li >< li >< span >< a > 역사 보 기 </ a ></ span ></ li > </ ul > </ div > < div > < input > < h 3 >< span > 더 보 기 </ span ></ h 3 > < ul > </ ul > </ div > < div > < h 3 > < label > 검색 </ label > </ h 3 > < form > < div > < input >< input >< input >< input > </ div > </ form > </ div > </ div > </ div > < div > < div >< a ></ a ></ div > < div > < h 3 > 둘러보 기 </ h 3 > < div > < ul > < li >< a > 대문 </ a ></ li >< li >< a > 사용 자 모임 </ a ></ li >< li >< a > 요즘 화제 </ a ></ li >< li >< a > 최근 바뀜 </ a ></ li >< li >< a > 모든 문서 보 기 </ a ></ li >< li >< a > 임 의 문서 로 </ a ></ li >< li >< a > 도움 말 </ a ></ li >< li >< a > 기부 </ a ></ li > </ ul > </ div > </ div > < div > < h 3 > 도구 </ h 3 > < div > < ul > < li >< a > 여기 를 가리키 는 문서 </ a ></ li >< li >< a > 가리키 는 글 의 최근 바뀜 </ a ></ li >< li >< a > 파일 올리 기 </ a ></ li >< li >< a > 특수 문서 목록 </ a ></ li >< li >< a > 고유 링크 </ a ></ li >< li >< a > 문서 정보 </ a ></ li >< li >< a > 위키 데이터 항목 </ a ></ li >< li >< a > 이 문서 인용 하 기 </ a ></ li > </ ul > </ div > </ div > < div > < h 3 > 인쇄 / 내보내 기 </ h 3 > < div > < ul > < li >< a > 책 만들 기 </ a ></ li >< li >< a > PDF 로 다운로드 </ a ></ li >< li >< a > 인쇄 용 판 </ a ></ li > </ ul > </ div > </ div > < div > < h 3 > 다른 언어 </ h 3 > < div > < ul > < li >< a > English </ a ></ li >< li >< a > Français </ a ></ li >< li >< a > 日本 語 </ a ></ li >< li >< a > Tagalog </ a ></ li >< li >< a > 中文 </ a ></ li > </ ul > < div >< span >< a > 링크 편집 </ a ></ span ></ div > </ div > </ div > </ div > </ div > < div > < ul > < li > 이 문서 는 2018 년 7 월 27 일 ( 금 ) 06 : 45 에 마지막 으로 편집 되 었 습니다 . </ li > < li > 모든 문서 는 < a > 크리에이티브 커 먼즈 저작 자 표시 - 동일 조건 변경 허락 3 . 0 </ a > 에 따라 사용 할 수 있 으며  추가 적 인 조건 이 적용 될 수 있 습니다 . 자세 한 내용 은 < a > 이용 약관 </ a > 을 참고 하 십시오 . < br / > Wikipedia ® 는 미국 및 다른 국가 에 등록 되 어 있 는 < a > Wikimedia Foundation  Inc . </ a > 소유 의 등록 상표 입니다 . </ li > </ ul > < ul > < li >< a > 개인 정보 정책 </ a ></ li > < li >< a > 위키백과 소개 </ a ></ li > < li >< a > 면책 조항 </ a ></ li > < li >< a > 개발자 </ a ></ li > < li >< a > 쿠키 정책 </ a ></ li > < li >< a > 모바일 보 기 </ a ></ li > </ ul > < ul > < li > < a >< img ></ a > </ li > < li > < a >< img ></ a > </ li > </ ul > < div ></ div > </ div > </ body > </ html > EOS\\n'"
      ]
     },
     "execution_count": 16,
     "metadata": {},
     "output_type": "execute_result"
    }
   ],
   "source": [
    "output_fname = open(\"../Data/output/processed_korquad_train_final.txt\",'r', encoding ='utf-8')\n",
    "    \n",
    "output_fname.readline()"
   ]
  },
  {
   "cell_type": "code",
   "execution_count": null,
   "metadata": {},
   "outputs": [],
   "source": []
  },
  {
   "cell_type": "code",
   "execution_count": null,
   "metadata": {},
   "outputs": [],
   "source": []
  }
 ],
 "metadata": {
  "kernelspec": {
   "display_name": "Python 3",
   "language": "python",
   "name": "python3"
  },
  "language_info": {
   "codemirror_mode": {
    "name": "ipython",
    "version": 3
   },
   "file_extension": ".py",
   "mimetype": "text/x-python",
   "name": "python",
   "nbconvert_exporter": "python",
   "pygments_lexer": "ipython3",
   "version": "3.7.6"
  }
 },
 "nbformat": 4,
 "nbformat_minor": 4
}
